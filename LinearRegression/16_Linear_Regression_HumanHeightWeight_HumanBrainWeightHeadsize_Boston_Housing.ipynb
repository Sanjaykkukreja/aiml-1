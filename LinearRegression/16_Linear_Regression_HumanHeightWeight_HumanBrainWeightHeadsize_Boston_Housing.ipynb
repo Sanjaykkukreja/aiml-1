{
 "cells": [
  {
   "cell_type": "markdown",
   "metadata": {
    "colab_type": "text",
    "id": "EkUKAYe7XU8r"
   },
   "source": [
    "# Advanced Certification in AIML\n",
    "## A Program by IIIT-H and TalentSprint"
   ]
  },
  {
   "cell_type": "markdown",
   "metadata": {
    "colab_type": "text",
    "id": "TSZDYb5ZXbCf"
   },
   "source": [
    "## Learning Objective"
   ]
  },
  {
   "cell_type": "markdown",
   "metadata": {
    "colab_type": "text",
    "id": "N_AZDSAFXc_v"
   },
   "source": [
    "At the end of the experiment, you will be able to :\n",
    "\n",
    "* Apply Linear Regression on different datasets"
   ]
  },
  {
   "cell_type": "markdown",
   "metadata": {
    "colab_type": "text",
    "id": "irJjJrpeXu93"
   },
   "source": [
    "## Dataset"
   ]
  },
  {
   "cell_type": "markdown",
   "metadata": {
    "colab_type": "text",
    "id": "e2zXO1srXwqS"
   },
   "source": [
    "### Description"
   ]
  },
  {
   "cell_type": "markdown",
   "metadata": {
    "colab_type": "text",
    "id": "11N105gaX0vI"
   },
   "source": [
    "For this experiment we have chosen three datasets:\n",
    "\n",
    "1. Human height and weight dataset\n",
    "\n",
    "2. Human brain weight and head size dataset\n",
    "\n",
    "3. Boston Housing dataset\n",
    "\n",
    "**Human height and weight dataset**\n",
    "\n",
    "This is made up of 10000 records. It contains 2 columns / features. The first column represents height and the second column represents weight of the person.\n",
    "\n",
    "**Human brain weight and head size dataset**\n",
    "\n",
    "The dataset is made up of 237 records. It contains 2 columns / features. The first column represents head size (cms) and the second column represents brain weight(grams) of the person.\n",
    "\n",
    "**Boston Housing dataset**\n",
    "\n",
    "The dataset contains 506 rows and 14 columns. It consists of price of houses in various locations in Boston. Along with price, the dataset also provides information such as :\n",
    "\n",
    "* CRIM - per capita crime rate by town.\n",
    "* ZN - proportion of residential land zoned for lots over 25,000 sq.ft.\n",
    "* INDUS - proportion of non-retail business acres per town.\n",
    "* CHAS- Charles River dummy variable (= 1 if tract bounds river; 0 otherwise).\n",
    "* NOX - nitrogen oxides concentration (parts per 10 million).\n",
    "* RM - average number of rooms per dwelling.\n",
    "* AGE - proportion of owner-occupied units built prior to 1940.\n",
    "* DIS - weighted mean of distances to five Boston employment centres.\n",
    "* RAD - index of accessibility to radial highways.\n",
    "* TAX - full-value property-tax rate per $10,000$.\n",
    "* PTRATIO - pupil-teacher ratio by town.\n",
    "* B - 1000(Bk - 0.63)^2 where Bk is the proportion of blacks by town.\n",
    "* LSTAT - median value of owner-occupied homes in $1000s$.\n",
    "\n",
    "\n",
    "**File names :**\n",
    "\n",
    "* new_height_weight.csv\n",
    "* HumanBrain_WeightandHead_size.csv"
   ]
  },
  {
   "cell_type": "markdown",
   "metadata": {
    "colab_type": "text",
    "id": "tFTP-RFcbrnK"
   },
   "source": [
    "## Setup"
   ]
  },
  {
   "cell_type": "markdown",
   "metadata": {
    "colab_type": "text",
    "id": "LBFJZQFUecvH"
   },
   "source": [
    "### Expected time to complete the experiment : 60 mins\n",
    "\n",
    "\n",
    "\n"
   ]
  },
  {
   "cell_type": "markdown",
   "metadata": {
    "colab_type": "text",
    "id": "aQafr7q5eYKn"
   },
   "source": [
    "#### Importing Required Packages"
   ]
  },
  {
   "cell_type": "code",
   "execution_count": 0,
   "metadata": {
    "colab": {},
    "colab_type": "code",
    "id": "pGyxdqS0ecSd"
   },
   "outputs": [],
   "source": [
    "import pandas as pd\n",
    "import matplotlib.pyplot as plt\n",
    "import numpy as np"
   ]
  },
  {
   "cell_type": "code",
   "execution_count": 0,
   "metadata": {
    "colab": {},
    "colab_type": "code",
    "id": "4Azb7vVgfhsV"
   },
   "outputs": [],
   "source": [
    "## Loading the dataset from sklearn datasets package\n",
    "from sklearn.datasets import load_boston \n",
    "boston = load_boston()"
   ]
  },
  {
   "cell_type": "markdown",
   "metadata": {
    "colab_type": "text",
    "id": "9azDMyqIg9u5"
   },
   "source": [
    "Refer to the below link to know about * np.newaxis * :\n",
    "\n",
    "https://medium.com/@ian.dzindo01/what-is-numpy-newaxis-and-when-to-use-it-8cb61c7ed6ae"
   ]
  },
  {
   "cell_type": "code",
   "execution_count": 0,
   "metadata": {
    "colab": {},
    "colab_type": "code",
    "id": "3tcVwmDVfqNy"
   },
   "outputs": [],
   "source": [
    "## Consider only one feature\n",
    "x = boston.data[:, np.newaxis, 5]\n",
    "y = boston.target"
   ]
  },
  {
   "cell_type": "markdown",
   "metadata": {
    "colab_type": "text",
    "id": "_HAVRaQqf1QS"
   },
   "source": [
    "#### Ungraded Exercise :\n",
    "\n",
    "Apply Linear Regression on all the three datasets."
   ]
  },
  {
   "cell_type": "code",
   "execution_count": 7,
   "metadata": {
    "colab": {
     "base_uri": "https://localhost:8080/",
     "height": 34
    },
    "colab_type": "code",
    "executionInfo": {
     "elapsed": 824,
     "status": "ok",
     "timestamp": 1581607053108,
     "user": {
      "displayName": "Mohammed Rizwan",
      "photoUrl": "https://lh3.googleusercontent.com/a-/AAuE7mB71PsBYLhuVqmFbtN-6NzmoyqKEkdtw1RZyZYeLw=s64",
      "userId": "08508186513102229355"
     },
     "user_tz": -330
    },
    "id": "GcF5KFjWgL1s",
    "outputId": "41e0ba3d-0a29-4e57-ab84-1af96f10db33"
   },
   "outputs": [
    {
     "data": {
      "text/plain": [
       "((506, 1), (506,))"
      ]
     },
     "execution_count": 7,
     "metadata": {
      "tags": []
     },
     "output_type": "execute_result"
    }
   ],
   "source": [
    "x.shape, y.shape"
   ]
  },
  {
   "cell_type": "code",
   "execution_count": 0,
   "metadata": {
    "colab": {},
    "colab_type": "code",
    "id": "ytZhOY8XAOUk"
   },
   "outputs": [],
   "source": [
    "from sklearn.linear_model import LinearRegression\n",
    "model = LinearRegression()"
   ]
  },
  {
   "cell_type": "code",
   "execution_count": 9,
   "metadata": {
    "colab": {
     "base_uri": "https://localhost:8080/",
     "height": 34
    },
    "colab_type": "code",
    "executionInfo": {
     "elapsed": 937,
     "status": "ok",
     "timestamp": 1581607127459,
     "user": {
      "displayName": "Mohammed Rizwan",
      "photoUrl": "https://lh3.googleusercontent.com/a-/AAuE7mB71PsBYLhuVqmFbtN-6NzmoyqKEkdtw1RZyZYeLw=s64",
      "userId": "08508186513102229355"
     },
     "user_tz": -330
    },
    "id": "zHheAqF6AU0c",
    "outputId": "708c788f-f8c9-473b-ca31-b6a0d84a5e0d"
   },
   "outputs": [
    {
     "data": {
      "text/plain": [
       "(numpy.ndarray, numpy.ndarray)"
      ]
     },
     "execution_count": 9,
     "metadata": {
      "tags": []
     },
     "output_type": "execute_result"
    }
   ],
   "source": [
    "type(x), type (y)"
   ]
  },
  {
   "cell_type": "code",
   "execution_count": 10,
   "metadata": {
    "colab": {
     "base_uri": "https://localhost:8080/",
     "height": 34
    },
    "colab_type": "code",
    "executionInfo": {
     "elapsed": 858,
     "status": "ok",
     "timestamp": 1581607144913,
     "user": {
      "displayName": "Mohammed Rizwan",
      "photoUrl": "https://lh3.googleusercontent.com/a-/AAuE7mB71PsBYLhuVqmFbtN-6NzmoyqKEkdtw1RZyZYeLw=s64",
      "userId": "08508186513102229355"
     },
     "user_tz": -330
    },
    "id": "Vc2p2OU-IZfy",
    "outputId": "354c3165-b778-4ec2-b02a-21e379792df1"
   },
   "outputs": [
    {
     "data": {
      "text/plain": [
       "(506, 506)"
      ]
     },
     "execution_count": 10,
     "metadata": {
      "tags": []
     },
     "output_type": "execute_result"
    }
   ],
   "source": [
    "len(x), len(y)"
   ]
  },
  {
   "cell_type": "code",
   "execution_count": 11,
   "metadata": {
    "colab": {
     "base_uri": "https://localhost:8080/",
     "height": 34
    },
    "colab_type": "code",
    "executionInfo": {
     "elapsed": 689,
     "status": "ok",
     "timestamp": 1581607251436,
     "user": {
      "displayName": "Mohammed Rizwan",
      "photoUrl": "https://lh3.googleusercontent.com/a-/AAuE7mB71PsBYLhuVqmFbtN-6NzmoyqKEkdtw1RZyZYeLw=s64",
      "userId": "08508186513102229355"
     },
     "user_tz": -330
    },
    "id": "PFKS9M_gIfGY",
    "outputId": "403f1172-ffd6-432c-a893-37cab568549d"
   },
   "outputs": [
    {
     "data": {
      "text/plain": [
       "((406, 1), (406, 1), (100, 1), (100, 1))"
      ]
     },
     "execution_count": 11,
     "metadata": {
      "tags": []
     },
     "output_type": "execute_result"
    }
   ],
   "source": [
    "x_train = x[:-100]\n",
    "x_test = x[-100:]\n",
    "\n",
    "y_train = x[:-100]\n",
    "y_test = x[-100:]\n",
    "\n",
    "x_train.shape, y_train.shape, x_test.shape, y_test.shape"
   ]
  },
  {
   "cell_type": "code",
   "execution_count": 12,
   "metadata": {
    "colab": {
     "base_uri": "https://localhost:8080/",
     "height": 34
    },
    "colab_type": "code",
    "executionInfo": {
     "elapsed": 1025,
     "status": "ok",
     "timestamp": 1581607322940,
     "user": {
      "displayName": "Mohammed Rizwan",
      "photoUrl": "https://lh3.googleusercontent.com/a-/AAuE7mB71PsBYLhuVqmFbtN-6NzmoyqKEkdtw1RZyZYeLw=s64",
      "userId": "08508186513102229355"
     },
     "user_tz": -330
    },
    "id": "XOVfKbZZI34A",
    "outputId": "926d5da8-c4ea-4ae3-c7bb-a1b81c03c77e"
   },
   "outputs": [
    {
     "data": {
      "text/plain": [
       "LinearRegression(copy_X=True, fit_intercept=True, n_jobs=None, normalize=False)"
      ]
     },
     "execution_count": 12,
     "metadata": {
      "tags": []
     },
     "output_type": "execute_result"
    }
   ],
   "source": [
    "model.fit(x_train, y_train)"
   ]
  },
  {
   "cell_type": "code",
   "execution_count": 0,
   "metadata": {
    "colab": {},
    "colab_type": "code",
    "id": "miaXXWEZJJEC"
   },
   "outputs": [],
   "source": [
    "boston_y_pred = model.predict(x_test)"
   ]
  },
  {
   "cell_type": "code",
   "execution_count": 15,
   "metadata": {
    "colab": {
     "base_uri": "https://localhost:8080/",
     "height": 252
    },
    "colab_type": "code",
    "executionInfo": {
     "elapsed": 867,
     "status": "ok",
     "timestamp": 1581607496233,
     "user": {
      "displayName": "Mohammed Rizwan",
      "photoUrl": "https://lh3.googleusercontent.com/a-/AAuE7mB71PsBYLhuVqmFbtN-6NzmoyqKEkdtw1RZyZYeLw=s64",
      "userId": "08508186513102229355"
     },
     "user_tz": -330
    },
    "id": "pUw0z0hKJU9g",
    "outputId": "9bdd3cd6-7896-45ad-e367-1f1ce6798da8"
   },
   "outputs": [
    {
     "data": {
      "image/png": "[encoded data removed]",
      "text/plain": [
       "<Figure size 432x288 with 1 Axes>"
      ]
     },
     "metadata": {
      "tags": []
     },
     "output_type": "display_data"
    }
   ],
   "source": [
    "plt.scatter(x_test, y_test, color='blue')\n",
    "plt.plot(x_test, boston_y_pred, color='green', linewidth=1)\n",
    "plt.xticks(())\n",
    "plt.yticks(())\n",
    "plt.show()"
   ]
  },
  {
   "cell_type": "code",
   "execution_count": 17,
   "metadata": {
    "colab": {
     "base_uri": "https://localhost:8080/",
     "height": 119
    },
    "colab_type": "code",
    "executionInfo": {
     "elapsed": 2995,
     "status": "ok",
     "timestamp": 1581607611581,
     "user": {
      "displayName": "Mohammed Rizwan",
      "photoUrl": "https://lh3.googleusercontent.com/a-/AAuE7mB71PsBYLhuVqmFbtN-6NzmoyqKEkdtw1RZyZYeLw=s64",
      "userId": "08508186513102229355"
     },
     "user_tz": -330
    },
    "id": "GVZ3zdTBJ63B",
    "outputId": "66542f2d-36ea-4d14-cc3e-7549e4e83ca0"
   },
   "outputs": [
    {
     "name": "stdout",
     "output_type": "stream",
     "text": [
      "16_Linear_Regression_HumanHeightWeight_HumanBrainWeightHeadsize_Boston_Housing.ipynb\n",
      "HumanBrain_WeightandHead_size.csv\n",
      "HumanBrain_WeightandHead_size.csv.1\n",
      "new_height_weight.csv\n",
      "new_height_weight.csv.1\n",
      "sample_data\n"
     ]
    }
   ],
   "source": [
    "## Human weight and Height ##\n",
    "!ls"
   ]
  },
  {
   "cell_type": "code",
   "execution_count": 18,
   "metadata": {
    "colab": {
     "base_uri": "https://localhost:8080/",
     "height": 34
    },
    "colab_type": "code",
    "executionInfo": {
     "elapsed": 865,
     "status": "ok",
     "timestamp": 1581607673132,
     "user": {
      "displayName": "Mohammed Rizwan",
      "photoUrl": "https://lh3.googleusercontent.com/a-/AAuE7mB71PsBYLhuVqmFbtN-6NzmoyqKEkdtw1RZyZYeLw=s64",
      "userId": "08508186513102229355"
     },
     "user_tz": -330
    },
    "id": "6nn7T8VYKPJx",
    "outputId": "7fcce5e9-9624-431a-8d93-e82ad9491586"
   },
   "outputs": [
    {
     "data": {
      "text/plain": [
       "(10000, 2)"
      ]
     },
     "execution_count": 18,
     "metadata": {
      "tags": []
     },
     "output_type": "execute_result"
    }
   ],
   "source": [
    "dataset = 'new_height_weight.csv'\n",
    "df = pd.read_csv(dataset)\n",
    "df.shape"
   ]
  },
  {
   "cell_type": "code",
   "execution_count": 19,
   "metadata": {
    "colab": {
     "base_uri": "https://localhost:8080/",
     "height": 255
    },
    "colab_type": "code",
    "executionInfo": {
     "elapsed": 860,
     "status": "ok",
     "timestamp": 1581607718444,
     "user": {
      "displayName": "Mohammed Rizwan",
      "photoUrl": "https://lh3.googleusercontent.com/a-/AAuE7mB71PsBYLhuVqmFbtN-6NzmoyqKEkdtw1RZyZYeLw=s64",
      "userId": "08508186513102229355"
     },
     "user_tz": -330
    },
    "id": "gZFhxU7iKnZJ",
    "outputId": "87d678ab-f1d0-4fa4-b23b-d4f1bd14674b"
   },
   "outputs": [
    {
     "data": {
      "text/plain": [
       "<bound method NDFrame.head of          Height      Weight\n",
       "0     73.847017  241.893563\n",
       "1     68.781904  162.310473\n",
       "2     74.110105  212.740856\n",
       "3     71.730978  220.042470\n",
       "4     69.881796  206.349801\n",
       "...         ...         ...\n",
       "9995  66.172652  136.777454\n",
       "9996  67.067155  170.867906\n",
       "9997  63.867992  128.475319\n",
       "9998  69.034243  163.852461\n",
       "9999  61.944246  113.649103\n",
       "\n",
       "[10000 rows x 2 columns]>"
      ]
     },
     "execution_count": 19,
     "metadata": {
      "tags": []
     },
     "output_type": "execute_result"
    }
   ],
   "source": [
    "df.head"
   ]
  },
  {
   "cell_type": "code",
   "execution_count": 20,
   "metadata": {
    "colab": {
     "base_uri": "https://localhost:8080/",
     "height": 255
    },
    "colab_type": "code",
    "executionInfo": {
     "elapsed": 1062,
     "status": "ok",
     "timestamp": 1581607725769,
     "user": {
      "displayName": "Mohammed Rizwan",
      "photoUrl": "https://lh3.googleusercontent.com/a-/AAuE7mB71PsBYLhuVqmFbtN-6NzmoyqKEkdtw1RZyZYeLw=s64",
      "userId": "08508186513102229355"
     },
     "user_tz": -330
    },
    "id": "2tXDeIPBKelh",
    "outputId": "66d48f34-cf8d-4d86-bc4a-48ae1cede641"
   },
   "outputs": [
    {
     "data": {
      "text/plain": [
       "<bound method NDFrame.tail of          Height      Weight\n",
       "0     73.847017  241.893563\n",
       "1     68.781904  162.310473\n",
       "2     74.110105  212.740856\n",
       "3     71.730978  220.042470\n",
       "4     69.881796  206.349801\n",
       "...         ...         ...\n",
       "9995  66.172652  136.777454\n",
       "9996  67.067155  170.867906\n",
       "9997  63.867992  128.475319\n",
       "9998  69.034243  163.852461\n",
       "9999  61.944246  113.649103\n",
       "\n",
       "[10000 rows x 2 columns]>"
      ]
     },
     "execution_count": 20,
     "metadata": {
      "tags": []
     },
     "output_type": "execute_result"
    }
   ],
   "source": [
    "df.tail"
   ]
  },
  {
   "cell_type": "code",
   "execution_count": 25,
   "metadata": {
    "colab": {
     "base_uri": "https://localhost:8080/",
     "height": 34
    },
    "colab_type": "code",
    "executionInfo": {
     "elapsed": 800,
     "status": "ok",
     "timestamp": 1581607988348,
     "user": {
      "displayName": "Mohammed Rizwan",
      "photoUrl": "https://lh3.googleusercontent.com/a-/AAuE7mB71PsBYLhuVqmFbtN-6NzmoyqKEkdtw1RZyZYeLw=s64",
      "userId": "08508186513102229355"
     },
     "user_tz": -330
    },
    "id": "8IJbKnjwK6ci",
    "outputId": "a3ba709c-4f46-4052-edcf-73b4d7c8e595"
   },
   "outputs": [
    {
     "data": {
      "text/plain": [
       "((10000, 1), (10000, 1))"
      ]
     },
     "execution_count": 25,
     "metadata": {
      "tags": []
     },
     "output_type": "execute_result"
    }
   ],
   "source": [
    "from sklearn.model_selection import train_test_split\n",
    "x = df.iloc[:,0].values.reshape(-1,1)\n",
    "y = df.iloc[:,1].values.reshape(-1,1)\n",
    "x.shape, y.shape"
   ]
  },
  {
   "cell_type": "code",
   "execution_count": 26,
   "metadata": {
    "colab": {
     "base_uri": "https://localhost:8080/",
     "height": 265
    },
    "colab_type": "code",
    "executionInfo": {
     "elapsed": 942,
     "status": "ok",
     "timestamp": 1581608036129,
     "user": {
      "displayName": "Mohammed Rizwan",
      "photoUrl": "https://lh3.googleusercontent.com/a-/AAuE7mB71PsBYLhuVqmFbtN-6NzmoyqKEkdtw1RZyZYeLw=s64",
      "userId": "08508186513102229355"
     },
     "user_tz": -330
    },
    "id": "OcjNTDJnLxMS",
    "outputId": "6e3fddb3-bcc5-4ddf-d5b2-3d3dbac0efd6"
   },
   "outputs": [
    {
     "data": {
      "image/png": "[encoded data removed]",
      "text/plain": [
       "<Figure size 432x288 with 1 Axes>"
      ]
     },
     "metadata": {
      "tags": []
     },
     "output_type": "display_data"
    }
   ],
   "source": [
    "plt.scatter(x,y)\n",
    "plt.show()"
   ]
  },
  {
   "cell_type": "code",
   "execution_count": 0,
   "metadata": {
    "colab": {},
    "colab_type": "code",
    "id": "LMe66JM0L3_i"
   },
   "outputs": [],
   "source": [
    "regr = LinearRegression()\n",
    "regr.fit(x,y)\n",
    "y_pred = regr.predict(x)"
   ]
  },
  {
   "cell_type": "code",
   "execution_count": 30,
   "metadata": {
    "colab": {
     "base_uri": "https://localhost:8080/",
     "height": 252
    },
    "colab_type": "code",
    "executionInfo": {
     "elapsed": 854,
     "status": "ok",
     "timestamp": 1581608225632,
     "user": {
      "displayName": "Mohammed Rizwan",
      "photoUrl": "https://lh3.googleusercontent.com/a-/AAuE7mB71PsBYLhuVqmFbtN-6NzmoyqKEkdtw1RZyZYeLw=s64",
      "userId": "08508186513102229355"
     },
     "user_tz": -330
    },
    "id": "cmRkrsTqMYY6",
    "outputId": "5116bc0b-33a5-43e0-be35-ecac7ab88434"
   },
   "outputs": [
    {
     "data": {
      "image/png": "[encoded data removed]",
      "text/plain": [
       "<Figure size 432x288 with 1 Axes>"
      ]
     },
     "metadata": {
      "tags": []
     },
     "output_type": "display_data"
    }
   ],
   "source": [
    "plt.scatter(x, y, color='black')\n",
    "plt.plot(x, y_pred, color='blue', linewidth=3)\n",
    "plt.xticks(())\n",
    "plt.yticks(())\n",
    "plt.show()"
   ]
  },
  {
   "cell_type": "code",
   "execution_count": 32,
   "metadata": {
    "colab": {
     "base_uri": "https://localhost:8080/",
     "height": 34
    },
    "colab_type": "code",
    "executionInfo": {
     "elapsed": 882,
     "status": "ok",
     "timestamp": 1581608403733,
     "user": {
      "displayName": "Mohammed Rizwan",
      "photoUrl": "https://lh3.googleusercontent.com/a-/AAuE7mB71PsBYLhuVqmFbtN-6NzmoyqKEkdtw1RZyZYeLw=s64",
      "userId": "08508186513102229355"
     },
     "user_tz": -330
    },
    "id": "Ac5YVfEnM-lc",
    "outputId": "25d57c10-cffd-45cb-fa51-0347bb107ce2"
   },
   "outputs": [
    {
     "data": {
      "text/plain": [
       "((237, 1), (237, 1))"
      ]
     },
     "execution_count": 32,
     "metadata": {
      "tags": []
     },
     "output_type": "execute_result"
    }
   ],
   "source": [
    "data = 'HumanBrain_WeightandHead_size.csv'\n",
    "df = pd.read_csv(data)\n",
    "x = df.iloc[:,0].values.reshape(-1,1)\n",
    "y = df.iloc[:,1].values.reshape(-1,1)\n",
    "x.shape, y.shape"
   ]
  },
  {
   "cell_type": "code",
   "execution_count": 0,
   "metadata": {
    "colab": {},
    "colab_type": "code",
    "id": "G7hG6nTyNQ2c"
   },
   "outputs": [],
   "source": [
    "lregr = LinearRegression()\n",
    "lregr.fit(x,y)\n",
    "y_pred = lregr.predict(x)"
   ]
  },
  {
   "cell_type": "code",
   "execution_count": 34,
   "metadata": {
    "colab": {
     "base_uri": "https://localhost:8080/",
     "height": 265
    },
    "colab_type": "code",
    "executionInfo": {
     "elapsed": 1062,
     "status": "ok",
     "timestamp": 1581608562144,
     "user": {
      "displayName": "Mohammed Rizwan",
      "photoUrl": "https://lh3.googleusercontent.com/a-/AAuE7mB71PsBYLhuVqmFbtN-6NzmoyqKEkdtw1RZyZYeLw=s64",
      "userId": "08508186513102229355"
     },
     "user_tz": -330
    },
    "id": "GmnFjuMJNYGa",
    "outputId": "50782aea-54c1-4a3e-be21-c8e220d271b3"
   },
   "outputs": [
    {
     "data": {
      "image/png": "[encoded data removed]",
      "text/plain": [
       "<Figure size 432x288 with 1 Axes>"
      ]
     },
     "metadata": {
      "tags": []
     },
     "output_type": "display_data"
    }
   ],
   "source": [
    "plt.scatter(x,y, color='green')\n",
    "plt.plot(x,y_pred, color='black', linewidth=4)\n",
    "plt.show()"
   ]
  }
 ],
 "metadata": {
  "colab": {
   "collapsed_sections": [],
   "name": "16_Linear_Regression_HumanHeightWeight_HumanBrainWeightHeadsize_Boston_Housing.ipynb",
   "provenance": []
  },
  "kernelspec": {
   "display_name": "Python 3",
   "language": "python",
   "name": "python3"
  },
  "language_info": {
   "codemirror_mode": {
    "name": "ipython",
    "version": 3
   },
   "file_extension": ".py",
   "mimetype": "text/x-python",
   "name": "python",
   "nbconvert_exporter": "python",
   "pygments_lexer": "ipython3",
   "version": "3.6.5"
  }
 },
 "nbformat": 4,
 "nbformat_minor": 1
}
