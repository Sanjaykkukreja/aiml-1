{
 "cells": [
  {
   "cell_type": "markdown",
   "metadata": {
    "colab_type": "text",
    "id": "SZIubkln0AI2"
   },
   "source": [
    "# Advanced Certification in AIML\n",
    "## A Program by IIIT-H and TalentSprint"
   ]
  },
  {
   "cell_type": "markdown",
   "metadata": {
    "colab_type": "text",
    "id": "gIOQSqbiXt-6"
   },
   "source": [
    "## Learning Objective "
   ]
  },
  {
   "cell_type": "markdown",
   "metadata": {
    "colab_type": "text",
    "id": "8GYCaU8-XwOv"
   },
   "source": [
    "At the end of the experiment, you will be able to understand:\n",
    "\n",
    "*  Linear Regression\n",
    "* Diabetes dataset"
   ]
  },
  {
   "cell_type": "markdown",
   "metadata": {
    "colab_type": "text",
    "id": "012vyiaJX1Bm"
   },
   "source": [
    "## Dataset"
   ]
  },
  {
   "cell_type": "markdown",
   "metadata": {
    "colab_type": "text",
    "id": "ekAVx85DX6RE"
   },
   "source": [
    "### Description\n",
    "\n",
    "The dataset chosen for this experiment is diabetes dataset.  The dataset contains 442 records of diabetes patients. There are 10 columns. The first 9 columns are numeric predictive values and the 10th column  is a quantitative measure of disease progression one year after baseline (target variable).\n",
    "\n",
    "\n",
    "#### Attribute Information\n",
    "\n",
    "* Age\n",
    "* Sex\n",
    "* Body mass index (bmi)\n",
    "* Average blood pressure (bp)\n",
    "* S1\n",
    "* S2\n",
    "* S3\n",
    "* S4\n",
    "* S5\n",
    "* S6\n",
    "\n",
    "\n",
    "** Note ** Each of these 10 feature variables have been mean centered and scaled by the standard deviation times n_samples (i.e. the sum of squares of each column totals 1)."
   ]
  },
  {
   "cell_type": "markdown",
   "metadata": {
    "colab_type": "text",
    "id": "wBL5wy370AI8"
   },
   "source": [
    "#### Expected time to complete this experiment is : 60 min"
   ]
  },
  {
   "cell_type": "markdown",
   "metadata": {
    "colab_type": "text",
    "id": "3e0e3sFh0JZJ"
   },
   "source": [
    "### Setup Steps"
   ]
  },
  {
   "cell_type": "markdown",
   "metadata": {
    "colab_type": "text",
    "id": "nMa8eZ4teQqE"
   },
   "source": [
    "#### Importing required Packages "
   ]
  },
  {
   "cell_type": "code",
   "execution_count": 0,
   "metadata": {
    "colab": {},
    "colab_type": "code",
    "id": "5yCDzGjpsqNN"
   },
   "outputs": [],
   "source": [
    "import matplotlib.pyplot as plt\n",
    "import numpy as np\n",
    "from sklearn import datasets, linear_model\n",
    "from sklearn.metrics import mean_squared_error, r2_score"
   ]
  },
  {
   "cell_type": "code",
   "execution_count": 0,
   "metadata": {
    "colab": {},
    "colab_type": "code",
    "id": "0P-F23cS2ebW"
   },
   "outputs": [],
   "source": [
    "# Load the diabetes dataset from sklearn datasets package\n",
    "diabetes = datasets.load_diabetes()\n",
    "\n",
    "\n",
    "# Use only one feature\n",
    "diabetes_X = diabetes.data[:, np.newaxis, 2]"
   ]
  },
  {
   "cell_type": "markdown",
   "metadata": {
    "colab_type": "text",
    "id": "ccYJb1yq9I19"
   },
   "source": [
    "To learn the linear-regression model from the training data, and predict the values for the test data, we will  perform the train-test split."
   ]
  },
  {
   "cell_type": "code",
   "execution_count": 0,
   "metadata": {
    "colab": {},
    "colab_type": "code",
    "id": "lRqEuVyMfFgp"
   },
   "outputs": [],
   "source": [
    "from sklearn.model_selection import train_test_split"
   ]
  },
  {
   "cell_type": "code",
   "execution_count": 0,
   "metadata": {
    "colab": {},
    "colab_type": "code",
    "id": "njGf8wucfHK7"
   },
   "outputs": [],
   "source": [
    " X_train, X_test, y_train, y_test = train_test_split(diabetes_X, diabetes.target, test_size=0.33, random_state=42)"
   ]
  },
  {
   "cell_type": "markdown",
   "metadata": {
    "colab_type": "text",
    "id": "BTl2PFJL3GdG"
   },
   "source": [
    "There are a few ways to find the best fit line. One of the approaches is the Ordinary Least Squares (OLS) method which is an intutive mathematical method. \n",
    "\n",
    "In future you will  learn another approach called 'Gradient Descent'.  Refer to the following article which explains both the approaches.  \n",
    "https://towardsdatascience.com/linear-regression-simplified-ordinary-least-square-vs-gradient-descent-48145de2cf76"
   ]
  },
  {
   "cell_type": "code",
   "execution_count": 0,
   "metadata": {
    "colab": {},
    "colab_type": "code",
    "id": "tSAZDnwP2vEz"
   },
   "outputs": [],
   "source": [
    "\n",
    "# Create a  linear regression object\n",
    "regr = linear_model.LinearRegression()\n",
    "\n",
    "# Training the model using the training sets\n",
    "regr.fit(X_train, y_train)\n"
   ]
  },
  {
   "cell_type": "code",
   "execution_count": 0,
   "metadata": {
    "colab": {},
    "colab_type": "code",
    "id": "A1opOrsu2xeR"
   },
   "outputs": [],
   "source": [
    "# Make predictions using the testing set\n",
    "diabetes_y_pred = regr.predict(X_test)"
   ]
  },
  {
   "cell_type": "code",
   "execution_count": 0,
   "metadata": {
    "colab": {},
    "colab_type": "code",
    "id": "79KPthK821Sh"
   },
   "outputs": [],
   "source": [
    "# The coefficients\n",
    "print('Coefficients: \\n', regr.coef_)\n",
    "# Calculating the mean squared error\n",
    "print(\"Mean squared error: %.2f\"\n",
    "      % mean_squared_error(y_test, diabetes_y_pred))\n",
    "# Explained variance score: 1 is perfect prediction\n",
    "print('Variance score: %.2f' % r2_score(y_test, diabetes_y_pred))\n",
    "\n"
   ]
  },
  {
   "cell_type": "code",
   "execution_count": 0,
   "metadata": {
    "colab": {},
    "colab_type": "code",
    "id": "4I3vO2sF26g_"
   },
   "outputs": [],
   "source": [
    "# Plotting the test data\n",
    "plt.scatter(X_test, y_test,  color='black')\n",
    "\n",
    "# Plotting the predicted line\n",
    "plt.plot(X_test, diabetes_y_pred, color='blue', linewidth=3)\n",
    "plt.show()"
   ]
  }
 ],
 "metadata": {
  "colab": {
   "collapsed_sections": [],
   "name": "14_Linear_Regression_Diabetes.ipynb",
   "provenance": []
  },
  "kernelspec": {
   "display_name": "Python 3",
   "language": "python",
   "name": "python3"
  },
  "language_info": {
   "codemirror_mode": {
    "name": "ipython",
    "version": 3
   },
   "file_extension": ".py",
   "mimetype": "text/x-python",
   "name": "python",
   "nbconvert_exporter": "python",
   "pygments_lexer": "ipython3",
   "version": "3.6.5"
  }
 },
 "nbformat": 4,
 "nbformat_minor": 1
}
