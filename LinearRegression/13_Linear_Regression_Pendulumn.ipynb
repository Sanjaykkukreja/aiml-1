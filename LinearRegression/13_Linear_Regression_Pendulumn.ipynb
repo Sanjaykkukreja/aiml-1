{
 "cells": [
  {
   "cell_type": "markdown",
   "metadata": {
    "colab_type": "text",
    "id": "tao2w0W4IwEO"
   },
   "source": [
    "# Advanced Certification in AIML\n",
    "## A Program by IIIT-H and TalentSprint\n",
    "\n"
   ]
  },
  {
   "cell_type": "markdown",
   "metadata": {
    "colab_type": "text",
    "id": "KH3dYFZzzyJ6"
   },
   "source": [
    "## Learning Objectives"
   ]
  },
  {
   "cell_type": "markdown",
   "metadata": {
    "colab_type": "text",
    "id": "XLweV3uoz1qQ"
   },
   "source": [
    "At the end of the experiment, you will be able to :\n",
    "\n",
    "* Understand Linear Regression"
   ]
  },
  {
   "cell_type": "markdown",
   "metadata": {
    "colab_type": "text",
    "id": "Nh70dVHx0G_B"
   },
   "source": [
    "## Dataset"
   ]
  },
  {
   "cell_type": "markdown",
   "metadata": {
    "colab_type": "text",
    "id": "0AUjpyII06yk"
   },
   "source": [
    "### Description"
   ]
  },
  {
   "cell_type": "markdown",
   "metadata": {
    "colab_type": "text",
    "id": "y-GMJTRb0Iyy"
   },
   "source": [
    "The dataset consists of two columns and 89 rows. Each column represents a characteristic of a simple pendulum i.e  **l** (length) and **t** (time period). The dataset describes the relationship between the **l** and **t** which is $𝐿∝𝑇^2$."
   ]
  },
  {
   "cell_type": "markdown",
   "metadata": {
    "colab_type": "text",
    "id": "a3fJnELiIwES"
   },
   "source": [
    "### Expected time : 60 mins"
   ]
  },
  {
   "cell_type": "markdown",
   "metadata": {
    "colab_type": "text",
    "id": "j1b476ZK6U74"
   },
   "source": [
    "#### Setup Steps"
   ]
  },
  {
   "cell_type": "markdown",
   "metadata": {
    "colab_type": "text",
    "id": "_naOegVA5XUH"
   },
   "source": [
    "#### Importing required Packages"
   ]
  },
  {
   "cell_type": "code",
   "execution_count": 0,
   "metadata": {
    "colab": {},
    "colab_type": "code",
    "id": "HxcZUqq5IwEY"
   },
   "outputs": [],
   "source": [
    "import pandas as pd\n",
    "import matplotlib.pyplot as plt\n",
    "from sklearn import linear_model\n",
    "from sklearn.metrics import mean_squared_error, r2_score"
   ]
  },
  {
   "cell_type": "markdown",
   "metadata": {
    "colab_type": "text",
    "id": "m80GNtm45c14"
   },
   "source": [
    "####  Loading the data"
   ]
  },
  {
   "cell_type": "code",
   "execution_count": 0,
   "metadata": {
    "colab": {},
    "colab_type": "code",
    "id": "5Ttnpu44IwEb"
   },
   "outputs": [],
   "source": [
    "data = pd.read_csv(\"AIML_DS_REGR01_SIMPLEPENDULUMOSCILLATIONDATA.txt\", sep=\" \", header=None, names=['l', 't'])"
   ]
  },
  {
   "cell_type": "markdown",
   "metadata": {
    "colab_type": "text",
    "id": "OiuP5H435gqY"
   },
   "source": [
    "To understand the design of the data, let us print first five rows and last five rows from the dataset"
   ]
  },
  {
   "cell_type": "code",
   "execution_count": 8,
   "metadata": {
    "colab": {
     "base_uri": "https://localhost:8080/",
     "height": 204
    },
    "colab_type": "code",
    "executionInfo": {
     "elapsed": 1818,
     "status": "ok",
     "timestamp": 1581603144101,
     "user": {
      "displayName": "Mohammed Rizwan",
      "photoUrl": "https://lh3.googleusercontent.com/a-/AAuE7mB71PsBYLhuVqmFbtN-6NzmoyqKEkdtw1RZyZYeLw=s64",
      "userId": "08508186513102229355"
     },
     "user_tz": -330
    },
    "id": "bC9DOfG55vs6",
    "outputId": "2121711c-923d-46ee-c48a-4b8630ce2eda"
   },
   "outputs": [
    {
     "data": {
      "text/html": [
       "<div>\n",
       "<style scoped>\n",
       "    .dataframe tbody tr th:only-of-type {\n",
       "        vertical-align: middle;\n",
       "    }\n",
       "\n",
       "    .dataframe tbody tr th {\n",
       "        vertical-align: top;\n",
       "    }\n",
       "\n",
       "    .dataframe thead th {\n",
       "        text-align: right;\n",
       "    }\n",
       "</style>\n",
       "<table border=\"1\" class=\"dataframe\">\n",
       "  <thead>\n",
       "    <tr style=\"text-align: right;\">\n",
       "      <th></th>\n",
       "      <th>l</th>\n",
       "      <th>t</th>\n",
       "    </tr>\n",
       "  </thead>\n",
       "  <tbody>\n",
       "    <tr>\n",
       "      <th>0</th>\n",
       "      <td>0.10</td>\n",
       "      <td>0.69004</td>\n",
       "    </tr>\n",
       "    <tr>\n",
       "      <th>1</th>\n",
       "      <td>0.11</td>\n",
       "      <td>0.69497</td>\n",
       "    </tr>\n",
       "    <tr>\n",
       "      <th>2</th>\n",
       "      <td>0.12</td>\n",
       "      <td>0.74252</td>\n",
       "    </tr>\n",
       "    <tr>\n",
       "      <th>3</th>\n",
       "      <td>0.13</td>\n",
       "      <td>0.75360</td>\n",
       "    </tr>\n",
       "    <tr>\n",
       "      <th>4</th>\n",
       "      <td>0.14</td>\n",
       "      <td>0.83568</td>\n",
       "    </tr>\n",
       "  </tbody>\n",
       "</table>\n",
       "</div>"
      ],
      "text/plain": [
       "      l        t\n",
       "0  0.10  0.69004\n",
       "1  0.11  0.69497\n",
       "2  0.12  0.74252\n",
       "3  0.13  0.75360\n",
       "4  0.14  0.83568"
      ]
     },
     "execution_count": 8,
     "metadata": {
      "tags": []
     },
     "output_type": "execute_result"
    }
   ],
   "source": [
    "# First five rows from the dataset\n",
    "data.head()"
   ]
  },
  {
   "cell_type": "code",
   "execution_count": 9,
   "metadata": {
    "colab": {
     "base_uri": "https://localhost:8080/",
     "height": 204
    },
    "colab_type": "code",
    "executionInfo": {
     "elapsed": 1538,
     "status": "ok",
     "timestamp": 1581603149899,
     "user": {
      "displayName": "Mohammed Rizwan",
      "photoUrl": "https://lh3.googleusercontent.com/a-/AAuE7mB71PsBYLhuVqmFbtN-6NzmoyqKEkdtw1RZyZYeLw=s64",
      "userId": "08508186513102229355"
     },
     "user_tz": -330
    },
    "id": "EAlmOwER51Nk",
    "outputId": "c85b323d-818b-4833-e990-a87307b498de"
   },
   "outputs": [
    {
     "data": {
      "text/html": [
       "<div>\n",
       "<style scoped>\n",
       "    .dataframe tbody tr th:only-of-type {\n",
       "        vertical-align: middle;\n",
       "    }\n",
       "\n",
       "    .dataframe tbody tr th {\n",
       "        vertical-align: top;\n",
       "    }\n",
       "\n",
       "    .dataframe thead th {\n",
       "        text-align: right;\n",
       "    }\n",
       "</style>\n",
       "<table border=\"1\" class=\"dataframe\">\n",
       "  <thead>\n",
       "    <tr style=\"text-align: right;\">\n",
       "      <th></th>\n",
       "      <th>l</th>\n",
       "      <th>t</th>\n",
       "    </tr>\n",
       "  </thead>\n",
       "  <tbody>\n",
       "    <tr>\n",
       "      <th>85</th>\n",
       "      <td>0.95</td>\n",
       "      <td>1.9841</td>\n",
       "    </tr>\n",
       "    <tr>\n",
       "      <th>86</th>\n",
       "      <td>0.96</td>\n",
       "      <td>2.0066</td>\n",
       "    </tr>\n",
       "    <tr>\n",
       "      <th>87</th>\n",
       "      <td>0.97</td>\n",
       "      <td>2.0493</td>\n",
       "    </tr>\n",
       "    <tr>\n",
       "      <th>88</th>\n",
       "      <td>0.98</td>\n",
       "      <td>2.0503</td>\n",
       "    </tr>\n",
       "    <tr>\n",
       "      <th>89</th>\n",
       "      <td>0.99</td>\n",
       "      <td>2.0214</td>\n",
       "    </tr>\n",
       "  </tbody>\n",
       "</table>\n",
       "</div>"
      ],
      "text/plain": [
       "       l       t\n",
       "85  0.95  1.9841\n",
       "86  0.96  2.0066\n",
       "87  0.97  2.0493\n",
       "88  0.98  2.0503\n",
       "89  0.99  2.0214"
      ]
     },
     "execution_count": 9,
     "metadata": {
      "tags": []
     },
     "output_type": "execute_result"
    }
   ],
   "source": [
    "# Last five rows from the dataset\n",
    "data.tail()"
   ]
  },
  {
   "cell_type": "code",
   "execution_count": 0,
   "metadata": {
    "colab": {},
    "colab_type": "code",
    "id": "ZGdRFp1LIwEd"
   },
   "outputs": [],
   "source": [
    "# Storing the l and t column values in two variables\n",
    "l = data['l'].values\n",
    "t = data['t'].values"
   ]
  },
  {
   "cell_type": "code",
   "execution_count": 11,
   "metadata": {
    "colab": {
     "base_uri": "https://localhost:8080/",
     "height": 68
    },
    "colab_type": "code",
    "executionInfo": {
     "elapsed": 1806,
     "status": "ok",
     "timestamp": 1581603292173,
     "user": {
      "displayName": "Mohammed Rizwan",
      "photoUrl": "https://lh3.googleusercontent.com/a-/AAuE7mB71PsBYLhuVqmFbtN-6NzmoyqKEkdtw1RZyZYeLw=s64",
      "userId": "08508186513102229355"
     },
     "user_tz": -330
    },
    "id": "3xLsxLQQ5pSS",
    "outputId": "4610ca1f-dfc5-4886-dbb9-faadd116f40a"
   },
   "outputs": [
    {
     "name": "stdout",
     "output_type": "stream",
     "text": [
      "[0.1  0.11 0.12 0.13 0.14 0.15 0.16 0.17 0.18 0.19]\n",
      "[0.69004 0.69497 0.74252 0.7536  0.83568 0.86789 0.84182 0.85379 0.85762\n",
      " 0.8839 ]\n"
     ]
    }
   ],
   "source": [
    "print(l[:10])\n",
    "print(t[:10])"
   ]
  },
  {
   "cell_type": "code",
   "execution_count": 13,
   "metadata": {
    "colab": {
     "base_uri": "https://localhost:8080/",
     "height": 592
    },
    "colab_type": "code",
    "executionInfo": {
     "elapsed": 2220,
     "status": "ok",
     "timestamp": 1581603307989,
     "user": {
      "displayName": "Mohammed Rizwan",
      "photoUrl": "https://lh3.googleusercontent.com/a-/AAuE7mB71PsBYLhuVqmFbtN-6NzmoyqKEkdtw1RZyZYeLw=s64",
      "userId": "08508186513102229355"
     },
     "user_tz": -330
    },
    "id": "848k50_e66Ed",
    "outputId": "eb784a1c-d02c-4225-b080-c2311c880c30"
   },
   "outputs": [
    {
     "data": {
      "image/png": "[encoded data removed]",
      "text/plain": [
       "<Figure size 720x720 with 1 Axes>"
      ]
     },
     "metadata": {
      "tags": []
     },
     "output_type": "display_data"
    }
   ],
   "source": [
    "# Plotting l vs t\n",
    "plt.figure(figsize=(10,10))\n",
    "plt.plot(l, t)\n",
    "plt.show()"
   ]
  },
  {
   "cell_type": "markdown",
   "metadata": {
    "colab_type": "text",
    "id": "9xkPTlv_7AIj"
   },
   "source": [
    "The above graph does not look like a straightline which was obtained by connecting the points in the order of their occurrence.; it may be easier to see if we only plot the points.  "
   ]
  },
  {
   "cell_type": "code",
   "execution_count": 14,
   "metadata": {
    "colab": {
     "base_uri": "https://localhost:8080/",
     "height": 592
    },
    "colab_type": "code",
    "executionInfo": {
     "elapsed": 1992,
     "status": "ok",
     "timestamp": 1581603322093,
     "user": {
      "displayName": "Mohammed Rizwan",
      "photoUrl": "https://lh3.googleusercontent.com/a-/AAuE7mB71PsBYLhuVqmFbtN-6NzmoyqKEkdtw1RZyZYeLw=s64",
      "userId": "08508186513102229355"
     },
     "user_tz": -330
    },
    "id": "MjumQx9h7CMt",
    "outputId": "27d04c7e-7aa6-4a4e-ddcb-d66eb13aee41"
   },
   "outputs": [
    {
     "data": {
      "image/png": "[encoded data removed]",
      "text/plain": [
       "<Figure size 864x720 with 1 Axes>"
      ]
     },
     "metadata": {
      "tags": []
     },
     "output_type": "display_data"
    }
   ],
   "source": [
    "plt.figure(figsize=(12, 10))\n",
    "plt.plot(l, t, '.k')\n",
    "plt.show()"
   ]
  },
  {
   "cell_type": "markdown",
   "metadata": {
    "colab_type": "text",
    "id": "08SQLMPn7K6X"
   },
   "source": [
    "The above graph is still not a straightline. As we know from the domain information that  $l∝t^2$.  \n",
    "\n",
    "Let us  plot  $ t^2 $  vs  $ l $ instead of $l$ vs $t$:"
   ]
  },
  {
   "cell_type": "code",
   "execution_count": 0,
   "metadata": {
    "colab": {},
    "colab_type": "code",
    "id": "zz9-nmyd705n"
   },
   "outputs": [],
   "source": [
    "tsq = t * t"
   ]
  },
  {
   "cell_type": "code",
   "execution_count": 16,
   "metadata": {
    "colab": {
     "base_uri": "https://localhost:8080/",
     "height": 592
    },
    "colab_type": "code",
    "executionInfo": {
     "elapsed": 2102,
     "status": "ok",
     "timestamp": 1581603349855,
     "user": {
      "displayName": "Mohammed Rizwan",
      "photoUrl": "https://lh3.googleusercontent.com/a-/AAuE7mB71PsBYLhuVqmFbtN-6NzmoyqKEkdtw1RZyZYeLw=s64",
      "userId": "08508186513102229355"
     },
     "user_tz": -330
    },
    "id": "VRiR324x744V",
    "outputId": "2a3d04e4-ff09-46b0-e1c9-7db8864d27f9"
   },
   "outputs": [
    {
     "data": {
      "image/png": "[encoded data removed]",
      "text/plain": [
       "<Figure size 1152x720 with 1 Axes>"
      ]
     },
     "metadata": {
      "tags": []
     },
     "output_type": "display_data"
    }
   ],
   "source": [
    "plt.figure(figsize=(16,10))\n",
    "#plt.plot(x, Y)\n",
    "plt.plot(l, tsq, '.k')\n",
    "plt.show()"
   ]
  },
  {
   "cell_type": "markdown",
   "metadata": {
    "colab_type": "text",
    "id": "w1obAywp6Td0"
   },
   "source": [
    "**Note :** When using the Sklearn libraries 2D or above inputs are expected. Hence reshaping $l$ and $t$ to a 2-D array.\n",
    "\n",
    "To know more about reshaping, you can refer to the below link :\n",
    "\n",
    "https://docs.scipy.org/doc/numpy/reference/generated/numpy.reshape.html"
   ]
  },
  {
   "cell_type": "code",
   "execution_count": 19,
   "metadata": {
    "colab": {
     "base_uri": "https://localhost:8080/",
     "height": 34
    },
    "colab_type": "code",
    "executionInfo": {
     "elapsed": 1847,
     "status": "ok",
     "timestamp": 1581603381748,
     "user": {
      "displayName": "Mohammed Rizwan",
      "photoUrl": "https://lh3.googleusercontent.com/a-/AAuE7mB71PsBYLhuVqmFbtN-6NzmoyqKEkdtw1RZyZYeLw=s64",
      "userId": "08508186513102229355"
     },
     "user_tz": -330
    },
    "id": "ClBhoZXI5LEV",
    "outputId": "ee775d78-cb87-4bbf-f547-65c2867c07a8"
   },
   "outputs": [
    {
     "data": {
      "text/plain": [
       "(90, 1)"
      ]
     },
     "execution_count": 19,
     "metadata": {
      "tags": []
     },
     "output_type": "execute_result"
    }
   ],
   "source": [
    "l = l.reshape(-1,1)\n",
    "l.shape"
   ]
  },
  {
   "cell_type": "code",
   "execution_count": 20,
   "metadata": {
    "colab": {
     "base_uri": "https://localhost:8080/",
     "height": 34
    },
    "colab_type": "code",
    "executionInfo": {
     "elapsed": 1287,
     "status": "ok",
     "timestamp": 1581603389270,
     "user": {
      "displayName": "Mohammed Rizwan",
      "photoUrl": "https://lh3.googleusercontent.com/a-/AAuE7mB71PsBYLhuVqmFbtN-6NzmoyqKEkdtw1RZyZYeLw=s64",
      "userId": "08508186513102229355"
     },
     "user_tz": -330
    },
    "id": "LAhM6vsh5R43",
    "outputId": "4838b27b-2e3f-4372-867b-6240310d2124"
   },
   "outputs": [
    {
     "data": {
      "text/plain": [
       "(90, 1)"
      ]
     },
     "execution_count": 20,
     "metadata": {
      "tags": []
     },
     "output_type": "execute_result"
    }
   ],
   "source": [
    "tsq = tsq.reshape(-1,1)\n",
    "tsq.shape"
   ]
  },
  {
   "cell_type": "code",
   "execution_count": 21,
   "metadata": {
    "colab": {
     "base_uri": "https://localhost:8080/",
     "height": 34
    },
    "colab_type": "code",
    "executionInfo": {
     "elapsed": 2146,
     "status": "ok",
     "timestamp": 1581603416764,
     "user": {
      "displayName": "Mohammed Rizwan",
      "photoUrl": "https://lh3.googleusercontent.com/a-/AAuE7mB71PsBYLhuVqmFbtN-6NzmoyqKEkdtw1RZyZYeLw=s64",
      "userId": "08508186513102229355"
     },
     "user_tz": -330
    },
    "id": "OAfiS19k4ht0",
    "outputId": "e671a2e0-6c8a-436e-adce-df93eab30d4d"
   },
   "outputs": [
    {
     "data": {
      "text/plain": [
       "LinearRegression(copy_X=True, fit_intercept=True, n_jobs=None, normalize=False)"
      ]
     },
     "execution_count": 21,
     "metadata": {
      "tags": []
     },
     "output_type": "execute_result"
    }
   ],
   "source": [
    "# Create linear regression object\n",
    "regr = linear_model.LinearRegression()\n",
    "\n",
    "# Training the model using the training set\n",
    "regr.fit(l, tsq)\n"
   ]
  },
  {
   "cell_type": "code",
   "execution_count": 0,
   "metadata": {
    "colab": {},
    "colab_type": "code",
    "id": "1JZ0WPEI5x-z"
   },
   "outputs": [],
   "source": [
    "pred_tsq = regr.predict(l)"
   ]
  },
  {
   "cell_type": "code",
   "execution_count": 23,
   "metadata": {
    "colab": {
     "base_uri": "https://localhost:8080/",
     "height": 265
    },
    "colab_type": "code",
    "executionInfo": {
     "elapsed": 1545,
     "status": "ok",
     "timestamp": 1581603429443,
     "user": {
      "displayName": "Mohammed Rizwan",
      "photoUrl": "https://lh3.googleusercontent.com/a-/AAuE7mB71PsBYLhuVqmFbtN-6NzmoyqKEkdtw1RZyZYeLw=s64",
      "userId": "08508186513102229355"
     },
     "user_tz": -330
    },
    "id": "zP_BL1vt5eZy",
    "outputId": "f00b474e-cdf6-4082-a7e8-5287ede80dc0"
   },
   "outputs": [
    {
     "data": {
      "image/png": "[encoded data removed]",
      "text/plain": [
       "<Figure size 432x288 with 1 Axes>"
      ]
     },
     "metadata": {
      "tags": []
     },
     "output_type": "display_data"
    }
   ],
   "source": [
    "# Plotting a scatter representing l vs tsq\n",
    "plt.scatter(l, tsq,  color='black')\n",
    "\n",
    "# Plotting the line predicted using linear regression model\n",
    "plt.plot(l, pred_tsq, color='blue', linewidth=3)\n",
    "\n",
    "plt.show()"
   ]
  }
 ],
 "metadata": {
  "accelerator": "GPU",
  "colab": {
   "collapsed_sections": [],
   "name": "13_Linear_Regression_Pendulumn.ipynb",
   "provenance": []
  },
  "kernelspec": {
   "display_name": "Python 3",
   "language": "python",
   "name": "python3"
  },
  "language_info": {
   "codemirror_mode": {
    "name": "ipython",
    "version": 3
   },
   "file_extension": ".py",
   "mimetype": "text/x-python",
   "name": "python",
   "nbconvert_exporter": "python",
   "pygments_lexer": "ipython3",
   "version": "3.6.5"
  }
 },
 "nbformat": 4,
 "nbformat_minor": 1
}
