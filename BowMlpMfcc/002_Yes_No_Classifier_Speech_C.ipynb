{
 "cells": [
  {
   "cell_type": "markdown",
   "metadata": {
    "colab_type": "text",
    "id": "ys_OuKdn_ij5"
   },
   "source": [
    "# Advanced Certification in AIML\n",
    "## A Program by IIIT-H and TalentSprint"
   ]
  },
  {
   "cell_type": "markdown",
   "metadata": {
    "colab_type": "text",
    "id": "B6YRo1_NFkb7"
   },
   "source": [
    "## Learning Objectives\n",
    "\n",
    "At the end of the experiment, you will be able to :\n",
    "\n",
    "* obtain the mfcc features from audio samples \n",
    "* train the classifier with these mfcc features\n",
    "* classify the audio samples into 'yes' and 'no'"
   ]
  },
  {
   "cell_type": "markdown",
   "metadata": {
    "colab_type": "text",
    "id": "tbAmXhdzFoX5"
   },
   "source": [
    "## Dataset "
   ]
  },
  {
   "cell_type": "markdown",
   "metadata": {
    "colab_type": "text",
    "id": "chgrAe1GFrYb"
   },
   "source": [
    "### Description\n",
    "The dataset used in the experiment contains 1391 audio samples with the extension .wav. \n",
    "\n",
    "Each audio sample has utterances 'yes' or 'no'\n",
    "\n",
    "The naming convention of the sample is of the format 'yes_no/' followed by '10' (representing 'yes') or '11' (representing 'no')\n",
    "\n",
    "Ex:   \n",
    "\n",
    "        'yes_no/10_g38_46.wav'    ---> yes audio sample\n",
    "        'yes_no/11_G6_11.wav'     ---> no audio sample\n",
    "\n"
   ]
  },
  {
   "cell_type": "markdown",
   "metadata": {
    "colab_type": "text",
    "id": "ISxllNzfFtwa"
   },
   "source": [
    "## Domain Information\n",
    "\n",
    "When we listen to an audio sample it changes constantly. This means that speech is non-stationary signal. Therefore, normal signal processing techniques cannot be applied to get features from audio. However, if the speech signal is observed using a very small duration window, the speech content in that small duration appears to be  stationary. That brought in the concept of short-time processing of speech. \n",
    "\n",
    "MFCC is a techique for short-time processing of speech. \n",
    "\n",
    "**Note: While it is a bonus to understand 'how' a speech signal is converted to a 'representation' by MFCC (or other similar speech processing techniques), it is not mandatory to understand the same. It is sufficient to realize that you're generating a unique numeric representation (a set of numbers) of a speech signal and that this unique representation helps you run your machine learning algorithms over the samples.**"
   ]
  },
  {
   "cell_type": "markdown",
   "metadata": {
    "colab_type": "text",
    "id": "mZUtIsOUFv_a"
   },
   "source": [
    "## AIML Technique\n",
    "\n",
    "In this short-time processing technique MFCC, a small duration window (say 25 milli sec) is considered for processing of the audio samples at a time. This small duration is called a frame. Now, for each of the frames, MFCC features are computed which give a compact representation of the audio samples. A spectogram is computed for audio samples which gives a heat map of frequencies vs time from the series of spectral vectors generated from audio samples.\n",
    "\n",
    "This representation is obtained by keeping in mind that humans are much better at grasping small changes in the audio at low frequencies than audio at high frequencies. So mel-scale converts high frequencies to human graspable frequencies. "
   ]
  },
  {
   "cell_type": "markdown",
   "metadata": {
    "colab_type": "text",
    "id": "2DgTDVylFzOP"
   },
   "source": [
    "#### Keywords\n",
    "\n",
    "* Spectogram\n",
    "* Mel-frequency cepstral coefficients (MFCC)\n"
   ]
  },
  {
   "cell_type": "markdown",
   "metadata": {
    "colab_type": "text",
    "id": "BTBmTDSpF1_p"
   },
   "source": [
    "#### Expected Time to complete the experiment : 30 mins"
   ]
  },
  {
   "cell_type": "markdown",
   "metadata": {
    "colab_type": "text",
    "id": "DzPY6OEf_pWC"
   },
   "source": [
    "## Setup Steps"
   ]
  },
  {
   "cell_type": "markdown",
   "metadata": {
    "colab_type": "text",
    "id": "8L2zGiq9foa2"
   },
   "source": [
    "### Importing Required Packages"
   ]
  },
  {
   "cell_type": "code",
   "execution_count": 0,
   "metadata": {
    "colab": {},
    "colab_type": "code",
    "id": "D_wB9zdv_b9y"
   },
   "outputs": [],
   "source": [
    "import os\n",
    "\n",
    "import warnings\n",
    "warnings.filterwarnings(\"ignore\")\n",
    "\n",
    "# Math\n",
    "import numpy as np\n",
    "from scipy import signal\n",
    "from scipy.io import wavfile\n",
    "import librosa\n",
    "\n",
    "# Visualization\n",
    "import matplotlib.pyplot as plt\n",
    "import librosa.display\n",
    "\n",
    "from matplotlib.pyplot import *\n",
    "%matplotlib inline\n",
    "\n",
    "# Import glob to perform pattern matching to find files\n",
    "import glob\n",
    "\n",
    "# Import train_test_split to split the data into train and test sets\n",
    "from sklearn.model_selection import train_test_split\n",
    "\n",
    "# Import MLPClassifier to be trained on features of wav files\n",
    "from sklearn.neural_network import MLPClassifier"
   ]
  },
  {
   "cell_type": "markdown",
   "metadata": {
    "colab_type": "text",
    "id": "Ogx1P_LqHUxj"
   },
   "source": [
    "#### About glob.iglob:\n",
    "\n",
    "The glob library  provides methods for traversing the file system and returning files that matched a defined set of glob patterns. Here it helps traverse file name matching the \".wav\" pattern"
   ]
  },
  {
   "cell_type": "code",
   "execution_count": 0,
   "metadata": {
    "colab": {},
    "colab_type": "code",
    "id": "3aQBPBaX3W8S"
   },
   "outputs": [],
   "source": [
    "labels = []\n",
    "wave_files = []\n",
    "for filename in glob.iglob('yes_no/*.wav', recursive=True):\n",
    "  # Store the labels of each wav file in a list\n",
    "  labels.append(int((filename.split(\"/\")[-1]).split(\"_\")[0]))\n",
    "  # Store the wav files in a list\n",
    "  wave_files.append(filename)"
   ]
  },
  {
   "cell_type": "code",
   "execution_count": 0,
   "metadata": {
    "colab": {
     "base_uri": "https://localhost:8080/",
     "height": 102
    },
    "colab_type": "code",
    "executionInfo": {
     "elapsed": 831,
     "status": "ok",
     "timestamp": 1581576259600,
     "user": {
      "displayName": "Mohammed Rizwan",
      "photoUrl": "https://lh3.googleusercontent.com/a-/AAuE7mB71PsBYLhuVqmFbtN-6NzmoyqKEkdtw1RZyZYeLw=s64",
      "userId": "08508186513102229355"
     },
     "user_tz": -330
    },
    "id": "IQGzfktPSi8Z",
    "outputId": "5f4d283b-514a-4fad-ed6c-8bb1202df5b9"
   },
   "outputs": [
    {
     "data": {
      "text/plain": [
       "['yes_no/11_n_g2_71.wav',\n",
       " 'yes_no/11_G18_35.wav',\n",
       " 'yes_no/10_G15_46.wav',\n",
       " 'yes_no/11_b13_47.wav',\n",
       " 'yes_no/11_b16_107.wav']"
      ]
     },
     "execution_count": 9,
     "metadata": {
      "tags": []
     },
     "output_type": "execute_result"
    }
   ],
   "source": [
    "wave_files[:5]"
   ]
  },
  {
   "cell_type": "code",
   "execution_count": 0,
   "metadata": {
    "colab": {
     "base_uri": "https://localhost:8080/",
     "height": 34
    },
    "colab_type": "code",
    "executionInfo": {
     "elapsed": 940,
     "status": "ok",
     "timestamp": 1581576276089,
     "user": {
      "displayName": "Mohammed Rizwan",
      "photoUrl": "https://lh3.googleusercontent.com/a-/AAuE7mB71PsBYLhuVqmFbtN-6NzmoyqKEkdtw1RZyZYeLw=s64",
      "userId": "08508186513102229355"
     },
     "user_tz": -330
    },
    "id": "0130AQNSSqsw",
    "outputId": "77b765f3-1d09-4401-bd85-932be00c27ec"
   },
   "outputs": [
    {
     "data": {
      "text/plain": [
       "[11, 11, 10, 11, 11]"
      ]
     },
     "execution_count": 10,
     "metadata": {
      "tags": []
     },
     "output_type": "execute_result"
    }
   ],
   "source": [
    "labels[:5]"
   ]
  },
  {
   "cell_type": "markdown",
   "metadata": {
    "colab_type": "text",
    "id": "yiZMR8ZxInfO"
   },
   "source": [
    "We load the wavefile, convert it to Melspectrogram features.\n",
    "Function returns the features and the resample rate"
   ]
  },
  {
   "cell_type": "code",
   "execution_count": 0,
   "metadata": {
    "colab": {},
    "colab_type": "code",
    "id": "h_9CS41S_b96"
   },
   "outputs": [],
   "source": [
    "def get_melspectrogram_features(filename):\n",
    "    y, sr = librosa.load(filename)\n",
    "    S = librosa.feature.melspectrogram(y, sr=sr, n_mels=128)\n",
    "    log_S = librosa.power_to_db(S, ref=np.max)\n",
    "    return log_S,sr"
   ]
  },
  {
   "cell_type": "markdown",
   "metadata": {
    "colab_type": "text",
    "id": "Pa6Qyn3rNVDT"
   },
   "source": [
    "#### Let us try to extract the features of one the wave file and plot the melspectrograms of the data\n"
   ]
  },
  {
   "cell_type": "code",
   "execution_count": 0,
   "metadata": {
    "colab": {
     "base_uri": "https://localhost:8080/",
     "height": 297
    },
    "colab_type": "code",
    "executionInfo": {
     "elapsed": 1465,
     "status": "ok",
     "timestamp": 1581578261137,
     "user": {
      "displayName": "Mohammed Rizwan",
      "photoUrl": "https://lh3.googleusercontent.com/a-/AAuE7mB71PsBYLhuVqmFbtN-6NzmoyqKEkdtw1RZyZYeLw=s64",
      "userId": "08508186513102229355"
     },
     "user_tz": -330
    },
    "id": "XtUy-DaP_b9-",
    "outputId": "3be53eb9-e1ed-4008-cef9-8edb8a9a03ab"
   },
   "outputs": [
    {
     "data": {
      "image/png": "[encoded data removed]",
      "text/plain": [
       "<Figure size 864x288 with 2 Axes>"
      ]
     },
     "metadata": {
      "tags": []
     },
     "output_type": "display_data"
    }
   ],
   "source": [
    "features,sr = get_melspectrogram_features(wave_files[1])\n",
    "plt.figure(figsize=(12, 4))\n",
    "librosa.display.specshow(features, sr=sr, x_axis='time', y_axis='mel')\n",
    "plt.title('Mel power spectrogram ')\n",
    "plt.colorbar(format='%+02.0f dB')\n",
    "plt.tight_layout()"
   ]
  },
  {
   "cell_type": "code",
   "execution_count": 0,
   "metadata": {
    "colab": {},
    "colab_type": "code",
    "id": "H9pXhoBn_b-I"
   },
   "outputs": [],
   "source": [
    "'''\n",
    "Load the wav files by passing them to librosa.load \n",
    "Get the features as a power spectogram using melspectogram \n",
    "Convert the power spectogram to decibels \n",
    "Use the features obtained from melspectogram as input to MFCC to convert them to mel-scale\n",
    "The mfcc features are then passed to delta which perform 2nd order differentiation\n",
    "Delta is applied at each frame to get variance between frames\n",
    "Function returns mfcc features and 2nd order differentiated mfcc features\n",
    "'''\n",
    "def get_mfcc_features(filename):\n",
    "    frames = 15\n",
    "    y, sr = librosa.load(filename)\n",
    "    D = np.abs(librosa.stft(y))**2\n",
    "    S = librosa.feature.melspectrogram(S=D)\n",
    "    S = librosa.feature.melspectrogram(y=y, sr=sr, n_mels=128)\n",
    "    log_S = librosa.power_to_db(S,ref=np.max)\n",
    "    features = librosa.feature.mfcc(S=log_S, n_mfcc=30)\n",
    "    if features.shape[1] < frames :\n",
    "        features = np.hstack((features, np.zeros((n_mfcc, frames - features.shape[1]))))\n",
    "    elif features.shape[1] > frames:\n",
    "        features = features[:, :frames]\n",
    "    delta2_mfcc = librosa.feature.delta(features, order=2)\n",
    "    return features,delta2_mfcc"
   ]
  },
  {
   "cell_type": "markdown",
   "metadata": {
    "colab_type": "text",
    "id": "mVeW6nqVf_aP"
   },
   "source": [
    "### Let us try to calculate mfcc features of one sample and try to visualize those features"
   ]
  },
  {
   "cell_type": "code",
   "execution_count": 0,
   "metadata": {
    "colab": {
     "base_uri": "https://localhost:8080/",
     "height": 297
    },
    "colab_type": "code",
    "executionInfo": {
     "elapsed": 1138,
     "status": "ok",
     "timestamp": 1581576525970,
     "user": {
      "displayName": "Mohammed Rizwan",
      "photoUrl": "https://lh3.googleusercontent.com/a-/AAuE7mB71PsBYLhuVqmFbtN-6NzmoyqKEkdtw1RZyZYeLw=s64",
      "userId": "08508186513102229355"
     },
     "user_tz": -330
    },
    "id": "wMO3PK4A_b-L",
    "outputId": "ee99a753-85c5-4313-fe7d-83cc6f614bde"
   },
   "outputs": [
    {
     "data": {
      "image/png": "[encoded data removed]",
      "text/plain": [
       "<Figure size 864x288 with 2 Axes>"
      ]
     },
     "metadata": {
      "tags": []
     },
     "output_type": "display_data"
    }
   ],
   "source": [
    "mfcc_features,delta2_mfcc = get_mfcc_features(wave_files[0])\n",
    "plt.figure(figsize=(12, 4))\n",
    "librosa.display.specshow(delta2_mfcc)\n",
    "plt.ylabel('MFCC coeffs')\n",
    "plt.xlabel('Time')\n",
    "plt.title('MFCC')\n",
    "plt.colorbar()\n",
    "plt.tight_layout()"
   ]
  },
  {
   "cell_type": "markdown",
   "metadata": {
    "colab_type": "text",
    "id": "mVCKIjMfgCST"
   },
   "source": [
    "### Extracting mfcc features for all the samples"
   ]
  },
  {
   "cell_type": "code",
   "execution_count": 0,
   "metadata": {
    "colab": {},
    "colab_type": "code",
    "id": "ZZniCuHD_b-R"
   },
   "outputs": [],
   "source": [
    "features = []\n",
    "for filename in wave_files:\n",
    "    fea, delta_2 = get_mfcc_features(filename)\n",
    "    features.append(fea)"
   ]
  },
  {
   "cell_type": "markdown",
   "metadata": {
    "colab_type": "text",
    "id": "1tn_Y8C_6SaQ"
   },
   "source": [
    "### At this point, if you are a bit concerned your comprehension of MFCC or Spectrograms, it is advised that it is enough that you see that each sample now has a unique numerical representation (just as we saw a unique numerical representation for features of an 'Apple', or features or an 'Image'). To that effect you could even print 'features' variable above and examine. It is okay to black-box out the audio feature extraction process and keep those APIs handy."
   ]
  },
  {
   "cell_type": "markdown",
   "metadata": {
    "colab_type": "text",
    "id": "ukfzjKvigEAa"
   },
   "source": [
    "### Split the mfcc features into train and test sets with 90-10 split "
   ]
  },
  {
   "cell_type": "code",
   "execution_count": 0,
   "metadata": {
    "colab": {},
    "colab_type": "code",
    "id": "_FUreImQ_b-W"
   },
   "outputs": [],
   "source": [
    "X_train, X_test, y_train, y_test = train_test_split(features, np.array(labels), test_size=0.1)"
   ]
  },
  {
   "cell_type": "markdown",
   "metadata": {
    "colab_type": "text",
    "id": "Htjjq8CbgHmk"
   },
   "source": [
    "### Get the length of the train and test data"
   ]
  },
  {
   "cell_type": "code",
   "execution_count": 0,
   "metadata": {
    "colab": {
     "base_uri": "https://localhost:8080/",
     "height": 34
    },
    "colab_type": "code",
    "executionInfo": {
     "elapsed": 859,
     "status": "ok",
     "timestamp": 1581576990358,
     "user": {
      "displayName": "Mohammed Rizwan",
      "photoUrl": "https://lh3.googleusercontent.com/a-/AAuE7mB71PsBYLhuVqmFbtN-6NzmoyqKEkdtw1RZyZYeLw=s64",
      "userId": "08508186513102229355"
     },
     "user_tz": -330
    },
    "id": "04PKEJDJ_b-a",
    "outputId": "b5dbf1a7-1c35-482e-83e1-6abc0f8533ce"
   },
   "outputs": [
    {
     "data": {
      "text/plain": [
       "(1161, 130, 1161, 130)"
      ]
     },
     "execution_count": 22,
     "metadata": {
      "tags": []
     },
     "output_type": "execute_result"
    }
   ],
   "source": [
    "len(X_train), len(X_test), len(y_train), len(y_test)"
   ]
  },
  {
   "cell_type": "code",
   "execution_count": 0,
   "metadata": {
    "colab": {
     "base_uri": "https://localhost:8080/",
     "height": 1000
    },
    "colab_type": "code",
    "executionInfo": {
     "elapsed": 900,
     "status": "ok",
     "timestamp": 1581577082858,
     "user": {
      "displayName": "Mohammed Rizwan",
      "photoUrl": "https://lh3.googleusercontent.com/a-/AAuE7mB71PsBYLhuVqmFbtN-6NzmoyqKEkdtw1RZyZYeLw=s64",
      "userId": "08508186513102229355"
     },
     "user_tz": -330
    },
    "id": "_rj5h71oVOW0",
    "outputId": "24f8bea0-e9f4-412a-9364-f60257702441"
   },
   "outputs": [
    {
     "data": {
      "text/plain": [
       "[array([[-5.78448232e+02, -5.75905906e+02, -5.79426722e+02,\n",
       "         -5.84649160e+02, -5.90397181e+02, -5.93352016e+02,\n",
       "         -5.91232786e+02, -5.89461957e+02, -5.94882461e+02,\n",
       "         -5.97809095e+02, -5.98931223e+02, -6.01294398e+02,\n",
       "         -6.04193414e+02, -6.02009947e+02, -5.99394751e+02],\n",
       "        [ 2.34517854e+02,  2.35193389e+02,  2.33013427e+02,\n",
       "          2.31181421e+02,  2.28752065e+02,  2.28252062e+02,\n",
       "          2.32843140e+02,  2.35941313e+02,  2.32222820e+02,\n",
       "          2.28961864e+02,  2.26867641e+02,  2.26061529e+02,\n",
       "          2.23609174e+02,  2.25290608e+02,  2.25823610e+02],\n",
       "        [-2.11273802e+01, -2.14774085e+01, -2.00436187e+01,\n",
       "         -1.69323559e+01, -1.31070544e+01, -1.22598353e+01,\n",
       "         -1.06844607e+01, -7.08027076e+00, -3.85199464e+00,\n",
       "         -3.81876584e+00, -5.92151688e+00, -5.60013995e+00,\n",
       "         -5.11107295e+00, -6.98631650e+00, -1.06202992e+01],\n",
       "        [ 1.77068691e+01,  2.05622584e+01,  2.37423641e+01,\n",
       "          2.44036778e+01,  2.45943784e+01,  2.27105810e+01,\n",
       "          1.96340788e+01,  2.23527389e+01,  2.71569460e+01,\n",
       "          2.89632815e+01,  2.63921342e+01,  2.34925315e+01,\n",
       "          2.42494047e+01,  2.20339835e+01,  1.91151250e+01],\n",
       "        [ 3.43061460e+01,  3.60975763e+01,  4.09024383e+01,\n",
       "          4.12052901e+01,  3.64190214e+01,  3.83741939e+01,\n",
       "          3.83339490e+01,  4.04775052e+01,  4.35306248e+01,\n",
       "          4.20427636e+01,  3.74119968e+01,  3.50487275e+01,\n",
       "          3.28394907e+01,  3.45955655e+01,  3.39306131e+01],\n",
       "        [-2.29241896e+01, -2.30966557e+01, -1.96936133e+01,\n",
       "         -1.86447109e+01, -2.22574712e+01, -1.76943627e+01,\n",
       "         -1.70850605e+01, -1.50624185e+01, -1.14760208e+01,\n",
       "         -1.43928174e+01, -1.75745186e+01, -1.64595935e+01,\n",
       "         -2.13437795e+01, -1.94740521e+01, -1.97349079e+01],\n",
       "        [ 4.49307693e+00,  4.65168011e+00,  4.87174482e+00,\n",
       "          5.28580929e+00,  4.47761730e+00,  4.81256780e+00,\n",
       "          5.55890462e+00,  4.93223050e+00,  4.84089894e+00,\n",
       "          5.90074476e+00,  7.08887927e+00,  7.62266966e+00,\n",
       "          3.40464122e+00,  2.93392249e+00,  3.46100685e+00],\n",
       "        [ 9.71982547e+00,  7.72695164e+00,  7.63716035e+00,\n",
       "          9.41841251e+00,  9.30638026e+00,  9.96417726e+00,\n",
       "          1.69783585e+01,  1.41408046e+01,  7.57756564e+00,\n",
       "          1.14643208e+01,  1.31357379e+01,  1.23620420e+01,\n",
       "          1.19757853e+01,  1.23031238e+01,  1.34935619e+01],\n",
       "        [-2.13262580e+01, -2.14885817e+01, -2.00741996e+01,\n",
       "         -2.00282504e+01, -2.17613753e+01, -1.83230953e+01,\n",
       "         -1.18131574e+01, -1.19216729e+01, -1.39754213e+01,\n",
       "         -1.14344687e+01, -1.09224129e+01, -9.91789196e+00,\n",
       "         -8.56895537e+00, -9.31697796e+00, -9.32831645e+00],\n",
       "        [-5.85374340e+00,  1.65483268e+00,  4.76448565e+00,\n",
       "          7.86287608e-01, -4.02987912e+00, -4.96528034e+00,\n",
       "         -1.67249291e+00,  8.63097896e-01,  6.50189286e+00,\n",
       "          6.80328875e+00,  8.04344684e+00,  9.94981938e+00,\n",
       "          8.39911090e+00,  5.34854735e+00,  5.43268462e+00],\n",
       "        [-6.87995764e+00, -1.61416147e-01,  3.03784988e+00,\n",
       "          1.42698429e+00, -3.86007949e+00, -9.30069400e+00,\n",
       "         -1.84065671e+00, -7.94265463e-02,  1.40197868e+00,\n",
       "          1.21896827e+00,  2.01380531e+00,  4.02490165e+00,\n",
       "          1.54898673e+00,  6.29005930e-01,  3.35601814e+00],\n",
       "        [-2.06631617e+01, -2.11821836e+01, -2.01166164e+01,\n",
       "         -1.78193425e+01, -1.99980352e+01, -2.29116190e+01,\n",
       "         -1.81106942e+01, -1.55045335e+01, -1.87286877e+01,\n",
       "         -1.91624427e+01, -1.83071941e+01, -1.44537472e+01,\n",
       "         -1.53829732e+01, -1.47006099e+01, -9.71863993e+00],\n",
       "        [-5.12174237e+00, -5.82752259e+00, -4.43991420e+00,\n",
       "         -1.77128666e+00, -2.15330061e+00, -1.72274256e+00,\n",
       "         -4.56047915e+00,  3.02637534e-01,  7.67713500e-01,\n",
       "         -1.33308201e+00,  4.98417647e-01,  3.06753500e+00,\n",
       "          4.65343515e-01,  6.84306487e-01,  5.21015952e+00],\n",
       "        [-6.09421388e+00, -4.93538187e+00, -2.07288979e+00,\n",
       "          1.03275680e+00, -2.70092221e-01, -2.23358274e-01,\n",
       "         -1.51841418e+00,  2.24774093e+00,  3.88494234e+00,\n",
       "          3.68429680e+00,  2.10478126e+00, -1.68512549e+00,\n",
       "         -3.69250839e+00, -1.27605729e+00, -6.11720641e-01],\n",
       "        [-9.61854761e+00, -9.90327058e+00, -9.67156792e+00,\n",
       "         -8.69668163e+00, -9.75548765e+00, -9.79411465e+00,\n",
       "         -1.07426219e+01, -1.00408265e+01, -9.86685822e+00,\n",
       "         -4.07356662e+00, -8.34773737e+00, -1.53146560e+01,\n",
       "         -1.27710332e+01, -1.01274297e+01, -1.13622550e+01],\n",
       "        [ 3.09365572e+00,  3.65522348e+00,  9.14463665e-01,\n",
       "         -1.79783990e+00, -7.44985270e-02,  1.60252094e+00,\n",
       "         -3.92570535e+00, -4.49717150e+00, -3.64201635e-01,\n",
       "          4.82968333e+00,  4.14294183e+00,  7.48269119e-01,\n",
       "          2.52166457e+00,  5.94159839e-01,  3.41590425e+00],\n",
       "        [ 7.24302008e-01,  1.74284884e+00, -1.72401770e+00,\n",
       "         -3.71655008e+00, -5.62064983e-01,  3.32458946e-01,\n",
       "         -3.82387619e+00, -3.41335955e+00,  3.10298208e+00,\n",
       "          9.54065339e-01,  2.22346630e+00,  2.57728250e+00,\n",
       "          2.19148312e+00, -2.53251150e+00,  6.71919548e-01],\n",
       "        [ 5.97012014e+00,  4.12672986e+00,  1.47408003e-01,\n",
       "         -1.23345504e+00,  2.41691937e-02, -1.93279942e+00,\n",
       "         -2.90865846e+00, -8.60150185e-01, -2.92960544e-01,\n",
       "         -4.80601218e+00, -4.40873084e+00, -3.38629836e+00,\n",
       "         -1.67171334e+00, -6.67780500e+00, -9.09060536e+00],\n",
       "        [ 1.43434707e+01,  1.19225808e+01,  1.04097799e+01,\n",
       "          8.56262036e+00,  8.55972925e+00,  6.14114578e+00,\n",
       "          5.55924541e+00,  8.35992975e+00,  4.49313202e+00,\n",
       "          2.39435232e+00,  4.82905029e+00,  6.09108681e+00,\n",
       "          5.93632590e+00, -8.72818480e-02, -1.09458971e+00],\n",
       "        [-2.90915459e+00, -4.36473748e+00, -1.79361838e+00,\n",
       "         -4.78990463e-01, -1.24911027e+00, -2.21576991e+00,\n",
       "         -1.90797302e+00,  5.06918073e-01,  1.33480844e+00,\n",
       "          2.29320914e-01,  3.03057206e+00,  4.02535781e+00,\n",
       "          6.48618349e-01, -4.28541257e+00, -8.18795910e-01],\n",
       "        [-4.31578757e+00, -6.93566423e+00, -5.14018628e+00,\n",
       "         -2.90625059e+00, -7.10112640e+00, -6.63232855e+00,\n",
       "         -6.33618489e+00, -5.11716526e+00, -2.02607283e-01,\n",
       "         -5.41850139e-01, -8.99490895e-01, -1.87686393e+00,\n",
       "         -1.73246563e+00, -1.62758273e+00, -2.08457041e+00],\n",
       "        [ 7.80938604e+00,  5.13440002e+00,  4.01364130e+00,\n",
       "          3.54590260e+00, -2.95802680e-01,  1.63472366e-01,\n",
       "          1.60458892e-01,  4.03045412e-01,  1.40317109e+00,\n",
       "          1.42990571e+00, -8.77857110e-01, -2.89919972e+00,\n",
       "         -4.03113002e-01,  3.88560039e+00,  1.62117780e+00],\n",
       "        [-4.89729975e+00, -4.53492320e+00, -4.04054670e+00,\n",
       "         -4.74460482e+00, -2.70515561e+00, -4.32850269e+00,\n",
       "         -3.72362397e+00, -4.04252431e+00, -5.07409351e+00,\n",
       "         -5.55421241e+00, -9.51577770e+00, -1.00466265e+01,\n",
       "         -1.02195187e+01, -7.20785677e+00, -5.36755876e+00],\n",
       "        [-1.08887259e+01, -7.89593641e+00, -3.53840214e+00,\n",
       "         -5.77390655e+00, -3.54697772e+00, -3.49678709e+00,\n",
       "         -1.97981860e+00, -4.87773733e+00, -2.22594640e+00,\n",
       "         -7.72266487e-01, -3.90562732e+00, -3.60854589e+00,\n",
       "         -5.80167386e+00, -7.14744614e+00, -7.62241477e+00],\n",
       "        [-2.41614920e-01,  1.11221352e+00,  4.98384674e+00,\n",
       "         -1.69680931e-01, -2.42463856e+00,  3.84382787e+00,\n",
       "          8.70416305e+00,  3.14724827e+00,  3.76166706e+00,\n",
       "          7.33856299e+00,  9.96294650e+00,  8.60600403e+00,\n",
       "          4.20544447e+00,  1.59240909e+00, -2.11642658e+00],\n",
       "        [ 2.82207486e+00, -2.37487369e-02,  7.19738220e-02,\n",
       "         -2.99036328e+00, -5.25574934e+00,  1.75836604e+00,\n",
       "          7.45299984e+00,  4.44246230e+00, -1.80412057e+00,\n",
       "          3.05008925e-01,  5.27351889e+00,  2.80569818e+00,\n",
       "         -3.25367403e+00, -3.03928436e+00, -2.97697614e+00],\n",
       "        [ 8.41125715e+00,  4.96424815e+00,  3.92396170e+00,\n",
       "          3.27190267e+00,  1.24113353e+00,  3.80173465e+00,\n",
       "          4.07672245e+00,  4.91963980e+00, -1.10970750e+00,\n",
       "         -1.02409273e+00,  1.03037392e+00, -6.15685351e-01,\n",
       "         -5.18241419e+00, -2.84706683e+00, -1.12441536e+00],\n",
       "        [ 1.23970811e+01,  1.13977392e+01,  9.71191561e+00,\n",
       "          8.72958687e+00,  5.43937824e+00,  6.73701818e+00,\n",
       "          4.50441577e+00,  4.57938490e+00,  3.49116952e+00,\n",
       "          2.16011557e+00,  2.73607995e+00,  1.57694401e+00,\n",
       "         -1.08319943e+00,  1.73277697e-01,  1.24549267e+00],\n",
       "        [ 9.21202363e+00,  7.93281837e+00,  3.16522452e+00,\n",
       "          3.71920396e+00,  2.47456450e+00,  3.73305579e+00,\n",
       "          3.03573378e+00,  1.51288698e+00,  3.15449676e+00,\n",
       "         -1.06464575e+00, -3.42993034e+00, -4.31003968e+00,\n",
       "         -3.68501971e+00, -3.44756139e+00, -5.72875122e-01],\n",
       "        [ 1.32941636e+01,  1.00589796e+01,  6.29495045e+00,\n",
       "          7.56923128e+00,  7.81426116e+00,  7.89452072e+00,\n",
       "          5.64547675e+00,  4.47399554e+00,  7.96969220e+00,\n",
       "          2.37830932e+00, -5.93133598e+00, -5.36682338e+00,\n",
       "         -7.03596276e-01,  8.18020183e-01,  3.22931691e+00]])]"
      ]
     },
     "execution_count": 29,
     "metadata": {
      "tags": []
     },
     "output_type": "execute_result"
    }
   ],
   "source": [
    "X_train[:1]"
   ]
  },
  {
   "cell_type": "code",
   "execution_count": 0,
   "metadata": {
    "colab": {
     "base_uri": "https://localhost:8080/",
     "height": 34
    },
    "colab_type": "code",
    "executionInfo": {
     "elapsed": 906,
     "status": "ok",
     "timestamp": 1581577151234,
     "user": {
      "displayName": "Mohammed Rizwan",
      "photoUrl": "https://lh3.googleusercontent.com/a-/AAuE7mB71PsBYLhuVqmFbtN-6NzmoyqKEkdtw1RZyZYeLw=s64",
      "userId": "08508186513102229355"
     },
     "user_tz": -330
    },
    "id": "JJdYQ6XwV2Kr",
    "outputId": "15f833e1-0c74-4371-b0d5-400e6df411b2"
   },
   "outputs": [
    {
     "data": {
      "text/plain": [
       "(1161, 30, 15)"
      ]
     },
     "execution_count": 32,
     "metadata": {
      "tags": []
     },
     "output_type": "execute_result"
    }
   ],
   "source": [
    "X_train = np.array(X_train)\n",
    "X_train.shape"
   ]
  },
  {
   "cell_type": "code",
   "execution_count": 0,
   "metadata": {
    "colab": {},
    "colab_type": "code",
    "id": "N5vsTt1A_b-g"
   },
   "outputs": [],
   "source": [
    "# Convert the X_train to an array and reshape from 1251*30*15 to 1251*450\n",
    "\n",
    "#X_train = np.array(X_train)\n",
    "X_train = X_train.reshape(X_train.shape[0], X_train.shape[1] *  X_train.shape[2])\n",
    "\n",
    "# Convert the X_test to an array and reshape from 140*30*15 to 140*450\n",
    "\n",
    "X_test = np.array(X_test)\n",
    "X_test = X_test.reshape(X_test.shape[0], X_test.shape[1] *  X_test.shape[2])"
   ]
  },
  {
   "cell_type": "code",
   "execution_count": 0,
   "metadata": {
    "colab": {
     "base_uri": "https://localhost:8080/",
     "height": 34
    },
    "colab_type": "code",
    "executionInfo": {
     "elapsed": 881,
     "status": "ok",
     "timestamp": 1581577167904,
     "user": {
      "displayName": "Mohammed Rizwan",
      "photoUrl": "https://lh3.googleusercontent.com/a-/AAuE7mB71PsBYLhuVqmFbtN-6NzmoyqKEkdtw1RZyZYeLw=s64",
      "userId": "08508186513102229355"
     },
     "user_tz": -330
    },
    "id": "smcjlD8h-sIw",
    "outputId": "9629b650-ce91-48dc-e235-78e44f6a6f54"
   },
   "outputs": [
    {
     "data": {
      "text/plain": [
       "((1161, 450), (130, 450))"
      ]
     },
     "execution_count": 34,
     "metadata": {
      "tags": []
     },
     "output_type": "execute_result"
    }
   ],
   "source": [
    "X_train.shape ,  X_test.shape"
   ]
  },
  {
   "cell_type": "code",
   "execution_count": 0,
   "metadata": {
    "colab": {},
    "colab_type": "code",
    "id": "VdPIHTV0_b-j"
   },
   "outputs": [],
   "source": [
    "# Create a object for MLPClassifier \n",
    "clf = MLPClassifier(solver='lbfgs', alpha=1e-5,hidden_layer_sizes=(15,10,5))"
   ]
  },
  {
   "cell_type": "code",
   "execution_count": 0,
   "metadata": {
    "colab": {
     "base_uri": "https://localhost:8080/",
     "height": 153
    },
    "colab_type": "code",
    "executionInfo": {
     "elapsed": 880,
     "status": "ok",
     "timestamp": 1581577173690,
     "user": {
      "displayName": "Mohammed Rizwan",
      "photoUrl": "https://lh3.googleusercontent.com/a-/AAuE7mB71PsBYLhuVqmFbtN-6NzmoyqKEkdtw1RZyZYeLw=s64",
      "userId": "08508186513102229355"
     },
     "user_tz": -330
    },
    "id": "PSQFSUG1_b-o",
    "outputId": "c69ce8e2-b8c2-4f2f-aea7-0e0c5c8bcfaf"
   },
   "outputs": [
    {
     "data": {
      "text/plain": [
       "MLPClassifier(activation='relu', alpha=1e-05, batch_size='auto', beta_1=0.9,\n",
       "              beta_2=0.999, early_stopping=False, epsilon=1e-08,\n",
       "              hidden_layer_sizes=(15, 10, 5), learning_rate='constant',\n",
       "              learning_rate_init=0.001, max_fun=15000, max_iter=200,\n",
       "              momentum=0.9, n_iter_no_change=10, nesterovs_momentum=True,\n",
       "              power_t=0.5, random_state=None, shuffle=True, solver='lbfgs',\n",
       "              tol=0.0001, validation_fraction=0.1, verbose=False,\n",
       "              warm_start=False)"
      ]
     },
     "execution_count": 36,
     "metadata": {
      "tags": []
     },
     "output_type": "execute_result"
    }
   ],
   "source": [
    "# Fit the train fetaures and labels to the classifier object\n",
    "clf.fit(np.array(X_train), np.array(y_train))    "
   ]
  },
  {
   "cell_type": "code",
   "execution_count": 0,
   "metadata": {
    "colab": {},
    "colab_type": "code",
    "id": "1sX30kV5_b-v"
   },
   "outputs": [],
   "source": [
    "# Predict the labels of the test features\n",
    "predicted_values = clf.predict(X_test)"
   ]
  },
  {
   "cell_type": "code",
   "execution_count": 0,
   "metadata": {
    "colab": {
     "base_uri": "https://localhost:8080/",
     "height": 153
    },
    "colab_type": "code",
    "executionInfo": {
     "elapsed": 886,
     "status": "ok",
     "timestamp": 1581577180320,
     "user": {
      "displayName": "Mohammed Rizwan",
      "photoUrl": "https://lh3.googleusercontent.com/a-/AAuE7mB71PsBYLhuVqmFbtN-6NzmoyqKEkdtw1RZyZYeLw=s64",
      "userId": "08508186513102229355"
     },
     "user_tz": -330
    },
    "id": "9QA9Iwa2_b-z",
    "outputId": "ca51e8df-bf0c-4ec6-c607-b9ed3d7f5c98"
   },
   "outputs": [
    {
     "data": {
      "text/plain": [
       "array([10, 10, 10, 10, 10, 10, 10, 10, 10, 10, 10, 10, 10, 10, 10, 10, 10,\n",
       "       10, 10, 10, 10, 10, 10, 10, 10, 10, 10, 10, 10, 10, 10, 10, 10, 10,\n",
       "       10, 10, 10, 10, 10, 10, 10, 10, 10, 10, 10, 10, 10, 10, 10, 10, 10,\n",
       "       10, 10, 10, 10, 10, 10, 10, 10, 10, 10, 10, 10, 10, 10, 10, 10, 10,\n",
       "       10, 10, 10, 10, 10, 10, 10, 10, 10, 10, 10, 10, 10, 10, 10, 10, 10,\n",
       "       10, 10, 10, 10, 10, 10, 10, 10, 10, 10, 10, 10, 10, 10, 10, 10, 10,\n",
       "       10, 10, 10, 10, 10, 10, 10, 10, 10, 10, 10, 10, 10, 10, 10, 10, 10,\n",
       "       10, 10, 10, 10, 10, 10, 10, 10, 10, 10, 10])"
      ]
     },
     "execution_count": 38,
     "metadata": {
      "tags": []
     },
     "output_type": "execute_result"
    }
   ],
   "source": [
    "predicted_values"
   ]
  },
  {
   "cell_type": "code",
   "execution_count": 0,
   "metadata": {
    "colab": {
     "base_uri": "https://localhost:8080/",
     "height": 34
    },
    "colab_type": "code",
    "executionInfo": {
     "elapsed": 885,
     "status": "ok",
     "timestamp": 1581577186239,
     "user": {
      "displayName": "Mohammed Rizwan",
      "photoUrl": "https://lh3.googleusercontent.com/a-/AAuE7mB71PsBYLhuVqmFbtN-6NzmoyqKEkdtw1RZyZYeLw=s64",
      "userId": "08508186513102229355"
     },
     "user_tz": -330
    },
    "id": "2pGxbZeN_b-5",
    "outputId": "c710b835-7275-44ae-936c-169f966a64fd"
   },
   "outputs": [
    {
     "data": {
      "text/plain": [
       "0.47692307692307695"
      ]
     },
     "execution_count": 39,
     "metadata": {
      "tags": []
     },
     "output_type": "execute_result"
    }
   ],
   "source": [
    "# Get the accuracy score by comparing predicted labels and test labels\n",
    "from sklearn.metrics import accuracy_score\n",
    "accuracy_score(y_test,predicted_values)"
   ]
  }
 ],
 "metadata": {
  "colab": {
   "collapsed_sections": [],
   "name": "002_Yes_No_Classifier_Speech_C.ipynb",
   "provenance": []
  },
  "kernelspec": {
   "display_name": "Python 3",
   "language": "python",
   "name": "python3"
  },
  "language_info": {
   "codemirror_mode": {
    "name": "ipython",
    "version": 3
   },
   "file_extension": ".py",
   "mimetype": "text/x-python",
   "name": "python",
   "nbconvert_exporter": "python",
   "pygments_lexer": "ipython3",
   "version": "3.6.5"
  }
 },
 "nbformat": 4,
 "nbformat_minor": 1
}
