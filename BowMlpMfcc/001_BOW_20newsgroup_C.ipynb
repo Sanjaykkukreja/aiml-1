{
 "cells": [
  {
   "cell_type": "markdown",
   "metadata": {
    "colab_type": "text",
    "id": "QKxW4D6DHCyx"
   },
   "source": [
    "# Advanced Certification in AIML\n",
    "## A Program by IIIT-H and TalentSprint"
   ]
  },
  {
   "cell_type": "markdown",
   "metadata": {
    "colab_type": "text",
    "id": "OzkHDYHGZnyC"
   },
   "source": [
    "### Learning Objectives:\n",
    "\n",
    "At the end of the experiment, you will be able to:\n",
    "\n",
    "*  Preprocessing text data\n",
    "*  Representation of  text document using Bag of Words\n",
    "*  Understand Bag of Words represented text data with K-nearest neighbours"
   ]
  },
  {
   "cell_type": "markdown",
   "metadata": {
    "colab_type": "text",
    "id": "Fzskman3ZuWC"
   },
   "source": [
    "### Dataset\n",
    "In this experiment we use the 20 newsgroup dataset\n",
    "\n",
    "**Description**\n",
    "\n",
    "This dataset is a collection of approximately 20,000 newsgroup documents, partitioned across 20 different newsgroups. That is there are approximately one thousand documents taken from each of the following newsgroups:\n",
    "\n",
    "    alt.athesim\n",
    "    comp.graphics   \n",
    "    comp.os.ms-windows.misc\n",
    "    comp.sys.ibm.pc.hardware\n",
    "    comp.sys.mac.hardware\n",
    "    comp.windows.x\n",
    "    misc.forsale\n",
    "    rec.autos\n",
    "    rec.motorcycles\n",
    "    rec.sport.baseball\n",
    "    rec.sport.hockey\n",
    "    sci.crypt\n",
    "    sci.electronics\n",
    "    sci.med\n",
    "    sci.space\n",
    "    soc.religion.christian\n",
    "    talk.politics.guns\n",
    "    talk.politics.mideast\n",
    "    talk.politics.misc\n",
    "    talk.religion.misc\n",
    "\n",
    "The dataset consists **Usenet** posts--essentially an email sent by subscribers to that newsgroup. They typically contain quotes from previous posts as well as cross posts i.e. a few posts may be sent to more than once in a newsgroup.\n",
    "\n",
    "Each newsgroup is stored in a subdirectory, with each post stored as a separate file.\n",
    "\n",
    "Data source to this experiment : http://archive.ics.uci.edu/ml/datasets/Twenty+Newsgroups"
   ]
  },
  {
   "cell_type": "markdown",
   "metadata": {
    "colab_type": "text",
    "id": "vW1Vu2adZ0oO"
   },
   "source": [
    "### Domain Information\n",
    "A newsgroup, despite the name, has nothing to do with news. It is what we would call today a mailing list or a discussion forum. *Usenet* is a distributed discussion system designed and developed in 1979 and deployed in 1980.  \n",
    "\n",
    "Members joined newsgroups of interest to them and made *posts* to them. Posts are very similar to email -- in later years, newsgroups became mailing lists and people posted via email."
   ]
  },
  {
   "cell_type": "markdown",
   "metadata": {
    "colab_type": "text",
    "id": "bo3iVdSkZ5gb"
   },
   "source": [
    "The problem that we are attempting is \"Text classification\". This is a broadly defined task which is common to many services and products: for example, gmail classifies an incoming mail into different sections such as Updates, Forums etc\n"
   ]
  },
  {
   "cell_type": "markdown",
   "metadata": {
    "colab_type": "text",
    "id": "a0muqcxoZ6fL"
   },
   "source": [
    "### Bag of Words (BoW)\n",
    "\n",
    "* The bag-of-words is a simple to understand representation of documents and words. As you are aware it makes use of the one-hot representation of each word based on the vocabulary and the document is represented as a sum of the BoW vectors of all the words in the document\n",
    " \n",
    "#### Challenges\n",
    "\n",
    "* The dimension of each vector representing a word is the number of words in the vocabulary. So we definitely will encounter the *curse of dimensionality* \n",
    "* Bag of words representation doesn’t consider the semantic relation between words. \n",
    "* Nor does it capture the grammar of the language--parts of speech etc., "
   ]
  },
  {
   "cell_type": "markdown",
   "metadata": {
    "colab_type": "text",
    "id": "FfgFJFcCHCy2"
   },
   "source": [
    "#### Keywords\n",
    "\n",
    "* Numpy\n",
    "* Collections\n",
    "* Gensim\n",
    "* Bag-of-Words (Word Frequency, Pre-Processing)\n",
    "* Bag-of-Words representation"
   ]
  },
  {
   "cell_type": "markdown",
   "metadata": {
    "colab_type": "text",
    "id": "xw5JkrNeHCy3"
   },
   "source": [
    "#### Expected Time : 60 min"
   ]
  },
  {
   "cell_type": "markdown",
   "metadata": {
    "colab_type": "text",
    "id": "YuhepSBE20co"
   },
   "source": [
    "### Setup Steps"
   ]
  },
  {
   "cell_type": "code",
   "execution_count": 0,
   "metadata": {
    "colab": {},
    "colab_type": "code",
    "id": "K8-lZrNaHCy8"
   },
   "outputs": [],
   "source": [
    "# Importing required Packages\n",
    "import pickle\n",
    "import re\n",
    "import operator\n",
    "from collections import defaultdict\n",
    "import matplotlib.pyplot as plt\n",
    "import numpy as np\n",
    "import math\n",
    "import collections\n",
    "import gensim"
   ]
  },
  {
   "cell_type": "code",
   "execution_count": 0,
   "metadata": {
    "colab": {
     "base_uri": "https://localhost:8080/",
     "height": 71
    },
    "colab_type": "code",
    "executionInfo": {
     "elapsed": 926,
     "status": "ok",
     "timestamp": 1581572141375,
     "user": {
      "displayName": "Mohammed Rizwan",
      "photoUrl": "https://lh3.googleusercontent.com/a-/AAuE7mB71PsBYLhuVqmFbtN-6NzmoyqKEkdtw1RZyZYeLw=s64",
      "userId": "08508186513102229355"
     },
     "user_tz": -330
    },
    "id": "iy0iuGsTHCzA",
    "outputId": "f226cbd3-173a-405d-f769-86c57f93aa09"
   },
   "outputs": [
    {
     "name": "stdout",
     "output_type": "stream",
     "text": [
      "<class 'dict'>\n",
      "dict_keys(['talk.politics.mideast', 'rec.autos', 'comp.sys.mac.hardware', 'alt.atheism', 'rec.sport.baseball', 'comp.os.ms-windows.misc', 'rec.sport.hockey', 'sci.crypt', 'sci.med', 'talk.politics.misc', 'rec.motorcycles', 'comp.windows.x', 'comp.graphics', 'comp.sys.ibm.pc.hardware', 'sci.electronics', 'talk.politics.guns', 'sci.space', 'soc.religion.christian', 'misc.forsale', 'talk.religion.misc'])\n"
     ]
    }
   ],
   "source": [
    "# Loading the dataset\n",
    "dataset = pickle.load(open('AIML_DS_NEWSGROUPS_PICKELFILE.pkl','rb'))\n",
    "print(type(dataset))\n",
    "print(dataset.keys())"
   ]
  },
  {
   "cell_type": "markdown",
   "metadata": {
    "colab_type": "text",
    "id": "I2k1kcF_HCy0"
   },
   "source": [
    "To get a sense of our data, let us first start by counting the frequencies of the target classes in our news articles in the training set."
   ]
  },
  {
   "cell_type": "code",
   "execution_count": 0,
   "metadata": {
    "colab": {
     "base_uri": "https://localhost:8080/",
     "height": 391
    },
    "colab_type": "code",
    "executionInfo": {
     "elapsed": 862,
     "status": "ok",
     "timestamp": 1581572156022,
     "user": {
      "displayName": "Mohammed Rizwan",
      "photoUrl": "https://lh3.googleusercontent.com/a-/AAuE7mB71PsBYLhuVqmFbtN-6NzmoyqKEkdtw1RZyZYeLw=s64",
      "userId": "08508186513102229355"
     },
     "user_tz": -330
    },
    "id": "h8T5v8vGHCzC",
    "outputId": "c6c5a5de-74a4-4d65-c95c-b735db180d67"
   },
   "outputs": [
    {
     "name": "stdout",
     "output_type": "stream",
     "text": [
      "Class : count\n",
      "--------------\n",
      "talk.politics.mideast : 940\n",
      "rec.autos : 990\n",
      "comp.sys.mac.hardware : 961\n",
      "alt.atheism : 799\n",
      "rec.sport.baseball : 994\n",
      "comp.os.ms-windows.misc : 985\n",
      "rec.sport.hockey : 999\n",
      "sci.crypt : 991\n",
      "sci.med : 990\n",
      "talk.politics.misc : 775\n",
      "rec.motorcycles : 994\n",
      "comp.windows.x : 980\n",
      "comp.graphics : 973\n",
      "comp.sys.ibm.pc.hardware : 982\n",
      "sci.electronics : 981\n",
      "talk.politics.guns : 910\n",
      "sci.space : 987\n",
      "soc.religion.christian : 997\n",
      "misc.forsale : 972\n",
      "talk.religion.misc : 628\n"
     ]
    }
   ],
   "source": [
    "# Print frequencies of dataset\n",
    "print(\"Class : count\")\n",
    "print(\"--------------\")\n",
    "number_of_documents = 0\n",
    "for key in dataset:\n",
    "    print(key, ':', len(dataset[key]))"
   ]
  },
  {
   "cell_type": "markdown",
   "metadata": {
    "colab_type": "text",
    "id": "Cl74CoG8HCzE"
   },
   "source": [
    "Next, let us split our dataset which consists of  about 1000 samples per class, into training and test sets. We use about 95% samples from each class in the training set, and the remaining  in the test set.\n",
    "\n",
    "\n",
    "\n",
    "\n",
    "\n",
    "As a mental exercise you should try reasoning about why is it important to ensure a nearly equal distribution of classes in your training and test sets. "
   ]
  },
  {
   "cell_type": "code",
   "execution_count": 0,
   "metadata": {
    "colab": {},
    "colab_type": "code",
    "id": "xgUy5WyFHCzF"
   },
   "outputs": [],
   "source": [
    "train_set = {}\n",
    "test_set = {}\n",
    "new_dataset = {}\n",
    "\n",
    "# Clean dataset for text encoding issues :- Very useful when dealing with non-unicode characters\n",
    "for key in dataset:\n",
    "    new_dataset[key] = [[i.decode('utf-8', errors='replace').lower() for i in f] for f in dataset[key]]\n",
    "    \n",
    "# Break dataset into 95-5 split for training and testing\n",
    "n_train = 0\n",
    "n_test = 0\n",
    "for k in new_dataset:\n",
    "    split = int(0.95*len(new_dataset[k]))\n",
    "    train_set[k] = new_dataset[k][0:split]\n",
    "    test_set[k] = new_dataset[k][split:]\n",
    "    n_train += len(train_set[k])\n",
    "    n_test += len(test_set[k])"
   ]
  },
  {
   "cell_type": "code",
   "execution_count": 0,
   "metadata": {
    "colab": {
     "base_uri": "https://localhost:8080/",
     "height": 34
    },
    "colab_type": "code",
    "executionInfo": {
     "elapsed": 833,
     "status": "ok",
     "timestamp": 1581572387049,
     "user": {
      "displayName": "Mohammed Rizwan",
      "photoUrl": "https://lh3.googleusercontent.com/a-/AAuE7mB71PsBYLhuVqmFbtN-6NzmoyqKEkdtw1RZyZYeLw=s64",
      "userId": "08508186513102229355"
     },
     "user_tz": -330
    },
    "id": "4dv0_hjvDqtA",
    "outputId": "2a668c77-6a2f-4288-82f8-7dbc971ba3bf"
   },
   "outputs": [
    {
     "data": {
      "text/plain": [
       "20"
      ]
     },
     "execution_count": 15,
     "metadata": {
      "tags": []
     },
     "output_type": "execute_result"
    }
   ],
   "source": [
    "len(new_dataset.values())"
   ]
  },
  {
   "cell_type": "code",
   "execution_count": 0,
   "metadata": {
    "colab": {
     "base_uri": "https://localhost:8080/",
     "height": 34
    },
    "colab_type": "code",
    "executionInfo": {
     "elapsed": 856,
     "status": "ok",
     "timestamp": 1581572299515,
     "user": {
      "displayName": "Mohammed Rizwan",
      "photoUrl": "https://lh3.googleusercontent.com/a-/AAuE7mB71PsBYLhuVqmFbtN-6NzmoyqKEkdtw1RZyZYeLw=s64",
      "userId": "08508186513102229355"
     },
     "user_tz": -330
    },
    "id": "JK0Wz9ApDgOp",
    "outputId": "de8428cb-ad75-4a79-f025-7c404a71c16c"
   },
   "outputs": [
    {
     "data": {
      "text/plain": [
       "596"
      ]
     },
     "execution_count": 11,
     "metadata": {
      "tags": []
     },
     "output_type": "execute_result"
    }
   ],
   "source": [
    "split"
   ]
  },
  {
   "cell_type": "code",
   "execution_count": 0,
   "metadata": {
    "colab": {
     "base_uri": "https://localhost:8080/",
     "height": 54
    },
    "colab_type": "code",
    "executionInfo": {
     "elapsed": 1041,
     "status": "ok",
     "timestamp": 1581572274603,
     "user": {
      "displayName": "Mohammed Rizwan",
      "photoUrl": "https://lh3.googleusercontent.com/a-/AAuE7mB71PsBYLhuVqmFbtN-6NzmoyqKEkdtw1RZyZYeLw=s64",
      "userId": "08508186513102229355"
     },
     "user_tz": -330
    },
    "id": "GpbwjKUaDWoT",
    "outputId": "9fbd1fab-942a-41af-a133-2e7ccacc1ca6"
   },
   "outputs": [
    {
     "data": {
      "text/plain": [
       "dict_keys(['talk.politics.mideast', 'rec.autos', 'comp.sys.mac.hardware', 'alt.atheism', 'rec.sport.baseball', 'comp.os.ms-windows.misc', 'rec.sport.hockey', 'sci.crypt', 'sci.med', 'talk.politics.misc', 'rec.motorcycles', 'comp.windows.x', 'comp.graphics', 'comp.sys.ibm.pc.hardware', 'sci.electronics', 'talk.politics.guns', 'sci.space', 'soc.religion.christian', 'misc.forsale', 'talk.religion.misc'])"
      ]
     },
     "execution_count": 10,
     "metadata": {
      "tags": []
     },
     "output_type": "execute_result"
    }
   ],
   "source": [
    "train_set.keys()"
   ]
  },
  {
   "cell_type": "markdown",
   "metadata": {
    "colab_type": "text",
    "id": "jvwvqYpJHCzH"
   },
   "source": [
    "## 1. Bag-of-Words\n",
    "\n",
    "Let us begin our journey into text classification with one of the simplest but most commonly used feature representations for news documents - Bag-of-Words.\n",
    "\n",
    "As you might have realized, machine learning algorithms need good feature representations of different inputs.  Concretely, we would like to represent each news article $D$ in terms of a feature vector $V$, which can be used for classification. Feature vector $V$ is made up of the number of occurences of each word in the vocabulary.\n",
    "\n",
    "Let us begin by counting the number of occurences of every word in the news documents in the training set."
   ]
  },
  {
   "cell_type": "markdown",
   "metadata": {
    "colab_type": "text",
    "id": "zcoPXdxBHCzI"
   },
   "source": [
    "### 1.1 Word frequency"
   ]
  },
  {
   "cell_type": "markdown",
   "metadata": {
    "colab_type": "text",
    "id": "iuHlXAyFHCzJ"
   },
   "source": [
    "Let us try understanding the kind of words that appear frequently, and those that occur rarely. We now count the frequencies of words:"
   ]
  },
  {
   "cell_type": "code",
   "execution_count": 0,
   "metadata": {
    "colab": {
     "base_uri": "https://localhost:8080/",
     "height": 408
    },
    "colab_type": "code",
    "executionInfo": {
     "elapsed": 3597,
     "status": "ok",
     "timestamp": 1581572416619,
     "user": {
      "displayName": "Mohammed Rizwan",
      "photoUrl": "https://lh3.googleusercontent.com/a-/AAuE7mB71PsBYLhuVqmFbtN-6NzmoyqKEkdtw1RZyZYeLw=s64",
      "userId": "08508186513102229355"
     },
     "user_tz": -330
    },
    "id": "HXR_X4GSHCzK",
    "outputId": "23691060-53b3-41c3-f173-58e536af080c"
   },
   "outputs": [
    {
     "name": "stdout",
     "output_type": "stream",
     "text": [
      "Top-10 most frequent words:\n",
      "('the', 226860)\n",
      "('and', 90621)\n",
      "('that', 62088)\n",
      "('for', 43546)\n",
      "('you', 42430)\n",
      "('from', 35358)\n",
      "('this', 31001)\n",
      "('not', 28645)\n",
      "('have', 28519)\n",
      "('are', 28355)\n",
      "----------------------------\n",
      "10 least frequent words:\n",
      "('apokteiuo', 1)\n",
      "('odessy', 1)\n",
      "('reedited', 1)\n",
      "('stumps', 1)\n",
      "('morsel', 1)\n",
      "('roston', 1)\n",
      "('nutball', 1)\n",
      "('tillage', 1)\n",
      "('honorably', 1)\n",
      "('beecher', 1)\n"
     ]
    }
   ],
   "source": [
    "# Initialize a dictionary to store frequencies of words.\n",
    "# Key:Value === Word:Count\n",
    "frequency = defaultdict(int)\n",
    "    \n",
    "for key in train_set:\n",
    "    for f in train_set[key]:\n",
    "        \n",
    "        # Find all words which consist only of capital and lowercase characters and are between length of 2-9.\n",
    "        # We ignore all special characters such as !.$ and words containing numbers\n",
    "        words = re.findall(r'(\\b[A-Za-z][a-z]{2,9}\\b)', ' '.join(f))\n",
    "    \n",
    "        for word in words:\n",
    "            frequency[word] += 1\n",
    "\n",
    "sorted_words = sorted(frequency.items(), key=operator.itemgetter(1), reverse=True)\n",
    "print(\"Top-10 most frequent words:\")\n",
    "for word in sorted_words[:10]:\n",
    "    print(word)\n",
    "\n",
    "print('----------------------------')\n",
    "print(\"10 least frequent words:\")\n",
    "for word in sorted_words[-10:]:\n",
    "    print(word)"
   ]
  },
  {
   "cell_type": "markdown",
   "metadata": {
    "colab_type": "text",
    "id": "eUCZWOwhHCzP"
   },
   "source": [
    "Next, we attempt to plot a histogram of the counts of various words in descending order. \n",
    "\n",
    "Could you comment about the relationship between the frequency of the most frequent word to the second frequent word? \n",
    "And what about the third most frequent word?\n",
    "\n",
    "(Hint - Check the relative frequencies of the first, second and third most frequent words)\n",
    "\n",
    "(After answering, you can visit https://en.wikipedia.org/wiki/Zipf%27s_law for further Reading)"
   ]
  },
  {
   "cell_type": "code",
   "execution_count": 0,
   "metadata": {
    "colab": {
     "base_uri": "https://localhost:8080/",
     "height": 623
    },
    "colab_type": "code",
    "executionInfo": {
     "elapsed": 2338,
     "status": "ok",
     "timestamp": 1581572533176,
     "user": {
      "displayName": "Mohammed Rizwan",
      "photoUrl": "https://lh3.googleusercontent.com/a-/AAuE7mB71PsBYLhuVqmFbtN-6NzmoyqKEkdtw1RZyZYeLw=s64",
      "userId": "08508186513102229355"
     },
     "user_tz": -330
    },
    "id": "KV-PAkMBHCzQ",
    "outputId": "acdf0452-cd25-403f-e905-fdb665d29190"
   },
   "outputs": [
    {
     "data": {
      "image/png": "[encoded data removed]",
      "text/plain": [
       "<Figure size 1440x720 with 1 Axes>"
      ]
     },
     "metadata": {
      "tags": []
     },
     "output_type": "display_data"
    }
   ],
   "source": [
    "%matplotlib inline  \n",
    "\n",
    "fig = plt.figure()\n",
    "fig.set_size_inches(20,10)\n",
    "\n",
    "plt.bar(range(len(sorted_words[:100])), [v for k, v in sorted_words[:100]] , align='center')\n",
    "plt.xticks(range(len(sorted_words[:100])), [k for k, v in sorted_words[:100]])\n",
    "locs, labels = plt.xticks()\n",
    "plt.setp(labels, rotation=90)\n",
    "plt.show()"
   ]
  },
  {
   "cell_type": "markdown",
   "metadata": {
    "colab_type": "text",
    "id": "ZZDlJ5cyHCzT"
   },
   "source": [
    "### 1.2 Pre-processing to remove most and least frequent words\n",
    "\n",
    "We can see that different words appear with different frequencies.\n",
    "\n",
    "The most common words appear in almost all documents. Hence, for a classification task, having information about those words' frequencies does not mater much since they appear frequently in every type of document. To get a good feature representation, we eliminate them since they do not add too much value.\n",
    "\n",
    "Additionally, notice how the least frequent words appear so rarely that they might not be useful either.\n",
    "\n",
    "Let us pre-process our news articles now to remove the most frequent and least frequent words by thresholding their counts: "
   ]
  },
  {
   "cell_type": "code",
   "execution_count": 0,
   "metadata": {
    "colab": {
     "base_uri": "https://localhost:8080/",
     "height": 51
    },
    "colab_type": "code",
    "executionInfo": {
     "elapsed": 1025,
     "status": "ok",
     "timestamp": 1581572578170,
     "user": {
      "displayName": "Mohammed Rizwan",
      "photoUrl": "https://lh3.googleusercontent.com/a-/AAuE7mB71PsBYLhuVqmFbtN-6NzmoyqKEkdtw1RZyZYeLw=s64",
      "userId": "08508186513102229355"
     },
     "user_tz": -330
    },
    "id": "XSPqj3pZHCzT",
    "outputId": "8cc64b26-f9ba-4202-f15f-886cf9c36571"
   },
   "outputs": [
    {
     "name": "stdout",
     "output_type": "stream",
     "text": [
      "Number of words before preprocessing: 89599\n",
      "Number of words after preprocessing: 4096\n"
     ]
    }
   ],
   "source": [
    "valid_words = defaultdict(int)\n",
    "\n",
    "print('Number of words before preprocessing:', len(sorted_words))\n",
    "\n",
    "# Ignore the 25 most frequent words, and the words which appear less than 100 times\n",
    "ignore_most_frequent = 25\n",
    "freq_thresh = 100\n",
    "feature_number = 0\n",
    "for word, word_frequency in sorted_words[ignore_most_frequent:]:\n",
    "    if word_frequency > freq_thresh:\n",
    "        valid_words[word] = feature_number\n",
    "        feature_number += 1\n",
    "        \n",
    "print('Number of words after preprocessing:', len(valid_words))\n",
    "\n",
    "word_vector_size = len(valid_words)"
   ]
  },
  {
   "cell_type": "markdown",
   "metadata": {
    "colab_type": "text",
    "id": "SEggZhtmHCzV"
   },
   "source": [
    "### 1.3 Bag-of-Words representation\n",
    "\n",
    "The simplest way to represent a document $D$ as a vector $V$ would be to now count the relevant words in the document. \n",
    "\n",
    "For each document, make a vector of the count of each of the words in the vocabulary (excluding the words removed in the previous step - the \"stopwords\")."
   ]
  },
  {
   "cell_type": "code",
   "execution_count": 0,
   "metadata": {
    "colab": {},
    "colab_type": "code",
    "id": "iJKDjIjJHCzV"
   },
   "outputs": [],
   "source": [
    "def convert_to_BoW(dataset, number_of_documents):\n",
    "    bow_representation = np.zeros((number_of_documents, word_vector_size))\n",
    "    labels = np.zeros((number_of_documents, 1))\n",
    "    \n",
    "    i = 0\n",
    "    for label, class_name in enumerate(dataset):\n",
    "        \n",
    "        # For each file\n",
    "        for f in dataset[class_name]:\n",
    "            \n",
    "            # Read all text in file\n",
    "            text = ' '.join(f).split(' ')\n",
    "            \n",
    "            # For each word\n",
    "            for word in text:\n",
    "                if word in valid_words:\n",
    "                    bow_representation[i, valid_words[word]] += 1\n",
    "            \n",
    "            # Label of document\n",
    "            labels[i] = label\n",
    "            \n",
    "            # Increment document counter\n",
    "            i += 1\n",
    "    \n",
    "    return bow_representation, labels\n",
    "\n",
    "# Convert the dataset into their bag of words representation treating train and test separately\n",
    "train_bow_set, train_bow_labels = convert_to_BoW(train_set, n_train)\n",
    "test_bow_set, test_bow_labels = convert_to_BoW(test_set, n_test)"
   ]
  },
  {
   "cell_type": "markdown",
   "metadata": {
    "colab_type": "text",
    "id": "P4bTBjw_HCzX"
   },
   "source": [
    "### 1.4 Document classification using Bag-of-Words\n",
    "\n",
    "For the test documents, use your favorite distance metric (Cosine, Eucilidean, etc.) to find similar news articles from your training set and classify using kNN."
   ]
  },
  {
   "cell_type": "code",
   "execution_count": 0,
   "metadata": {
    "colab": {
     "base_uri": "https://localhost:8080/",
     "height": 102
    },
    "colab_type": "code",
    "executionInfo": {
     "elapsed": 25310,
     "status": "ok",
     "timestamp": 1581572722528,
     "user": {
      "displayName": "Mohammed Rizwan",
      "photoUrl": "https://lh3.googleusercontent.com/a-/AAuE7mB71PsBYLhuVqmFbtN-6NzmoyqKEkdtw1RZyZYeLw=s64",
      "userId": "08508186513102229355"
     },
     "user_tz": -330
    },
    "id": "LoBjz1NSDJME",
    "outputId": "cce9e731-3049-4f2f-ba44-a231cd250256"
   },
   "outputs": [
    {
     "name": "stderr",
     "output_type": "stream",
     "text": [
      "/usr/local/lib/python3.6/dist-packages/ipykernel_launcher.py:3: DataConversionWarning: A column-vector y was passed when a 1d array was expected. Please change the shape of y to (n_samples, ), for example using ravel().\n",
      "  This is separate from the ipykernel package so we can avoid doing imports until\n"
     ]
    },
    {
     "data": {
      "text/plain": [
       "KNeighborsClassifier(algorithm='auto', leaf_size=30, metric='euclidean',\n",
       "                     metric_params=None, n_jobs=None, n_neighbors=5, p=2,\n",
       "                     weights='uniform')"
      ]
     },
     "execution_count": 23,
     "metadata": {
      "tags": []
     },
     "output_type": "execute_result"
    }
   ],
   "source": [
    "from sklearn.neighbors import KNeighborsClassifier\n",
    "model = KNeighborsClassifier(n_neighbors=5, metric='euclidean')\n",
    "model.fit(train_bow_set, train_bow_labels)"
   ]
  },
  {
   "cell_type": "markdown",
   "metadata": {
    "colab_type": "text",
    "id": "xbGnpvY6HCzc"
   },
   "source": [
    "Computing accuracy for the bag-of-words features on the full test set:"
   ]
  },
  {
   "cell_type": "code",
   "execution_count": 0,
   "metadata": {
    "colab": {
     "base_uri": "https://localhost:8080/",
     "height": 34
    },
    "colab_type": "code",
    "executionInfo": {
     "elapsed": 171727,
     "status": "ok",
     "timestamp": 1581572904664,
     "user": {
      "displayName": "Mohammed Rizwan",
      "photoUrl": "https://lh3.googleusercontent.com/a-/AAuE7mB71PsBYLhuVqmFbtN-6NzmoyqKEkdtw1RZyZYeLw=s64",
      "userId": "08508186513102229355"
     },
     "user_tz": -330
    },
    "id": "4CaiubSSDZoI",
    "outputId": "3160e552-280d-4fa3-88a5-868a296c8358"
   },
   "outputs": [
    {
     "data": {
      "text/plain": [
       "0.4378947368421053"
      ]
     },
     "execution_count": 24,
     "metadata": {
      "tags": []
     },
     "output_type": "execute_result"
    }
   ],
   "source": [
    "model.score(test_bow_set, test_bow_labels) # This cell may take some time to finish its execution"
   ]
  },
  {
   "cell_type": "markdown",
   "metadata": {
    "colab_type": "text",
    "id": "_gytBI972w7-"
   },
   "source": [
    "### Not happy with the accuracy above? Stay tuned for other representations (for same/similar algorithms) as opposed to 'Bag  Of words', and compare the accuracies."
   ]
  },
  {
   "cell_type": "markdown",
   "metadata": {
    "colab_type": "text",
    "id": "dv58hpDAHCzk"
   },
   "source": [
    "### Ungraded Exercise 1\n",
    "\n",
    "The frequency thresholds represents the minimum frequency a word must have to be considered relevant. Experiment with the following values of frequency threshold in your preprocessing step from section 1.2. Re-run all the codes with the new set of valid words and check your accuracies. Use the following values:\n",
    "\n",
    "`freq_thresh` = \n",
    "* 10\n",
    "* 1000\n",
    "\n",
    "Report the accuracies using bag of words features"
   ]
  },
  {
   "cell_type": "code",
   "execution_count": 0,
   "metadata": {
    "colab": {
     "base_uri": "https://localhost:8080/",
     "height": 51
    },
    "colab_type": "code",
    "executionInfo": {
     "elapsed": 1022,
     "status": "ok",
     "timestamp": 1581574083810,
     "user": {
      "displayName": "Mohammed Rizwan",
      "photoUrl": "https://lh3.googleusercontent.com/a-/AAuE7mB71PsBYLhuVqmFbtN-6NzmoyqKEkdtw1RZyZYeLw=s64",
      "userId": "08508186513102229355"
     },
     "user_tz": -330
    },
    "id": "vugpX4XBHCzk",
    "outputId": "3aea0f13-b93e-4300-a574-31b22b75fdcd"
   },
   "outputs": [
    {
     "name": "stdout",
     "output_type": "stream",
     "text": [
      "Number of words before preprocessing: 89599\n",
      "Number of words after preprocessing: 426\n"
     ]
    }
   ],
   "source": [
    "valid_words = defaultdict(int)\n",
    "\n",
    "print('Number of words before preprocessing:', len(sorted_words))\n",
    "\n",
    "# Ignore the 25 most frequent words, and the words which appear less than 100 times\n",
    "ignore_most_frequent = 25\n",
    "freq_thresh = 1000\n",
    "feature_number = 0\n",
    "for word, word_frequency in sorted_words[ignore_most_frequent:]:\n",
    "    if word_frequency > freq_thresh:\n",
    "        valid_words[word] = feature_number\n",
    "        feature_number += 1\n",
    "        \n",
    "print('Number of words after preprocessing:', len(valid_words))\n",
    "\n",
    "word_vector_size = len(valid_words)"
   ]
  },
  {
   "cell_type": "code",
   "execution_count": 0,
   "metadata": {
    "colab": {},
    "colab_type": "code",
    "id": "wYBx7l9qGJ5z"
   },
   "outputs": [],
   "source": [
    "def convert_to_BoW(dataset, number_of_documents):\n",
    "    bow_representation = np.zeros((number_of_documents, word_vector_size))\n",
    "    labels = np.zeros((number_of_documents, 1))\n",
    "    \n",
    "    i = 0\n",
    "    for label, class_name in enumerate(dataset):\n",
    "        \n",
    "        # For each file\n",
    "        for f in dataset[class_name]:\n",
    "            \n",
    "            # Read all text in file\n",
    "            text = ' '.join(f).split(' ')\n",
    "            \n",
    "            # For each word\n",
    "            for word in text:\n",
    "                if word in valid_words:\n",
    "                    bow_representation[i, valid_words[word]] += 1\n",
    "            \n",
    "            # Label of document\n",
    "            labels[i] = label\n",
    "            \n",
    "            # Increment document counter\n",
    "            i += 1\n",
    "    \n",
    "    return bow_representation, labels"
   ]
  },
  {
   "cell_type": "code",
   "execution_count": 0,
   "metadata": {
    "colab": {},
    "colab_type": "code",
    "id": "bbhCvlfMGM9L"
   },
   "outputs": [],
   "source": [
    "# Convert the dataset into their bag of words representation treating train and test separately\n",
    "train_bow_set, train_bow_labels = convert_to_BoW(train_set, n_train)\n",
    "test_bow_set, test_bow_labels = convert_to_BoW(test_set, n_test)"
   ]
  },
  {
   "cell_type": "code",
   "execution_count": 0,
   "metadata": {
    "colab": {
     "base_uri": "https://localhost:8080/",
     "height": 102
    },
    "colab_type": "code",
    "executionInfo": {
     "elapsed": 3406,
     "status": "ok",
     "timestamp": 1581574358307,
     "user": {
      "displayName": "Mohammed Rizwan",
      "photoUrl": "https://lh3.googleusercontent.com/a-/AAuE7mB71PsBYLhuVqmFbtN-6NzmoyqKEkdtw1RZyZYeLw=s64",
      "userId": "08508186513102229355"
     },
     "user_tz": -330
    },
    "id": "_r5OzWfEGSJa",
    "outputId": "e4230829-16d5-43c4-926d-7e5741a68db9"
   },
   "outputs": [
    {
     "name": "stderr",
     "output_type": "stream",
     "text": [
      "/usr/local/lib/python3.6/dist-packages/ipykernel_launcher.py:3: DataConversionWarning: A column-vector y was passed when a 1d array was expected. Please change the shape of y to (n_samples, ), for example using ravel().\n",
      "  This is separate from the ipykernel package so we can avoid doing imports until\n"
     ]
    },
    {
     "data": {
      "text/plain": [
       "KNeighborsClassifier(algorithm='auto', leaf_size=30, metric='euclidean',\n",
       "                     metric_params=None, n_jobs=None, n_neighbors=5, p=2,\n",
       "                     weights='uniform')"
      ]
     },
     "execution_count": 35,
     "metadata": {
      "tags": []
     },
     "output_type": "execute_result"
    }
   ],
   "source": [
    "from sklearn.neighbors import KNeighborsClassifier\n",
    "model = KNeighborsClassifier(n_neighbors=5, metric='euclidean')\n",
    "model.fit(train_bow_set, train_bow_labels)"
   ]
  },
  {
   "cell_type": "code",
   "execution_count": 0,
   "metadata": {
    "colab": {
     "base_uri": "https://localhost:8080/",
     "height": 102
    },
    "colab_type": "code",
    "executionInfo": {
     "elapsed": 875,
     "status": "ok",
     "timestamp": 1581574364615,
     "user": {
      "displayName": "Mohammed Rizwan",
      "photoUrl": "https://lh3.googleusercontent.com/a-/AAuE7mB71PsBYLhuVqmFbtN-6NzmoyqKEkdtw1RZyZYeLw=s64",
      "userId": "08508186513102229355"
     },
     "user_tz": -330
    },
    "id": "SP_7089JGZS0",
    "outputId": "3c924caf-2f30-4036-e4f0-ddd227e22c24"
   },
   "outputs": [
    {
     "data": {
      "text/plain": [
       "array([[0., 0., 0., ..., 0., 0., 0.],\n",
       "       [0., 2., 0., ..., 0., 0., 0.],\n",
       "       [0., 0., 0., ..., 0., 0., 0.],\n",
       "       [0., 0., 0., ..., 0., 0., 0.],\n",
       "       [0., 0., 2., ..., 0., 0., 0.]])"
      ]
     },
     "execution_count": 36,
     "metadata": {
      "tags": []
     },
     "output_type": "execute_result"
    }
   ],
   "source": [
    "train_bow_set[:5]"
   ]
  },
  {
   "cell_type": "code",
   "execution_count": 0,
   "metadata": {
    "colab": {
     "base_uri": "https://localhost:8080/",
     "height": 102
    },
    "colab_type": "code",
    "executionInfo": {
     "elapsed": 1000,
     "status": "ok",
     "timestamp": 1581574365938,
     "user": {
      "displayName": "Mohammed Rizwan",
      "photoUrl": "https://lh3.googleusercontent.com/a-/AAuE7mB71PsBYLhuVqmFbtN-6NzmoyqKEkdtw1RZyZYeLw=s64",
      "userId": "08508186513102229355"
     },
     "user_tz": -330
    },
    "id": "H2_G5oKeG0Tq",
    "outputId": "e3dc9b8a-f42f-47b0-ec5f-d9713ea0514b"
   },
   "outputs": [
    {
     "data": {
      "text/plain": [
       "array([[0.],\n",
       "       [0.],\n",
       "       [0.],\n",
       "       [0.],\n",
       "       [0.]])"
      ]
     },
     "execution_count": 37,
     "metadata": {
      "tags": []
     },
     "output_type": "execute_result"
    }
   ],
   "source": [
    "train_bow_labels[:5]"
   ]
  },
  {
   "cell_type": "code",
   "execution_count": 0,
   "metadata": {
    "colab": {
     "base_uri": "https://localhost:8080/",
     "height": 34
    },
    "colab_type": "code",
    "executionInfo": {
     "elapsed": 20477,
     "status": "ok",
     "timestamp": 1581574387981,
     "user": {
      "displayName": "Mohammed Rizwan",
      "photoUrl": "https://lh3.googleusercontent.com/a-/AAuE7mB71PsBYLhuVqmFbtN-6NzmoyqKEkdtw1RZyZYeLw=s64",
      "userId": "08508186513102229355"
     },
     "user_tz": -330
    },
    "id": "Q_jqJZXxG5fa",
    "outputId": "e52881ba-d8ef-4d7c-d0e3-a4e2cf82067e"
   },
   "outputs": [
    {
     "data": {
      "text/plain": [
       "0.3463157894736842"
      ]
     },
     "execution_count": 38,
     "metadata": {
      "tags": []
     },
     "output_type": "execute_result"
    }
   ],
   "source": [
    "model.score(test_bow_set, test_bow_labels)"
   ]
  },
  {
   "cell_type": "code",
   "execution_count": 0,
   "metadata": {
    "colab": {},
    "colab_type": "code",
    "id": "B9YBp1PXHGvK"
   },
   "outputs": [],
   "source": [
    "#freq_thresh - 25 | score - 0.4378947368421053\n",
    "#freq_thresh - 10 | score - 0.42736842105263156\n",
    "#freq_thresh - 1000 | score - 0.3463157894736842"
   ]
  },
  {
   "cell_type": "markdown",
   "metadata": {
    "colab_type": "text",
    "id": "FjteJMM2HCzn"
   },
   "source": [
    "### Ungraded Exercise 2\n",
    "\n",
    "To classify news articles into their 20 news groups, experiment with the following parameter choices.\n",
    "\n",
    "* K-NN \n",
    " ** K : 10, 50\n",
    "\n",
    "Report the accuracies using bag of words features."
   ]
  },
  {
   "cell_type": "code",
   "execution_count": 0,
   "metadata": {
    "colab": {
     "base_uri": "https://localhost:8080/",
     "height": 51
    },
    "colab_type": "code",
    "executionInfo": {
     "elapsed": 4544,
     "status": "ok",
     "timestamp": 1581574760664,
     "user": {
      "displayName": "Mohammed Rizwan",
      "photoUrl": "https://lh3.googleusercontent.com/a-/AAuE7mB71PsBYLhuVqmFbtN-6NzmoyqKEkdtw1RZyZYeLw=s64",
      "userId": "08508186513102229355"
     },
     "user_tz": -330
    },
    "id": "LVmy22wSHCzo",
    "outputId": "62293115-9545-4aae-9982-f33cf5cdba48"
   },
   "outputs": [
    {
     "name": "stdout",
     "output_type": "stream",
     "text": [
      "Number of words before preprocessing: 89599\n",
      "Number of words after preprocessing: 10745\n"
     ]
    }
   ],
   "source": [
    "valid_words = defaultdict(int)\n",
    "\n",
    "print('Number of words before preprocessing:', len(sorted_words))\n",
    "\n",
    "# Ignore the 25 most frequent words, and the words which appear less than 100 times\n",
    "ignore_most_frequent = 25\n",
    "freq_thresh = 25\n",
    "feature_number = 0\n",
    "for word, word_frequency in sorted_words[ignore_most_frequent:]:\n",
    "    if word_frequency > freq_thresh:\n",
    "        valid_words[word] = feature_number\n",
    "        feature_number += 1\n",
    "        \n",
    "print('Number of words after preprocessing:', len(valid_words))\n",
    "\n",
    "word_vector_size = len(valid_words)\n",
    "\n",
    "def convert_to_BoW(dataset, number_of_documents):\n",
    "    bow_representation = np.zeros((number_of_documents, word_vector_size))\n",
    "    labels = np.zeros((number_of_documents, 1))\n",
    "    \n",
    "    i = 0\n",
    "    for label, class_name in enumerate(dataset):\n",
    "        \n",
    "        # For each file\n",
    "        for f in dataset[class_name]:\n",
    "            \n",
    "            # Read all text in file\n",
    "            text = ' '.join(f).split(' ')\n",
    "            \n",
    "            # For each word\n",
    "            for word in text:\n",
    "                if word in valid_words:\n",
    "                    bow_representation[i, valid_words[word]] += 1\n",
    "            \n",
    "            # Label of document\n",
    "            labels[i] = label\n",
    "            \n",
    "            # Increment document counter\n",
    "            i += 1\n",
    "    \n",
    "    return bow_representation, labels\n",
    "\n",
    "# Convert the dataset into their bag of words representation treating train and test separately\n",
    "train_bow_set, train_bow_labels = convert_to_BoW(train_set, n_train)\n",
    "test_bow_set, test_bow_labels = convert_to_BoW(test_set, n_test)\n"
   ]
  },
  {
   "cell_type": "code",
   "execution_count": 0,
   "metadata": {
    "colab": {
     "base_uri": "https://localhost:8080/",
     "height": 102
    },
    "colab_type": "code",
    "executionInfo": {
     "elapsed": 49997,
     "status": "ok",
     "timestamp": 1581575421264,
     "user": {
      "displayName": "Mohammed Rizwan",
      "photoUrl": "https://lh3.googleusercontent.com/a-/AAuE7mB71PsBYLhuVqmFbtN-6NzmoyqKEkdtw1RZyZYeLw=s64",
      "userId": "08508186513102229355"
     },
     "user_tz": -330
    },
    "id": "zWaVhzRNM4aP",
    "outputId": "3012520e-3db9-43b1-f97b-cbc8f279ad9e"
   },
   "outputs": [
    {
     "name": "stderr",
     "output_type": "stream",
     "text": [
      "/usr/local/lib/python3.6/dist-packages/ipykernel_launcher.py:3: DataConversionWarning: A column-vector y was passed when a 1d array was expected. Please change the shape of y to (n_samples, ), for example using ravel().\n",
      "  This is separate from the ipykernel package so we can avoid doing imports until\n"
     ]
    },
    {
     "data": {
      "text/plain": [
       "KNeighborsClassifier(algorithm='auto', leaf_size=30, metric='euclidean',\n",
       "                     metric_params=None, n_jobs=None, n_neighbors=50, p=2,\n",
       "                     weights='uniform')"
      ]
     },
     "execution_count": 42,
     "metadata": {
      "tags": []
     },
     "output_type": "execute_result"
    }
   ],
   "source": [
    "from sklearn.neighbors import KNeighborsClassifier\n",
    "model = KNeighborsClassifier(n_neighbors=50, metric='euclidean')\n",
    "model.fit(train_bow_set, train_bow_labels)"
   ]
  },
  {
   "cell_type": "code",
   "execution_count": 0,
   "metadata": {
    "colab": {
     "base_uri": "https://localhost:8080/",
     "height": 34
    },
    "colab_type": "code",
    "executionInfo": {
     "elapsed": 454911,
     "status": "ok",
     "timestamp": 1581576068867,
     "user": {
      "displayName": "Mohammed Rizwan",
      "photoUrl": "https://lh3.googleusercontent.com/a-/AAuE7mB71PsBYLhuVqmFbtN-6NzmoyqKEkdtw1RZyZYeLw=s64",
      "userId": "08508186513102229355"
     },
     "user_tz": -330
    },
    "id": "2Pb0P0vgMvLn",
    "outputId": "149a6def-8ac6-44f3-8a99-564fef5dc61b"
   },
   "outputs": [
    {
     "data": {
      "text/plain": [
       "0.25157894736842107"
      ]
     },
     "execution_count": 43,
     "metadata": {
      "tags": []
     },
     "output_type": "execute_result"
    }
   ],
   "source": [
    "model.score(test_bow_set, test_bow_labels)"
   ]
  },
  {
   "cell_type": "code",
   "execution_count": 0,
   "metadata": {
    "colab": {},
    "colab_type": "code",
    "id": "GRNiqRlPPI8R"
   },
   "outputs": [],
   "source": [
    "#KNN - 10 : 0.3873684210526316\n",
    "#KNN - 50 : 0.25157894736842107"
   ]
  },
  {
   "cell_type": "markdown",
   "metadata": {
    "colab_type": "text",
    "id": "-f2KsA0nHCzr"
   },
   "source": [
    "### Summary"
   ]
  },
  {
   "cell_type": "markdown",
   "metadata": {
    "colab_type": "text",
    "id": "xmNjJflBHCzs"
   },
   "source": [
    "Form the above experiment we can observe that the output of the bags of words would be a vector for each individual document. These documents will be parsed through different algorithms to extract the features that are used to classify the text."
   ]
  }
 ],
 "metadata": {
  "colab": {
   "collapsed_sections": [],
   "name": "001_BOW_20newsgroup_C.ipynb",
   "provenance": []
  },
  "kernelspec": {
   "display_name": "Python 3",
   "language": "python",
   "name": "python3"
  },
  "language_info": {
   "codemirror_mode": {
    "name": "ipython",
    "version": 3
   },
   "file_extension": ".py",
   "mimetype": "text/x-python",
   "name": "python",
   "nbconvert_exporter": "python",
   "pygments_lexer": "ipython3",
   "version": "3.6.5"
  }
 },
 "nbformat": 4,
 "nbformat_minor": 1
}
