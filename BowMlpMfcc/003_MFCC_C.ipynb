{
 "cells": [
  {
   "cell_type": "markdown",
   "metadata": {
    "colab_type": "text",
    "id": "hH3UvBtnW755"
   },
   "source": [
    "\n",
    "# Advanced Certification in AIML\n",
    "## A Program by IIIT-H and TalentSprint"
   ]
  },
  {
   "cell_type": "markdown",
   "metadata": {
    "colab_type": "text",
    "id": "KXubZhEt6g3u"
   },
   "source": [
    "## Learning Objectives"
   ]
  },
  {
   "cell_type": "markdown",
   "metadata": {
    "colab_type": "text",
    "id": "0shlrdB36iZs"
   },
   "source": [
    "At the end of the experiment you be able to :\n",
    "\n",
    "-  Extract and visualize features for audio samples.\n",
    "-  Use extracted features to classify them into 30 different classes\n"
   ]
  },
  {
   "cell_type": "markdown",
   "metadata": {
    "colab_type": "text",
    "id": "8euDABu_Bqja"
   },
   "source": [
    "**NOTE: The experiment below is similar to the Yes-No classifier that you worked on earlier. However the number of classes here are more/different. Further you are encouraged to use different types of classifiers (within SkLearn if you like). Also try to use sklearn's joblib to save you model (and observe the size of your various ML models). Saving a model is an important step, especially if you wish to export it to another machine/device where you'd like to run your ML algorithm.**"
   ]
  },
  {
   "cell_type": "markdown",
   "metadata": {
    "colab_type": "text",
    "id": "OgP2LVgh625u"
   },
   "source": [
    "## Dataset"
   ]
  },
  {
   "cell_type": "markdown",
   "metadata": {
    "colab_type": "text",
    "id": "AVSiGXI67ARp"
   },
   "source": [
    "### Description\n",
    "\n",
    "In this experiment we will use TensorFlow’s Speech Commands Datasets which includes 65,000 one second-long utterances of 30 short commands. This dataset has been curated using thousands of people and is opensource under a Creative Commons BY 4.0 license.\n",
    "\n",
    "Example commands: 'Yes', 'No', 'Up', 'Down', 'Left', etc.\n"
   ]
  },
  {
   "cell_type": "markdown",
   "metadata": {
    "colab_type": "text",
    "id": "Zj2Xw8qA7Syd"
   },
   "source": [
    "## Domain Information\n",
    "\n",
    "When we listen to an audio sample it changes constantly. This means that speech is non-stationary signal. Therefore, normal signal processing techniques cannot be applied to get features from audio. However, if the speech signal is observed using a very small duration window, the speech content in that small duration appears to be  stationary. That brought in the concept of short-time processing of speech. \n",
    "\n",
    "MFCC is a techique for short-time processing of speech. \n",
    "\n",
    "**Note: While it is a bonus to understand 'how' a speech signal is converted to a 'representation' by MFCC (or other similar speech processing techniques), it is not mandatory to understand the same. It is sufficient to realize that you're generating a unique numeric representation (a set of numbers) of a speech signal and that this unique representation helps you run your machine learning algorithms over the samples.**"
   ]
  },
  {
   "cell_type": "markdown",
   "metadata": {
    "colab_type": "text",
    "id": "94LwGp0o7WoK"
   },
   "source": [
    "## AIML Technique\n",
    "\n",
    "In this short-time processing technique MFCC, a small duration window (say 25 milli sec) is considered for processing of the audio samples at a time. This small duration is called a frame. Now, for each of the frames, MFCC features are computed which give a compact representation of the audio samples. A spectogram is computed for audio samples which gives a heat map of frequencies vs time from the series of spectral vectors generated from audio samples.\n",
    "\n",
    "This representation is obtained by keeping in mind that humans are much better at grasping small changes in the audio at low frequencies than audio at high frequencies. So mel-scale converts high frequencies to human graspable frequencies. "
   ]
  },
  {
   "cell_type": "markdown",
   "metadata": {
    "colab_type": "text",
    "id": "U3jL8at1W76A"
   },
   "source": [
    "### Keywords\n",
    "\n",
    "* MFCC Features\n",
    "* KNN\n",
    "* Deep Features\n",
    "* Amplitude\n",
    "* Spectrogram\n",
    "* Log Spectrogram\n",
    "* Mel Spectrogram\n",
    "* Delta MFCCs"
   ]
  },
  {
   "cell_type": "markdown",
   "metadata": {
    "colab_type": "text",
    "id": "T6mqr8FTW76B"
   },
   "source": [
    "#### Expected time to complete the experiment is : 60 min"
   ]
  },
  {
   "cell_type": "markdown",
   "metadata": {
    "colab_type": "text",
    "id": "D_l0cxECXgA_"
   },
   "source": [
    "### Setup Steps"
   ]
  },
  {
   "cell_type": "code",
   "execution_count": 5,
   "metadata": {
    "colab": {
     "base_uri": "https://localhost:8080/",
     "height": 85
    },
    "colab_type": "code",
    "executionInfo": {
     "elapsed": 655069,
     "status": "ok",
     "timestamp": 1581585919688,
     "user": {
      "displayName": "Mohammed Rizwan",
      "photoUrl": "https://lh3.googleusercontent.com/a-/AAuE7mB71PsBYLhuVqmFbtN-6NzmoyqKEkdtw1RZyZYeLw=s64",
      "userId": "08508186513102229355"
     },
     "user_tz": -330
    },
    "id": "QQqdYvNXgDUK",
    "outputId": "66091f91-438b-4ded-fe1c-d042bd34cd0f"
   },
   "outputs": [
    {
     "name": "stdout",
     "output_type": "stream",
     "text": [
      "003_MFCC_C.ipynb                     AIML_DS_AUDIO_STD.zip    \u001b[0m\u001b[01;34m__pycache__\u001b[0m/\n",
      "AIML_DS_5E1B34A6_NOHASH_0_STD.wav    AIML_DS_AUDIO_STD.zip.1  \u001b[01;34msample_data\u001b[0m/\n",
      "AIML_DS_5E1B34A6_NOHASH_0_STD.wav.1  MFCC_Utils.py\n",
      "\u001b[01;34mAIML_DS_AUDIO_STD\u001b[0m/                   MFCC_Utils.py.1\n"
     ]
    }
   ],
   "source": [
    "%ls"
   ]
  },
  {
   "cell_type": "code",
   "execution_count": 0,
   "metadata": {
    "colab": {},
    "colab_type": "code",
    "id": "_vJaUb2Si2x9"
   },
   "outputs": [],
   "source": [
    "from MFCC_Utils import *"
   ]
  },
  {
   "cell_type": "code",
   "execution_count": 0,
   "metadata": {
    "colab": {},
    "colab_type": "code",
    "id": "CDGLPWSfW76D"
   },
   "outputs": [],
   "source": [
    "# Importing required packages\n",
    "import os\n",
    "\n",
    "import warnings\n",
    "warnings.filterwarnings(\"ignore\")\n",
    "\n",
    "# Math\n",
    "import numpy as np\n",
    "from scipy import signal\n",
    "from scipy.io import wavfile\n",
    "import librosa\n",
    "\n",
    "# Visualization\n",
    "import matplotlib.pyplot as plt\n",
    "import librosa.display\n",
    "\n",
    "from matplotlib.pyplot import *\n",
    "%matplotlib inline\n"
   ]
  },
  {
   "cell_type": "code",
   "execution_count": 0,
   "metadata": {
    "colab": {},
    "colab_type": "code",
    "id": "qJdhCXrdW76H"
   },
   "outputs": [],
   "source": [
    "unique_classes = np.array(['bed', 'bird', 'cat', 'dog', 'down', 'eight', 'five', 'four', 'go', 'happy',\n",
    "                           'house', 'left', 'marvin', 'nine', 'no', 'off', 'on', 'one', 'right', 'seven',\n",
    "                           'sheila', 'six', 'stop', 'three', 'tree', 'two', 'up', 'wow', 'yes', 'zero'])"
   ]
  },
  {
   "cell_type": "markdown",
   "metadata": {
    "colab_type": "text",
    "id": "5_tdjdHYW76M"
   },
   "source": [
    "Let us read a sample audio file from this dataset: "
   ]
  },
  {
   "cell_type": "code",
   "execution_count": 9,
   "metadata": {
    "colab": {
     "base_uri": "https://localhost:8080/",
     "height": 51
    },
    "colab_type": "code",
    "executionInfo": {
     "elapsed": 656498,
     "status": "ok",
     "timestamp": 1581585921147,
     "user": {
      "displayName": "Mohammed Rizwan",
      "photoUrl": "https://lh3.googleusercontent.com/a-/AAuE7mB71PsBYLhuVqmFbtN-6NzmoyqKEkdtw1RZyZYeLw=s64",
      "userId": "08508186513102229355"
     },
     "user_tz": -330
    },
    "id": "reVAHgWqW76N",
    "outputId": "0cc16e82-8373-4fe4-fa66-6a44965c0bcb"
   },
   "outputs": [
    {
     "name": "stdout",
     "output_type": "stream",
     "text": [
      "16000\n",
      "[-14 -22 -20 ...  21  15  12]\n"
     ]
    }
   ],
   "source": [
    "filename = 'AIML_DS_5E1B34A6_NOHASH_0_STD.wav'\n",
    "sample_rate, samples = wavfile.read(str(filename))\n",
    "print(sample_rate)\n",
    "print(samples)"
   ]
  },
  {
   "cell_type": "code",
   "execution_count": 0,
   "metadata": {
    "colab": {},
    "colab_type": "code",
    "id": "GFd2w1iVW76S"
   },
   "outputs": [],
   "source": [
    "samples = samples.astype('float16')"
   ]
  },
  {
   "cell_type": "markdown",
   "metadata": {
    "colab_type": "text",
    "id": "uhF2YnieW76X"
   },
   "source": [
    "# 1. MFCC features"
   ]
  },
  {
   "cell_type": "markdown",
   "metadata": {
    "colab_type": "text",
    "id": "bxUeoP4KW76Z"
   },
   "source": [
    "##  1.1. Amplitude\n",
    "\n",
    "Speech is a temporal signal, where the amplitude of the signal varies with time.\n",
    "\n",
    "The amplitude v/s time graph of the audio file we read is:"
   ]
  },
  {
   "cell_type": "code",
   "execution_count": 11,
   "metadata": {
    "colab": {
     "base_uri": "https://localhost:8080/",
     "height": 499
    },
    "colab_type": "code",
    "executionInfo": {
     "elapsed": 656484,
     "status": "ok",
     "timestamp": 1581585921148,
     "user": {
      "displayName": "Mohammed Rizwan",
      "photoUrl": "https://lh3.googleusercontent.com/a-/AAuE7mB71PsBYLhuVqmFbtN-6NzmoyqKEkdtw1RZyZYeLw=s64",
      "userId": "08508186513102229355"
     },
     "user_tz": -330
    },
    "id": "zqfKmB2nW76a",
    "outputId": "c3f8f05c-0c7f-4e20-847f-677446129445"
   },
   "outputs": [
    {
     "data": {
      "image/png": "[encoded data removed]",
      "text/plain": [
       "<Figure size 1008x576 with 1 Axes>"
      ]
     },
     "metadata": {
      "tags": []
     },
     "output_type": "display_data"
    }
   ],
   "source": [
    "fig = plt.figure(figsize=(14, 8))\n",
    "plt.plot(np.linspace(0, sample_rate/len(samples), sample_rate), samples)\n",
    "plt.gca().set_title('Raw wave of ' + filename)\n",
    "plt.gca().set_ylabel('Amplitude')\n",
    "plt.grid(\"on\")"
   ]
  },
  {
   "cell_type": "markdown",
   "metadata": {
    "colab_type": "text",
    "id": "ql9nmBW1W76g"
   },
   "source": [
    "## 1.2 Log Spectrogram\n",
    "\n",
    "The same speech signal could be interpreted as made up of several frequencies of waves. A visualization of the power, i.e. energy per unit time in each frequency v/s time is called the Spectrogram.\n",
    "\n",
    "Usually, the log of this energy is considered a better parameter. This is because the power in sound is synonymous with volume (loudness) of the sound, and the human ears are more sensitive to smaller volumes than larger volumes. So it is more convenient to observe the log of the volume rather than the volume itself. The log of sound power is measured in deciBels (dB). (You might be familiar with dB as a unit of sound volume). Hence, we shall consider the Log Spectrogram instead of just the spectrogram.\n",
    "\n",
    "Let us cmpute the Log Spectrogram of the audio file we read:"
   ]
  },
  {
   "cell_type": "code",
   "execution_count": 0,
   "metadata": {
    "colab": {},
    "colab_type": "code",
    "id": "tfu5HnG-W76i"
   },
   "outputs": [],
   "source": [
    "def log_specgram(audio, sample_rate, window_size=20, step_size=10, eps=1e-10):\n",
    "    \n",
    "    # Number of samples per window/segment\n",
    "    nperseg = int(round(window_size * sample_rate / 1e3))\n",
    "    \n",
    "    # Number of overlapping samples\n",
    "    noverlap = int(round(step_size * sample_rate / 1e3))\n",
    "    \n",
    "    # Compute the spectrogram\n",
    "    freqs, times, spec = signal.spectrogram(audio,\n",
    "                                            fs=sample_rate,\n",
    "                                            window='hann',\n",
    "                                            nperseg=nperseg,\n",
    "                                            noverlap=noverlap,\n",
    "                                            detrend=False)\n",
    "    \n",
    "    # Return log of the spectrogram values, with time axis in columns and frequencies in rows\n",
    "    return freqs, times, np.log(spec.T.astype(np.float32) + eps)"
   ]
  },
  {
   "cell_type": "code",
   "execution_count": 0,
   "metadata": {
    "colab": {},
    "colab_type": "code",
    "id": "90Gcx_sIW76n"
   },
   "outputs": [],
   "source": [
    "freqs, times, spectrogram = log_specgram(samples, sample_rate)"
   ]
  },
  {
   "cell_type": "markdown",
   "metadata": {
    "colab_type": "text",
    "id": "_3lg53XcW76r"
   },
   "source": [
    "Let us plot the log spectrogram:"
   ]
  },
  {
   "cell_type": "code",
   "execution_count": 14,
   "metadata": {
    "colab": {
     "base_uri": "https://localhost:8080/",
     "height": 312
    },
    "colab_type": "code",
    "executionInfo": {
     "elapsed": 657490,
     "status": "ok",
     "timestamp": 1581585922185,
     "user": {
      "displayName": "Mohammed Rizwan",
      "photoUrl": "https://lh3.googleusercontent.com/a-/AAuE7mB71PsBYLhuVqmFbtN-6NzmoyqKEkdtw1RZyZYeLw=s64",
      "userId": "08508186513102229355"
     },
     "user_tz": -330
    },
    "id": "VDiCEkzRW76s",
    "outputId": "4de28b19-6ea4-41a6-f855-0b0c7225b49e"
   },
   "outputs": [
    {
     "data": {
      "text/plain": [
       "<matplotlib.colorbar.Colorbar at 0x7f9188a66748>"
      ]
     },
     "execution_count": 14,
     "metadata": {
      "tags": []
     },
     "output_type": "execute_result"
    },
    {
     "data": {
      "image/png": "[encoded data removed]",
      "text/plain": [
       "<Figure size 1008x288 with 2 Axes>"
      ]
     },
     "metadata": {
      "tags": []
     },
     "output_type": "display_data"
    }
   ],
   "source": [
    "fig = plt.figure(figsize=(14, 4))\n",
    "plt.imshow(spectrogram.T, aspect='auto', origin='lower', cmap = plt.cm.RdYlBu,\n",
    "           extent=[times.min(), times.max(), freqs.min(), freqs.max()])\n",
    "plt.gca().set_yticks(freqs[::16])\n",
    "plt.gca().set_xticks(times[9::10])\n",
    "plt.gca().set_title('Spectrogram of ' + filename)\n",
    "plt.gca().set_ylabel('Frequency in Hz')\n",
    "plt.gca().set_xlabel('Seconds')\n",
    "plt.colorbar()"
   ]
  },
  {
   "cell_type": "markdown",
   "metadata": {
    "colab_type": "text",
    "id": "eGF52L0GW76y"
   },
   "source": [
    "As can be seen from the amplitude v/s time graph, the command is being uttered between 0.4 seconds and 0.6 seconds.\n",
    "\n",
    "As can be seen from the spectrogram, the command is composed more of lower frequencies than higher frequencies. The rest of the time when there is no speech, each frequency has an equal contribution to the sound. This is called \"White Noise\".\n",
    "\n",
    "Notice that the range of frequencies we are observing in the spectrogram is the linear scale between 0 Hz and 8000 Hz."
   ]
  },
  {
   "cell_type": "markdown",
   "metadata": {
    "colab_type": "text",
    "id": "YtEBGU5fW76z"
   },
   "source": [
    "## 1.2. Mel Spectrogram\n",
    "\n",
    "Human ears tend to listen to sounds in the log scale. That means, at lower frequencies we can detect small changes, but at higher frequencies our ears become less sensitive to small changes. For example, the difference between 10 Hz and 20 Hz would sound almost the same to us as that between 1000 Hz and 2000 Hz. To observe this logarithmic change, the frequency scale is modified into the [\"mel frequency\" scale](https://en.wikipedia.org/wiki/Mel_scale).\n",
    "\n",
    "Let us compute the Mel Spectrogram using a convenient function in the `librosa` library in Python:"
   ]
  },
  {
   "cell_type": "code",
   "execution_count": 15,
   "metadata": {
    "colab": {
     "base_uri": "https://localhost:8080/",
     "height": 34
    },
    "colab_type": "code",
    "executionInfo": {
     "elapsed": 657480,
     "status": "ok",
     "timestamp": 1581585922186,
     "user": {
      "displayName": "Mohammed Rizwan",
      "photoUrl": "https://lh3.googleusercontent.com/a-/AAuE7mB71PsBYLhuVqmFbtN-6NzmoyqKEkdtw1RZyZYeLw=s64",
      "userId": "08508186513102229355"
     },
     "user_tz": -330
    },
    "id": "or3bV7FvW761",
    "outputId": "06adf7a2-d15b-4ba5-b535-cc965cfa406a"
   },
   "outputs": [
    {
     "name": "stdout",
     "output_type": "stream",
     "text": [
      "(128, 51)\n"
     ]
    }
   ],
   "source": [
    "# From this tutorial\n",
    "# https://github.com/librosa/librosa/blob/master/examples/LibROSA%20demo.ipynb\n",
    "S = librosa.feature.melspectrogram(samples, sr=sample_rate, hop_length=int(0.020*sample_rate), n_mels=128)\n",
    "print(S.shape)"
   ]
  },
  {
   "cell_type": "markdown",
   "metadata": {
    "colab_type": "text",
    "id": "zTEFfDs8W764"
   },
   "source": [
    "As mentioned before, the log of the spectrogram is a better parameter to observe rather than the spectrogram itself. Let us compute this using another convenient function in the `librosa` library:"
   ]
  },
  {
   "cell_type": "code",
   "execution_count": 0,
   "metadata": {
    "colab": {},
    "colab_type": "code",
    "id": "doa6JjcHW765"
   },
   "outputs": [],
   "source": [
    "# Convert to log scale (dB). We'll use the peak power (max) as reference.\n",
    "log_S = librosa.power_to_db(S, ref=np.max)"
   ]
  },
  {
   "cell_type": "markdown",
   "metadata": {
    "colab_type": "text",
    "id": "eEKISI0CW768"
   },
   "source": [
    "Let's plot the log Mel spectrogam with the y-axis having frequenies in the mel scale instead of the linear scale: "
   ]
  },
  {
   "cell_type": "code",
   "execution_count": 17,
   "metadata": {
    "colab": {
     "base_uri": "https://localhost:8080/",
     "height": 297
    },
    "colab_type": "code",
    "executionInfo": {
     "elapsed": 658303,
     "status": "ok",
     "timestamp": 1581585923025,
     "user": {
      "displayName": "Mohammed Rizwan",
      "photoUrl": "https://lh3.googleusercontent.com/a-/AAuE7mB71PsBYLhuVqmFbtN-6NzmoyqKEkdtw1RZyZYeLw=s64",
      "userId": "08508186513102229355"
     },
     "user_tz": -330
    },
    "id": "XipRSnuAW769",
    "outputId": "9dcb5206-bc7c-4aee-d96b-aa8cee0b7c27"
   },
   "outputs": [
    {
     "data": {
      "image/png": "[encoded data removed]",
      "text/plain": [
       "<Figure size 864x288 with 2 Axes>"
      ]
     },
     "metadata": {
      "tags": []
     },
     "output_type": "display_data"
    }
   ],
   "source": [
    "plt.figure(figsize=(12, 4))\n",
    "librosa.display.specshow(log_S, sr=sample_rate, x_axis='time', y_axis='mel')\n",
    "plt.title('Log-power Mel spectrogram ')\n",
    "plt.colorbar(format='%+02.0f dB')\n",
    "plt.tight_layout()"
   ]
  },
  {
   "cell_type": "markdown",
   "metadata": {
    "colab_type": "text",
    "id": "Mpd3m6WsW77A"
   },
   "source": [
    "Observe that the frequencies in the y-axis are not linear in scale. "
   ]
  },
  {
   "cell_type": "markdown",
   "metadata": {
    "colab_type": "text",
    "id": "fd5mLClPW77B"
   },
   "source": [
    "## 1.3 Mel Frequency Cepstral Coefficients (MFCCs)\n",
    "\n",
    "Next, \"Cepstral Coefficients\" are important numbers that describe speech information in audio. By computing these Cepstral Coefficients in the mel scale, we shall obtain Mel Frequency Cepstral Coefficients.\n",
    "\n",
    "For technical details, the procedure to compute MFCCs is:\n",
    "\n",
    "- Take the Discrete Fourier Transform on every sliding window over the audio with some overlap.\n",
    "- Apply `n_mels` triangular Mel-scale filters onto the Fourier power spectrum, and apply logarithm to the outputs.\n",
    "- Apply the Discrete Cosine Transform, and reduce dimensionality to `n_mfcc` dimensions.\n",
    "\n",
    "Let's use a convenient library function called `librosa.feature.mfcc` to compute MFCCs from the spectrogram:"
   ]
  },
  {
   "cell_type": "code",
   "execution_count": 18,
   "metadata": {
    "colab": {
     "base_uri": "https://localhost:8080/",
     "height": 34
    },
    "colab_type": "code",
    "executionInfo": {
     "elapsed": 658291,
     "status": "ok",
     "timestamp": 1581585923025,
     "user": {
      "displayName": "Mohammed Rizwan",
      "photoUrl": "https://lh3.googleusercontent.com/a-/AAuE7mB71PsBYLhuVqmFbtN-6NzmoyqKEkdtw1RZyZYeLw=s64",
      "userId": "08508186513102229355"
     },
     "user_tz": -330
    },
    "id": "hLtpljeUW77C",
    "outputId": "5775556e-65d3-4205-f52d-dbc25b171b31"
   },
   "outputs": [
    {
     "name": "stdout",
     "output_type": "stream",
     "text": [
      "(13, 51)\n"
     ]
    }
   ],
   "source": [
    "mfcc = librosa.feature.mfcc(S=log_S, n_mfcc=13)\n",
    "print(mfcc.shape)"
   ]
  },
  {
   "cell_type": "markdown",
   "metadata": {
    "colab_type": "text",
    "id": "y8NPgVJ5W77F"
   },
   "source": [
    "Let us plot the MFCCs:"
   ]
  },
  {
   "cell_type": "code",
   "execution_count": 19,
   "metadata": {
    "colab": {
     "base_uri": "https://localhost:8080/",
     "height": 225
    },
    "colab_type": "code",
    "executionInfo": {
     "elapsed": 658282,
     "status": "ok",
     "timestamp": 1581585923026,
     "user": {
      "displayName": "Mohammed Rizwan",
      "photoUrl": "https://lh3.googleusercontent.com/a-/AAuE7mB71PsBYLhuVqmFbtN-6NzmoyqKEkdtw1RZyZYeLw=s64",
      "userId": "08508186513102229355"
     },
     "user_tz": -330
    },
    "id": "wZmNUeXTW77H",
    "outputId": "0bb2df55-5bc5-4d40-8ca3-a8d4f19597b3"
   },
   "outputs": [
    {
     "data": {
      "image/png": "[encoded data removed]",
      "text/plain": [
       "<Figure size 864x216 with 2 Axes>"
      ]
     },
     "metadata": {
      "tags": []
     },
     "output_type": "display_data"
    }
   ],
   "source": [
    "plt.figure(figsize=(12, 3))\n",
    "librosa.display.specshow(mfcc)\n",
    "plt.ylabel('MFCC coeffs')\n",
    "plt.xlabel('Time')\n",
    "plt.title('MFCC')\n",
    "plt.colorbar()\n",
    "plt.tight_layout()"
   ]
  },
  {
   "cell_type": "markdown",
   "metadata": {
    "colab_type": "text",
    "id": "gU0VRCohW77K"
   },
   "source": [
    "## 1.4 Delta MFCCs\n",
    "\n",
    "MFCCs as such are quite powerful features, but even better features are their first-order and second-order derivatives.\n",
    "\n",
    "Let's use a convenient library function called `librosa.feature.mfcc` to compute the second-order delta MFCCs:"
   ]
  },
  {
   "cell_type": "code",
   "execution_count": 0,
   "metadata": {
    "colab": {},
    "colab_type": "code",
    "id": "5oaeBModW77L"
   },
   "outputs": [],
   "source": [
    "# Find 1st order delta_mfcc\n",
    "delta1_mfcc = librosa.feature.delta(mfcc, order=1)\n",
    "\n",
    "# Find 2nd order delta_mfcc\n",
    "delta2_mfcc = librosa.feature.delta(mfcc, order=2)"
   ]
  },
  {
   "cell_type": "markdown",
   "metadata": {
    "colab_type": "text",
    "id": "s840U7KCW77P"
   },
   "source": [
    "Let's plot the 2nd order delta MFCCs:"
   ]
  },
  {
   "cell_type": "code",
   "execution_count": 21,
   "metadata": {
    "colab": {
     "base_uri": "https://localhost:8080/",
     "height": 441
    },
    "colab_type": "code",
    "executionInfo": {
     "elapsed": 658265,
     "status": "ok",
     "timestamp": 1581585923027,
     "user": {
      "displayName": "Mohammed Rizwan",
      "photoUrl": "https://lh3.googleusercontent.com/a-/AAuE7mB71PsBYLhuVqmFbtN-6NzmoyqKEkdtw1RZyZYeLw=s64",
      "userId": "08508186513102229355"
     },
     "user_tz": -330
    },
    "id": "z6mSz_TGW77R",
    "outputId": "e903b568-1623-4e42-f1d3-fbf7f6934c8f"
   },
   "outputs": [
    {
     "data": {
      "image/png": "[encoded data removed]",
      "text/plain": [
       "<Figure size 864x432 with 4 Axes>"
      ]
     },
     "metadata": {
      "tags": []
     },
     "output_type": "display_data"
    }
   ],
   "source": [
    "plt.figure(figsize=(12, 6))\n",
    "\n",
    "plt.subplot(211)\n",
    "librosa.display.specshow(delta1_mfcc)\n",
    "plt.ylabel('1st order Delta MFCC coeffs')\n",
    "plt.xlabel('Time')\n",
    "plt.title('1st order Delta MFCC')\n",
    "plt.colorbar()\n",
    "plt.tight_layout()\n",
    "\n",
    "plt.subplot(212)\n",
    "librosa.display.specshow(delta2_mfcc)\n",
    "plt.ylabel('2nd order Delta MFCC coeffs')\n",
    "plt.xlabel('Time')\n",
    "plt.title('2nd order Delta MFCC')\n",
    "plt.colorbar()\n",
    "plt.tight_layout()"
   ]
  },
  {
   "cell_type": "markdown",
   "metadata": {
    "colab_type": "text",
    "id": "vJXbJhvkPfVn"
   },
   "source": [
    "# 2. Load the Dataset\n",
    "The dataset is of ~10GB in size and operating directly on it will take a lot of time, therefore we have included that as a Homework Exercise for those who are interested to go into that detail.\n",
    "Our team has instead precomputed the features which can be loaded directly and computed on.\n",
    "\n",
    "# 3. Load MFCC features"
   ]
  },
  {
   "cell_type": "markdown",
   "metadata": {
    "colab_type": "text",
    "id": "yzv3VHmrPkwS"
   },
   "source": [
    "**NOTE: For the rest of this experiment asssume that the term Validation (short name: val) is the same as 'Test' dataset.\n",
    "Later on in the course you will appreciate the significance of a three way split, i.e. train/val/test. But in this \n",
    " experiment we have two-way Train/Val(same as test) split**"
   ]
  },
  {
   "cell_type": "code",
   "execution_count": 22,
   "metadata": {
    "colab": {
     "base_uri": "https://localhost:8080/",
     "height": 51
    },
    "colab_type": "code",
    "executionInfo": {
     "elapsed": 658577,
     "status": "ok",
     "timestamp": 1581585923351,
     "user": {
      "displayName": "Mohammed Rizwan",
      "photoUrl": "https://lh3.googleusercontent.com/a-/AAuE7mB71PsBYLhuVqmFbtN-6NzmoyqKEkdtw1RZyZYeLw=s64",
      "userId": "08508186513102229355"
     },
     "user_tz": -330
    },
    "id": "UqKF01iTW77W",
    "outputId": "d5f44af5-680b-4f54-e15e-c68966325bbb"
   },
   "outputs": [
    {
     "name": "stdout",
     "output_type": "stream",
     "text": [
      "dict_keys(['__header__', '__version__', '__globals__', 'mfcc_labels_val', 'mfcc_features_val', 'unique_classes', 'mfcc_labels_train', 'mfcc_features_train'])\n",
      "(57923, 416) (6798, 416)\n"
     ]
    }
   ],
   "source": [
    "### Load MFCC Features\n",
    "import scipy.io as sio\n",
    "saved_vars = sio.loadmat('AIML_DS_AUDIO_STD/mfcc_feats/tf_speech_mfcc_31st_jan18.mat')\n",
    "print(saved_vars.keys())\n",
    "\n",
    "mfcc_features_train = saved_vars['mfcc_features_train']\n",
    "mfcc_labels_train = saved_vars['mfcc_labels_train']\n",
    "\n",
    "mfcc_features_val = saved_vars['mfcc_features_val']\n",
    "mfcc_labels_val = saved_vars['mfcc_labels_val']\n",
    "print(mfcc_features_train.shape,mfcc_features_val.shape)"
   ]
  },
  {
   "cell_type": "markdown",
   "metadata": {
    "colab_type": "text",
    "id": "z60J-rJJW77d"
   },
   "source": [
    "# 4. Load Deep Features\n",
    "\n",
    "**These features were trained on the same MFCC Features above using a Deeper Neural network, thus helping us with better features for representing the data. This helps in improving the accuracy**"
   ]
  },
  {
   "cell_type": "code",
   "execution_count": 23,
   "metadata": {
    "colab": {
     "base_uri": "https://localhost:8080/",
     "height": 34
    },
    "colab_type": "code",
    "executionInfo": {
     "elapsed": 658891,
     "status": "ok",
     "timestamp": 1581585923674,
     "user": {
      "displayName": "Mohammed Rizwan",
      "photoUrl": "https://lh3.googleusercontent.com/a-/AAuE7mB71PsBYLhuVqmFbtN-6NzmoyqKEkdtw1RZyZYeLw=s64",
      "userId": "08508186513102229355"
     },
     "user_tz": -330
    },
    "id": "qIW_FX4PW77f",
    "outputId": "7be38b9e-6fc1-4c92-c15d-db4a03d78818"
   },
   "outputs": [
    {
     "name": "stdout",
     "output_type": "stream",
     "text": [
      "(63715, 4096) (7477, 4096)\n"
     ]
    }
   ],
   "source": [
    "deep_features_train = np.squeeze(np.load('AIML_DS_AUDIO_STD/deep_feats/train_set.npz'))\n",
    "deep_labels_train = np.load('AIML_DS_AUDIO_STD/deep_feats/train_labs.npz')\n",
    "deep_features_val = np.squeeze(np.load('AIML_DS_AUDIO_STD/deep_feats/validation_set.npz'))\n",
    "deep_labels_val = np.load('AIML_DS_AUDIO_STD/deep_feats/validation_labs.npz')\n",
    "print(deep_features_train.shape, deep_features_val.shape)"
   ]
  },
  {
   "cell_type": "markdown",
   "metadata": {
    "colab_type": "text",
    "id": "tp3g6eIfW77l"
   },
   "source": [
    "# 5. Validation (in this case, synonymous with Test)\n",
    "\n",
    "We want to choose the best model for speech classification among:\n",
    "\n",
    "- kNN classifier with MFCC features\n",
    "\n",
    "- kNN classifier with Deep features\n",
    "\n",
    "\n",
    "To do that, let's find the validation accuracies of each method using MFCC features and deep features.\n",
    "\n",
    "We shall use our familiar convenient function to choose an algorithm, train on training features and labels as inputs, and obtain accuracy on given features and labels."
   ]
  },
  {
   "cell_type": "markdown",
   "metadata": {
    "colab_type": "text",
    "id": "8UhUw2HiW77o"
   },
   "source": [
    "## 5.1. kNN Classifier\n",
    "\n",
    "We want to choose the value of $k$ based on validation accuracy. Choose $k$ among 1, 3, 7,9,11,15."
   ]
  },
  {
   "cell_type": "code",
   "execution_count": 0,
   "metadata": {
    "colab": {},
    "colab_type": "code",
    "id": "at_MVmtwwqvA"
   },
   "outputs": [],
   "source": [
    "from sklearn.neighbors import KNeighborsClassifier\n",
    "from sklearn.metrics import accuracy_score"
   ]
  },
  {
   "cell_type": "code",
   "execution_count": 0,
   "metadata": {
    "colab": {},
    "colab_type": "code",
    "id": "f4fjuAeUW77p"
   },
   "outputs": [],
   "source": [
    "values_of_k = [1, 3, 7,9,11,15]"
   ]
  },
  {
   "cell_type": "markdown",
   "metadata": {
    "colab_type": "text",
    "id": "T78QHHriW77s"
   },
   "source": [
    "## 5.1.1. kNN with MFCC features"
   ]
  },
  {
   "cell_type": "markdown",
   "metadata": {
    "colab_type": "text",
    "id": "NZx4AKWwW77t"
   },
   "source": [
    "**Ungraded Exercise 1: Find the best $k$ using validation accuracy on MFCC features **\n",
    "\n",
    "**Note : Use 5000 samples of mfcc_features_train for training  and 1000 samples of mfcc_features_val for validation **"
   ]
  },
  {
   "cell_type": "code",
   "execution_count": 0,
   "metadata": {
    "colab": {},
    "colab_type": "code",
    "id": "-Ca6z1sTq3V2"
   },
   "outputs": [],
   "source": [
    "mfcc_features_train = mfcc_features_train[:5000]\n",
    "mfcc_labels_train = mfcc_labels_train[:5000]\n",
    "mfcc_features_val = mfcc_features_val[:1000]\n",
    "mfcc_labels_val = mfcc_labels_val[:1000]"
   ]
  },
  {
   "cell_type": "code",
   "execution_count": 27,
   "metadata": {
    "colab": {
     "base_uri": "https://localhost:8080/",
     "height": 119
    },
    "colab_type": "code",
    "executionInfo": {
     "elapsed": 719351,
     "status": "ok",
     "timestamp": 1581585984164,
     "user": {
      "displayName": "Mohammed Rizwan",
      "photoUrl": "https://lh3.googleusercontent.com/a-/AAuE7mB71PsBYLhuVqmFbtN-6NzmoyqKEkdtw1RZyZYeLw=s64",
      "userId": "08508186513102229355"
     },
     "user_tz": -330
    },
    "id": "zCvph_0BxCY0",
    "outputId": "f3730919-cf82-4d67-f3fd-bc7fb179bef0"
   },
   "outputs": [
    {
     "name": "stdout",
     "output_type": "stream",
     "text": [
      "K: 1 - Score: 1.0\n",
      "K: 3 - Score: 0.918\n",
      "K: 7 - Score: 0.8832\n",
      "K: 9 - Score: 0.875\n",
      "K: 11 - Score: 0.8658\n",
      "K: 15 - Score: 0.8516\n"
     ]
    }
   ],
   "source": [
    "train = dict()\n",
    "for k in values_of_k:\n",
    "  model = KNeighborsClassifier(n_neighbors=k, metric='euclidean')\n",
    "  model.fit(mfcc_features_train, mfcc_labels_train)\n",
    "  scr = model.score(mfcc_features_train, mfcc_labels_train)\n",
    "  '''\n",
    "  predicted_values = model.predict(mfcc_features_val)\n",
    "  acc_score = accuracy_score(mfcc_labels_val,predicted_values)\n",
    "  acc_score_list.append(acc_score)'''\n",
    "  print(f'K: {k} - Score: {scr}')\n",
    "\n",
    "  train[k] = scr\n",
    "\n",
    "v = list(train.values())\n",
    "k = list(train.keys())\n",
    "\n",
    "best_k_mfcc = k[v.index(max(v))]\n"
   ]
  },
  {
   "cell_type": "code",
   "execution_count": 28,
   "metadata": {
    "colab": {
     "base_uri": "https://localhost:8080/",
     "height": 34
    },
    "colab_type": "code",
    "executionInfo": {
     "elapsed": 719343,
     "status": "ok",
     "timestamp": 1581585984165,
     "user": {
      "displayName": "Mohammed Rizwan",
      "photoUrl": "https://lh3.googleusercontent.com/a-/AAuE7mB71PsBYLhuVqmFbtN-6NzmoyqKEkdtw1RZyZYeLw=s64",
      "userId": "08508186513102229355"
     },
     "user_tz": -330
    },
    "id": "pk8Agv1OW77x",
    "outputId": "e4cdee19-9259-41a9-b3e8-05d2091f3930"
   },
   "outputs": [
    {
     "name": "stdout",
     "output_type": "stream",
     "text": [
      "1\n"
     ]
    }
   ],
   "source": [
    "print(best_k_mfcc)"
   ]
  },
  {
   "cell_type": "markdown",
   "metadata": {
    "colab_type": "text",
    "id": "JQV07DpgW771"
   },
   "source": [
    "**Ungraded Exercise 2: Find the validation accuracy of kNN classifier on MFCC features using best $k$**"
   ]
  },
  {
   "cell_type": "code",
   "execution_count": 29,
   "metadata": {
    "colab": {
     "base_uri": "https://localhost:8080/",
     "height": 34
    },
    "colab_type": "code",
    "executionInfo": {
     "elapsed": 721716,
     "status": "ok",
     "timestamp": 1581585986547,
     "user": {
      "displayName": "Mohammed Rizwan",
      "photoUrl": "https://lh3.googleusercontent.com/a-/AAuE7mB71PsBYLhuVqmFbtN-6NzmoyqKEkdtw1RZyZYeLw=s64",
      "userId": "08508186513102229355"
     },
     "user_tz": -330
    },
    "id": "YmeES7toW773",
    "outputId": "4704e480-27ec-4d17-e3c2-35ed54ee38cd"
   },
   "outputs": [
    {
     "name": "stdout",
     "output_type": "stream",
     "text": [
      "0.559\n"
     ]
    }
   ],
   "source": [
    "model = KNeighborsClassifier(n_neighbors=1, metric='euclidean')\n",
    "model.fit(mfcc_features_train, mfcc_labels_train)\n",
    "predicted_values = model.predict(mfcc_features_val)\n",
    "\n",
    "kNN_mfcc_val_acc = accuracy_score(mfcc_labels_val,predicted_values)\n",
    "print(kNN_mfcc_val_acc)"
   ]
  },
  {
   "cell_type": "markdown",
   "metadata": {
    "colab_type": "text",
    "id": "ZWS6NxqqW778"
   },
   "source": [
    "## 5.1.2. kNN with Deep features"
   ]
  },
  {
   "cell_type": "markdown",
   "metadata": {
    "colab_type": "text",
    "id": "kA4a6kHfW779"
   },
   "source": [
    "**Ungraded Exercise 3: Find the best $k$ using validation accuracy on Deep features**\n",
    "\n",
    "\n",
    "**Note : Use 5000 samples of deep_features_train for training  and 1000 samples of deep_features_val for validation **"
   ]
  },
  {
   "cell_type": "code",
   "execution_count": 0,
   "metadata": {
    "colab": {},
    "colab_type": "code",
    "id": "vW0VpsGBW77_"
   },
   "outputs": [],
   "source": [
    "deep_features_train = deep_features_train[:5000]\n",
    "deep_labels_train = deep_labels_train[:5000]\n",
    "deep_features_val = deep_features_val[:1000]\n",
    "deep_labels_val = deep_labels_val[:1000]"
   ]
  },
  {
   "cell_type": "code",
   "execution_count": 31,
   "metadata": {
    "colab": {
     "base_uri": "https://localhost:8080/",
     "height": 34
    },
    "colab_type": "code",
    "executionInfo": {
     "elapsed": 721701,
     "status": "ok",
     "timestamp": 1581585986549,
     "user": {
      "displayName": "Mohammed Rizwan",
      "photoUrl": "https://lh3.googleusercontent.com/a-/AAuE7mB71PsBYLhuVqmFbtN-6NzmoyqKEkdtw1RZyZYeLw=s64",
      "userId": "08508186513102229355"
     },
     "user_tz": -330
    },
    "id": "RIcLnrK-zZbb",
    "outputId": "09e94e23-dbc1-45dc-fd2c-72673a33668e"
   },
   "outputs": [
    {
     "data": {
      "text/plain": [
       "((5000, 4096), (5000, 1, 1), (1000, 4096), (1000, 1, 1))"
      ]
     },
     "execution_count": 31,
     "metadata": {
      "tags": []
     },
     "output_type": "execute_result"
    }
   ],
   "source": [
    "deep_features_train.shape, deep_labels_train.shape, deep_features_val.shape, deep_labels_val.shape"
   ]
  },
  {
   "cell_type": "code",
   "execution_count": 32,
   "metadata": {
    "colab": {
     "base_uri": "https://localhost:8080/",
     "height": 34
    },
    "colab_type": "code",
    "executionInfo": {
     "elapsed": 721686,
     "status": "ok",
     "timestamp": 1581585986549,
     "user": {
      "displayName": "Mohammed Rizwan",
      "photoUrl": "https://lh3.googleusercontent.com/a-/AAuE7mB71PsBYLhuVqmFbtN-6NzmoyqKEkdtw1RZyZYeLw=s64",
      "userId": "08508186513102229355"
     },
     "user_tz": -330
    },
    "id": "A8dcITl-0mn5",
    "outputId": "2af4e24b-e95e-47db-baed-d794934a67d2"
   },
   "outputs": [
    {
     "data": {
      "text/plain": [
       "numpy.ndarray"
      ]
     },
     "execution_count": 32,
     "metadata": {
      "tags": []
     },
     "output_type": "execute_result"
    }
   ],
   "source": [
    "type(deep_labels_train)"
   ]
  },
  {
   "cell_type": "code",
   "execution_count": 33,
   "metadata": {
    "colab": {
     "base_uri": "https://localhost:8080/",
     "height": 238
    },
    "colab_type": "code",
    "executionInfo": {
     "elapsed": 721678,
     "status": "ok",
     "timestamp": 1581585986550,
     "user": {
      "displayName": "Mohammed Rizwan",
      "photoUrl": "https://lh3.googleusercontent.com/a-/AAuE7mB71PsBYLhuVqmFbtN-6NzmoyqKEkdtw1RZyZYeLw=s64",
      "userId": "08508186513102229355"
     },
     "user_tz": -330
    },
    "id": "5ONv5C3ezick",
    "outputId": "af7a7156-2edb-4749-8c8c-1dddaa5acb0b"
   },
   "outputs": [
    {
     "data": {
      "text/plain": [
       "array([[[11]],\n",
       "\n",
       "       [[ 4]],\n",
       "\n",
       "       [[ 8]],\n",
       "\n",
       "       ...,\n",
       "\n",
       "       [[ 8]],\n",
       "\n",
       "       [[ 8]],\n",
       "\n",
       "       [[ 8]]])"
      ]
     },
     "execution_count": 33,
     "metadata": {
      "tags": []
     },
     "output_type": "execute_result"
    }
   ],
   "source": [
    "deep_labels_train"
   ]
  },
  {
   "cell_type": "code",
   "execution_count": 0,
   "metadata": {
    "colab": {},
    "colab_type": "code",
    "id": "Tcfj3Y0231jh"
   },
   "outputs": [],
   "source": [
    "a = deep_labels_train[::]"
   ]
  },
  {
   "cell_type": "code",
   "execution_count": 0,
   "metadata": {
    "colab": {},
    "colab_type": "code",
    "id": "-pmo8pkX4c4X"
   },
   "outputs": [],
   "source": [
    "b = a.reshape(a.shape[0], a.shape[1]*a.shape[2])"
   ]
  },
  {
   "cell_type": "code",
   "execution_count": 48,
   "metadata": {
    "colab": {
     "base_uri": "https://localhost:8080/",
     "height": 34
    },
    "colab_type": "code",
    "executionInfo": {
     "elapsed": 1054,
     "status": "ok",
     "timestamp": 1581586339511,
     "user": {
      "displayName": "Mohammed Rizwan",
      "photoUrl": "https://lh3.googleusercontent.com/a-/AAuE7mB71PsBYLhuVqmFbtN-6NzmoyqKEkdtw1RZyZYeLw=s64",
      "userId": "08508186513102229355"
     },
     "user_tz": -330
    },
    "id": "ncwrOtcx5EMQ",
    "outputId": "66ab35d3-fac2-4ed6-b212-6395904572be"
   },
   "outputs": [
    {
     "data": {
      "text/plain": [
       "(5000, 1)"
      ]
     },
     "execution_count": 48,
     "metadata": {
      "tags": []
     },
     "output_type": "execute_result"
    }
   ],
   "source": [
    "b.shape"
   ]
  },
  {
   "cell_type": "code",
   "execution_count": 0,
   "metadata": {
    "colab": {},
    "colab_type": "code",
    "id": "jl8NZlA15JyJ"
   },
   "outputs": [],
   "source": [
    "deep_labels_train = deep_labels_train.reshape(deep_labels_train.shape[0], deep_labels_train.shape[1]*deep_labels_train.shape[2])\n",
    "deep_labels_val = deep_labels_val.reshape(deep_labels_val.shape[0], deep_labels_val.shape[1]*deep_labels_val.shape[2])"
   ]
  },
  {
   "cell_type": "code",
   "execution_count": 50,
   "metadata": {
    "colab": {
     "base_uri": "https://localhost:8080/",
     "height": 34
    },
    "colab_type": "code",
    "executionInfo": {
     "elapsed": 865,
     "status": "ok",
     "timestamp": 1581586432953,
     "user": {
      "displayName": "Mohammed Rizwan",
      "photoUrl": "https://lh3.googleusercontent.com/a-/AAuE7mB71PsBYLhuVqmFbtN-6NzmoyqKEkdtw1RZyZYeLw=s64",
      "userId": "08508186513102229355"
     },
     "user_tz": -330
    },
    "id": "o07xKQEz5biY",
    "outputId": "953e6c40-0499-45ea-9fea-0ebb74a5ebc3"
   },
   "outputs": [
    {
     "data": {
      "text/plain": [
       "((5000, 4096), (5000, 1), (1000, 4096), (1000, 1))"
      ]
     },
     "execution_count": 50,
     "metadata": {
      "tags": []
     },
     "output_type": "execute_result"
    }
   ],
   "source": [
    "deep_features_train.shape, deep_labels_train.shape, deep_features_val.shape, deep_labels_val.shape"
   ]
  },
  {
   "cell_type": "code",
   "execution_count": 51,
   "metadata": {
    "colab": {
     "base_uri": "https://localhost:8080/",
     "height": 119
    },
    "colab_type": "code",
    "executionInfo": {
     "elapsed": 133587,
     "status": "ok",
     "timestamp": 1581586591211,
     "user": {
      "displayName": "Mohammed Rizwan",
      "photoUrl": "https://lh3.googleusercontent.com/a-/AAuE7mB71PsBYLhuVqmFbtN-6NzmoyqKEkdtw1RZyZYeLw=s64",
      "userId": "08508186513102229355"
     },
     "user_tz": -330
    },
    "id": "O5_qh5nv5f3E",
    "outputId": "ab73ab2b-e365-41c7-fae5-b9eeca773c4a"
   },
   "outputs": [
    {
     "name": "stdout",
     "output_type": "stream",
     "text": [
      "K: 1 - Score: 1.0\n",
      "K: 3 - Score: 0.9552\n",
      "K: 7 - Score: 0.9486\n",
      "K: 9 - Score: 0.9464\n",
      "K: 11 - Score: 0.9454\n",
      "K: 15 - Score: 0.947\n"
     ]
    }
   ],
   "source": [
    "val = dict()\n",
    "for k in values_of_k:\n",
    "  model = KNeighborsClassifier(n_neighbors=k, metric='euclidean')\n",
    "  model.fit(deep_features_train, deep_labels_train)\n",
    "  scr = model.score(deep_features_train, deep_labels_train)\n",
    "  print(f'K: {k} - Score: {scr}')\n",
    "  val[k] = scr\n",
    "\n",
    "v = list(val.values())\n",
    "k = list(val.keys())\n",
    "\n",
    "best_k_deep= k[v.index(max(v))]"
   ]
  },
  {
   "cell_type": "code",
   "execution_count": 52,
   "metadata": {
    "colab": {
     "base_uri": "https://localhost:8080/",
     "height": 34
    },
    "colab_type": "code",
    "executionInfo": {
     "elapsed": 2075,
     "status": "ok",
     "timestamp": 1581586828336,
     "user": {
      "displayName": "Mohammed Rizwan",
      "photoUrl": "https://lh3.googleusercontent.com/a-/AAuE7mB71PsBYLhuVqmFbtN-6NzmoyqKEkdtw1RZyZYeLw=s64",
      "userId": "08508186513102229355"
     },
     "user_tz": -330
    },
    "id": "7oU5S5V2W78C",
    "outputId": "c88ca13b-cb56-4842-9380-094e7b340dcf"
   },
   "outputs": [
    {
     "name": "stdout",
     "output_type": "stream",
     "text": [
      "1\n"
     ]
    }
   ],
   "source": [
    "print(best_k_deep)"
   ]
  },
  {
   "cell_type": "markdown",
   "metadata": {
    "colab_type": "text",
    "id": "K8bcCjmsW78G"
   },
   "source": [
    "**Ungraded Exercise 4: Find the validation accuracy of kNN classifier on Deep features using best $k$**"
   ]
  },
  {
   "cell_type": "code",
   "execution_count": 55,
   "metadata": {
    "colab": {
     "base_uri": "https://localhost:8080/",
     "height": 34
    },
    "colab_type": "code",
    "executionInfo": {
     "elapsed": 7924,
     "status": "ok",
     "timestamp": 1581587080034,
     "user": {
      "displayName": "Mohammed Rizwan",
      "photoUrl": "https://lh3.googleusercontent.com/a-/AAuE7mB71PsBYLhuVqmFbtN-6NzmoyqKEkdtw1RZyZYeLw=s64",
      "userId": "08508186513102229355"
     },
     "user_tz": -330
    },
    "id": "bWhjR19aW78G",
    "outputId": "0b079f15-0b59-4c64-d5cc-cf70840fa671"
   },
   "outputs": [
    {
     "name": "stdout",
     "output_type": "stream",
     "text": [
      "0.955\n"
     ]
    }
   ],
   "source": [
    "model = KNeighborsClassifier(n_neighbors=1, metric='euclidean')\n",
    "model.fit(deep_features_train, deep_labels_train)\n",
    "predicted_values = model.predict(deep_features_val)\n",
    "\n",
    "kNN_deep_val_acc = accuracy_score(deep_labels_val,predicted_values)\n",
    "print(kNN_deep_val_acc)"
   ]
  },
  {
   "cell_type": "markdown",
   "metadata": {
    "colab_type": "text",
    "id": "_xEVSJgrN9Zz"
   },
   "source": [
    "**Ungraded Exercise 5: Try various other ML models that you know of to compare the accuracies "
   ]
  },
  {
   "cell_type": "markdown",
   "metadata": {
    "colab_type": "text",
    "id": "a65EmdAqNmtP"
   },
   "source": [
    "**Ungraded Exercise 6: Use the following [link](https://scikit-learn.org/stable/modules/model_persistence.html) to see how to use joblib, and try saving and loading your different ML models using the example provided there. Also try observing the size of the ML models that you saved. Here is another good article on saving and loading models using sklearn [link](https://machinelearningmastery.com/save-load-machine-learning-models-python-scikit-learn/)**"
   ]
  }
 ],
 "metadata": {
  "colab": {
   "collapsed_sections": [],
   "name": "003_MFCC_C.ipynb",
   "provenance": []
  },
  "kernelspec": {
   "display_name": "Python 3",
   "language": "python",
   "name": "python3"
  },
  "language_info": {
   "codemirror_mode": {
    "name": "ipython",
    "version": 3
   },
   "file_extension": ".py",
   "mimetype": "text/x-python",
   "name": "python",
   "nbconvert_exporter": "python",
   "pygments_lexer": "ipython3",
   "version": "3.6.5"
  }
 },
 "nbformat": 4,
 "nbformat_minor": 1
}
