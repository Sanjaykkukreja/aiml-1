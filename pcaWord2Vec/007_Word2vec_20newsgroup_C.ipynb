{
 "cells": [
  {
   "cell_type": "markdown",
   "metadata": {
    "colab_type": "text",
    "id": "UH62CWxTDTpf"
   },
   "source": [
    "# Advanced Certification in AIML\n",
    "## A Program by IIIT-H and TalentSprint"
   ]
  },
  {
   "cell_type": "markdown",
   "metadata": {
    "colab_type": "text",
    "id": "qu26Vq9jDTpj"
   },
   "source": [
    "### Learning Objectives:\n",
    "\n",
    "At the end of the experiment, you will be able to:\n",
    "\n",
    "*  Preprocess text data\n",
    "*  Apply word2vec to find the Representation of  text document \n",
    "*  Classify the word2vec represented documents using KNN"
   ]
  },
  {
   "cell_type": "markdown",
   "metadata": {
    "colab_type": "text",
    "id": "7pobf8O4bBRJ"
   },
   "source": [
    "### Dataset\n",
    "In this experiment we use the 20 newsgroup dataset\n",
    "\n",
    "**Description**\n",
    "\n",
    "This dataset is a collection of approximately 20,000 newsgroup documents, partitioned across 20 different newsgroups. That is there are approximately one thousand documents taken from each of the following newsgroups:\n",
    "\n",
    "    alt.athesim\n",
    "    comp.graphics   \n",
    "    comp.os.ms-windows.misc\n",
    "    comp.sys.ibm.pc.hardware\n",
    "    comp.sys.mac.hardware\n",
    "    comp.windows.x\n",
    "    misc.forsale\n",
    "    rec.autos\n",
    "    rec.motorcycles\n",
    "    rec.sport.baseball\n",
    "    rec.sport.hockey\n",
    "    sci.crypt\n",
    "    sci.electronics\n",
    "    sci.med\n",
    "    sci.space\n",
    "    soc.religion.christian\n",
    "    talk.politics.guns\n",
    "    talk.politics.mideast\n",
    "    talk.politics.misc\n",
    "    talk.religion.misc\n",
    "\n",
    "The dataset consists of **Usenet** posts--essentially an email sent by subscribers to that newsgroup. They typically contain quotes from previous posts as well as cross posts i.e. a few posts may be sent to more than once in a newsgroup.\n",
    "\n",
    "Each newsgroup is stored in a subdirectory, with each post stored as a separate file.\n",
    "\n",
    "Data source to this experiment : http://archive.ics.uci.edu/ml/datasets/Twenty+Newsgroups\n",
    "\n",
    "We have slight modified the original dataset above and made the same available to you as a pickle file (To understand more about pickle look at Python_Pickle_Introduction.ipynb experiment)."
   ]
  },
  {
   "cell_type": "code",
   "execution_count": 0,
   "metadata": {
    "colab": {},
    "colab_type": "code",
    "id": "iCwSJmXNDTpq"
   },
   "outputs": [],
   "source": [
    "# Importing required Packages\n",
    "import pickle\n",
    "import operator\n",
    "from collections import defaultdict\n",
    "import matplotlib.pyplot as plt\n",
    "import numpy as np\n",
    "import math\n",
    "import collections\n",
    "import gensim\n",
    "import re"
   ]
  },
  {
   "cell_type": "markdown",
   "metadata": {
    "colab_type": "text",
    "id": "LkOdbWcbDTpm"
   },
   "source": [
    "\n",
    "\n",
    "To get a sense of our data, let us first start by counting the frequencies of the target classes in our news articles in the training set."
   ]
  },
  {
   "cell_type": "code",
   "execution_count": 0,
   "metadata": {
    "colab": {
     "base_uri": "https://localhost:8080/",
     "height": 428
    },
    "colab_type": "code",
    "id": "urLEOmkbDTpv",
    "outputId": "58a7426c-ca14-43cd-e171-a4e67d25f480"
   },
   "outputs": [
    {
     "name": "stdout",
     "output_type": "stream",
     "text": [
      "dict_keys(['talk.politics.mideast', 'rec.autos', 'comp.sys.mac.hardware', 'alt.atheism', 'rec.sport.baseball', 'comp.os.ms-windows.misc', 'rec.sport.hockey', 'sci.crypt', 'sci.med', 'talk.politics.misc', 'rec.motorcycles', 'comp.windows.x', 'comp.graphics', 'comp.sys.ibm.pc.hardware', 'sci.electronics', 'talk.politics.guns', 'sci.space', 'soc.religion.christian', 'misc.forsale', 'talk.religion.misc'])\n",
      "Class : count\n",
      "--------------\n",
      "talk.politics.mideast : 940\n",
      "rec.autos : 990\n",
      "comp.sys.mac.hardware : 961\n",
      "alt.atheism : 799\n",
      "rec.sport.baseball : 994\n",
      "comp.os.ms-windows.misc : 985\n",
      "rec.sport.hockey : 999\n",
      "sci.crypt : 991\n",
      "sci.med : 990\n",
      "talk.politics.misc : 775\n",
      "rec.motorcycles : 994\n",
      "comp.windows.x : 980\n",
      "comp.graphics : 973\n",
      "comp.sys.ibm.pc.hardware : 982\n",
      "sci.electronics : 981\n",
      "talk.politics.guns : 910\n",
      "sci.space : 987\n",
      "soc.religion.christian : 997\n",
      "misc.forsale : 972\n",
      "talk.religion.misc : 628\n"
     ]
    }
   ],
   "source": [
    "\n",
    "pickle_dataset = pickle.load(open('AIML_DS_NEWSGROUPS_PICKELFILE.pkl','rb'))\n",
    "print(pickle_dataset.keys())\n",
    "\n",
    "# Print frequencies of dataset\n",
    "print(\"Class : count\")\n",
    "print(\"--------------\")\n",
    "number_of_documents = 0\n",
    "for key in pickle_dataset:\n",
    "    print(key, ':', len(pickle_dataset[key]))"
   ]
  },
  {
   "cell_type": "markdown",
   "metadata": {
    "colab_type": "text",
    "id": "3E1md10WDTpy"
   },
   "source": [
    "## Splitting into train and test sets"
   ]
  },
  {
   "cell_type": "markdown",
   "metadata": {
    "colab_type": "text",
    "id": "R0AYtzi-DTpz"
   },
   "source": [
    "Next, let us split our dataset which consists of 1000 samples per class, into training and test sets. We use 950 samples from each class in the training set, and the remaining 50 in the test set. \n",
    "\n",
    "As a mental exercise you should try reasoning about why is it important to ensure a nearly equal distribution of classes in your training and test sets. \n",
    "\n",
    "\n",
    "To know about decode refer the below link :\n",
    "\n",
    "https://www.tutorialspoint.com/python/string_decode.htm"
   ]
  },
  {
   "cell_type": "code",
   "execution_count": 0,
   "metadata": {
    "colab": {},
    "colab_type": "code",
    "id": "SjDQqmbMDTp1"
   },
   "outputs": [],
   "source": [
    "train_set = {}\n",
    "test_set = {}\n",
    "decoded_dataset = {}\n",
    "# Clean dataset for text encoding issues :- Very useful when dealing with non-unicode characters\n",
    "for key in pickle_dataset:\n",
    "    decoded_dataset[key] = [[i.decode('utf-8', errors='replace').lower() for i in f] for f in pickle_dataset[key]]\n",
    "    \n",
    "# Break dataset into 95-5 split for training and testing\n",
    "n_train = 0\n",
    "n_test = 0\n",
    "for k in decoded_dataset:\n",
    "    split = int(0.95*len(decoded_dataset[k]))\n",
    "    train_set[k] = decoded_dataset[k][0:split]\n",
    "    test_set[k] = decoded_dataset[k][split:]\n",
    "    n_train += len(train_set[k])\n",
    "    n_test += len(test_set[k])"
   ]
  },
  {
   "cell_type": "markdown",
   "metadata": {
    "colab_type": "text",
    "id": "b8ayx2e-FOmf"
   },
   "source": [
    "In the following cell/block, we are finding the frequency of the words and storing it in a dictionary. By doing this we have the vocabulary built for the corpus (in this case 20 news groups)"
   ]
  },
  {
   "cell_type": "code",
   "execution_count": 0,
   "metadata": {
    "colab": {
     "base_uri": "https://localhost:8080/",
     "height": 408
    },
    "colab_type": "code",
    "id": "BcXuwTGWDTp5",
    "outputId": "19265e8e-4a12-44b3-8776-5253c05f0f3b"
   },
   "outputs": [
    {
     "name": "stdout",
     "output_type": "stream",
     "text": [
      "Top-10 most frequent words:\n",
      "('the', 226860)\n",
      "('and', 90621)\n",
      "('that', 62088)\n",
      "('for', 43546)\n",
      "('you', 42430)\n",
      "('from', 35358)\n",
      "('this', 31001)\n",
      "('not', 28645)\n",
      "('have', 28519)\n",
      "('are', 28355)\n",
      "----------------------------\n",
      "10 least frequent words:\n",
      "('apokteiuo', 1)\n",
      "('odessy', 1)\n",
      "('reedited', 1)\n",
      "('stumps', 1)\n",
      "('morsel', 1)\n",
      "('roston', 1)\n",
      "('nutball', 1)\n",
      "('tillage', 1)\n",
      "('honorably', 1)\n",
      "('beecher', 1)\n"
     ]
    }
   ],
   "source": [
    "# Initialize a dictionary to store frequencies of words.\n",
    "# Key:Value === Word:Count\n",
    "frequency = defaultdict(int)\n",
    "    \n",
    "for key in train_set:\n",
    "    for f in train_set[key]:\n",
    "       # print(type(f))\n",
    "        # Find all words which consist only of capital and lowercase characters and are between length of 2-9.\n",
    "        # We ignore all special characters such as !.$ and words containing numbers\n",
    "        words = re.findall(r'(\\b[A-Za-z][a-z]{2,9}\\b)', ' '.join(f))\n",
    "    \n",
    "        for word in words:\n",
    "            frequency[word] += 1\n",
    "\n",
    "sorted_words = sorted(frequency.items(), key=operator.itemgetter(1), reverse=True)\n",
    "print(\"Top-10 most frequent words:\")\n",
    "for word in sorted_words[:10]:\n",
    "    print(word)\n",
    "\n",
    "print('----------------------------')\n",
    "print(\"10 least frequent words:\")\n",
    "for word in sorted_words[-10:]:\n",
    "    print(word)"
   ]
  },
  {
   "cell_type": "markdown",
   "metadata": {
    "colab_type": "text",
    "id": "TvDVamv_FGH_"
   },
   "source": [
    "### Ignore the 25 most frequent words, and the words which appear less than 100 times\n",
    "\n",
    "Please observe the bar chart of word vs its frequency. Generally the stop words, the words that appear on most of the documents and the words that are too rare come in this list. These words don't add much value in the classification task. So, we are removing them to decrease the vocabulary. Removing the words in vocabulary helps in saving memory and speeds up the processing (i.e. it decreases the space complexity to large extent)"
   ]
  },
  {
   "cell_type": "code",
   "execution_count": 0,
   "metadata": {
    "colab": {
     "base_uri": "https://localhost:8080/",
     "height": 51
    },
    "colab_type": "code",
    "id": "VJpqahqtDTp-",
    "outputId": "1bbbe18d-2207-474b-8963-71bb409dac84"
   },
   "outputs": [
    {
     "name": "stdout",
     "output_type": "stream",
     "text": [
      "Number of words before preprocessing: 89599\n",
      "Number of words after preprocessing: 426\n"
     ]
    }
   ],
   "source": [
    "valid_words = defaultdict(int)\n",
    "\n",
    "print('Number of words before preprocessing:', len(sorted_words))\n",
    "\n",
    "ignore_most_frequent = 25\n",
    "freq_thresh = 1000\n",
    "feature_number = 0\n",
    "for word, word_frequency in sorted_words[ignore_most_frequent:]:\n",
    "    if word_frequency > freq_thresh:\n",
    "        valid_words[word] = feature_number\n",
    "        feature_number += 1\n",
    "        \n",
    "print('Number of words after preprocessing:', len(valid_words))\n",
    "\n",
    "word_vector_size = len(valid_words)"
   ]
  },
  {
   "cell_type": "markdown",
   "metadata": {
    "colab_type": "text",
    "id": "bXqK59gGDTqE"
   },
   "source": [
    "# 1. Word2Vec"
   ]
  },
  {
   "cell_type": "markdown",
   "metadata": {
    "colab_type": "text",
    "id": "csm5a0hrDTqI"
   },
   "source": [
    "In the previous section we saw a naive way to represent words as dense vectors which can leverage the semantics of the words.\n",
    "\n",
    "The problem with count-based word representations is that they are costly in terms of memory to compute large co-occurrence matrices. Let us see another method to find representations of words without explicitly counting words.\n",
    "\n",
    "Here, we aim to predict the next word given the context in which the word appears. (For example, given the last $n$ words, predict the next word). A very smart way to do this is by using a feature representation called \"Word2Vec\" with transforms each word into 300-dimensional vectors.\n",
    "\n",
    "Link to pretrained 300 dimensional word2vec: https://drive.google.com/uc?id=0B7XkCwpI5KDYNlNUTTlSS21pQmM&export=download"
   ]
  },
  {
   "cell_type": "markdown",
   "metadata": {
    "colab_type": "text",
    "id": "0QBnlIZxDTqK"
   },
   "source": [
    "## 1.1 Visualizations\n",
    "\n",
    "Before we go to the actual 300 dimensional vectors, let's try to explore some of the more intriguing properties of word2vec.\n",
    "\n",
    "You have been provided with a sample of word vectors. **We have reduced the dimensionality of the 300-dimensional vectors to 2 dimensions, so that we can plot them in matplotlib.**"
   ]
  },
  {
   "cell_type": "code",
   "execution_count": 0,
   "metadata": {
    "colab": {
     "base_uri": "https://localhost:8080/",
     "height": 537
    },
    "colab_type": "code",
    "id": "yg0FXnBhDTqL",
    "outputId": "fb6ce1ab-05f7-4bc6-edda-da7c07fd9507"
   },
   "outputs": [
    {
     "data": {
      "image/png": "[encoded data removed]",
      "text/plain": [
       "<Figure size 1152x648 with 1 Axes>"
      ]
     },
     "metadata": {
      "tags": []
     },
     "output_type": "display_data"
    }
   ],
   "source": [
    "def plot_values(values, labels, figsize = (8,4), c = []):\n",
    "    x = []\n",
    "    y = []\n",
    "    for value in values:\n",
    "        x.append(value[0])\n",
    "        y.append(value[1])\n",
    "        \n",
    "    plt.figure(figsize=figsize) \n",
    "    for i in range(len(labels)):\n",
    "        plt.scatter(x[i],y[i], color=c[i])\n",
    "        plt.annotate(labels[i],\n",
    "                     xy=(x[i], y[i]),\n",
    "                     xytext=(5, 2),\n",
    "                     textcoords='offset points',\n",
    "                     ha='right',\n",
    "                     va='bottom')\n",
    "    plt.show()\n",
    "\n",
    "\n",
    "import pickle\n",
    "two_dim_model = pickle.load(open('AIML_DS_WORD2VEC2D_STD.pkl', 'rb'))\n",
    "\n",
    "wv_labels = {}\n",
    "for vec, word in two_dim_model:\n",
    "    wv_labels[word] = vec\n",
    "    \n",
    "colors = ['blue' for i in range(len(wv_labels))]\n",
    "\n",
    "plot_values(wv_labels.values(), list(wv_labels.keys()), figsize = (16, 9), c = colors)"
   ]
  },
  {
   "cell_type": "markdown",
   "metadata": {
    "colab_type": "text",
    "id": "W2Yxw_7FDTqP"
   },
   "source": [
    "Now, we have given you the 2D representation of different word vectors. Plot the word vectors for the words 'King', 'Queen', 'man', 'women', 'Germany', 'France', 'Berlin', 'Paris', 'best', 'good', 'strong', 'strongest' in green color:"
   ]
  },
  {
   "cell_type": "code",
   "execution_count": 0,
   "metadata": {
    "colab": {
     "base_uri": "https://localhost:8080/",
     "height": 267
    },
    "colab_type": "code",
    "id": "JMF6vO05DTqQ",
    "outputId": "5d7383c9-c865-4c14-a326-dd9e97682972"
   },
   "outputs": [
    {
     "data": {
      "image/png": "[encoded data removed]",
      "text/plain": [
       "<Figure size 576x288 with 1 Axes>"
      ]
     },
     "metadata": {
      "tags": []
     },
     "output_type": "display_data"
    }
   ],
   "source": [
    "wv_list = ['king', 'queen', 'man', 'woman', 'Germany', 'France', 'Berlin', 'Paris', 'best', 'good', 'strong', 'strongest']\n",
    "wv_new_labels = {}\n",
    "for word in wv_list:\n",
    "    wv_new_labels[word] = wv_labels[word]\n",
    "\n",
    "colors = ['green' for i in range(len(wv_new_labels))]\n",
    "plot_values(wv_new_labels.values(), list(wv_new_labels.keys()), c = colors)"
   ]
  },
  {
   "cell_type": "markdown",
   "metadata": {
    "colab_type": "text",
    "id": "2PbuN6OaDTqU"
   },
   "source": [
    "Consider the word analogy question: \"Queen is to King, as Woman is to what?\"\n",
    "\n",
    "To answer this question, we aim to find what the difference between a \"King\" and \"Queen\" is, and apply that difference to a \"Woman\". If we try to put this mathematically, we can write:- \n",
    "$$\n",
    " Answer = Woman + King - Queen\n",
    "$$\n",
    "\n",
    "Compute the value of the vector on the right hand side of the above equation and plot the resulting vector in red in the same plot as before. "
   ]
  },
  {
   "cell_type": "code",
   "execution_count": 0,
   "metadata": {
    "colab": {
     "base_uri": "https://localhost:8080/",
     "height": 267
    },
    "colab_type": "code",
    "id": "GHer2vrbDTqV",
    "outputId": "31e5866b-f87e-4f1d-f548-97b9f56a1cbe"
   },
   "outputs": [
    {
     "data": {
      "image/png": "[encoded data removed]",
      "text/plain": [
       "<Figure size 576x288 with 1 Axes>"
      ]
     },
     "metadata": {
      "tags": []
     },
     "output_type": "display_data"
    }
   ],
   "source": [
    "answer = wv_new_labels['woman']  + wv_new_labels['queen'] - wv_new_labels['king']\n",
    "\n",
    "wv_new_labels['answer1'] = answer\n",
    "\n",
    "colors = ['green' if word not in ['answer1'] else 'red' for word in wv_new_labels]\n",
    "\n",
    "plot_values(wv_new_labels.values(), list(wv_new_labels.keys()), c = colors)"
   ]
  },
  {
   "cell_type": "code",
   "execution_count": 0,
   "metadata": {
    "colab": {
     "base_uri": "https://localhost:8080/",
     "height": 238
    },
    "colab_type": "code",
    "id": "8BzUPD5dTCL4",
    "outputId": "b4dd3caa-fef4-4544-a03e-b98e3d5ff26f"
   },
   "outputs": [
    {
     "data": {
      "text/plain": [
       "{'Berlin': array([ 54.274452, -64.469635], dtype=float32),\n",
       " 'France': array([  83.19701, -107.68167], dtype=float32),\n",
       " 'Germany': array([ 45.499916, -99.3416  ], dtype=float32),\n",
       " 'Paris': array([ 94.10659, -72.8086 ], dtype=float32),\n",
       " 'answer1': array([-19.687668,  90.61377 ], dtype=float32),\n",
       " 'best': array([-92.34501 , -15.415305], dtype=float32),\n",
       " 'good': array([-61.84133 , -12.378604], dtype=float32),\n",
       " 'king': array([-87.6883 , 198.91006], dtype=float32),\n",
       " 'man': array([-22.006508,  85.321365], dtype=float32),\n",
       " 'queen': array([-100.098526,  227.57243 ], dtype=float32),\n",
       " 'strong': array([-55.183422, -49.03513 ], dtype=float32),\n",
       " 'strongest': array([-91.239624, -60.49361 ], dtype=float32),\n",
       " 'woman': array([-7.277442, 61.951393], dtype=float32)}"
      ]
     },
     "execution_count": 16,
     "metadata": {
      "tags": []
     },
     "output_type": "execute_result"
    }
   ],
   "source": [
    "wv_new_labels"
   ]
  },
  {
   "cell_type": "markdown",
   "metadata": {
    "colab_type": "text",
    "id": "5kCh_NClDTqY"
   },
   "source": [
    "Notice how the answer vector is very close to the vector of the word \"Man\"? Incidentally, \"Man\" is the right answer to the word analogy question! This is the power of Word2Vec representations."
   ]
  },
  {
   "cell_type": "markdown",
   "metadata": {
    "colab_type": "text",
    "id": "TsODt3Z9DTqa"
   },
   "source": [
    "### Ungraded Exercise 1"
   ]
  },
  {
   "cell_type": "markdown",
   "metadata": {
    "colab_type": "text",
    "id": "47AFoEUeDTqd"
   },
   "source": [
    "Using this technique answer the following questions."
   ]
  },
  {
   "cell_type": "markdown",
   "metadata": {
    "colab_type": "text",
    "id": "fpoeXWV9DTqf"
   },
   "source": [
    "* Germany is to France, as Paris is to?\n",
    "* Best is to Good, as Strongest is to?\n"
   ]
  },
  {
   "cell_type": "code",
   "execution_count": 0,
   "metadata": {
    "colab": {},
    "colab_type": "code",
    "id": "19D8C40N2kC3"
   },
   "outputs": [],
   "source": [
    "germany = wv_new_labels['Germany']\n",
    "france = wv_new_labels['France']\n",
    "paris = wv_new_labels['Paris']\n",
    "x = paris + germany - france"
   ]
  },
  {
   "cell_type": "code",
   "execution_count": 0,
   "metadata": {
    "colab": {
     "base_uri": "https://localhost:8080/",
     "height": 255
    },
    "colab_type": "code",
    "id": "D7GNaMeOTyUy",
    "outputId": "3f4942e8-02a7-4f4f-b1c2-4586541845de"
   },
   "outputs": [
    {
     "data": {
      "text/plain": [
       "['green',\n",
       " 'green',\n",
       " 'green',\n",
       " 'green',\n",
       " 'green',\n",
       " 'green',\n",
       " 'green',\n",
       " 'green',\n",
       " 'green',\n",
       " 'green',\n",
       " 'green',\n",
       " 'green',\n",
       " 'green',\n",
       " 'red']"
      ]
     },
     "execution_count": 21,
     "metadata": {
      "tags": []
     },
     "output_type": "execute_result"
    }
   ],
   "source": [
    "wv_new_labels['X'] = x\n",
    "colors = ['green' if word not in ['X'] else 'red' for word in wv_new_labels]\n",
    "colors"
   ]
  },
  {
   "cell_type": "code",
   "execution_count": 0,
   "metadata": {
    "colab": {
     "base_uri": "https://localhost:8080/",
     "height": 267
    },
    "colab_type": "code",
    "id": "Q7F356uHUOtD",
    "outputId": "b6f81704-1a1e-4779-db95-596c4769f1e7"
   },
   "outputs": [
    {
     "data": {
      "image/png": "[encoded data removed]",
      "text/plain": [
       "<Figure size 576x288 with 1 Axes>"
      ]
     },
     "metadata": {
      "tags": []
     },
     "output_type": "display_data"
    }
   ],
   "source": [
    "plot_values(wv_new_labels.values(), list(wv_new_labels.keys()), c = colors)"
   ]
  },
  {
   "cell_type": "markdown",
   "metadata": {
    "colab_type": "text",
    "id": "mOcxKzuvDTql"
   },
   "source": [
    "## 1.2 Load pre-trained Word2Vec\n",
    "\n",
    "Let us now proceed to load the complete pretrained vectors."
   ]
  },
  {
   "cell_type": "code",
   "execution_count": 0,
   "metadata": {
    "colab": {
     "base_uri": "https://localhost:8080/",
     "height": 71
    },
    "colab_type": "code",
    "id": "yXoawLkSDTqn",
    "outputId": "36a31962-fc70-4229-8faf-09ecf5b48220"
   },
   "outputs": [
    {
     "name": "stderr",
     "output_type": "stream",
     "text": [
      "/usr/local/lib/python3.6/dist-packages/smart_open/smart_open_lib.py:402: UserWarning: This function is deprecated, use smart_open.open instead. See the migration notes for details: https://github.com/RaRe-Technologies/smart_open/blob/master/README.rst#migrating-to-the-new-open-function\n",
      "  'See the migration notes for details: %s' % _MIGRATION_NOTES_URL\n"
     ]
    }
   ],
   "source": [
    "model = gensim.models.KeyedVectors.load_word2vec_format('AIML_DS_GOOGLENEWS-VECTORS-NEGATIVE-300_STD.bin', binary=True, limit=500000)"
   ]
  },
  {
   "cell_type": "markdown",
   "metadata": {
    "colab_type": "text",
    "id": "wFdjtmZLDTqq"
   },
   "source": [
    "## 1.3 Word2Vec representation\n",
    "\n",
    "Convert each document into average of the word2vec vectors of all valid words in document"
   ]
  },
  {
   "cell_type": "markdown",
   "metadata": {
    "colab_type": "text",
    "id": "SRvcxruXH1Kx"
   },
   "source": [
    " This method converts documents to word vectors. It first checks if the word is valid according to our initial frequency threshold. Next, if it is, we add the precomputed word vectors together. If the word is valid, but we do not have a valid vector to represent the word, we add a random gaussian noise instead. Since we do not want to induce new noise each time, we store the same noise vector for training and test time in substitute_word_vecs variable.\n",
    "\n",
    " "
   ]
  },
  {
   "cell_type": "markdown",
   "metadata": {
    "colab_type": "text",
    "id": "Xmzo0mCdIYYb"
   },
   "source": [
    "###  Now, let us think about what we mean by \"valid vector for representing a word\" and why it doesn't exist in some cases?\n",
    "\n",
    "* It happens when we have  misspelt word in the vocabulary\n",
    "* If the vocabulary for corpus which you are classifying and the corpus used to find the vector embedding are different."
   ]
  },
  {
   "cell_type": "code",
   "execution_count": 0,
   "metadata": {
    "colab": {},
    "colab_type": "code",
    "id": "DiZxIihmDTqr"
   },
   "outputs": [],
   "source": [
    "word2vec_vector_size = 300\n",
    "def convert_to_w2v(dataset, number_of_documents, substitute_word_vecs={}):\n",
    "    labels = np.zeros((number_of_documents, 1))\n",
    "    w2v_rep = np.zeros((number_of_documents, word2vec_vector_size))\n",
    "    \n",
    "    # Iterate over the dataset and split into words\n",
    "    i = 0\n",
    "    for label, class_name in enumerate(dataset):\n",
    "        for f in dataset[class_name]:\n",
    "            text = ' '.join(f).split(' ')\n",
    "            valid_count = 1\n",
    "            for word in text:\n",
    "                \n",
    "                # Check if word is valid or not according to original dataset pruning\n",
    "                if word in valid_words:\n",
    "                    try:\n",
    "                        w2v_rep[i] += model[word]\n",
    "                    except:\n",
    "                        '''The word isn't in our pretrained word-vectors, hence we add a random gaussian noise\n",
    "                         to account for this. We store the random vector we assigned to the word, and reuse \n",
    "                         the same vector during test time to ensure consistency.'''\n",
    "                        \n",
    "                        if word not in substitute_word_vecs.keys():\n",
    "                            substitute_word_vecs[word] = np.random.normal(-0.25, 0.25, word2vec_vector_size)\n",
    "                            \n",
    "                        w2v_rep[i] += substitute_word_vecs[word]\n",
    "                    \n",
    "                    valid_count += 1\n",
    "            \n",
    "            # Average\n",
    "            w2v_rep[i] = w2v_rep[i] / valid_count\n",
    "            \n",
    "            # Save label\n",
    "            labels[i] = label\n",
    "            \n",
    "            i += 1\n",
    "    \n",
    "    return w2v_rep, labels, substitute_word_vecs\n",
    "\n",
    "# Convert the train and test datasets into their word2vec representations\n",
    "train_w2v_set, train_w2v_labels, substitute_word_vecs = convert_to_w2v(train_set, n_train)\n",
    "test_w2v_set, test_w2v_labels,_ = convert_to_w2v(test_set, n_test, substitute_word_vecs)"
   ]
  },
  {
   "cell_type": "code",
   "execution_count": 0,
   "metadata": {
    "colab": {
     "base_uri": "https://localhost:8080/",
     "height": 34
    },
    "colab_type": "code",
    "id": "FKLHLlQIVyWB",
    "outputId": "136236a1-7584-442d-e628-390b2bdf913b"
   },
   "outputs": [
    {
     "data": {
      "text/plain": [
       "dict"
      ]
     },
     "execution_count": 51,
     "metadata": {
      "tags": []
     },
     "output_type": "execute_result"
    }
   ],
   "source": [
    "type(substitute_word_vecs)"
   ]
  },
  {
   "cell_type": "code",
   "execution_count": 0,
   "metadata": {
    "colab": {
     "base_uri": "https://localhost:8080/",
     "height": 34
    },
    "colab_type": "code",
    "id": "GnLhzbAyZeLy",
    "outputId": "a7b23456-1381-485a-9cc7-1b6af4f5401b"
   },
   "outputs": [
    {
     "data": {
      "text/plain": [
       "6"
      ]
     },
     "execution_count": 54,
     "metadata": {
      "tags": []
     },
     "output_type": "execute_result"
    }
   ],
   "source": [
    "len(substitute_word_vecs)"
   ]
  },
  {
   "cell_type": "markdown",
   "metadata": {
    "colab_type": "text",
    "id": "hrs_bVWhDTqy"
   },
   "source": [
    "## 3.1 Document classification using Word2Vec\n",
    "\n",
    "You may try to understand what distance metric Sklearn's KNeighborsClassifier uses in this case."
   ]
  },
  {
   "cell_type": "code",
   "execution_count": 0,
   "metadata": {
    "colab": {},
    "colab_type": "code",
    "id": "lhGbqmGYWX3k"
   },
   "outputs": [],
   "source": [
    "from sklearn.neighbors import KNeighborsClassifier"
   ]
  },
  {
   "cell_type": "code",
   "execution_count": 0,
   "metadata": {
    "colab": {
     "base_uri": "https://localhost:8080/",
     "height": 102
    },
    "colab_type": "code",
    "id": "VaUD0G5QWmls",
    "outputId": "89e3e752-f5fc-4d33-fdb7-abc19ae87865"
   },
   "outputs": [
    {
     "name": "stderr",
     "output_type": "stream",
     "text": [
      "/usr/local/lib/python3.6/dist-packages/ipykernel_launcher.py:2: DataConversionWarning: A column-vector y was passed when a 1d array was expected. Please change the shape of y to (n_samples, ), for example using ravel().\n",
      "  \n"
     ]
    },
    {
     "data": {
      "text/plain": [
       "KNeighborsClassifier(algorithm='auto', leaf_size=30, metric='minkowski',\n",
       "                     metric_params=None, n_jobs=None, n_neighbors=3, p=2,\n",
       "                     weights='uniform')"
      ]
     },
     "execution_count": 47,
     "metadata": {
      "tags": []
     },
     "output_type": "execute_result"
    }
   ],
   "source": [
    "neigh = KNeighborsClassifier(n_neighbors=3)\n",
    "neigh.fit(train_w2v_set, train_w2v_labels)"
   ]
  },
  {
   "cell_type": "code",
   "execution_count": 0,
   "metadata": {
    "colab": {},
    "colab_type": "code",
    "id": "7Wlk0vKXW3Q_"
   },
   "outputs": [],
   "source": [
    "predicted_value = neigh.predict(test_w2v_set)"
   ]
  },
  {
   "cell_type": "code",
   "execution_count": 0,
   "metadata": {
    "colab": {},
    "colab_type": "code",
    "id": "fpsGiz45XQ6X"
   },
   "outputs": [],
   "source": [
    "from sklearn.metrics import accuracy_score"
   ]
  },
  {
   "cell_type": "code",
   "execution_count": 0,
   "metadata": {
    "colab": {
     "base_uri": "https://localhost:8080/",
     "height": 34
    },
    "colab_type": "code",
    "id": "Dyk-FTCiXSBX",
    "outputId": "e071eb8b-1130-4dd8-ce3e-50e108760893"
   },
   "outputs": [
    {
     "data": {
      "text/plain": [
       "0.4463157894736842"
      ]
     },
     "execution_count": 50,
     "metadata": {
      "tags": []
     },
     "output_type": "execute_result"
    }
   ],
   "source": [
    "accuracy_score(test_w2v_labels,predicted_value)"
   ]
  },
  {
   "cell_type": "markdown",
   "metadata": {
    "colab_type": "text",
    "id": "A_rLlG_zDTq5"
   },
   "source": [
    "### Ungraded Exercise 2\n",
    "\n",
    "The frequency thresholds represents the minimum frequency a word must have to be considered relevant. Experiment with the following values of frequency threshold in your preprocessing step from section 1.2. Re-run all the codes with the new set of valid words and report the accuracies. Use the following values:\n",
    "\n",
    "`freq_thresh` = \n",
    "* 10\n",
    "* 1000\n",
    "\n",
    "Report the accuracies using word2vec features."
   ]
  },
  {
   "cell_type": "markdown",
   "metadata": {
    "colab_type": "text",
    "id": "mN9_U292DTq-"
   },
   "source": [
    "### Ungraded Exercise 3"
   ]
  },
  {
   "cell_type": "markdown",
   "metadata": {
    "colab_type": "text",
    "id": "kcurZoWaDTq_"
   },
   "source": [
    "In section 1.3, substitute_word_vectors is used as a proxy for a word vector which we do not know. We used a normal gaussian to represent this in that section. Experiment with the type of substitute word vectors used when you do not have a pretrained word vecto is used as the following:\n",
    "\n",
    "`substitute_word_vecs` : \n",
    "* np.ones\n",
    "* np.zeros\n",
    "\n",
    "Report the accuracies using only word2vec features."
   ]
  },
  {
   "cell_type": "code",
   "execution_count": 0,
   "metadata": {
    "colab": {},
    "colab_type": "code",
    "id": "GX-DgEQ42sFB"
   },
   "outputs": [],
   "source": [
    "word2vec_vector_size = 300\n",
    "def convert_to_w2v(dataset, number_of_documents, substitute_word_vecs={}):\n",
    "    labels = np.zeros((number_of_documents, 1))\n",
    "    w2v_rep = np.zeros((number_of_documents, word2vec_vector_size))\n",
    "    \n",
    "    # Iterate over the dataset and split into words\n",
    "    i = 0\n",
    "    for label, class_name in enumerate(dataset):\n",
    "        for f in dataset[class_name]:\n",
    "            text = ' '.join(f).split(' ')\n",
    "            valid_count = 1\n",
    "            for word in text:\n",
    "                \n",
    "                # Check if word is valid or not according to original dataset pruning\n",
    "                if word in valid_words:\n",
    "                    try:\n",
    "                        w2v_rep[i] += model[word]\n",
    "                    except:\n",
    "                        '''The word isn't in our pretrained word-vectors, hence we add a random gaussian noise\n",
    "                         to account for this. We store the random vector we assigned to the word, and reuse \n",
    "                         the same vector during test time to ensure consistency.'''\n",
    "                        \n",
    "                        if word not in substitute_word_vecs.keys():\n",
    "                            substitute_word_vecs[word] = np.ones(word2vec_vector_size)\n",
    "                            #substitute_word_vecs[word] = np.random.normal(-0.25, 0.25, word2vec_vector_size)\n",
    "                            \n",
    "                        w2v_rep[i] += substitute_word_vecs[word]\n",
    "                    \n",
    "                    valid_count += 1\n",
    "            \n",
    "            # Average\n",
    "            w2v_rep[i] = w2v_rep[i] / valid_count\n",
    "            \n",
    "            # Save label\n",
    "            labels[i] = label\n",
    "            \n",
    "            i += 1\n",
    "    \n",
    "    return w2v_rep, labels, substitute_word_vecs\n",
    "\n",
    "# Convert the train and test datasets into their word2vec representations\n",
    "train_w2v_set, train_w2v_labels, substitute_word_vecs = convert_to_w2v(train_set, n_train)\n",
    "test_w2v_set, test_w2v_labels,_ = convert_to_w2v(test_set, n_test, substitute_word_vecs)"
   ]
  },
  {
   "cell_type": "code",
   "execution_count": 0,
   "metadata": {
    "colab": {
     "base_uri": "https://localhost:8080/",
     "height": 68
    },
    "colab_type": "code",
    "id": "bH7fC9TPaKzB",
    "outputId": "39f7bcce-eef6-4222-cf86-795620c4877c"
   },
   "outputs": [
    {
     "name": "stderr",
     "output_type": "stream",
     "text": [
      "/usr/local/lib/python3.6/dist-packages/ipykernel_launcher.py:3: DataConversionWarning: A column-vector y was passed when a 1d array was expected. Please change the shape of y to (n_samples, ), for example using ravel().\n",
      "  This is separate from the ipykernel package so we can avoid doing imports until\n"
     ]
    },
    {
     "data": {
      "text/plain": [
       "0.4421052631578947"
      ]
     },
     "execution_count": 59,
     "metadata": {
      "tags": []
     },
     "output_type": "execute_result"
    }
   ],
   "source": [
    "from sklearn.neighbors import KNeighborsClassifier\n",
    "neigh = KNeighborsClassifier(n_neighbors=3)\n",
    "neigh.fit(train_w2v_set, train_w2v_labels)\n",
    "predicted_value = neigh.predict(test_w2v_set)\n",
    "from sklearn.metrics import accuracy_score\n",
    "accuracy_score(test_w2v_labels,predicted_value)"
   ]
  },
  {
   "cell_type": "code",
   "execution_count": 0,
   "metadata": {
    "colab": {
     "base_uri": "https://localhost:8080/",
     "height": 136
    },
    "colab_type": "code",
    "id": "1ixWWV4aaj7Y",
    "outputId": "4b646af8-1c12-4ee3-91bb-4ff5d711bc23"
   },
   "outputs": [
    {
     "data": {
      "text/plain": [
       "array([[ 0.],\n",
       "       [ 0.],\n",
       "       [ 0.],\n",
       "       ...,\n",
       "       [19.],\n",
       "       [19.],\n",
       "       [19.]])"
      ]
     },
     "execution_count": 57,
     "metadata": {
      "tags": []
     },
     "output_type": "execute_result"
    }
   ],
   "source": [
    "train_w2v_labels"
   ]
  },
  {
   "cell_type": "markdown",
   "metadata": {
    "colab_type": "text",
    "id": "ot2965O2DTrD"
   },
   "source": [
    "### Ungraded Exercise 4"
   ]
  },
  {
   "cell_type": "markdown",
   "metadata": {
    "colab_type": "text",
    "id": "IGBzFigADTrE"
   },
   "source": [
    "To classify news articles into their 20 news groups, experiment with three different parameter values with the following parameter choices.\n",
    "\n",
    "* K-NN \n",
    "* K : 10, 50\n",
    "* Distance Metric : Euclidean.\n",
    "\n",
    "\n",
    "Report the accuracies using  word2vec features."
   ]
  },
  {
   "cell_type": "code",
   "execution_count": 0,
   "metadata": {
    "colab": {
     "base_uri": "https://localhost:8080/",
     "height": 68
    },
    "colab_type": "code",
    "id": "PFFxKvDH2vCG",
    "outputId": "2affe87d-d4ee-4b73-83dc-b001d8c8541c"
   },
   "outputs": [
    {
     "name": "stderr",
     "output_type": "stream",
     "text": [
      "/usr/local/lib/python3.6/dist-packages/ipykernel_launcher.py:3: DataConversionWarning: A column-vector y was passed when a 1d array was expected. Please change the shape of y to (n_samples, ), for example using ravel().\n",
      "  This is separate from the ipykernel package so we can avoid doing imports until\n"
     ]
    },
    {
     "data": {
      "text/plain": [
       "0.3663157894736842"
      ]
     },
     "execution_count": 62,
     "metadata": {
      "tags": []
     },
     "output_type": "execute_result"
    }
   ],
   "source": [
    "from sklearn.neighbors import KNeighborsClassifier\n",
    "neigh = KNeighborsClassifier(n_neighbors=50, metric='euclidean')\n",
    "neigh.fit(train_w2v_set, train_w2v_labels)\n",
    "predicted_value = neigh.predict(test_w2v_set)\n",
    "from sklearn.metrics import accuracy_score\n",
    "accuracy_score(test_w2v_labels,predicted_value)"
   ]
  }
 ],
 "metadata": {
  "colab": {
   "collapsed_sections": [],
   "name": "007_Word2vec_20newsgroup_C.ipynb",
   "provenance": []
  },
  "kernelspec": {
   "display_name": "Python 3",
   "language": "python",
   "name": "python3"
  },
  "language_info": {
   "codemirror_mode": {
    "name": "ipython",
    "version": 3
   },
   "file_extension": ".py",
   "mimetype": "text/x-python",
   "name": "python",
   "nbconvert_exporter": "python",
   "pygments_lexer": "ipython3",
   "version": "3.6.5"
  }
 },
 "nbformat": 4,
 "nbformat_minor": 1
}
