{
 "cells": [
  {
   "cell_type": "markdown",
   "metadata": {
    "colab_type": "text",
    "id": "QFoYb0Vu3xj2"
   },
   "source": [
    "# Advanced Certification in AIML\n",
    "## A Program by IIIT-H and TalentSprint"
   ]
  },
  {
   "cell_type": "markdown",
   "metadata": {
    "colab_type": "text",
    "id": "Kq7GFMbeOx9x"
   },
   "source": [
    "## Learning Objectives"
   ]
  },
  {
   "cell_type": "markdown",
   "metadata": {
    "colab_type": "text",
    "id": "eH4DRCIdYU-g"
   },
   "source": [
    "At the end of the experiment, you will be able to :\n",
    "\n",
    "* Reduce dimensionality of the data using PCA\n"
   ]
  },
  {
   "cell_type": "markdown",
   "metadata": {
    "colab_type": "text",
    "id": "4iv6QMD0Y8Hc"
   },
   "source": [
    "#### History\n",
    "\n",
    "This is a multivariate dataset introduced by R.A.Fisher (Father of Modern Statistics) for showcasing linear discriminant analysis. This is arguably the best known dataset in Feature Selection literature.\n",
    "\n",
    "\n",
    "The data set contains 3 classes of 50 instances each, where each class refers to a type of iris plant. One class is linearly separable from the other 2; the latter are NOT linearly separable from each other. "
   ]
  },
  {
   "cell_type": "markdown",
   "metadata": {
    "colab_type": "text",
    "id": "XA_1zVozYYWo"
   },
   "source": [
    "#### Description\n",
    "The Iris dataset consists of 150 data instances. There are 3 classes (Iris Versicolor, Iris Setosa and Iris Virginica) each have 50 instances. \n",
    "\n",
    "\n",
    "For each flower we have the below data attributes \n",
    "\n",
    "- sepal length in cm\n",
    "- sepal width in cm\n",
    "- petal length in cm\n",
    "- petal width in cm\n",
    "\n",
    "To make our experiment easy we rename the classes  with numbers : \n",
    "\n",
    "    \"0\": setosa\n",
    "    \"1\": versicolor\n",
    "    \"2\": virginica\n",
    "    "
   ]
  },
  {
   "cell_type": "markdown",
   "metadata": {
    "colab_type": "text",
    "id": "Kmrsv7oxZNN3"
   },
   "source": [
    "### Challenges\n",
    "\n",
    "When we use the data with large number of features or dimensionality, models usually choke because\n",
    "\n",
    "    1. Training time increases exponentially with number of features.\n",
    "    2. Models have increasing risk of overfitting with increasing number of features.\n",
    "    \n",
    "To avoid the above mentioned problems while learning about data analysis, we use simple, well behaved, data that reduces the cognitive load, and makes it easier to debug as we are able to better comprehend the data we are working with.  \n",
    "\n",
    "Hence, this is a good dataset to work on."
   ]
  },
  {
   "cell_type": "markdown",
   "metadata": {
    "colab_type": "text",
    "id": "n95mNFiNZRdp"
   },
   "source": [
    "### Domain Information\n",
    "\n",
    "Iris Plants are flowering plants with showy flowers. They are very popular among movie directors as it gives excellent background. \n",
    "\n",
    "They are predominantly found in dry, semi-desert, or colder rocky mountainous areas in Europe and Asia. They have long, erect flowering stems and can produce white, yellow, orange, pink, purple, lavender, blue or brown colored flowers. There are 260 to 300 types of iris.\n",
    "\n",
    "![alt text](https://cdn-images-1.medium.com/max/1275/1*7bnLKsChXq94QjtAiRn40w.png)\n",
    "\n",
    "As you could see, flowers have 3 sepals and 3 petals.  The sepals are usually spreading or drop downwards and the petals stand upright, partly behind the sepal bases. However, the length and width of the sepals and petals vary for each type.\n"
   ]
  },
  {
   "cell_type": "markdown",
   "metadata": {
    "colab_type": "text",
    "id": "EWQXDLCDOxjj"
   },
   "source": [
    "##AI/ML Technique"
   ]
  },
  {
   "cell_type": "markdown",
   "metadata": {
    "colab_type": "text",
    "id": "26edl0KhOxPy"
   },
   "source": [
    "In order to perform dimensionality reduction on Iris datase we use PCA\n",
    "\n",
    "**Principal Component Analysis (PCA)**\n",
    "\n",
    "PCA is linear algebra technique widely used for feature extraction and dimensionality reduction.\n",
    "PCA helps us identify hidden relationships, similarities or differences, then we can make dimension reduction. However, PCA is the best known and used to reduce the dimensions of dataset. Not only dimensionality reduction we can also perform data compression or feature extraction over the output of it. "
   ]
  },
  {
   "cell_type": "markdown",
   "metadata": {
    "colab_type": "text",
    "id": "OjItUTCN4Sff"
   },
   "source": [
    "#### Importing the required packages"
   ]
  },
  {
   "cell_type": "code",
   "execution_count": 0,
   "metadata": {
    "colab": {},
    "colab_type": "code",
    "id": "UDHz4w-rgxFO"
   },
   "outputs": [],
   "source": [
    "# Importing datasets package to load iris dataset \n",
    "from sklearn import datasets\n",
    "from sklearn import model_selection"
   ]
  },
  {
   "cell_type": "code",
   "execution_count": 0,
   "metadata": {
    "colab": {},
    "colab_type": "code",
    "id": "aktoIpOngxFT"
   },
   "outputs": [],
   "source": [
    "# Import PCA from sklearn.decomposition to project data from higher dimensions to lower dimensions\n",
    "from sklearn.decomposition import PCA"
   ]
  },
  {
   "cell_type": "code",
   "execution_count": 0,
   "metadata": {
    "colab": {},
    "colab_type": "code",
    "id": "uLgMWawpgxFX"
   },
   "outputs": [],
   "source": [
    "# Import linear model to use the SGDClassifier further in the experiment\n",
    "from sklearn import linear_model"
   ]
  },
  {
   "cell_type": "code",
   "execution_count": 0,
   "metadata": {
    "colab": {},
    "colab_type": "code",
    "id": "Z_g0Qre1gxFb"
   },
   "outputs": [],
   "source": [
    "# Use load_iris() to get the data \n",
    "# It returns an object of the dataset\n",
    "data=datasets.load_iris()"
   ]
  },
  {
   "cell_type": "code",
   "execution_count": 0,
   "metadata": {
    "colab": {},
    "colab_type": "code",
    "id": "UlWs3ncwgxFf"
   },
   "outputs": [],
   "source": [
    "# Get data from the dataset object 'data'\n",
    "dataArr=data.data"
   ]
  },
  {
   "cell_type": "code",
   "execution_count": 0,
   "metadata": {
    "colab": {
     "base_uri": "https://localhost:8080/",
     "height": 34
    },
    "colab_type": "code",
    "id": "4QvCYJZraQEe",
    "outputId": "1cf6089d-252c-4b66-f04a-66c5503cada0"
   },
   "outputs": [
    {
     "data": {
      "text/plain": [
       "numpy.ndarray"
      ]
     },
     "execution_count": 12,
     "metadata": {
      "tags": []
     },
     "output_type": "execute_result"
    }
   ],
   "source": [
    "#### Let us check the type of the variable 'dataArr'\n",
    "type(dataArr)"
   ]
  },
  {
   "cell_type": "code",
   "execution_count": 0,
   "metadata": {
    "colab": {
     "base_uri": "https://localhost:8080/",
     "height": 34
    },
    "colab_type": "code",
    "id": "V2a7D0ZvgxFj",
    "outputId": "1a0be7c2-30a0-47cd-c556-98ad431bcd0c"
   },
   "outputs": [
    {
     "data": {
      "text/plain": [
       "sklearn.utils.Bunch"
      ]
     },
     "execution_count": 13,
     "metadata": {
      "tags": []
     },
     "output_type": "execute_result"
    }
   ],
   "source": [
    "#### Let us check the type of the dataset object 'data'\n",
    "type(data)"
   ]
  },
  {
   "cell_type": "code",
   "execution_count": 0,
   "metadata": {
    "colab": {
     "base_uri": "https://localhost:8080/",
     "height": 85
    },
    "colab_type": "code",
    "id": "ck1JPVsggxFp",
    "outputId": "57b802b6-597c-46b1-80a5-e497d360ac0b"
   },
   "outputs": [
    {
     "data": {
      "text/plain": [
       "['sepal length (cm)',\n",
       " 'sepal width (cm)',\n",
       " 'petal length (cm)',\n",
       " 'petal width (cm)']"
      ]
     },
     "execution_count": 14,
     "metadata": {
      "tags": []
     },
     "output_type": "execute_result"
    }
   ],
   "source": [
    "#### Let us get features present in the dataset from dataset object 'data'\n",
    "data.feature_names"
   ]
  },
  {
   "cell_type": "code",
   "execution_count": 0,
   "metadata": {
    "colab": {
     "base_uri": "https://localhost:8080/",
     "height": 34
    },
    "colab_type": "code",
    "id": "f8O6O_38gxFw",
    "outputId": "fb5d0522-ed33-49ac-9690-92b4f2ac103a"
   },
   "outputs": [
    {
     "data": {
      "text/plain": [
       "dict_keys(['data', 'target', 'target_names', 'DESCR', 'feature_names', 'filename'])"
      ]
     },
     "execution_count": 15,
     "metadata": {
      "tags": []
     },
     "output_type": "execute_result"
    }
   ],
   "source": [
    "data.keys()"
   ]
  },
  {
   "cell_type": "code",
   "execution_count": 0,
   "metadata": {
    "colab": {},
    "colab_type": "code",
    "id": "mbhJNpzWJ5w1"
   },
   "outputs": [],
   "source": [
    "import pandas as pd\n",
    "iris_df = pd.DataFrame(data.data)"
   ]
  },
  {
   "cell_type": "code",
   "execution_count": 0,
   "metadata": {
    "colab": {},
    "colab_type": "code",
    "id": "-1FV6dC3KrXt"
   },
   "outputs": [],
   "source": [
    "from sklearn.preprocessing import StandardScaler\n",
    "iris_X_std = StandardScaler().fit_transform(iris_df)"
   ]
  },
  {
   "cell_type": "code",
   "execution_count": 0,
   "metadata": {
    "colab": {
     "base_uri": "https://localhost:8080/",
     "height": 102
    },
    "colab_type": "code",
    "id": "m3aA_1klK68d",
    "outputId": "41f6eef0-c767-4e9c-b39d-7df051cb6daa"
   },
   "outputs": [
    {
     "name": "stdout",
     "output_type": "stream",
     "text": [
      "Covariance matrix \n",
      "[[ 1.00671141 -0.11835884  0.87760447  0.82343066]\n",
      " [-0.11835884  1.00671141 -0.43131554 -0.36858315]\n",
      " [ 0.87760447 -0.43131554  1.00671141  0.96932762]\n",
      " [ 0.82343066 -0.36858315  0.96932762  1.00671141]]\n"
     ]
    }
   ],
   "source": [
    "# covariance matrix on standardized data\n",
    "import numpy as np\n",
    "mean_vec = np.mean(iris_X_std, axis=0)\n",
    "cov_matrix = (iris_X_std - mean_vec).T.dot((iris_X_std - mean_vec)) / (iris_X_std.shape[0]-1)\n",
    "print('Covariance matrix \\n%s' %cov_matrix)"
   ]
  },
  {
   "cell_type": "markdown",
   "metadata": {
    "colab_type": "text",
    "id": "PVYaQX_G4__v"
   },
   "source": [
    "#### Split the data into train and test  sets"
   ]
  },
  {
   "cell_type": "code",
   "execution_count": 0,
   "metadata": {
    "colab": {},
    "colab_type": "code",
    "id": "RpnQkIZEgxF2"
   },
   "outputs": [],
   "source": [
    "# Use train_test_split from model_selection to split the data into train and test data\n",
    "trainData,testData,labelTrain,labelTest=model_selection.train_test_split(dataArr,data.target)"
   ]
  },
  {
   "cell_type": "markdown",
   "metadata": {
    "colab_type": "text",
    "id": "OJhgAzz95GM3"
   },
   "source": [
    "#### Look at the shape of the training and testing sets"
   ]
  },
  {
   "cell_type": "code",
   "execution_count": 0,
   "metadata": {
    "colab": {
     "base_uri": "https://localhost:8080/",
     "height": 34
    },
    "colab_type": "code",
    "id": "aty3P1bRgxF5",
    "outputId": "f9973bfc-6d88-4e05-bacb-d08bd8e275f5"
   },
   "outputs": [
    {
     "data": {
      "text/plain": [
       "((112, 4), (38, 4), (150, 4))"
      ]
     },
     "execution_count": 17,
     "metadata": {
      "tags": []
     },
     "output_type": "execute_result"
    }
   ],
   "source": [
    "# shape will return number of rows and columns in a dataset\n",
    "trainData.shape,testData.shape, dataArr.shape"
   ]
  },
  {
   "cell_type": "markdown",
   "metadata": {
    "colab_type": "text",
    "id": "VC27YfQd5N84"
   },
   "source": [
    "#### Now, reduce the dimensions of data from 4D to 3D using PCA"
   ]
  },
  {
   "cell_type": "code",
   "execution_count": 0,
   "metadata": {
    "colab": {},
    "colab_type": "code",
    "id": "S9n-VvrogxF-"
   },
   "outputs": [],
   "source": [
    "'''We use PCA technique from decomposition which takes as input\n",
    "number of components to keep in the lower dimension'''\n",
    "### We create an object of PCA class\n",
    "pca=PCA(n_components=3)"
   ]
  },
  {
   "cell_type": "code",
   "execution_count": 0,
   "metadata": {
    "colab": {},
    "colab_type": "code",
    "id": "UdQPk_XGgxGB"
   },
   "outputs": [],
   "source": [
    "#### We are transforming and fitting the data to PCA by using principle components to project the data to lower dimensions \n",
    "dataReduced=pca.fit_transform(dataArr)"
   ]
  },
  {
   "cell_type": "code",
   "execution_count": 0,
   "metadata": {
    "colab": {
     "base_uri": "https://localhost:8080/",
     "height": 34
    },
    "colab_type": "code",
    "id": "L9Ah_9NsgxGF",
    "outputId": "791e6400-17a1-405d-9006-f75fe97289d0"
   },
   "outputs": [
    {
     "data": {
      "text/plain": [
       "numpy.ndarray"
      ]
     },
     "execution_count": 20,
     "metadata": {
      "tags": []
     },
     "output_type": "execute_result"
    }
   ],
   "source": [
    "#### Let us check the type of the variable 'dataReduced'\n",
    "type(dataReduced)"
   ]
  },
  {
   "cell_type": "markdown",
   "metadata": {
    "colab_type": "text",
    "id": "odb-f-EQ5mq2"
   },
   "source": [
    "#### Plot the data after its dimensions are reduced"
   ]
  },
  {
   "cell_type": "code",
   "execution_count": 0,
   "metadata": {
    "colab": {},
    "colab_type": "code",
    "id": "Ums9sXL2gxGM"
   },
   "outputs": [],
   "source": [
    "# Plotting the data\n",
    "import matplotlib.pyplot as plt\n",
    "from mpl_toolkits.mplot3d import Axes3D"
   ]
  },
  {
   "cell_type": "code",
   "execution_count": 0,
   "metadata": {
    "colab": {
     "base_uri": "https://localhost:8080/",
     "height": 463
    },
    "colab_type": "code",
    "id": "RgQrQUndgxGR",
    "outputId": "049f41e3-304c-4be5-98ba-1f6b9f733ec2"
   },
   "outputs": [
    {
     "data": {
      "image/png": "[encoded data removed]",
      "text/plain": [
       "<Figure size 576x432 with 1 Axes>"
      ]
     },
     "metadata": {
      "tags": []
     },
     "output_type": "display_data"
    }
   ],
   "source": [
    "### Create a scatter plot with the reduced data across the 3 principle components\n",
    "fig= plt.figure(1,figsize=(8,6))\n",
    "axes=Axes3D(fig, elev=-150, azim=110)\n",
    "axes.scatter(dataReduced[:, 0], dataReduced[:, 1], dataReduced[:, 2], c=data.target,\n",
    "           cmap=plt.cm.Set1, edgecolor='k', s=40)\n",
    "axes.set_title(\"First three principal components\")\n",
    "axes.set_xlabel('1st principal component')\n",
    "axes.set_ylabel('2nd principal component')\n",
    "axes.set_zlabel('3rd principal component')\n",
    "axes.set_xticklabels([])\n",
    "axes.set_yticklabels([])\n",
    "axes.set_zticklabels([])\n",
    "\n",
    "plt.show()"
   ]
  },
  {
   "cell_type": "markdown",
   "metadata": {
    "colab_type": "text",
    "id": "myKfXPmX5zEe"
   },
   "source": [
    "#### Now let us try to train various models using the data after its dimensions are reduced"
   ]
  },
  {
   "cell_type": "code",
   "execution_count": 0,
   "metadata": {
    "colab": {},
    "colab_type": "code",
    "id": "FRXoS0cvgxGX"
   },
   "outputs": [],
   "source": [
    "#### Use train_test_split from model_selection to split the reduced data into train and test data\n",
    "trainDataRed,testDataRed=model_selection.train_test_split(dataReduced)"
   ]
  },
  {
   "cell_type": "markdown",
   "metadata": {
    "colab_type": "text",
    "id": "VIVFnzHU6Aaj"
   },
   "source": [
    "#### Apply a Linear classifier on the original data"
   ]
  },
  {
   "cell_type": "markdown",
   "metadata": {
    "colab_type": "text",
    "id": "pU_52YXOD6hM"
   },
   "source": [
    "SGD Classifier calculates the gradient of the loss by iterating through each sample of the dataset and is updated with the learning rate ."
   ]
  },
  {
   "cell_type": "code",
   "execution_count": 0,
   "metadata": {
    "colab": {
     "base_uri": "https://localhost:8080/",
     "height": 34
    },
    "colab_type": "code",
    "id": "P1C4G1eogxGg",
    "outputId": "b37db498-7737-4f4f-9152-afddab0bb7f8"
   },
   "outputs": [
    {
     "data": {
      "text/plain": [
       "0.9473684210526315"
      ]
     },
     "execution_count": 24,
     "metadata": {
      "tags": []
     },
     "output_type": "execute_result"
    }
   ],
   "source": [
    "'''We use SGDClassifier from linear_model which takes as input  \n",
    "the number of epochs the train data has to go through and\n",
    "and the stopping criterion for the algorithm i.e when loss reaches this threshhold\n",
    "''' \n",
    "# We create an object of Stochastic Gradient Descent Classifer class\n",
    "clf = linear_model.SGDClassifier(max_iter=1000, tol=1e-3)\n",
    "# We are fitting the data to SGDClassifier \n",
    "clf.fit(trainData,labelTrain)\n",
    "# Returns the mean accuracy on the given test data and labels\n",
    "clf.score(testData,labelTest)"
   ]
  },
  {
   "cell_type": "markdown",
   "metadata": {
    "colab_type": "text",
    "id": "AIMqQJcv6PyY"
   },
   "source": [
    "#### Apply Linear classifier on the reduced data"
   ]
  },
  {
   "cell_type": "code",
   "execution_count": 0,
   "metadata": {
    "colab": {
     "base_uri": "https://localhost:8080/",
     "height": 34
    },
    "colab_type": "code",
    "id": "LenWQyGrgxGw",
    "outputId": "37979cea-747d-4837-add8-2af2dce9d183"
   },
   "outputs": [
    {
     "data": {
      "text/plain": [
       "0.3157894736842105"
      ]
     },
     "execution_count": 25,
     "metadata": {
      "tags": []
     },
     "output_type": "execute_result"
    }
   ],
   "source": [
    "# We create an object of Stochastic Gradient Descent Classifer class\n",
    "clfPCA = linear_model.SGDClassifier(max_iter=1000, tol=1e-3)\n",
    "# We are fitting the reduced data to SGDClassifier \n",
    "clfPCA.fit(trainDataRed,labelTrain)\n",
    "# Returns the mean accuracy on the given reduced test data and labels\n",
    "clfPCA.score(testDataRed,labelTest)"
   ]
  },
  {
   "cell_type": "markdown",
   "metadata": {
    "colab_type": "text",
    "id": "QN9B-hyg6XBM"
   },
   "source": [
    "#### Apply KNN on the original data"
   ]
  },
  {
   "cell_type": "code",
   "execution_count": 0,
   "metadata": {
    "colab": {
     "base_uri": "https://localhost:8080/",
     "height": 34
    },
    "colab_type": "code",
    "id": "zYd2iHOLgxG5",
    "outputId": "6d31a67d-07bd-47a5-a1af-6b8f88b6b955"
   },
   "outputs": [
    {
     "data": {
      "text/plain": [
       "0.9473684210526315"
      ]
     },
     "execution_count": 26,
     "metadata": {
      "tags": []
     },
     "output_type": "execute_result"
    }
   ],
   "source": [
    "'''We use KNeighborsClassifier neighbors from  which takes as input  \n",
    "the number of epochs the train data has to go through and\n",
    "and the stopping criterion for the algorithm i.e when loss reaches this threshhold\n",
    "''' \n",
    "from sklearn.neighbors import KNeighborsClassifier\n",
    "# We create an object of K Nearest Neighbors Classifer class\n",
    "clf2 = KNeighborsClassifier(n_neighbors=3)\n",
    "# We are fitting the data to SGDClassifier\n",
    "clf2.fit(trainData,labelTrain)\n",
    "# Returns the mean accuracy on the given test data and labels\n",
    "clf2.score(testData,labelTest)"
   ]
  },
  {
   "cell_type": "markdown",
   "metadata": {
    "colab_type": "text",
    "id": "FuszvcNO6dLp"
   },
   "source": [
    "#### Apply KNN on reduced data"
   ]
  },
  {
   "cell_type": "code",
   "execution_count": 0,
   "metadata": {
    "colab": {
     "base_uri": "https://localhost:8080/",
     "height": 34
    },
    "colab_type": "code",
    "id": "vDazcoqWgxG-",
    "outputId": "5b7b0c0d-6f15-49b0-b501-8842385556e9"
   },
   "outputs": [
    {
     "data": {
      "text/plain": [
       "0.34210526315789475"
      ]
     },
     "execution_count": 27,
     "metadata": {
      "tags": []
     },
     "output_type": "execute_result"
    }
   ],
   "source": [
    "# We create an object of K Nearest Neighbors Classifer class\n",
    "clf2PCA = KNeighborsClassifier(n_neighbors=3)\n",
    "# We are fitting the reduced data to SGDClassifier \n",
    "clf2PCA.fit(trainDataRed,labelTrain)\n",
    "# Returns the mean accuracy on the given reduced test data and labels\n",
    "clf2PCA.score(testDataRed,labelTest)"
   ]
  }
 ],
 "metadata": {
  "colab": {
   "collapsed_sections": [],
   "name": "006_PCA_Iris_C.ipynb",
   "provenance": []
  },
  "kernelspec": {
   "display_name": "Python 3",
   "language": "python",
   "name": "python3"
  },
  "language_info": {
   "codemirror_mode": {
    "name": "ipython",
    "version": 3
   },
   "file_extension": ".py",
   "mimetype": "text/x-python",
   "name": "python",
   "nbconvert_exporter": "python",
   "pygments_lexer": "ipython3",
   "version": "3.6.5"
  }
 },
 "nbformat": 4,
 "nbformat_minor": 1
}
