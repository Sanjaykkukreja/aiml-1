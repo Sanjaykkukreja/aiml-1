{
 "cells": [
  {
   "cell_type": "markdown",
   "metadata": {
    "colab_type": "text",
    "id": "QbZjZ1i5KMsv"
   },
   "source": [
    "# Advanced Certification in AIML\n",
    "## A Program by IIIT-H and TalentSprint"
   ]
  },
  {
   "cell_type": "markdown",
   "metadata": {
    "colab_type": "text",
    "id": "DIfh2REWFr6p"
   },
   "source": [
    "## Learning Objective"
   ]
  },
  {
   "cell_type": "markdown",
   "metadata": {
    "colab_type": "text",
    "id": "LrIlNFZeKMsx"
   },
   "source": [
    "At the end of this experiment, you will be able to:\n",
    "\n",
    "* Perform Data preprocessing"
   ]
  },
  {
   "cell_type": "markdown",
   "metadata": {
    "colab_type": "text",
    "id": "H5DokZ7MF1P_"
   },
   "source": [
    "## Dataset"
   ]
  },
  {
   "cell_type": "markdown",
   "metadata": {
    "colab_type": "text",
    "id": "V3vgcWwOF2cK"
   },
   "source": [
    "### Description"
   ]
  },
  {
   "cell_type": "markdown",
   "metadata": {
    "colab_type": "text",
    "id": "fqJ1h77-KMsy"
   },
   "source": [
    "We will be using district wise demographics, enrollments, school and teacher indicator data to predict whether the literacy rate is high / medium / low in each district."
   ]
  },
  {
   "cell_type": "markdown",
   "metadata": {
    "colab_type": "text",
    "id": "md2IjdMdGCWm"
   },
   "source": [
    "### Data Preprocessing"
   ]
  },
  {
   "cell_type": "markdown",
   "metadata": {
    "colab_type": "text",
    "id": "3B5ztQVbKMsz"
   },
   "source": [
    "Data preprocessing is an important step of solving every machine learning problem. Most of\n",
    "the datasets used with Machine Learning problems need to be processed / cleaned / transformed\n",
    "so that a Machine Learning algorithm can be trained on it."
   ]
  },
  {
   "cell_type": "markdown",
   "metadata": {
    "colab_type": "text",
    "id": "QsxaJLZAKMs0"
   },
   "source": [
    "There are different steps involved for Data Preprocessing. These steps are as follows:"
   ]
  },
  {
   "cell_type": "markdown",
   "metadata": {
    "colab_type": "text",
    "id": "QF3Eg-5pKMs1"
   },
   "source": [
    "    1. Data Cleaning → In this step the primary focus is on\n",
    "        -Handling missing data\n",
    "        -Handling nosiy data\n",
    "        -Detection and removal of outliers\n",
    "    \n",
    "    2. Data Integration → This process is used when data is gathered from various data sources\n",
    "    and data are combined to form consistent data. This data after performing cleaning is used\n",
    "    for analysis.\n",
    "    \n",
    "    3. Data Transformation → In this step we will convert the raw data into a specified for-\n",
    "    mat according to the need of the model we are building. There are many options used for\n",
    "    transforming the data as below:\n",
    "        -Normalization\n",
    "        -Aggregation\n",
    "        -Generalization\n",
    "        \n",
    "    4. Data Reduction → After data transformation and scaling the redundancy within the data\n",
    "    is removed and efficiently organizing the data is performed.\n",
    "\n"
   ]
  },
  {
   "cell_type": "code",
   "execution_count": 4,
   "metadata": {
    "colab": {
     "base_uri": "https://localhost:8080/",
     "height": 51
    },
    "colab_type": "code",
    "id": "e7VD8dJgGhVw",
    "outputId": "8b41ef36-897b-488f-8fbe-8bcc9501f63d"
   },
   "outputs": [
    {
     "name": "stdout",
     "output_type": "stream",
     "text": [
      "data\t\t\t       Mini_Hackathon_Data_Munging.ipynb\n",
      "data-20190108T113429Z-001.zip  sample_data\n"
     ]
    }
   ],
   "source": [
    "!ls"
   ]
  },
  {
   "cell_type": "code",
   "execution_count": 5,
   "metadata": {
    "colab": {
     "base_uri": "https://localhost:8080/",
     "height": 34
    },
    "colab_type": "code",
    "id": "f9utRh_WiPNl",
    "outputId": "bf78cd65-acb0-4276-e03e-8639a00ba77a"
   },
   "outputs": [
    {
     "name": "stdout",
     "output_type": "stream",
     "text": [
      "/content/data\n"
     ]
    }
   ],
   "source": [
    "%cd data"
   ]
  },
  {
   "cell_type": "code",
   "execution_count": 6,
   "metadata": {
    "colab": {
     "base_uri": "https://localhost:8080/",
     "height": 85
    },
    "colab_type": "code",
    "id": "mDWnvJ6QiRB_",
    "outputId": "e1132ab8-1eb7-4d90-d1be-b667afa28866"
   },
   "outputs": [
    {
     "name": "stdout",
     "output_type": "stream",
     "text": [
      "Districtwise_Basicdata.csv\n",
      "Districtwise_Enrollment_details_indicator.csv\n",
      "Districtwise_SchoolData.csv\n",
      "Districtwise_Teacher_indicator.csv\n"
     ]
    }
   ],
   "source": [
    "!ls"
   ]
  },
  {
   "cell_type": "markdown",
   "metadata": {
    "colab_type": "text",
    "id": "hZSlj_nWKMs4"
   },
   "source": [
    "#### Exercise 1 - (2 Marks)\n",
    "We have four different files\n",
    "\n",
    "* Districtwise_Basicdata.csv\n",
    "* Districtwise_Enrollment_details_indicator.csv\n",
    "* Districtwise_SchoolData.csv\n",
    "* Districtwise_Teacher_indicator.csv\n",
    "These files contain the neccesary data to solve the problem.\n",
    "Load all the files correctly, after observing the header level details, data records etc\n",
    "\n",
    "Hint : Use read_csv from pandas"
   ]
  },
  {
   "cell_type": "code",
   "execution_count": 0,
   "metadata": {
    "colab": {},
    "colab_type": "code",
    "id": "_XRregSb9wdB"
   },
   "outputs": [],
   "source": [
    "from sklearn.neighbors import KNeighborsClassifier\n",
    "from sklearn.metrics import accuracy_score\n",
    "from sklearn.model_selection import train_test_split\n",
    "import pandas as pd\n",
    "import numpy as np"
   ]
  },
  {
   "cell_type": "code",
   "execution_count": 8,
   "metadata": {
    "colab": {
     "base_uri": "https://localhost:8080/",
     "height": 168
    },
    "colab_type": "code",
    "id": "y7v4yLCwKMs5",
    "outputId": "e0179ad3-9945-44eb-99ec-1af8f4c755eb"
   },
   "outputs": [
    {
     "data": {
      "text/html": [
       "<div>\n",
       "<style scoped>\n",
       "    .dataframe tbody tr th:only-of-type {\n",
       "        vertical-align: middle;\n",
       "    }\n",
       "\n",
       "    .dataframe tbody tr th {\n",
       "        vertical-align: top;\n",
       "    }\n",
       "\n",
       "    .dataframe thead th {\n",
       "        text-align: right;\n",
       "    }\n",
       "</style>\n",
       "<table border=\"1\" class=\"dataframe\">\n",
       "  <thead>\n",
       "    <tr style=\"text-align: right;\">\n",
       "      <th></th>\n",
       "      <th>year</th>\n",
       "      <th>statecd</th>\n",
       "      <th>statename</th>\n",
       "      <th>distcd</th>\n",
       "      <th>distname</th>\n",
       "      <th>blocks</th>\n",
       "      <th>clusters</th>\n",
       "      <th>villages</th>\n",
       "      <th>totschools</th>\n",
       "      <th>totpopulation</th>\n",
       "      <th>p_06_pop</th>\n",
       "      <th>p_urb_pop</th>\n",
       "      <th>sexratio</th>\n",
       "      <th>sexratio_06</th>\n",
       "      <th>growthrate</th>\n",
       "      <th>p_sc_pop</th>\n",
       "      <th>p_st_pop</th>\n",
       "      <th>overall_lit</th>\n",
       "      <th>female_lit</th>\n",
       "    </tr>\n",
       "  </thead>\n",
       "  <tbody>\n",
       "    <tr>\n",
       "      <th>0</th>\n",
       "      <td>2012-13</td>\n",
       "      <td>35</td>\n",
       "      <td>ANDAMAN &amp; NICOBAR ISLANDS                     ...</td>\n",
       "      <td>3501</td>\n",
       "      <td>ANDAMANS                                      ...</td>\n",
       "      <td>3</td>\n",
       "      <td>16</td>\n",
       "      <td>83</td>\n",
       "      <td>212</td>\n",
       "      <td>237586.0</td>\n",
       "      <td>23616.05</td>\n",
       "      <td>55.89</td>\n",
       "      <td>874.0</td>\n",
       "      <td>980.0</td>\n",
       "      <td>13.97</td>\n",
       "      <td>0.0</td>\n",
       "      <td>1.72</td>\n",
       "      <td>High</td>\n",
       "      <td>84.52</td>\n",
       "    </tr>\n",
       "  </tbody>\n",
       "</table>\n",
       "</div>"
      ],
      "text/plain": [
       "      year  statecd  ... overall_lit  female_lit\n",
       "0  2012-13       35  ...        High       84.52\n",
       "\n",
       "[1 rows x 19 columns]"
      ]
     },
     "execution_count": 8,
     "metadata": {
      "tags": []
     },
     "output_type": "execute_result"
    }
   ],
   "source": [
    "# Your Code Here\n",
    "df_basic = pd.read_csv('Districtwise_Basicdata.csv', skiprows=[0])\n",
    "df_basic.columns = map(str.lower, df_basic.columns)\n",
    "df_basic[:1]"
   ]
  },
  {
   "cell_type": "code",
   "execution_count": 9,
   "metadata": {
    "colab": {
     "base_uri": "https://localhost:8080/",
     "height": 119
    },
    "colab_type": "code",
    "id": "b3izlSVkH-S-",
    "outputId": "1f700a04-ea1b-47ae-fdfd-43048d682c02"
   },
   "outputs": [
    {
     "data": {
      "text/plain": [
       "Index(['year', 'statecd', 'state name ', 'distcd', 'distname', 'enr govt1',\n",
       "       'enr govt2', 'enr govt3', 'enr govt4', 'enr govt5',\n",
       "       ...\n",
       "       'rep c7', 'rep c8', 'muslim p', 'muslim up', 'muslim g p',\n",
       "       'muslim g up', 'obc p', 'obc up', 'obc g p', 'obc g up'],\n",
       "      dtype='object', length=166)"
      ]
     },
     "execution_count": 9,
     "metadata": {
      "tags": []
     },
     "output_type": "execute_result"
    }
   ],
   "source": [
    "df_dist_enroll = pd.read_csv('Districtwise_Enrollment_details_indicator.csv', skiprows=[0,1,2])\n",
    "df_dist_enroll.columns = map(str.lower, df_dist_enroll.columns)\n",
    "df_dist_enroll.columns"
   ]
  },
  {
   "cell_type": "code",
   "execution_count": 10,
   "metadata": {
    "colab": {
     "base_uri": "https://localhost:8080/",
     "height": 136
    },
    "colab_type": "code",
    "id": "qim_Z2H6INLb",
    "outputId": "804d4b7a-335b-4adf-fcfa-f89f16ab3b06"
   },
   "outputs": [
    {
     "data": {
      "text/plain": [
       "Index(['statecd', 'state name ', 'distcd', 'distname', 'year', 'schgovt1',\n",
       "       'schgovt2', 'schgovt3', 'schgovt4', 'schgovt5',\n",
       "       ...\n",
       "       'app by road 4', 'app by road 5', 'app by road 6', 'app by road 7',\n",
       "       'scr 30 p', 'scr 35 up', 'ptr 30 p', 'ptr 35 up', 'avg instn days p',\n",
       "       'avg instn days up'],\n",
       "      dtype='object', length=245)"
      ]
     },
     "execution_count": 10,
     "metadata": {
      "tags": []
     },
     "output_type": "execute_result"
    }
   ],
   "source": [
    "df_dist_school = pd.read_csv('Districtwise_SchoolData.csv', skiprows=[0,1,2])\n",
    "df_dist_school.columns = map(str.lower, df_dist_school.columns)\n",
    "df_dist_school = df_dist_school.rename(columns={'ac_year': 'year'})\n",
    "df_dist_school.columns"
   ]
  },
  {
   "cell_type": "code",
   "execution_count": 11,
   "metadata": {
    "colab": {
     "base_uri": "https://localhost:8080/",
     "height": 136
    },
    "colab_type": "code",
    "id": "ZQL6MoZhI9Of",
    "outputId": "6fb25c2e-5b6d-4f54-c78a-e57620635446"
   },
   "outputs": [
    {
     "data": {
      "text/plain": [
       "Index(['statecd', 'statename', 'distcd', 'distname', 'year', 'tch_govt1',\n",
       "       'tch_govt2', 'tch_govt3', 'tch_govt4', 'tch_govt5',\n",
       "       ...\n",
       "       'trn_tch_f2', 'trn_tch_f3', 'trn_tch_f4', 'trn_tch_f5', 'trn_tch_f6',\n",
       "       'trn_tch_f7', 'prof_trn_tch_r', 'prof_trn_tch_p', 'days_nontch',\n",
       "       'tch_nontch'],\n",
       "      dtype='object', length=181)"
      ]
     },
     "execution_count": 11,
     "metadata": {
      "tags": []
     },
     "output_type": "execute_result"
    }
   ],
   "source": [
    "df_dist_teacher = pd.read_csv('Districtwise_Teacher_indicator.csv', skiprows=[0,1,2])\n",
    "df_dist_teacher.columns = map(str.lower, df_dist_teacher.columns)\n",
    "df_dist_teacher = df_dist_teacher.rename(columns={'ac_year': 'year'})\n",
    "df_dist_teacher.columns"
   ]
  },
  {
   "cell_type": "code",
   "execution_count": 12,
   "metadata": {
    "colab": {
     "base_uri": "https://localhost:8080/",
     "height": 34
    },
    "colab_type": "code",
    "id": "3qjxRoYpxvQa",
    "outputId": "5656fa8e-b8e6-4e2a-85d9-acd45ed610e2"
   },
   "outputs": [
    {
     "name": "stdout",
     "output_type": "stream",
     "text": [
      "(1324, 19), (1324, 166), (1324, 245), (1324, 181)\n"
     ]
    }
   ],
   "source": [
    "print(f'{df_basic.shape}, {df_dist_enroll.shape}, {df_dist_school.shape}, {df_dist_teacher.shape}')"
   ]
  },
  {
   "cell_type": "markdown",
   "metadata": {
    "colab_type": "text",
    "id": "K2A3OKraKMs9"
   },
   "source": [
    "#### Exercise 2  - (4 Marks)\n",
    "\n",
    "* Remove the unwanted columns, which are unlikely to contribute for the prediction of overall literacy grade. The decision of what constitutes unwanted columns depends on how it effects your final accuracy (and very little on your domain understanding of education sector in India; you're encouraged however to exercise some domain understanding too if you wish)\n",
    "\n",
    "**Hint** use pandas drop function to drop your choice of unwanted columns (if any).\n",
    "\n",
    "\n",
    "* As the required data is present in different files, we need to integrate all the four to make single dataframe/dataset. For that purpose, create a unique identifier for each row in all the dataframes so that it can be used to map the data in different files correctly\n",
    "* Join/integrate this data \n",
    "\n",
    "Example : data of the district ananthapur in Andrapradesh, which present in different files should form a single row \n",
    "\n",
    "Hint : \n",
    "* Use the combination of year, statecode, district code as unique identifier \n",
    "\n",
    "* Refer the following link for merge, join and concat syntaxes:  \n",
    "\n",
    "https://pandas.pydata.org/pandas-docs/stable/merging.html\n"
   ]
  },
  {
   "cell_type": "code",
   "execution_count": 0,
   "metadata": {
    "colab": {},
    "colab_type": "code",
    "id": "iareXRqXwGYp"
   },
   "outputs": [],
   "source": [
    "df_basic = df_basic.drop(['statename','distname'], axis=1)\n",
    "df_dist_enroll = df_dist_enroll.drop(['state name ','distname'], axis=1)\n",
    "df_dist_school = df_dist_school.drop(['state name ','distname'], axis=1)\n",
    "df_dist_teacher = df_dist_teacher.drop(['statename','distname'], axis=1)"
   ]
  },
  {
   "cell_type": "markdown",
   "metadata": {
    "colab_type": "text",
    "id": "k3wf8dFrKMtC"
   },
   "source": [
    "Follow this steps in order to clean the data:"
   ]
  },
  {
   "cell_type": "code",
   "execution_count": 14,
   "metadata": {
    "colab": {
     "base_uri": "https://localhost:8080/",
     "height": 34
    },
    "colab_type": "code",
    "id": "y8s9UV4NMzIJ",
    "outputId": "bf5a4b58-7e1c-419b-e7e3-d6a1f80e50ce"
   },
   "outputs": [
    {
     "data": {
      "text/plain": [
       "(1324, 178)"
      ]
     },
     "execution_count": 14,
     "metadata": {
      "tags": []
     },
     "output_type": "execute_result"
    }
   ],
   "source": [
    "x = pd.merge(df_basic, df_dist_enroll, on=['statecd','distcd','year'])\n",
    "x.shape"
   ]
  },
  {
   "cell_type": "code",
   "execution_count": 15,
   "metadata": {
    "colab": {
     "base_uri": "https://localhost:8080/",
     "height": 34
    },
    "colab_type": "code",
    "id": "jsZsJNmfrnKg",
    "outputId": "58413aa5-ff74-46af-d884-12c817c32f07"
   },
   "outputs": [
    {
     "data": {
      "text/plain": [
       "(1324, 418)"
      ]
     },
     "execution_count": 15,
     "metadata": {
      "tags": []
     },
     "output_type": "execute_result"
    }
   ],
   "source": [
    "y = pd.merge(x, df_dist_school, on=['statecd','distcd','year'])\n",
    "y.shape"
   ]
  },
  {
   "cell_type": "code",
   "execution_count": 16,
   "metadata": {
    "colab": {
     "base_uri": "https://localhost:8080/",
     "height": 34
    },
    "colab_type": "code",
    "id": "PZGB5p84r2Va",
    "outputId": "3274ce8f-4ac0-4d8d-b731-65b478fdd085"
   },
   "outputs": [
    {
     "data": {
      "text/plain": [
       "(1324, 594)"
      ]
     },
     "execution_count": 16,
     "metadata": {
      "tags": []
     },
     "output_type": "execute_result"
    }
   ],
   "source": [
    "## Final DataFrame\n",
    "df = pd.merge(y,df_dist_teacher, on=['statecd','distcd','year'])\n",
    "df.shape"
   ]
  },
  {
   "cell_type": "markdown",
   "metadata": {
    "colab_type": "text",
    "id": "_jcX4aRsKMtE"
   },
   "source": [
    "#### Exercise 3 - (3 Marks)\n",
    "\n",
    "* Overall_lit is our target variable, which we need to predict. Delete the row with missing overall_lit column\n",
    "* Take a call to replace the missing values in any other column appropriately with mean/median/mode\n",
    "* Convert categorical values to numerical values\n",
    "Example : If a feature contains categorical values such as dog, cat, mouse etc then replace them with 1, 2, 3 etc or using one hot encoding (your judgement)\n",
    "\n",
    "*Hint* :\n",
    "* Use pandas fillna function to replace the missing values"
   ]
  },
  {
   "cell_type": "code",
   "execution_count": 17,
   "metadata": {
    "colab": {
     "base_uri": "https://localhost:8080/",
     "height": 34
    },
    "colab_type": "code",
    "id": "R4gCg5406l0B",
    "outputId": "57f2fbca-0ba8-41a1-c6a3-52668e174a35"
   },
   "outputs": [
    {
     "data": {
      "text/plain": [
       "(1268, 594)"
      ]
     },
     "execution_count": 17,
     "metadata": {
      "tags": []
     },
     "output_type": "execute_result"
    }
   ],
   "source": [
    "#Delete the row with missing overall_lit column\n",
    "df = df.dropna(subset=['overall_lit'])\n",
    "df.shape"
   ]
  },
  {
   "cell_type": "code",
   "execution_count": 18,
   "metadata": {
    "colab": {
     "base_uri": "https://localhost:8080/",
     "height": 259
    },
    "colab_type": "code",
    "id": "ZNSuEWdy7oIf",
    "outputId": "72533787-534c-4be6-ce12-5a6b15ff2302"
   },
   "outputs": [
    {
     "data": {
      "text/html": [
       "<div>\n",
       "<style scoped>\n",
       "    .dataframe tbody tr th:only-of-type {\n",
       "        vertical-align: middle;\n",
       "    }\n",
       "\n",
       "    .dataframe tbody tr th {\n",
       "        vertical-align: top;\n",
       "    }\n",
       "\n",
       "    .dataframe thead th {\n",
       "        text-align: right;\n",
       "    }\n",
       "</style>\n",
       "<table border=\"1\" class=\"dataframe\">\n",
       "  <thead>\n",
       "    <tr style=\"text-align: right;\">\n",
       "      <th></th>\n",
       "      <th>year</th>\n",
       "      <th>statecd</th>\n",
       "      <th>distcd</th>\n",
       "      <th>blocks</th>\n",
       "      <th>clusters</th>\n",
       "      <th>villages</th>\n",
       "      <th>totschools</th>\n",
       "      <th>totpopulation</th>\n",
       "      <th>p_06_pop</th>\n",
       "      <th>p_urb_pop</th>\n",
       "      <th>sexratio</th>\n",
       "      <th>sexratio_06</th>\n",
       "      <th>growthrate</th>\n",
       "      <th>p_sc_pop</th>\n",
       "      <th>p_st_pop</th>\n",
       "      <th>overall_lit</th>\n",
       "      <th>female_lit</th>\n",
       "      <th>enr govt1</th>\n",
       "      <th>enr govt2</th>\n",
       "      <th>enr govt3</th>\n",
       "      <th>enr govt4</th>\n",
       "      <th>enr govt5</th>\n",
       "      <th>enr govt6</th>\n",
       "      <th>enr govt7</th>\n",
       "      <th>enr govt9</th>\n",
       "      <th>enr pvt1</th>\n",
       "      <th>enr pvt2</th>\n",
       "      <th>enr pvt3</th>\n",
       "      <th>enr pvt4</th>\n",
       "      <th>enr pvt5</th>\n",
       "      <th>enr pvt6</th>\n",
       "      <th>enr pvt7</th>\n",
       "      <th>enr pvt9</th>\n",
       "      <th>enr r govt1</th>\n",
       "      <th>enr r govt2</th>\n",
       "      <th>enr r govt3</th>\n",
       "      <th>enr r govt4</th>\n",
       "      <th>enr r govt5</th>\n",
       "      <th>enr r govt6</th>\n",
       "      <th>enr r govt7</th>\n",
       "      <th>...</th>\n",
       "      <th>tch_sc_m7</th>\n",
       "      <th>tch_sc_f1</th>\n",
       "      <th>tch_sc_f2</th>\n",
       "      <th>tch_sc_f3</th>\n",
       "      <th>tch_sc_f4</th>\n",
       "      <th>tch_sc_f5</th>\n",
       "      <th>tch_sc_f6</th>\n",
       "      <th>tch_sc_f7</th>\n",
       "      <th>tch_st_m1</th>\n",
       "      <th>tch_st_m2</th>\n",
       "      <th>tch_st_m3</th>\n",
       "      <th>tch_st_m4</th>\n",
       "      <th>tch_st_m5</th>\n",
       "      <th>tch_st_m6</th>\n",
       "      <th>tch_st_m7</th>\n",
       "      <th>tch_st_f1</th>\n",
       "      <th>tch_st_f2</th>\n",
       "      <th>tch_st_f3</th>\n",
       "      <th>tch_st_f4</th>\n",
       "      <th>tch_st_f5</th>\n",
       "      <th>tch_st_f6</th>\n",
       "      <th>tch_st_f7</th>\n",
       "      <th>trn_tch_m1</th>\n",
       "      <th>trn_tch_m2</th>\n",
       "      <th>trn_tch_m3</th>\n",
       "      <th>trn_tch_m4</th>\n",
       "      <th>trn_tch_m5</th>\n",
       "      <th>trn_tch_m6</th>\n",
       "      <th>trn_tch_m7</th>\n",
       "      <th>trn_tch_f1</th>\n",
       "      <th>trn_tch_f2</th>\n",
       "      <th>trn_tch_f3</th>\n",
       "      <th>trn_tch_f4</th>\n",
       "      <th>trn_tch_f5</th>\n",
       "      <th>trn_tch_f6</th>\n",
       "      <th>trn_tch_f7</th>\n",
       "      <th>prof_trn_tch_r</th>\n",
       "      <th>prof_trn_tch_p</th>\n",
       "      <th>days_nontch</th>\n",
       "      <th>tch_nontch</th>\n",
       "    </tr>\n",
       "  </thead>\n",
       "  <tbody>\n",
       "    <tr>\n",
       "      <th>0</th>\n",
       "      <td>2012-13</td>\n",
       "      <td>35</td>\n",
       "      <td>3501</td>\n",
       "      <td>3</td>\n",
       "      <td>16</td>\n",
       "      <td>83</td>\n",
       "      <td>212</td>\n",
       "      <td>237586.0</td>\n",
       "      <td>23616.05</td>\n",
       "      <td>55.89</td>\n",
       "      <td>874.0</td>\n",
       "      <td>980.0</td>\n",
       "      <td>13.97</td>\n",
       "      <td>0.0</td>\n",
       "      <td>1.72</td>\n",
       "      <td>High</td>\n",
       "      <td>84.52</td>\n",
       "      <td>3232</td>\n",
       "      <td>3359.0</td>\n",
       "      <td>10620</td>\n",
       "      <td>0.0</td>\n",
       "      <td>1027</td>\n",
       "      <td>3739.0</td>\n",
       "      <td>0</td>\n",
       "      <td>0.0</td>\n",
       "      <td>2058.0</td>\n",
       "      <td>1994.000000</td>\n",
       "      <td>5408.00000</td>\n",
       "      <td>0</td>\n",
       "      <td>0.000000</td>\n",
       "      <td>1153.000000</td>\n",
       "      <td>0.000000</td>\n",
       "      <td>0.00000</td>\n",
       "      <td>1788</td>\n",
       "      <td>3030</td>\n",
       "      <td>4236</td>\n",
       "      <td>0.000000</td>\n",
       "      <td>169</td>\n",
       "      <td>1750</td>\n",
       "      <td>0</td>\n",
       "      <td>...</td>\n",
       "      <td>0</td>\n",
       "      <td>0</td>\n",
       "      <td>0</td>\n",
       "      <td>1</td>\n",
       "      <td>0</td>\n",
       "      <td>0</td>\n",
       "      <td>0</td>\n",
       "      <td>0</td>\n",
       "      <td>4</td>\n",
       "      <td>3</td>\n",
       "      <td>16</td>\n",
       "      <td>0</td>\n",
       "      <td>0</td>\n",
       "      <td>8</td>\n",
       "      <td>0</td>\n",
       "      <td>11</td>\n",
       "      <td>5</td>\n",
       "      <td>18</td>\n",
       "      <td>0</td>\n",
       "      <td>1</td>\n",
       "      <td>11</td>\n",
       "      <td>0</td>\n",
       "      <td>69</td>\n",
       "      <td>97</td>\n",
       "      <td>64</td>\n",
       "      <td>0</td>\n",
       "      <td>14</td>\n",
       "      <td>66</td>\n",
       "      <td>0</td>\n",
       "      <td>134</td>\n",
       "      <td>176</td>\n",
       "      <td>135</td>\n",
       "      <td>0</td>\n",
       "      <td>22</td>\n",
       "      <td>103</td>\n",
       "      <td>0</td>\n",
       "      <td>2968</td>\n",
       "      <td>228</td>\n",
       "      <td>12</td>\n",
       "      <td>519</td>\n",
       "    </tr>\n",
       "    <tr>\n",
       "      <th>1</th>\n",
       "      <td>2012-13</td>\n",
       "      <td>35</td>\n",
       "      <td>3503</td>\n",
       "      <td>3</td>\n",
       "      <td>13</td>\n",
       "      <td>76</td>\n",
       "      <td>181</td>\n",
       "      <td>105539.0</td>\n",
       "      <td>11651.51</td>\n",
       "      <td>2.60</td>\n",
       "      <td>925.0</td>\n",
       "      <td>975.0</td>\n",
       "      <td>-0.07</td>\n",
       "      <td>0.0</td>\n",
       "      <td>0.72</td>\n",
       "      <td>High</td>\n",
       "      <td>79.39</td>\n",
       "      <td>3996</td>\n",
       "      <td>3808.0</td>\n",
       "      <td>1162</td>\n",
       "      <td>1043.0</td>\n",
       "      <td>1397</td>\n",
       "      <td>1625.0</td>\n",
       "      <td>0</td>\n",
       "      <td>0.0</td>\n",
       "      <td>779.0</td>\n",
       "      <td>295.000000</td>\n",
       "      <td>19296.67747</td>\n",
       "      <td>0</td>\n",
       "      <td>0.000000</td>\n",
       "      <td>225.000000</td>\n",
       "      <td>0.000000</td>\n",
       "      <td>0.00000</td>\n",
       "      <td>3996</td>\n",
       "      <td>3808</td>\n",
       "      <td>1162</td>\n",
       "      <td>1043.000000</td>\n",
       "      <td>1397</td>\n",
       "      <td>1625</td>\n",
       "      <td>0</td>\n",
       "      <td>...</td>\n",
       "      <td>0</td>\n",
       "      <td>1</td>\n",
       "      <td>1</td>\n",
       "      <td>0</td>\n",
       "      <td>0</td>\n",
       "      <td>0</td>\n",
       "      <td>0</td>\n",
       "      <td>0</td>\n",
       "      <td>0</td>\n",
       "      <td>1</td>\n",
       "      <td>6</td>\n",
       "      <td>2</td>\n",
       "      <td>7</td>\n",
       "      <td>0</td>\n",
       "      <td>0</td>\n",
       "      <td>2</td>\n",
       "      <td>2</td>\n",
       "      <td>3</td>\n",
       "      <td>0</td>\n",
       "      <td>4</td>\n",
       "      <td>2</td>\n",
       "      <td>0</td>\n",
       "      <td>126</td>\n",
       "      <td>79</td>\n",
       "      <td>32</td>\n",
       "      <td>8</td>\n",
       "      <td>45</td>\n",
       "      <td>37</td>\n",
       "      <td>0</td>\n",
       "      <td>84</td>\n",
       "      <td>85</td>\n",
       "      <td>40</td>\n",
       "      <td>3</td>\n",
       "      <td>28</td>\n",
       "      <td>60</td>\n",
       "      <td>0</td>\n",
       "      <td>1249</td>\n",
       "      <td>203</td>\n",
       "      <td>8</td>\n",
       "      <td>362</td>\n",
       "    </tr>\n",
       "    <tr>\n",
       "      <th>2</th>\n",
       "      <td>2012-13</td>\n",
       "      <td>35</td>\n",
       "      <td>3502</td>\n",
       "      <td>3</td>\n",
       "      <td>8</td>\n",
       "      <td>42</td>\n",
       "      <td>58</td>\n",
       "      <td>36819.0</td>\n",
       "      <td>4226.82</td>\n",
       "      <td>0.00</td>\n",
       "      <td>778.0</td>\n",
       "      <td>961.0</td>\n",
       "      <td>-12.48</td>\n",
       "      <td>0.0</td>\n",
       "      <td>64.28</td>\n",
       "      <td>High</td>\n",
       "      <td>70.70</td>\n",
       "      <td>1510</td>\n",
       "      <td>886.0</td>\n",
       "      <td>357</td>\n",
       "      <td>0.0</td>\n",
       "      <td>651</td>\n",
       "      <td>838.0</td>\n",
       "      <td>0</td>\n",
       "      <td>0.0</td>\n",
       "      <td>16.0</td>\n",
       "      <td>30199.296209</td>\n",
       "      <td>19296.67747</td>\n",
       "      <td>0</td>\n",
       "      <td>8808.429361</td>\n",
       "      <td>9953.969219</td>\n",
       "      <td>5781.273875</td>\n",
       "      <td>2.70955</td>\n",
       "      <td>1510</td>\n",
       "      <td>886</td>\n",
       "      <td>357</td>\n",
       "      <td>16078.342541</td>\n",
       "      <td>651</td>\n",
       "      <td>838</td>\n",
       "      <td>0</td>\n",
       "      <td>...</td>\n",
       "      <td>0</td>\n",
       "      <td>0</td>\n",
       "      <td>0</td>\n",
       "      <td>0</td>\n",
       "      <td>0</td>\n",
       "      <td>0</td>\n",
       "      <td>0</td>\n",
       "      <td>0</td>\n",
       "      <td>33</td>\n",
       "      <td>29</td>\n",
       "      <td>18</td>\n",
       "      <td>0</td>\n",
       "      <td>27</td>\n",
       "      <td>27</td>\n",
       "      <td>0</td>\n",
       "      <td>53</td>\n",
       "      <td>32</td>\n",
       "      <td>16</td>\n",
       "      <td>0</td>\n",
       "      <td>28</td>\n",
       "      <td>40</td>\n",
       "      <td>0</td>\n",
       "      <td>36</td>\n",
       "      <td>25</td>\n",
       "      <td>18</td>\n",
       "      <td>0</td>\n",
       "      <td>22</td>\n",
       "      <td>31</td>\n",
       "      <td>0</td>\n",
       "      <td>58</td>\n",
       "      <td>29</td>\n",
       "      <td>23</td>\n",
       "      <td>0</td>\n",
       "      <td>17</td>\n",
       "      <td>46</td>\n",
       "      <td>0</td>\n",
       "      <td>430</td>\n",
       "      <td>78</td>\n",
       "      <td>20</td>\n",
       "      <td>28</td>\n",
       "    </tr>\n",
       "  </tbody>\n",
       "</table>\n",
       "<p>3 rows × 594 columns</p>\n",
       "</div>"
      ],
      "text/plain": [
       "      year  statecd  distcd  ...  prof_trn_tch_p  days_nontch  tch_nontch\n",
       "0  2012-13       35    3501  ...             228           12         519\n",
       "1  2012-13       35    3503  ...             203            8         362\n",
       "2  2012-13       35    3502  ...              78           20          28\n",
       "\n",
       "[3 rows x 594 columns]"
      ]
     },
     "execution_count": 18,
     "metadata": {
      "tags": []
     },
     "output_type": "execute_result"
    }
   ],
   "source": [
    "#Replace missing with NaN in other cols\n",
    "df = df.replace('', np.nan, regex=True)\n",
    "#Replace NaN with mean\n",
    "df = df.fillna(df.mean())\n",
    "df[:3]"
   ]
  },
  {
   "cell_type": "code",
   "execution_count": 19,
   "metadata": {
    "colab": {
     "base_uri": "https://localhost:8080/",
     "height": 34
    },
    "colab_type": "code",
    "id": "rOnyVdNvKCK-",
    "outputId": "f00176c3-ecef-4007-a49f-49756f83dc8d"
   },
   "outputs": [
    {
     "data": {
      "text/plain": [
       "{'High', 'Low', 'Medium'}"
      ]
     },
     "execution_count": 19,
     "metadata": {
      "tags": []
     },
     "output_type": "execute_result"
    }
   ],
   "source": [
    "set(df.overall_lit)"
   ]
  },
  {
   "cell_type": "code",
   "execution_count": 20,
   "metadata": {
    "colab": {
     "base_uri": "https://localhost:8080/",
     "height": 34
    },
    "colab_type": "code",
    "id": "tauuy2OEKH5R",
    "outputId": "974c009f-f27e-453e-8e95-e510b7090553"
   },
   "outputs": [
    {
     "data": {
      "text/plain": [
       "{1, 2, 3}"
      ]
     },
     "execution_count": 20,
     "metadata": {
      "tags": []
     },
     "output_type": "execute_result"
    }
   ],
   "source": [
    "lit_dict ={'Low' : 1, 'Medium' : 2, 'High' : 3} \n",
    "df['overall_litnum'] = df['overall_lit'].map(lit_dict)\n",
    "set(df.overall_litnum)"
   ]
  },
  {
   "cell_type": "code",
   "execution_count": 21,
   "metadata": {
    "colab": {
     "base_uri": "https://localhost:8080/",
     "height": 34
    },
    "colab_type": "code",
    "id": "ESFu-HhhQBOI",
    "outputId": "3b9d7036-23e5-4afb-d00b-a90931e787db"
   },
   "outputs": [
    {
     "data": {
      "text/plain": [
       "(1268, 595)"
      ]
     },
     "execution_count": 21,
     "metadata": {
      "tags": []
     },
     "output_type": "execute_result"
    }
   ],
   "source": [
    "df.shape"
   ]
  },
  {
   "cell_type": "code",
   "execution_count": 22,
   "metadata": {
    "colab": {
     "base_uri": "https://localhost:8080/",
     "height": 34
    },
    "colab_type": "code",
    "id": "0k89Ax3JKB5B",
    "outputId": "9735ca42-b714-48ee-af9e-5a4376928c82"
   },
   "outputs": [
    {
     "data": {
      "text/plain": [
       "(1268, 593)"
      ]
     },
     "execution_count": 22,
     "metadata": {
      "tags": []
     },
     "output_type": "execute_result"
    }
   ],
   "source": [
    "#Delete year and overall_lit\n",
    "df = df.drop(columns=['year', 'overall_lit',])\n",
    "df.shape"
   ]
  },
  {
   "cell_type": "code",
   "execution_count": 23,
   "metadata": {
    "colab": {
     "base_uri": "https://localhost:8080/",
     "height": 136
    },
    "colab_type": "code",
    "id": "HiVjMW0rQTeP",
    "outputId": "04b9a679-f3e2-4000-de85-c7356e6da3ba"
   },
   "outputs": [
    {
     "data": {
      "text/plain": [
       "Index(['statecd', 'distcd', 'blocks', 'clusters', 'villages', 'totschools',\n",
       "       'totpopulation', 'p_06_pop', 'p_urb_pop', 'sexratio',\n",
       "       ...\n",
       "       'trn_tch_f3', 'trn_tch_f4', 'trn_tch_f5', 'trn_tch_f6', 'trn_tch_f7',\n",
       "       'prof_trn_tch_r', 'prof_trn_tch_p', 'days_nontch', 'tch_nontch',\n",
       "       'overall_litnum'],\n",
       "      dtype='object', length=593)"
      ]
     },
     "execution_count": 23,
     "metadata": {
      "tags": []
     },
     "output_type": "execute_result"
    }
   ],
   "source": [
    "df.columns"
   ]
  },
  {
   "cell_type": "code",
   "execution_count": 24,
   "metadata": {
    "colab": {
     "base_uri": "https://localhost:8080/",
     "height": 34
    },
    "colab_type": "code",
    "id": "0opT3d-sfyY-",
    "outputId": "47beaa96-f89e-44ac-b943-19fbb877f83c"
   },
   "outputs": [
    {
     "data": {
      "text/plain": [
       "(1268, 591)"
      ]
     },
     "execution_count": 24,
     "metadata": {
      "tags": []
     },
     "output_type": "execute_result"
    }
   ],
   "source": [
    "df = df.drop(columns=['statecd','distcd'])\n",
    "df.shape"
   ]
  },
  {
   "cell_type": "markdown",
   "metadata": {
    "colab_type": "text",
    "id": "SzsY-knQKMtI"
   },
   "source": [
    "#### Exercise 4 - ( 3Marks)\n",
    "\n",
    "Use the functions below to adjust the outliers\n",
    "\n",
    "smooth_out function takes pandas dataframe as input and caculates mean, standard deviation of every column to check whether all the values in that lies within the range of mean +/- 2*standard_deviation of that column or not.\n",
    "If any of the values are not present in that boundary, then that values is brought on to the boundary.\n",
    "\n",
    "**Hint:** Should  the index column be normalized too? \n",
    "\n",
    "<img src=\"https://cdn.talentsprint.com/aiml/Experiment_related_data/normal_dist.png\">"
   ]
  },
  {
   "cell_type": "code",
   "execution_count": 0,
   "metadata": {
    "colab": {},
    "colab_type": "code",
    "id": "uhdy63OSKMtK"
   },
   "outputs": [],
   "source": [
    "# Function to clip and clam the data\n",
    "def clip_clamp(x, mean, sd):\n",
    "    # Checking whether the value is less than a differenced value between mean and standard deviation.\n",
    "    if x < mean - 2*sd :\n",
    "        return mean - 2*sd\n",
    "    #Checking whether the value is greater than a differenced value between mean and standard deviation.\n",
    "    elif x > mean + 2*sd :\n",
    "        return mean + 2*sd\n",
    "    # If above two conditions are not statisfied we will return the original value\n",
    "    else :\n",
    "        return x"
   ]
  },
  {
   "cell_type": "code",
   "execution_count": 0,
   "metadata": {
    "colab": {},
    "colab_type": "code",
    "id": "YXWSJ2wCKMtP"
   },
   "outputs": [],
   "source": [
    "# Function to smooth the data\n",
    "def smooth_out(Total_data):\n",
    "    for i in Total_data.columns:\n",
    "        # Calculating the mean value\n",
    "        mean = np.mean(Total_data[i].values, axis=0)\n",
    "        # Calculating the standard deviation value\n",
    "        sd = np.std(Total_data[i].values, axis=0)\n",
    "        # Calculating the corrected value using clip and clamp function\n",
    "        corrected = np.array([clip_clamp(x, mean, sd) for x in Total_data[i].values])\n",
    "        # Storing the data in form of series\n",
    "        Total_data[i] = pd.Series(corrected, index=Total_data[i].index)\n",
    "    return Total_data"
   ]
  },
  {
   "cell_type": "code",
   "execution_count": 0,
   "metadata": {
    "colab": {},
    "colab_type": "code",
    "id": "CuaRzpEOr8ow"
   },
   "outputs": [],
   "source": [
    "df_smooth = smooth_out(df)"
   ]
  },
  {
   "cell_type": "markdown",
   "metadata": {
    "colab_type": "text",
    "id": "-dMbvU-KKMtY"
   },
   "source": [
    "#### Exercise 5 - (2 Marks)\n",
    "\n",
    "Use the function below (corr_features) to identify uncorrelated features and remove the remaining features\n",
    "* corr_features takes pandas dataframe, columns in the dataframe and bar (corelation co-efficient)"
   ]
  },
  {
   "cell_type": "code",
   "execution_count": 0,
   "metadata": {
    "colab": {},
    "colab_type": "code",
    "id": "kgJeGouOKMtZ"
   },
   "outputs": [],
   "source": [
    "# Function to find uncorrelated features\n",
    "def corr_features(df,cols,bar=0.9):\n",
    "    for c,i in enumerate(cols[:-1]):\n",
    "        col_set = set(cols)\n",
    "        for j in cols[c+1:]:\n",
    "            if i==j:\n",
    "                continue\n",
    "           \n",
    "            score = df[i].corr(df[j])\n",
    "            \n",
    "            if score>bar:\n",
    "                cols = list(col_set-set([j]))\n",
    "            if score<-bar:\n",
    "                cols = list(col_set-set([j]))\n",
    "    return cols"
   ]
  },
  {
   "cell_type": "code",
   "execution_count": 0,
   "metadata": {
    "colab": {},
    "colab_type": "code",
    "id": "gisomp5aa9Qz"
   },
   "outputs": [],
   "source": [
    "corr_cols = corr_features(df_smooth, df_smooth.columns)"
   ]
  },
  {
   "cell_type": "code",
   "execution_count": 33,
   "metadata": {
    "colab": {
     "base_uri": "https://localhost:8080/",
     "height": 34
    },
    "colab_type": "code",
    "id": "ute7AomVPN30",
    "outputId": "befc0000-7fb3-4c44-80b3-64897b22c53d"
   },
   "outputs": [
    {
     "data": {
      "text/plain": [
       "(591, 432)"
      ]
     },
     "execution_count": 33,
     "metadata": {
      "tags": []
     },
     "output_type": "execute_result"
    }
   ],
   "source": [
    "len(df_smooth.columns), len(corr_cols)"
   ]
  },
  {
   "cell_type": "code",
   "execution_count": 0,
   "metadata": {
    "colab": {},
    "colab_type": "code",
    "id": "ZD3ls-xtSPqe"
   },
   "outputs": [],
   "source": [
    "remove_features = set(df_smooth.columns) - set(corr_cols)"
   ]
  },
  {
   "cell_type": "code",
   "execution_count": 37,
   "metadata": {
    "colab": {
     "base_uri": "https://localhost:8080/",
     "height": 34
    },
    "colab_type": "code",
    "id": "plOL9zTmSbFl",
    "outputId": "75db0e37-de0f-4cbc-ef1b-332ce4374d28"
   },
   "outputs": [
    {
     "data": {
      "text/plain": [
       "159"
      ]
     },
     "execution_count": 37,
     "metadata": {
      "tags": []
     },
     "output_type": "execute_result"
    }
   ],
   "source": [
    "feature_drop = list(remove_features)\n",
    "len(feature_drop)"
   ]
  },
  {
   "cell_type": "code",
   "execution_count": 38,
   "metadata": {
    "colab": {
     "base_uri": "https://localhost:8080/",
     "height": 357
    },
    "colab_type": "code",
    "id": "kfGNlHdFS46A",
    "outputId": "919a3237-e431-4328-9086-f49b691b4c7b"
   },
   "outputs": [
    {
     "data": {
      "text/plain": [
       "['enr py4 c5',\n",
       " 'enr r govt1',\n",
       " 'tch_govt3',\n",
       " 'water sch3',\n",
       " 'enr govt7',\n",
       " 'sch r govt6',\n",
       " 'enr py3 c3',\n",
       " 'st enrp cy',\n",
       " 'enr py2 c3',\n",
       " 'sch r pvt3',\n",
       " 'enr py3 c2',\n",
       " 'st enrup cy',\n",
       " 'gtoilet sch1',\n",
       " 'enr py4 c6',\n",
       " 'tch_sc_m4',\n",
       " 'enr py3 c8',\n",
       " 'enr py1 c2',\n",
       " 'tch1 school1',\n",
       " 'rep c7',\n",
       " 'enr pvt4']"
      ]
     },
     "execution_count": 38,
     "metadata": {
      "tags": []
     },
     "output_type": "execute_result"
    }
   ],
   "source": [
    "feature_drop[:20]"
   ]
  },
  {
   "cell_type": "code",
   "execution_count": 0,
   "metadata": {
    "colab": {},
    "colab_type": "code",
    "id": "u0nYp719SoEV"
   },
   "outputs": [],
   "source": [
    "# Removing uncorrelated features\n",
    "df_final = df_smooth.drop(columns=feature_drop)"
   ]
  },
  {
   "cell_type": "code",
   "execution_count": 40,
   "metadata": {
    "colab": {
     "base_uri": "https://localhost:8080/",
     "height": 34
    },
    "colab_type": "code",
    "id": "HKDGrYM2THCm",
    "outputId": "c8a5742b-3bb8-466c-a089-5881a996a84f"
   },
   "outputs": [
    {
     "data": {
      "text/plain": [
       "(1268, 432)"
      ]
     },
     "execution_count": 40,
     "metadata": {
      "tags": []
     },
     "output_type": "execute_result"
    }
   ],
   "source": [
    "df_final.shape"
   ]
  },
  {
   "cell_type": "code",
   "execution_count": 65,
   "metadata": {
    "colab": {
     "base_uri": "https://localhost:8080/",
     "height": 34
    },
    "colab_type": "code",
    "id": "XlY1qcMjXmtY",
    "outputId": "5c1d0d12-2ae9-496b-c388-06b80332b68a"
   },
   "outputs": [
    {
     "data": {
      "text/plain": [
       "431"
      ]
     },
     "execution_count": 65,
     "metadata": {
      "tags": []
     },
     "output_type": "execute_result"
    }
   ],
   "source": [
    "list(df_final.columns).index('overall_litnum')"
   ]
  },
  {
   "cell_type": "code",
   "execution_count": 68,
   "metadata": {
    "colab": {
     "base_uri": "https://localhost:8080/",
     "height": 34
    },
    "colab_type": "code",
    "id": "NcImp0GOYmpx",
    "outputId": "bb9f2c5f-022b-411a-c055-b296f37f1744"
   },
   "outputs": [
    {
     "data": {
      "text/plain": [
       "'overall_litnum'"
      ]
     },
     "execution_count": 68,
     "metadata": {
      "tags": []
     },
     "output_type": "execute_result"
    }
   ],
   "source": [
    "df_final.columns[-1]"
   ]
  },
  {
   "cell_type": "markdown",
   "metadata": {
    "colab_type": "text",
    "id": "5njOPWIXKMtd"
   },
   "source": [
    "#### Exercise 6 - (4 Marks)\n",
    "\n",
    "Perform Mean Correction and Standard Scaling on the data feature/column wise.\n",
    "\n",
    "**Hint:** In order to understand the idea behind the terms used above, you may refer the following link: \n",
    "\n",
    "https://scikit-learn.org/stable/modules/generated/sklearn.preprocessing.StandardScaler.html"
   ]
  },
  {
   "cell_type": "code",
   "execution_count": 0,
   "metadata": {
    "colab": {},
    "colab_type": "code",
    "id": "988wdlpDKMtd"
   },
   "outputs": [],
   "source": [
    "from sklearn.preprocessing import StandardScaler\n",
    "scaler = StandardScaler()\n",
    "scaler.fit(df_final)\n",
    "scaler.mean_\n",
    "dataset = scaler.transform(df_final)"
   ]
  },
  {
   "cell_type": "code",
   "execution_count": 83,
   "metadata": {
    "colab": {
     "base_uri": "https://localhost:8080/",
     "height": 34
    },
    "colab_type": "code",
    "id": "PU5Rw9rcUfVP",
    "outputId": "2d18692b-75a1-4352-f566-b251716392fd"
   },
   "outputs": [
    {
     "data": {
      "text/plain": [
       "numpy.ndarray"
      ]
     },
     "execution_count": 83,
     "metadata": {
      "tags": []
     },
     "output_type": "execute_result"
    }
   ],
   "source": [
    "type(dataset)"
   ]
  },
  {
   "cell_type": "code",
   "execution_count": 0,
   "metadata": {
    "colab": {},
    "colab_type": "code",
    "id": "BIb1BXGBcQAr"
   },
   "outputs": [],
   "source": [
    "data = dataset[:,:-1]"
   ]
  },
  {
   "cell_type": "code",
   "execution_count": 0,
   "metadata": {
    "colab": {},
    "colab_type": "code",
    "id": "abWvBWxWcgF0"
   },
   "outputs": [],
   "source": [
    "target = dataset[:,-1]"
   ]
  },
  {
   "cell_type": "code",
   "execution_count": 89,
   "metadata": {
    "colab": {
     "base_uri": "https://localhost:8080/",
     "height": 34
    },
    "colab_type": "code",
    "id": "lRXIpb8ZcWza",
    "outputId": "6f033682-34a7-42e3-90e9-48f1eb2afbd6"
   },
   "outputs": [
    {
     "data": {
      "text/plain": [
       "((1268, 431), (1268,))"
      ]
     },
     "execution_count": 89,
     "metadata": {
      "tags": []
     },
     "output_type": "execute_result"
    }
   ],
   "source": [
    "data.shape, target.shape"
   ]
  },
  {
   "cell_type": "markdown",
   "metadata": {
    "colab_type": "text",
    "id": "QugqX021KMtl"
   },
   "source": [
    "#### Exercise 7 - (2 Marks)\n",
    "\n",
    "Apply different classifiers on the preprocessed data and figure out which classifier gives the best result."
   ]
  },
  {
   "cell_type": "code",
   "execution_count": 0,
   "metadata": {
    "colab": {},
    "colab_type": "code",
    "id": "BDU79hzPeVoE"
   },
   "outputs": [],
   "source": [
    "from sklearn.model_selection import train_test_split\n",
    "from sklearn import preprocessing"
   ]
  },
  {
   "cell_type": "code",
   "execution_count": 0,
   "metadata": {
    "colab": {},
    "colab_type": "code",
    "id": "s6ka-fmz8gGj"
   },
   "outputs": [],
   "source": [
    "def callKnn(data,targets):\n",
    "    #convert string or float values to 0 .. n classes.\n",
    "    #https://www.kaggle.com/pratsiuk/valueerror-unknown-label-type-continuous\n",
    "    lab_enc = preprocessing.LabelEncoder()\n",
    "    X_train, X_test, y_train, y_test = train_test_split(data, targets, test_size=0.33)\n",
    "    neigh = KNeighborsClassifier(n_neighbors=3)\n",
    "    #encoding\n",
    "    y_train_enc = lab_enc.fit_transform(y_train)\n",
    "    y_test_enc = lab_enc.fit_transform(y_test)\n",
    "\n",
    "    neigh.fit(X_train, y_train_enc)\n",
    "    #return neigh.score(X_test, y_test_enc)\n",
    "    pred = neigh.predict(X_test)\n",
    "    return accuracy_score(y_test_enc,pred)"
   ]
  },
  {
   "cell_type": "code",
   "execution_count": 124,
   "metadata": {
    "colab": {
     "base_uri": "https://localhost:8080/",
     "height": 34
    },
    "colab_type": "code",
    "id": "UEjD56Puavy6",
    "outputId": "104199be-71b2-4201-b6b0-33a633132512"
   },
   "outputs": [
    {
     "data": {
      "text/plain": [
       "0.6539379474940334"
      ]
     },
     "execution_count": 124,
     "metadata": {
      "tags": []
     },
     "output_type": "execute_result"
    }
   ],
   "source": [
    "callKnn(data,target)"
   ]
  },
  {
   "cell_type": "code",
   "execution_count": 0,
   "metadata": {
    "colab": {},
    "colab_type": "code",
    "id": "-RdXdfnphOBX"
   },
   "outputs": [],
   "source": [
    "from sklearn import tree"
   ]
  },
  {
   "cell_type": "code",
   "execution_count": 0,
   "metadata": {
    "colab": {},
    "colab_type": "code",
    "id": "oEWp06VedwpO"
   },
   "outputs": [],
   "source": [
    "def callDT(data,targets):\n",
    "  clf = tree.DecisionTreeClassifier(criterion='entropy')\n",
    "  X_train, X_test, y_train, y_test = train_test_split(data, targets, test_size=0.33)\n",
    "  lab_enc = preprocessing.LabelEncoder()\n",
    "  \n",
    "  y_train_enc = lab_enc.fit_transform(y_train)\n",
    "  clf = clf.fit(X_train,y_train_enc)\n",
    "\n",
    "  y_test_enc = lab_enc.fit_transform(y_test)\n",
    "  pred = clf.predict(X_test)\n",
    "  return accuracy_score(y_test_enc,pred)\n"
   ]
  },
  {
   "cell_type": "code",
   "execution_count": 127,
   "metadata": {
    "colab": {
     "base_uri": "https://localhost:8080/",
     "height": 34
    },
    "colab_type": "code",
    "id": "wBLzZsXMh8Wo",
    "outputId": "589a2b71-9c27-41a5-cc97-f517042c170a"
   },
   "outputs": [
    {
     "data": {
      "text/plain": [
       "0.9069212410501193"
      ]
     },
     "execution_count": 127,
     "metadata": {
      "tags": []
     },
     "output_type": "execute_result"
    }
   ],
   "source": [
    "callDT(data,target)"
   ]
  },
  {
   "cell_type": "code",
   "execution_count": 0,
   "metadata": {
    "colab": {},
    "colab_type": "code",
    "id": "r2lg38q1ite9"
   },
   "outputs": [],
   "source": [
    "from sklearn import linear_model"
   ]
  },
  {
   "cell_type": "code",
   "execution_count": 0,
   "metadata": {
    "colab": {},
    "colab_type": "code",
    "id": "pkB4jgtvidXX"
   },
   "outputs": [],
   "source": [
    "def linear_classifier(data,targets):\n",
    "  lnr_clf = linear_model.SGDClassifier()\n",
    "  X_train, X_test, y_train, y_test = train_test_split(data, targets, test_size=0.33)\n",
    "\n",
    "  #y is object type, sklearn cannot recognize its type, hence added y.astype('int')\n",
    "  #https://stackoverflow.com/questions/45346550/valueerror-unknown-label-type-unknown\n",
    "  y_train = y_train.astype('int')\n",
    "  lnr_clf.fit(X_train,y_train)\n",
    "\n",
    "  y_test = y_test.astype('int')\n",
    "  pred = lnr_clf.predict(X_test)\n",
    "  return accuracy_score(y_test,pred)\n"
   ]
  },
  {
   "cell_type": "code",
   "execution_count": 136,
   "metadata": {
    "colab": {
     "base_uri": "https://localhost:8080/",
     "height": 34
    },
    "colab_type": "code",
    "id": "LazFuYiBjLuv",
    "outputId": "a8242a11-4d44-417d-afa0-70520e7c239a"
   },
   "outputs": [
    {
     "data": {
      "text/plain": [
       "0.8066825775656324"
      ]
     },
     "execution_count": 136,
     "metadata": {
      "tags": []
     },
     "output_type": "execute_result"
    }
   ],
   "source": [
    "linear_classifier(data,target)"
   ]
  }
 ],
 "metadata": {
  "accelerator": "GPU",
  "colab": {
   "collapsed_sections": [],
   "name": "Mini_Hackathon_Data_Munging.ipynb",
   "provenance": [],
   "toc_visible": true
  },
  "kernelspec": {
   "display_name": "Python 3",
   "language": "python",
   "name": "python3"
  },
  "language_info": {
   "codemirror_mode": {
    "name": "ipython",
    "version": 3
   },
   "file_extension": ".py",
   "mimetype": "text/x-python",
   "name": "python",
   "nbconvert_exporter": "python",
   "pygments_lexer": "ipython3",
   "version": "3.6.5"
  }
 },
 "nbformat": 4,
 "nbformat_minor": 1
}
