{
 "cells": [
  {
   "cell_type": "markdown",
   "metadata": {
    "colab_type": "text",
    "id": "EjcpcKwppPJC"
   },
   "source": [
    "\n",
    "# Advanced Certification in AIML\n",
    "## A Program by IIIT-H and TalentSprint"
   ]
  },
  {
   "cell_type": "markdown",
   "metadata": {
    "colab_type": "text",
    "id": "ksg-aNjbn2h0"
   },
   "source": [
    "## Learning Objectives"
   ]
  },
  {
   "cell_type": "markdown",
   "metadata": {
    "colab_type": "text",
    "id": "dW2P6nr1n6fv"
   },
   "source": [
    "At the end of the experiment, you will be able to:\n",
    "\n",
    "\n",
    "*  Apply K-Fold cross-validation method\n",
    "*  Tune the hyperparameters of MLP Classifier."
   ]
  },
  {
   "cell_type": "markdown",
   "metadata": {
    "colab_type": "text",
    "id": "ovdZ_4tln7Oz"
   },
   "source": [
    "## Dataset"
   ]
  },
  {
   "cell_type": "markdown",
   "metadata": {
    "colab_type": "text",
    "id": "ZbclXs06n8-b"
   },
   "source": [
    "### Description:\n",
    "\n",
    "The MNIST dataset contains: \n",
    "\n",
    "1. 60,000 Handwritten digits as training samples and 10,000 Test samples, \n",
    "which means each digit occurs 6000 times in the training set and 1000 times in the testing set. (approximately). \n",
    "2. Each image is Size Normalized and Centered \n",
    "3. Each image is 28 X 28 Pixel with 0-255 Gray Scale Value. \n",
    "4. That means each image is represented as 784 (28 X28) dimension vector where each value is in the range 0- 255.\n",
    "\n",
    "\n",
    "\n",
    "### History\n",
    "\n",
    "Yann LeCun (Director of AI Research, Facebook, Courant Institute, NYU) was given the task of identifying the cheque numbers (in the ’90s) and the amount associated with that cheque without manual intervention. That is when this dataset was created which raised the bars and became a benchmark.\n",
    "\n",
    "Yann LeCun and Corinna Cortes (Google Labs, New York) hold the copyright of the MNIST dataset, which is a subset of the original NIST datasets. This dataset is made available under the terms of the Creative Commons Attribution-Share Alike 3.0 license.\n",
    "\n",
    "It is the handwritten digits dataset in which half of them are written by the Census Bureau employees and remaining by the high school students. The digits collected among the Census Bureau employees are easier and cleaner to recognize than the digits collected among the students.\n",
    "\n",
    "\n",
    "### Challenges\n",
    "\n",
    "Now, if you notice the images below, you will find that between 2 characters there are always certain similarities and differences. To teach a machine to recognize these patterns and identify the correct output.\n",
    "\n",
    "![altxt](https://www.researchgate.net/profile/Radu_Tudor_Ionescu/publication/282924675/figure/fig3/AS:319968869666820@1453297931093/A-random-sample-of-6-handwritten-digits-from-the-MNIST-data-set-before-and-after.png)\n",
    "\n",
    "Hence, all these challenges make this a good problem to solve in Machine Learning.\n"
   ]
  },
  {
   "cell_type": "markdown",
   "metadata": {
    "colab_type": "text",
    "id": "ZkLmftP9oCeD"
   },
   "source": [
    "## Domain Information"
   ]
  },
  {
   "cell_type": "markdown",
   "metadata": {
    "colab_type": "text",
    "id": "M2LBE8FOoGrF"
   },
   "source": [
    "Handwriting changes person to person. Some of us have neat handwriting and some have illegible handwriting such as doctors. However, if you think about it even a child who recognizes alphabets and numerics can identify the characters of a text even written by a stranger. But even a technically knowledgeable adult cannot describe the process by which he or she recognizes the text/letters. As you know this is an excellent challenge for Machine Learning.\n",
    "\n",
    "![altxt](https://i.pinimg.com/originals/f2/7a/ac/f27aac4542c0090872110836d65f4c99.jpg)\n"
   ]
  },
  {
   "cell_type": "markdown",
   "metadata": {
    "colab_type": "text",
    "id": "AbwQ87pLoMAr"
   },
   "source": [
    "## AI /ML Technique"
   ]
  },
  {
   "cell_type": "markdown",
   "metadata": {
    "colab_type": "text",
    "id": "old2jD8doO0T"
   },
   "source": [
    "### K-Fold Cross Validation\n",
    "\n",
    "\n",
    "The problem with machine learning models is that you won’t get to know how well a model performs until you test it's performance on an independent data set (the data set which was not used for training the machine learning model).\n",
    "\n",
    "Cross Validation comes in to picture here and helps us to estimate the performance of our model. One type of cross validation is the K-Fold Cross Validation\n",
    "\n",
    "In our experiment, we are using the K-Fold Cross Validation technique to reduce (limit) the problem of overfitting. K-Fold Cross Validation is a way to evaluate and improve the performance of our machine learning model. It helps to prevent overfitting to a single train or test split.\n",
    "\n",
    "\n",
    "When we are given a machine learning problem, we will be given two types of data sets — known data (training data set) and unknown data (test data set). By using cross-validation, you would be “testing” your machine learning model in the “training” phase to check for overfitting and to get an idea about how your machine learning model will generalize to independent data, which is the test data set given in the problem.\n",
    "\n",
    "\n",
    "In the first round of cross validation, we have to divide our original training data set into two parts:\n",
    "\n",
    "1. Cross validation training set\n",
    "2. Cross validation testing set or Validation set\n",
    "\n",
    "![alt text](https://cdn.talentsprint.com/aiml/Experiment_related_data/IMAGES/K-Fold.png)\n",
    "\n",
    "The above image represents how the K-Fold Cross Validation works. We divide the dataset in to \"K'' parts and will use the K-1 parts for training and remaining 1 for testing. We will rotate the test set and repeat the process for \"K\" times. \n",
    "\n",
    "we will train our machine learning model on the cross validation training set and test the model’s predictions against the validation set. we will get to know how accurate our machine learning model’s predictions are when we compare the model’s predictions on the validation set and the actual labels of the data points in the validation set.\n",
    "\n",
    "To reduce the variability, multiple rounds of cross validation are performed by using different cross validation training sets and cross validation testing sets. The results from all the rounds are averaged to estimate the accuracy of the machine learning model.\n",
    "\n",
    "**K-fold cross validation is performed as per the following steps:**\n",
    "\n",
    "1. Randomly split the entire training dataset into k subsets.\n",
    "2. Reserve one block as our test data\n",
    "3. Train on each of the remaining K-1 blocks\n",
    "4. Measure the performance against the test set\n",
    "5. The average of our K recorded errors is called the cross-validation error and it will be used as a performance metric for the model\n",
    "\n",
    "For this particular experiment, we have applied a k-foldclassifier() from the sklearn.\n"
   ]
  },
  {
   "cell_type": "markdown",
   "metadata": {
    "colab_type": "text",
    "id": "883iWwdPpyth"
   },
   "source": [
    "#### Expected time : 30mins"
   ]
  },
  {
   "cell_type": "code",
   "execution_count": 0,
   "metadata": {
    "colab": {},
    "colab_type": "code",
    "id": "SFzKqwLppPJI"
   },
   "outputs": [],
   "source": [
    "## Importing required packages\n",
    "import numpy as np\n",
    "from matplotlib import pyplot as plt\n",
    "from sklearn import datasets\n",
    "from sklearn.model_selection import train_test_split\n",
    "from sklearn.neural_network import MLPClassifier\n",
    "from sklearn.model_selection import KFold\n",
    "from sklearn.metrics import accuracy_score"
   ]
  },
  {
   "cell_type": "markdown",
   "metadata": {
    "colab_type": "text",
    "id": "zWoLTkutpPJN"
   },
   "source": [
    "Loading the dataset from sklearn package"
   ]
  },
  {
   "cell_type": "code",
   "execution_count": 0,
   "metadata": {
    "colab": {},
    "colab_type": "code",
    "id": "d3Zg9n4zpPJO"
   },
   "outputs": [],
   "source": [
    "## Loading MNIST dataset from sklearn\n",
    "digits = datasets.load_digits(n_class=10)\n",
    "## Loding the data and storing in x\n",
    "X = digits.data\n",
    "## Loading the target data and storing it in y\n",
    "y = digits.target"
   ]
  },
  {
   "cell_type": "markdown",
   "metadata": {
    "colab_type": "text",
    "id": "IfXTtoTyHeki"
   },
   "source": [
    "### Hyper Parameters"
   ]
  },
  {
   "cell_type": "code",
   "execution_count": 0,
   "metadata": {
    "colab": {},
    "colab_type": "code",
    "id": "GKvy1plDpPJS"
   },
   "outputs": [],
   "source": [
    "# Activation Functions\n",
    "a = [\"identity\",\"logistic\",\"tanh\",\"relu\"]\n",
    "# Solvers (Optimizers)\n",
    "s = [\"lbfgs\",\"sgd\",\"adam\"]\n",
    "# Learning Rate\n",
    "lr = [0.0001,0.001,0.01,0.1]\n",
    "# Hidden Layers and number of nodes in each layer\n",
    "h = [(5,2),(3,2),(6,3),(7,2)]"
   ]
  },
  {
   "cell_type": "code",
   "execution_count": 0,
   "metadata": {
    "colab": {},
    "colab_type": "code",
    "id": "FKanYk0rpPJW"
   },
   "outputs": [],
   "source": [
    "## Applying K-Folds cross-validator\n",
    "kf = KFold(n_splits=4)"
   ]
  },
  {
   "cell_type": "code",
   "execution_count": 0,
   "metadata": {
    "colab": {},
    "colab_type": "code",
    "id": "DqWhE0sspPJd"
   },
   "outputs": [],
   "source": [
    "# Function to Create MLP classifier object with hyper parameters\n",
    "def mlp(a,s,h,lr):\n",
    "    clf = MLPClassifier(activation= a ,solver= s ,hidden_layer_sizes = h,learning_rate_init=lr)\n",
    "    return clf  \n",
    "# Function to calculate the accuracy\n",
    "def accuracy(actual,predicted):\n",
    "    return accuracy_score(actual,predicted)"
   ]
  },
  {
   "cell_type": "markdown",
   "metadata": {
    "colab_type": "text",
    "id": "FYi1hdOIOiq-"
   },
   "source": [
    "#### Calculating Training and Testing accuracies"
   ]
  },
  {
   "cell_type": "markdown",
   "metadata": {
    "colab_type": "text",
    "id": "WUKHZALjH8ug"
   },
   "source": [
    "**Note :**  You may ignore the warning below as they are internal to the Sklearn's config and not related to the data"
   ]
  },
  {
   "cell_type": "code",
   "execution_count": 0,
   "metadata": {
    "colab": {
     "base_uri": "https://localhost:8080/",
     "height": 1000
    },
    "colab_type": "code",
    "id": "TYeKG-copPJl",
    "outputId": "85d9b32d-3dad-4953-ea71-281496ad3f21"
   },
   "outputs": [
    {
     "name": "stdout",
     "output_type": "stream",
     "text": [
      "\n",
      "Hyper-parameters = \n",
      " activation =  relu \n",
      " solver =  lbfgs \n",
      " learning_rate_init =  0.1 \n",
      " hidden_layer_sizes =  (6, 3)\n"
     ]
    },
    {
     "name": "stderr",
     "output_type": "stream",
     "text": [
      "/usr/local/lib/python3.6/dist-packages/sklearn/neural_network/_multilayer_perceptron.py:470: ConvergenceWarning: lbfgs failed to converge (status=1):\n",
      "STOP: TOTAL NO. of ITERATIONS REACHED LIMIT.\n",
      "\n",
      "Increase the number of iterations (max_iter) or scale the data as shown in:\n",
      "    https://scikit-learn.org/stable/modules/preprocessing.html\n",
      "  self.n_iter_ = _check_optimize_result(\"lbfgs\", opt_res, self.max_iter)\n",
      "/usr/local/lib/python3.6/dist-packages/sklearn/neural_network/_multilayer_perceptron.py:470: ConvergenceWarning: lbfgs failed to converge (status=1):\n",
      "STOP: TOTAL NO. of ITERATIONS REACHED LIMIT.\n",
      "\n",
      "Increase the number of iterations (max_iter) or scale the data as shown in:\n",
      "    https://scikit-learn.org/stable/modules/preprocessing.html\n",
      "  self.n_iter_ = _check_optimize_result(\"lbfgs\", opt_res, self.max_iter)\n"
     ]
    },
    {
     "name": "stdout",
     "output_type": "stream",
     "text": [
      "Number of folds is4\n",
      "(train,test) accuracy =  0.3090517117938754 0.2787465973768869\n",
      "\n",
      "Hyper-parameters = \n",
      " activation =  logistic \n",
      " solver =  sgd \n",
      " learning_rate_init =  0.001 \n",
      " hidden_layer_sizes =  (3, 2)\n"
     ]
    },
    {
     "name": "stderr",
     "output_type": "stream",
     "text": [
      "/usr/local/lib/python3.6/dist-packages/sklearn/neural_network/_multilayer_perceptron.py:571: ConvergenceWarning: Stochastic Optimizer: Maximum iterations (200) reached and the optimization hasn't converged yet.\n",
      "  % self.max_iter, ConvergenceWarning)\n"
     ]
    },
    {
     "name": "stdout",
     "output_type": "stream",
     "text": [
      "Number of folds is4\n",
      "(train,test) accuracy =  0.13559035465117558 0.12634001484780996\n",
      "\n",
      "Hyper-parameters = \n",
      " activation =  tanh \n",
      " solver =  lbfgs \n",
      " learning_rate_init =  0.01 \n",
      " hidden_layer_sizes =  (5, 2)\n"
     ]
    },
    {
     "name": "stderr",
     "output_type": "stream",
     "text": [
      "/usr/local/lib/python3.6/dist-packages/sklearn/neural_network/_multilayer_perceptron.py:470: ConvergenceWarning: lbfgs failed to converge (status=1):\n",
      "STOP: TOTAL NO. of ITERATIONS REACHED LIMIT.\n",
      "\n",
      "Increase the number of iterations (max_iter) or scale the data as shown in:\n",
      "    https://scikit-learn.org/stable/modules/preprocessing.html\n",
      "  self.n_iter_ = _check_optimize_result(\"lbfgs\", opt_res, self.max_iter)\n",
      "/usr/local/lib/python3.6/dist-packages/sklearn/neural_network/_multilayer_perceptron.py:470: ConvergenceWarning: lbfgs failed to converge (status=1):\n",
      "STOP: TOTAL NO. of ITERATIONS REACHED LIMIT.\n",
      "\n",
      "Increase the number of iterations (max_iter) or scale the data as shown in:\n",
      "    https://scikit-learn.org/stable/modules/preprocessing.html\n",
      "  self.n_iter_ = _check_optimize_result(\"lbfgs\", opt_res, self.max_iter)\n",
      "/usr/local/lib/python3.6/dist-packages/sklearn/neural_network/_multilayer_perceptron.py:470: ConvergenceWarning: lbfgs failed to converge (status=1):\n",
      "STOP: TOTAL NO. of ITERATIONS REACHED LIMIT.\n",
      "\n",
      "Increase the number of iterations (max_iter) or scale the data as shown in:\n",
      "    https://scikit-learn.org/stable/modules/preprocessing.html\n",
      "  self.n_iter_ = _check_optimize_result(\"lbfgs\", opt_res, self.max_iter)\n",
      "/usr/local/lib/python3.6/dist-packages/sklearn/neural_network/_multilayer_perceptron.py:470: ConvergenceWarning: lbfgs failed to converge (status=1):\n",
      "STOP: TOTAL NO. of ITERATIONS REACHED LIMIT.\n",
      "\n",
      "Increase the number of iterations (max_iter) or scale the data as shown in:\n",
      "    https://scikit-learn.org/stable/modules/preprocessing.html\n",
      "  self.n_iter_ = _check_optimize_result(\"lbfgs\", opt_res, self.max_iter)\n"
     ]
    },
    {
     "name": "stdout",
     "output_type": "stream",
     "text": [
      "Number of folds is4\n",
      "(train,test) accuracy =  0.4993768435847107 0.4673694630042069\n",
      "\n",
      "Hyper-parameters = \n",
      " activation =  relu \n",
      " solver =  adam \n",
      " learning_rate_init =  0.0001 \n",
      " hidden_layer_sizes =  (3, 2)\n"
     ]
    },
    {
     "name": "stderr",
     "output_type": "stream",
     "text": [
      "/usr/local/lib/python3.6/dist-packages/sklearn/neural_network/_multilayer_perceptron.py:571: ConvergenceWarning: Stochastic Optimizer: Maximum iterations (200) reached and the optimization hasn't converged yet.\n",
      "  % self.max_iter, ConvergenceWarning)\n",
      "/usr/local/lib/python3.6/dist-packages/sklearn/neural_network/_multilayer_perceptron.py:571: ConvergenceWarning: Stochastic Optimizer: Maximum iterations (200) reached and the optimization hasn't converged yet.\n",
      "  % self.max_iter, ConvergenceWarning)\n",
      "/usr/local/lib/python3.6/dist-packages/sklearn/neural_network/_multilayer_perceptron.py:571: ConvergenceWarning: Stochastic Optimizer: Maximum iterations (200) reached and the optimization hasn't converged yet.\n",
      "  % self.max_iter, ConvergenceWarning)\n",
      "/usr/local/lib/python3.6/dist-packages/sklearn/neural_network/_multilayer_perceptron.py:571: ConvergenceWarning: Stochastic Optimizer: Maximum iterations (200) reached and the optimization hasn't converged yet.\n",
      "  % self.max_iter, ConvergenceWarning)\n"
     ]
    },
    {
     "name": "stdout",
     "output_type": "stream",
     "text": [
      "Number of folds is4\n",
      "(train,test) accuracy =  0.15692719726659307 0.15914377629299678\n",
      "\n",
      "Hyper-parameters = \n",
      " activation =  relu \n",
      " solver =  lbfgs \n",
      " learning_rate_init =  0.1 \n",
      " hidden_layer_sizes =  (5, 2)\n"
     ]
    },
    {
     "name": "stderr",
     "output_type": "stream",
     "text": [
      "/usr/local/lib/python3.6/dist-packages/sklearn/neural_network/_multilayer_perceptron.py:470: ConvergenceWarning: lbfgs failed to converge (status=1):\n",
      "STOP: TOTAL NO. of ITERATIONS REACHED LIMIT.\n",
      "\n",
      "Increase the number of iterations (max_iter) or scale the data as shown in:\n",
      "    https://scikit-learn.org/stable/modules/preprocessing.html\n",
      "  self.n_iter_ = _check_optimize_result(\"lbfgs\", opt_res, self.max_iter)\n",
      "/usr/local/lib/python3.6/dist-packages/sklearn/neural_network/_multilayer_perceptron.py:470: ConvergenceWarning: lbfgs failed to converge (status=1):\n",
      "STOP: TOTAL NO. of ITERATIONS REACHED LIMIT.\n",
      "\n",
      "Increase the number of iterations (max_iter) or scale the data as shown in:\n",
      "    https://scikit-learn.org/stable/modules/preprocessing.html\n",
      "  self.n_iter_ = _check_optimize_result(\"lbfgs\", opt_res, self.max_iter)\n",
      "/usr/local/lib/python3.6/dist-packages/sklearn/neural_network/_multilayer_perceptron.py:470: ConvergenceWarning: lbfgs failed to converge (status=1):\n",
      "STOP: TOTAL NO. of ITERATIONS REACHED LIMIT.\n",
      "\n",
      "Increase the number of iterations (max_iter) or scale the data as shown in:\n",
      "    https://scikit-learn.org/stable/modules/preprocessing.html\n",
      "  self.n_iter_ = _check_optimize_result(\"lbfgs\", opt_res, self.max_iter)\n",
      "/usr/local/lib/python3.6/dist-packages/sklearn/neural_network/_multilayer_perceptron.py:470: ConvergenceWarning: lbfgs failed to converge (status=1):\n",
      "STOP: TOTAL NO. of ITERATIONS REACHED LIMIT.\n",
      "\n",
      "Increase the number of iterations (max_iter) or scale the data as shown in:\n",
      "    https://scikit-learn.org/stable/modules/preprocessing.html\n",
      "  self.n_iter_ = _check_optimize_result(\"lbfgs\", opt_res, self.max_iter)\n"
     ]
    },
    {
     "name": "stdout",
     "output_type": "stream",
     "text": [
      "Number of folds is4\n",
      "(train,test) accuracy =  0.35837689645525056 0.327750556792873\n",
      "\n",
      "Hyper-parameters = \n",
      " activation =  identity \n",
      " solver =  sgd \n",
      " learning_rate_init =  0.001 \n",
      " hidden_layer_sizes =  (3, 2)\n"
     ]
    },
    {
     "name": "stderr",
     "output_type": "stream",
     "text": [
      "/usr/local/lib/python3.6/dist-packages/sklearn/neural_network/_multilayer_perceptron.py:571: ConvergenceWarning: Stochastic Optimizer: Maximum iterations (200) reached and the optimization hasn't converged yet.\n",
      "  % self.max_iter, ConvergenceWarning)\n",
      "/usr/local/lib/python3.6/dist-packages/sklearn/neural_network/_multilayer_perceptron.py:571: ConvergenceWarning: Stochastic Optimizer: Maximum iterations (200) reached and the optimization hasn't converged yet.\n",
      "  % self.max_iter, ConvergenceWarning)\n",
      "/usr/local/lib/python3.6/dist-packages/sklearn/neural_network/_multilayer_perceptron.py:571: ConvergenceWarning: Stochastic Optimizer: Maximum iterations (200) reached and the optimization hasn't converged yet.\n",
      "  % self.max_iter, ConvergenceWarning)\n",
      "/usr/local/lib/python3.6/dist-packages/sklearn/neural_network/_multilayer_perceptron.py:571: ConvergenceWarning: Stochastic Optimizer: Maximum iterations (200) reached and the optimization hasn't converged yet.\n",
      "  % self.max_iter, ConvergenceWarning)\n"
     ]
    },
    {
     "name": "stdout",
     "output_type": "stream",
     "text": [
      "Number of folds is4\n",
      "(train,test) accuracy =  0.6555430630547275 0.5698205889631279\n",
      "\n",
      "Hyper-parameters = \n",
      " activation =  tanh \n",
      " solver =  sgd \n",
      " learning_rate_init =  0.001 \n",
      " hidden_layer_sizes =  (5, 2)\n"
     ]
    },
    {
     "name": "stderr",
     "output_type": "stream",
     "text": [
      "/usr/local/lib/python3.6/dist-packages/sklearn/neural_network/_multilayer_perceptron.py:571: ConvergenceWarning: Stochastic Optimizer: Maximum iterations (200) reached and the optimization hasn't converged yet.\n",
      "  % self.max_iter, ConvergenceWarning)\n",
      "/usr/local/lib/python3.6/dist-packages/sklearn/neural_network/_multilayer_perceptron.py:571: ConvergenceWarning: Stochastic Optimizer: Maximum iterations (200) reached and the optimization hasn't converged yet.\n",
      "  % self.max_iter, ConvergenceWarning)\n",
      "/usr/local/lib/python3.6/dist-packages/sklearn/neural_network/_multilayer_perceptron.py:571: ConvergenceWarning: Stochastic Optimizer: Maximum iterations (200) reached and the optimization hasn't converged yet.\n",
      "  % self.max_iter, ConvergenceWarning)\n",
      "/usr/local/lib/python3.6/dist-packages/sklearn/neural_network/_multilayer_perceptron.py:571: ConvergenceWarning: Stochastic Optimizer: Maximum iterations (200) reached and the optimization hasn't converged yet.\n",
      "  % self.max_iter, ConvergenceWarning)\n"
     ]
    },
    {
     "name": "stdout",
     "output_type": "stream",
     "text": [
      "Number of folds is4\n",
      "(train,test) accuracy =  0.3292572074662014 0.29495050730017325\n",
      "\n",
      "Hyper-parameters = \n",
      " activation =  relu \n",
      " solver =  adam \n",
      " learning_rate_init =  0.1 \n",
      " hidden_layer_sizes =  (6, 3)\n",
      "Number of folds is4\n",
      "(train,test) accuracy =  0.10183664545236254 0.09738678544914625\n",
      "\n",
      "Hyper-parameters = \n",
      " activation =  logistic \n",
      " solver =  adam \n",
      " learning_rate_init =  0.001 \n",
      " hidden_layer_sizes =  (7, 2)\n"
     ]
    },
    {
     "name": "stderr",
     "output_type": "stream",
     "text": [
      "/usr/local/lib/python3.6/dist-packages/sklearn/neural_network/_multilayer_perceptron.py:571: ConvergenceWarning: Stochastic Optimizer: Maximum iterations (200) reached and the optimization hasn't converged yet.\n",
      "  % self.max_iter, ConvergenceWarning)\n",
      "/usr/local/lib/python3.6/dist-packages/sklearn/neural_network/_multilayer_perceptron.py:571: ConvergenceWarning: Stochastic Optimizer: Maximum iterations (200) reached and the optimization hasn't converged yet.\n",
      "  % self.max_iter, ConvergenceWarning)\n",
      "/usr/local/lib/python3.6/dist-packages/sklearn/neural_network/_multilayer_perceptron.py:571: ConvergenceWarning: Stochastic Optimizer: Maximum iterations (200) reached and the optimization hasn't converged yet.\n",
      "  % self.max_iter, ConvergenceWarning)\n",
      "/usr/local/lib/python3.6/dist-packages/sklearn/neural_network/_multilayer_perceptron.py:571: ConvergenceWarning: Stochastic Optimizer: Maximum iterations (200) reached and the optimization hasn't converged yet.\n",
      "  % self.max_iter, ConvergenceWarning)\n"
     ]
    },
    {
     "name": "stdout",
     "output_type": "stream",
     "text": [
      "Number of folds is4\n",
      "(train,test) accuracy =  0.36005484767777174 0.324974016332591\n",
      "\n",
      "Hyper-parameters = \n",
      " activation =  relu \n",
      " solver =  lbfgs \n",
      " learning_rate_init =  0.1 \n",
      " hidden_layer_sizes =  (7, 2)\n",
      "Number of folds is4\n",
      "(train,test) accuracy =  0.23243169787129989 0.2097772828507795\n"
     ]
    }
   ],
   "source": [
    "test_accuracy = []\n",
    "train_accuracy = []\n",
    "for i in range(10):\n",
    "    k1 = np.random.randint(0,len(a))\n",
    "    k2 = np.random.randint(0,len(s))\n",
    "    k3 = np.random.randint(0,len(lr))\n",
    "    k4 = np.random.randint(0,len(h))\n",
    "    print(\"\\nHyper-parameters = \\n activation = \", a[k1],    \"\\n solver = \", s[k2], \"\\n learning_rate_init = \", lr[k3],         \"\\n hidden_layer_sizes = \", h[k4])\n",
    "     #calling the mlp function with random hyper paramters\n",
    "    clf = mlp(a[k1],s[k2],h[k4],lr[k3])\n",
    "    tempTrain = 0\n",
    "    tempTest = 0\n",
    "    for nbrOfFolds,(train_index, test_index) in enumerate(kf.split(X)):\n",
    "        ## Splitting the data into train and test\n",
    "        X_train, X_test = X[train_index], X[test_index]\n",
    "        Y_train, Y_test  = y[train_index], y[test_index]\n",
    "        ##fit the data into the model\n",
    "        clf.fit(X_train,Y_train)\n",
    "        ##predicting the values on the fitted model using train data\n",
    "        predTrain = clf.predict((X_train))\n",
    "        #adding the accuracy\n",
    "        tempTrain = tempTrain + accuracy(Y_train,predTrain)\n",
    "        ##predict the values on the fitted model using test data\n",
    "        predTest = clf.predict((X_test))\n",
    "        #adding the accuracy\n",
    "        tempTest = tempTest + accuracy(Y_test,predTest)\n",
    "    ##Calculating the train accuracy\n",
    "    print(f'Number of folds is{nbrOfFolds+1}')\n",
    "    train_accuracy.append(tempTrain*1.0/(nbrOfFolds+1))\n",
    "    ##Calculating the test accuracy\n",
    "    test_accuracy.append(tempTest*1.0/(nbrOfFolds+1))\n",
    "    print(\"(train,test) accuracy = \",tempTrain*1.0/(nbrOfFolds+1), tempTest*1.0/(nbrOfFolds+1))"
   ]
  },
  {
   "cell_type": "code",
   "execution_count": 0,
   "metadata": {
    "colab": {
     "base_uri": "https://localhost:8080/",
     "height": 357
    },
    "colab_type": "code",
    "id": "uMAhMltBjEch",
    "outputId": "dceba75a-25a7-4009-a947-f94b6c232aeb"
   },
   "outputs": [
    {
     "data": {
      "text/plain": [
       "([0.2787465973768869,\n",
       "  0.12634001484780996,\n",
       "  0.4673694630042069,\n",
       "  0.15914377629299678,\n",
       "  0.327750556792873,\n",
       "  0.5698205889631279,\n",
       "  0.29495050730017325,\n",
       "  0.09738678544914625,\n",
       "  0.324974016332591,\n",
       "  0.2097772828507795],\n",
       " [0.3090517117938754,\n",
       "  0.13559035465117558,\n",
       "  0.4993768435847107,\n",
       "  0.15692719726659307,\n",
       "  0.35837689645525056,\n",
       "  0.6555430630547275,\n",
       "  0.3292572074662014,\n",
       "  0.10183664545236254,\n",
       "  0.36005484767777174,\n",
       "  0.23243169787129989])"
      ]
     },
     "execution_count": 11,
     "metadata": {
      "tags": []
     },
     "output_type": "execute_result"
    }
   ],
   "source": [
    "test_accuracy, train_accuracy"
   ]
  },
  {
   "cell_type": "markdown",
   "metadata": {
    "colab_type": "text",
    "id": "6baqLI7VpPJr"
   },
   "source": [
    "#### Plotting the data"
   ]
  },
  {
   "cell_type": "code",
   "execution_count": 0,
   "metadata": {
    "colab": {
     "base_uri": "https://localhost:8080/",
     "height": 265
    },
    "colab_type": "code",
    "id": "Z_CMEv2apPJt",
    "outputId": "0ead7a92-559b-4bcc-ffe6-56c39af4e017"
   },
   "outputs": [
    {
     "data": {
      "image/png": "[encoded data removed]",
      "text/plain": [
       "<Figure size 432x288 with 1 Axes>"
      ]
     },
     "metadata": {
      "tags": []
     },
     "output_type": "display_data"
    }
   ],
   "source": [
    "##Plotting the data\n",
    "xx = np.array(range(1,11))\n",
    "plt.bar(xx,train_accuracy,width=0.2)\n",
    "plt.bar(xx+0.2, test_accuracy,width=0.2)\n",
    "plt.legend([\"Train\",\"Test\"])\n",
    "plt.show()"
   ]
  },
  {
   "cell_type": "markdown",
   "metadata": {
    "colab_type": "text",
    "id": "skiIgURmpPJx"
   },
   "source": [
    "#### Ungraded Exercise \n",
    "\n",
    "Vary the number of k-fold splits and observe the changes"
   ]
  },
  {
   "cell_type": "code",
   "execution_count": 0,
   "metadata": {
    "colab": {
     "base_uri": "https://localhost:8080/",
     "height": 1000
    },
    "colab_type": "code",
    "id": "677BLEdKQ_Mg",
    "outputId": "478e4ff7-371b-454c-db26-5a23c3bed7e9"
   },
   "outputs": [
    {
     "name": "stdout",
     "output_type": "stream",
     "text": [
      "\n",
      "Hyper-parameters = \n",
      " activation =  tanh \n",
      " solver =  sgd \n",
      " learning_rate_init =  0.1 \n",
      " hidden_layer_sizes =  (5, 2)\n",
      "Number of folds is4\n",
      "(train,test) accuracy =  0.5080790040071463 0.48743999010146\n",
      "\n",
      "Hyper-parameters = \n",
      " activation =  tanh \n",
      " solver =  sgd \n",
      " learning_rate_init =  0.0001 \n",
      " hidden_layer_sizes =  (6, 3)\n"
     ]
    },
    {
     "name": "stderr",
     "output_type": "stream",
     "text": [
      "/usr/local/lib/python3.6/dist-packages/sklearn/neural_network/_multilayer_perceptron.py:571: ConvergenceWarning: Stochastic Optimizer: Maximum iterations (200) reached and the optimization hasn't converged yet.\n",
      "  % self.max_iter, ConvergenceWarning)\n",
      "/usr/local/lib/python3.6/dist-packages/sklearn/neural_network/_multilayer_perceptron.py:571: ConvergenceWarning: Stochastic Optimizer: Maximum iterations (200) reached and the optimization hasn't converged yet.\n",
      "  % self.max_iter, ConvergenceWarning)\n",
      "/usr/local/lib/python3.6/dist-packages/sklearn/neural_network/_multilayer_perceptron.py:571: ConvergenceWarning: Stochastic Optimizer: Maximum iterations (200) reached and the optimization hasn't converged yet.\n",
      "  % self.max_iter, ConvergenceWarning)\n",
      "/usr/local/lib/python3.6/dist-packages/sklearn/neural_network/_multilayer_perceptron.py:571: ConvergenceWarning: Stochastic Optimizer: Maximum iterations (200) reached and the optimization hasn't converged yet.\n",
      "  % self.max_iter, ConvergenceWarning)\n"
     ]
    },
    {
     "name": "stdout",
     "output_type": "stream",
     "text": [
      "Number of folds is4\n",
      "(train,test) accuracy =  0.16971567214978223 0.16363771343726802\n",
      "\n",
      "Hyper-parameters = \n",
      " activation =  relu \n",
      " solver =  sgd \n",
      " learning_rate_init =  0.001 \n",
      " hidden_layer_sizes =  (6, 3)\n"
     ]
    },
    {
     "name": "stderr",
     "output_type": "stream",
     "text": [
      "/usr/local/lib/python3.6/dist-packages/sklearn/neural_network/_multilayer_perceptron.py:571: ConvergenceWarning: Stochastic Optimizer: Maximum iterations (200) reached and the optimization hasn't converged yet.\n",
      "  % self.max_iter, ConvergenceWarning)\n",
      "/usr/local/lib/python3.6/dist-packages/sklearn/neural_network/_multilayer_perceptron.py:571: ConvergenceWarning: Stochastic Optimizer: Maximum iterations (200) reached and the optimization hasn't converged yet.\n",
      "  % self.max_iter, ConvergenceWarning)\n",
      "/usr/local/lib/python3.6/dist-packages/sklearn/neural_network/_multilayer_perceptron.py:571: ConvergenceWarning: Stochastic Optimizer: Maximum iterations (200) reached and the optimization hasn't converged yet.\n",
      "  % self.max_iter, ConvergenceWarning)\n",
      "/usr/local/lib/python3.6/dist-packages/sklearn/neural_network/_multilayer_perceptron.py:571: ConvergenceWarning: Stochastic Optimizer: Maximum iterations (200) reached and the optimization hasn't converged yet.\n",
      "  % self.max_iter, ConvergenceWarning)\n"
     ]
    },
    {
     "name": "stdout",
     "output_type": "stream",
     "text": [
      "Number of folds is4\n",
      "(train,test) accuracy =  0.3902615494592886 0.34340262311309083\n",
      "\n",
      "Hyper-parameters = \n",
      " activation =  identity \n",
      " solver =  adam \n",
      " learning_rate_init =  0.0001 \n",
      " hidden_layer_sizes =  (6, 3)\n"
     ]
    },
    {
     "name": "stderr",
     "output_type": "stream",
     "text": [
      "/usr/local/lib/python3.6/dist-packages/sklearn/neural_network/_multilayer_perceptron.py:571: ConvergenceWarning: Stochastic Optimizer: Maximum iterations (200) reached and the optimization hasn't converged yet.\n",
      "  % self.max_iter, ConvergenceWarning)\n",
      "/usr/local/lib/python3.6/dist-packages/sklearn/neural_network/_multilayer_perceptron.py:571: ConvergenceWarning: Stochastic Optimizer: Maximum iterations (200) reached and the optimization hasn't converged yet.\n",
      "  % self.max_iter, ConvergenceWarning)\n",
      "/usr/local/lib/python3.6/dist-packages/sklearn/neural_network/_multilayer_perceptron.py:571: ConvergenceWarning: Stochastic Optimizer: Maximum iterations (200) reached and the optimization hasn't converged yet.\n",
      "  % self.max_iter, ConvergenceWarning)\n",
      "/usr/local/lib/python3.6/dist-packages/sklearn/neural_network/_multilayer_perceptron.py:571: ConvergenceWarning: Stochastic Optimizer: Maximum iterations (200) reached and the optimization hasn't converged yet.\n",
      "  % self.max_iter, ConvergenceWarning)\n"
     ]
    },
    {
     "name": "stdout",
     "output_type": "stream",
     "text": [
      "Number of folds is4\n",
      "(train,test) accuracy =  0.3392659861787597 0.3244394951744618\n",
      "\n",
      "Hyper-parameters = \n",
      " activation =  logistic \n",
      " solver =  lbfgs \n",
      " learning_rate_init =  0.001 \n",
      " hidden_layer_sizes =  (7, 2)\n"
     ]
    },
    {
     "name": "stderr",
     "output_type": "stream",
     "text": [
      "/usr/local/lib/python3.6/dist-packages/sklearn/neural_network/_multilayer_perceptron.py:470: ConvergenceWarning: lbfgs failed to converge (status=1):\n",
      "STOP: TOTAL NO. of ITERATIONS REACHED LIMIT.\n",
      "\n",
      "Increase the number of iterations (max_iter) or scale the data as shown in:\n",
      "    https://scikit-learn.org/stable/modules/preprocessing.html\n",
      "  self.n_iter_ = _check_optimize_result(\"lbfgs\", opt_res, self.max_iter)\n",
      "/usr/local/lib/python3.6/dist-packages/sklearn/neural_network/_multilayer_perceptron.py:470: ConvergenceWarning: lbfgs failed to converge (status=1):\n",
      "STOP: TOTAL NO. of ITERATIONS REACHED LIMIT.\n",
      "\n",
      "Increase the number of iterations (max_iter) or scale the data as shown in:\n",
      "    https://scikit-learn.org/stable/modules/preprocessing.html\n",
      "  self.n_iter_ = _check_optimize_result(\"lbfgs\", opt_res, self.max_iter)\n",
      "/usr/local/lib/python3.6/dist-packages/sklearn/neural_network/_multilayer_perceptron.py:470: ConvergenceWarning: lbfgs failed to converge (status=1):\n",
      "STOP: TOTAL NO. of ITERATIONS REACHED LIMIT.\n",
      "\n",
      "Increase the number of iterations (max_iter) or scale the data as shown in:\n",
      "    https://scikit-learn.org/stable/modules/preprocessing.html\n",
      "  self.n_iter_ = _check_optimize_result(\"lbfgs\", opt_res, self.max_iter)\n"
     ]
    },
    {
     "name": "stdout",
     "output_type": "stream",
     "text": [
      "Number of folds is4\n",
      "(train,test) accuracy =  0.4857907670413866 0.43024003959415985\n"
     ]
    },
    {
     "name": "stderr",
     "output_type": "stream",
     "text": [
      "/usr/local/lib/python3.6/dist-packages/sklearn/neural_network/_multilayer_perceptron.py:470: ConvergenceWarning: lbfgs failed to converge (status=1):\n",
      "STOP: TOTAL NO. of ITERATIONS REACHED LIMIT.\n",
      "\n",
      "Increase the number of iterations (max_iter) or scale the data as shown in:\n",
      "    https://scikit-learn.org/stable/modules/preprocessing.html\n",
      "  self.n_iter_ = _check_optimize_result(\"lbfgs\", opt_res, self.max_iter)\n"
     ]
    }
   ],
   "source": [
    "kf = KFold(n_splits=4)\n",
    "\n",
    "test_accuracy = []\n",
    "train_accuracy = []\n",
    "for i in range(5):\n",
    "    k1 = np.random.randint(0,len(a))\n",
    "    k2 = np.random.randint(0,len(s))\n",
    "    k3 = np.random.randint(0,len(lr))\n",
    "    k4 = np.random.randint(0,len(h))\n",
    "    print(\"\\nHyper-parameters = \\n activation = \", a[k1],    \"\\n solver = \", s[k2], \"\\n learning_rate_init = \", lr[k3],         \"\\n hidden_layer_sizes = \", h[k4])\n",
    "     #calling the mlp function with random hyper paramters\n",
    "    clf = mlp(a[k1],s[k2],h[k4],lr[k3])\n",
    "    tempTrain = 0\n",
    "    tempTest = 0\n",
    "    for nbrOfFolds,(train_index, test_index) in enumerate(kf.split(X)):\n",
    "        ## Splitting the data into train and test\n",
    "        X_train, X_test = X[train_index], X[test_index]\n",
    "        Y_train, Y_test  = y[train_index], y[test_index]\n",
    "        ##fit the data into the model\n",
    "        clf.fit(X_train,Y_train)\n",
    "        ##predicting the values on the fitted model using train data\n",
    "        predTrain = clf.predict((X_train))\n",
    "        #adding the accuracy\n",
    "        tempTrain = tempTrain + accuracy(Y_train,predTrain)\n",
    "        ##predict the values on the fitted model using test data\n",
    "        predTest = clf.predict((X_test))\n",
    "        #adding the accuracy\n",
    "        tempTest = tempTest + accuracy(Y_test,predTest)\n",
    "    ##Calculating the train accuracy\n",
    "    print(f'Number of folds is{nbrOfFolds+1}')\n",
    "    train_accuracy.append(tempTrain*1.0/(nbrOfFolds+1))\n",
    "    ##Calculating the test accuracy\n",
    "    test_accuracy.append(tempTest*1.0/(nbrOfFolds+1))\n",
    "    print(\"(train,test) accuracy = \",tempTrain*1.0/(nbrOfFolds+1), tempTest*1.0/(nbrOfFolds+1))"
   ]
  },
  {
   "cell_type": "code",
   "execution_count": 0,
   "metadata": {
    "colab": {
     "base_uri": "https://localhost:8080/",
     "height": 187
    },
    "colab_type": "code",
    "id": "GRNFvL3QqDcJ",
    "outputId": "c94f3b73-97b8-432c-94ef-3a85a2b69b1a"
   },
   "outputs": [
    {
     "data": {
      "text/plain": [
       "([0.48743999010146,\n",
       "  0.16363771343726802,\n",
       "  0.34340262311309083,\n",
       "  0.3244394951744618,\n",
       "  0.43024003959415985],\n",
       " [0.5080790040071463,\n",
       "  0.16971567214978223,\n",
       "  0.3902615494592886,\n",
       "  0.3392659861787597,\n",
       "  0.4857907670413866])"
      ]
     },
     "execution_count": 14,
     "metadata": {
      "tags": []
     },
     "output_type": "execute_result"
    }
   ],
   "source": [
    "test_accuracy, train_accuracy"
   ]
  },
  {
   "cell_type": "code",
   "execution_count": 0,
   "metadata": {
    "colab": {
     "base_uri": "https://localhost:8080/",
     "height": 265
    },
    "colab_type": "code",
    "id": "pbwH5IxqqD9H",
    "outputId": "acbbd5b7-53b5-4bd9-aa42-8f5756a2c5f2"
   },
   "outputs": [
    {
     "data": {
      "image/png": "[encoded data removed]",
      "text/plain": [
       "<Figure size 432x288 with 1 Axes>"
      ]
     },
     "metadata": {
      "tags": []
     },
     "output_type": "display_data"
    }
   ],
   "source": [
    "##Plotting the data\n",
    "i = np.array(range(1,6))\n",
    "plt.bar(i,train_accuracy,width=0.3)\n",
    "plt.bar(i+0.2, test_accuracy,width=0.3)\n",
    "plt.legend([\"Train\",\"Test\"])\n",
    "plt.show()"
   ]
  }
 ],
 "metadata": {
  "colab": {
   "collapsed_sections": [],
   "name": "017_Kfold_Validation_C.ipynb",
   "provenance": []
  },
  "kernelspec": {
   "display_name": "Python 3",
   "language": "python",
   "name": "python3"
  },
  "language_info": {
   "codemirror_mode": {
    "name": "ipython",
    "version": 3
   },
   "file_extension": ".py",
   "mimetype": "text/x-python",
   "name": "python",
   "nbconvert_exporter": "python",
   "pygments_lexer": "ipython3",
   "version": "3.6.5"
  }
 },
 "nbformat": 4,
 "nbformat_minor": 1
}
