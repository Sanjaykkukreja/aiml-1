{
 "cells": [
  {
   "cell_type": "markdown",
   "metadata": {
    "colab_type": "text",
    "id": "UERx5ALuTJW_"
   },
   "source": [
    "# Advanced Certification in AIML\n",
    "## A Program by IIIT-H and TalentSprint"
   ]
  },
  {
   "cell_type": "markdown",
   "metadata": {
    "colab_type": "text",
    "id": "aE5xNmtpBcT4"
   },
   "source": [
    "## Learning Objective:"
   ]
  },
  {
   "cell_type": "markdown",
   "metadata": {
    "colab_type": "text",
    "id": "K_UItlExBcPR"
   },
   "source": [
    "   \n",
    "  At the end of the experiment, you will be able to :\n",
    "    \n",
    "  * Understand various types of gradient descent approaches (Stochastic, Mini-Batch Gradient Descent) and there differences.\n"
   ]
  },
  {
   "cell_type": "markdown",
   "metadata": {
    "colab_type": "text",
    "id": "2U7msw6GTJXB"
   },
   "source": [
    "## Dataset"
   ]
  },
  {
   "cell_type": "markdown",
   "metadata": {
    "colab_type": "text",
    "id": "PBplK_Hbw_EN"
   },
   "source": [
    "### Description"
   ]
  },
  {
   "cell_type": "markdown",
   "metadata": {
    "colab_type": "text",
    "id": "mDRTMSzJTJXD"
   },
   "source": [
    "\n",
    "The dataset consists of two columns and 89 rows. Each column represents a characteristic of a simple pendulum i.e l (length) and t (time period). The dataset describes the relationship between the l and t which is  L∝T2 .\n"
   ]
  },
  {
   "cell_type": "markdown",
   "metadata": {
    "colab_type": "text",
    "id": "Z8WpDaz2CukI"
   },
   "source": [
    "##AI/ML Technique"
   ]
  },
  {
   "cell_type": "markdown",
   "metadata": {
    "colab_type": "text",
    "id": "1jAMa55_xLmA"
   },
   "source": [
    "#### Gradient Descent\n",
    "\n",
    "Gradient Descent is used while training a machine learning model. It is an optimization algorithm, based on a convex function, that tweaks it’s parameters iteratively to minimize a given function to its local minimum.\n"
   ]
  },
  {
   "cell_type": "markdown",
   "metadata": {
    "colab_type": "text",
    "id": "zrwxriGkxNKp"
   },
   "source": [
    "## Keywords"
   ]
  },
  {
   "cell_type": "markdown",
   "metadata": {
    "colab_type": "text",
    "id": "mhOdzhI9TJXF"
   },
   "source": [
    "\n",
    "\n",
    "* Stochastic Gradient Descent\n",
    "* Scipy\n",
    "* Sklearn\n",
    "* mini batch Gradient Descent\n",
    "* Plotting Error vs Iteration"
   ]
  },
  {
   "cell_type": "code",
   "execution_count": 0,
   "metadata": {
    "colab": {},
    "colab_type": "code",
    "id": "sRjAjk1hTJXM"
   },
   "outputs": [],
   "source": [
    "# Import the required Packages\n",
    "import pandas as pd\n",
    "import numpy as np\n",
    "import scipy.stats as stat\n",
    "%matplotlib notebook\n",
    "from  matplotlib import pyplot as plt\n",
    "import random\n",
    "import time\n"
   ]
  },
  {
   "cell_type": "markdown",
   "metadata": {
    "colab_type": "text",
    "id": "GLdAeF_tTJXR"
   },
   "source": [
    "### Read the data"
   ]
  },
  {
   "cell_type": "code",
   "execution_count": 0,
   "metadata": {
    "colab": {
     "base_uri": "https://localhost:8080/",
     "height": 221
    },
    "colab_type": "code",
    "id": "YDNrlfakTJXS",
    "outputId": "1cef826b-1ea0-45cb-979b-9bcb748e98a6"
   },
   "outputs": [
    {
     "name": "stdout",
     "output_type": "stream",
     "text": [
      "      l        t\n",
      "0  0.10  0.69004\n",
      "1  0.11  0.69497\n",
      "2  0.12  0.74252\n",
      "3  0.13  0.75360\n",
      "4  0.14  0.83568\n",
      "       l       t\n",
      "85  0.95  1.9841\n",
      "86  0.96  2.0066\n",
      "87  0.97  2.0493\n",
      "88  0.98  2.0503\n",
      "89  0.99  2.0214\n"
     ]
    }
   ],
   "source": [
    "# Load the data by using pandas read_csv()\n",
    "data = pd.read_csv(\"AIML_DS_REGR01_SIMPLEPENDULUMOSCILLATIONDATA.txt\", sep=\" \", header=None, names=['l', 't'])\n",
    "# Print the first 5 rows of dataframe 'data'\n",
    "print(data.head())\n",
    "# Print the last 5 rows of dataframe 'data'\n",
    "print(data.tail())"
   ]
  },
  {
   "cell_type": "code",
   "execution_count": 0,
   "metadata": {
    "colab": {},
    "colab_type": "code",
    "id": "QTtgOro7TJXT"
   },
   "outputs": [],
   "source": [
    "# Get the length and time period values from the dataset\n",
    "l = data['l'].values\n",
    "t = data['t'].values\n",
    "# Get the square of time period\n",
    "tsq = t * t"
   ]
  },
  {
   "cell_type": "markdown",
   "metadata": {
    "colab_type": "text",
    "id": "srgyaBxoTJXW"
   },
   "source": [
    "**Stochastic gradient descent (Single sample)**\n",
    "\n",
    "Instead of computing the sum of all gradients, stochastic gradient descent selects an observation uniformly at random."
   ]
  },
  {
   "cell_type": "markdown",
   "metadata": {
    "colab_type": "text",
    "id": "hpHa2ZwyTJXX"
   },
   "source": [
    " $y_i = mx_i + c$\n",
    "\n",
    "$E$ = $(y - y_i)^2$\n",
    "\n",
    "$\\frac{\\partial E }{\\partial m}$ = $ -(y - (mx_i + c)) * x_i$\n",
    "\n",
    "$\\frac{\\partial E }{\\partial c}$ = $ -(y - (mx_i + c))$"
   ]
  },
  {
   "cell_type": "code",
   "execution_count": 0,
   "metadata": {
    "colab": {},
    "colab_type": "code",
    "id": "hUq_mCNLTJXY"
   },
   "outputs": [],
   "source": [
    "\"\"\"\n",
    "The function 'next_step' updates the values of m and c and calculates error. \n",
    "The loss is minimized due to the changed values of m and c.\n",
    "The new values m, c and the minimized loss is returned.\n",
    "\"\"\"\n",
    "def next_step(x, y, m, c, eta):\n",
    "    ycalc = m * x + c\n",
    "    error = (y - ycalc) ** 2\n",
    "    delta_m = -(y - ycalc) * x\n",
    "    delta_c = -(y - ycalc)\n",
    "    m = m - delta_m * eta\n",
    "    c = c - delta_c * eta\n",
    "    return m, c, error\n",
    "\n",
    "\"\"\"\n",
    "The function below takes a random index and at that index idx, we calculate the values of m,c and error.\n",
    "We use one data point at a time x[idx],y[idx]\n",
    "Here we call the funtion 'next_step' to which we pass a data point x[idx],y[idx]\n",
    "\"\"\"\n",
    "def one_loop_random(x, y, m, c, eta):\n",
    "    # Making random idx\n",
    "    random_idx = np.arange(len(y))\n",
    "    np.random.shuffle(random_idx)\n",
    "    # Training with random idx\n",
    "    for idx in random_idx:\n",
    "        m, c, e = next_step(x[idx], y[idx], m, c, eta)\n",
    "        #print(m, c, e)\n",
    "    return m,c,e\n",
    "  \n",
    "\"\"\"\n",
    "The function below trains the data for 1000 iterations. \n",
    "In each iteration it calls the 'one_loop_random' function.\n",
    "\"\"\"\n",
    "def train_stochastic(x, y, m, c, eta, iterations=1000):\n",
    "    for iteration in range(iterations):\n",
    "        m, c, err = one_loop_random(x, y, m, c, eta)\n",
    "    return m, c, err"
   ]
  },
  {
   "cell_type": "markdown",
   "metadata": {
    "colab_type": "text",
    "id": "HM2O8HtFTJXa"
   },
   "source": [
    "## TRAIN"
   ]
  },
  {
   "cell_type": "code",
   "execution_count": 0,
   "metadata": {
    "colab": {},
    "colab_type": "code",
    "id": "JlR-YQJoTJXd"
   },
   "outputs": [],
   "source": [
    "# Init m, c\n",
    "m, c = 0, 0"
   ]
  },
  {
   "cell_type": "code",
   "execution_count": 0,
   "metadata": {
    "colab": {},
    "colab_type": "code",
    "id": "kijRetDpTJXg"
   },
   "outputs": [],
   "source": [
    "# Learning rate\n",
    "lr = 0.001"
   ]
  },
  {
   "cell_type": "code",
   "execution_count": 0,
   "metadata": {
    "colab": {
     "base_uri": "https://localhost:8080/",
     "height": 490
    },
    "colab_type": "code",
    "id": "8FDMh5YtTJXk",
    "outputId": "6cdfc3b1-664f-4a58-8952-e2a2dd04c25b"
   },
   "outputs": [
    {
     "name": "stdout",
     "output_type": "stream",
     "text": [
      "m = 2.20171 c = 1.18822 Error = 0.248136\n",
      "m = 2.92057 c = 0.775408 Error = 0.110932\n",
      "m = 3.37268 c = 0.514863 Error = 0.119845\n",
      "m = 3.65767 c = 0.351558 Error = 8.5399e-06\n",
      "m = 3.83695 c = 0.2486 Error = 0.00166641\n",
      "m = 3.94977 c = 0.183721 Error = 0.00989886\n",
      "m = 4.02085 c = 0.142993 Error = 0.0166959\n",
      "m = 4.0655 c = 0.117172 Error = 0.00646271\n",
      "m = 4.09362 c = 0.10096 Error = 0.0109165\n",
      "m = 4.11141 c = 0.0909054 Error = 0.00372972\n"
     ]
    },
    {
     "data": {
      "image/png": "[encoded data removed]",
      "text/plain": [
       "<Figure size 360x360 with 1 Axes>"
      ]
     },
     "metadata": {
      "tags": []
     },
     "output_type": "display_data"
    }
   ],
   "source": [
    "# Training for 1000 iterations, plotting after every 100 iterations:\n",
    "%matplotlib inline\n",
    "fig = plt.figure(figsize=(5, 5))\n",
    "ax = fig.add_subplot(111)\n",
    "plt.ion()\n",
    "fig.show()\n",
    "fig.canvas.draw()\n",
    "\n",
    "# Call the train_stochastic() method to update m and c and get error value with lr = 0.001.\n",
    "for num in range(10):\n",
    "    m, c, error = train_stochastic(l, tsq, m, c, lr, iterations=100) # We will plot the error values for every 100 iterations\n",
    "    print(\"m = {0:.6} c = {1:.6} Error = {2:.6}\".format(m, c, error))\n",
    "    y = m * l + c\n",
    "    ax.clear()\n",
    "    ax.plot(l, tsq, '.k')\n",
    "    ax.plot(l, y)\n",
    "    fig.canvas.draw()\n",
    "    time.sleep(1)"
   ]
  },
  {
   "cell_type": "markdown",
   "metadata": {
    "colab_type": "text",
    "id": "HCVJrwLQTJXo"
   },
   "source": [
    "**Ungraded Exercise 1: Experiment with other lr values.**\n",
    "\n"
   ]
  },
  {
   "cell_type": "code",
   "execution_count": 0,
   "metadata": {
    "colab": {},
    "colab_type": "code",
    "id": "7vU_e7ilTJXo"
   },
   "outputs": [],
   "source": [
    "lr = 0.1"
   ]
  },
  {
   "cell_type": "code",
   "execution_count": 0,
   "metadata": {
    "colab": {
     "base_uri": "https://localhost:8080/",
     "height": 490
    },
    "colab_type": "code",
    "id": "5a-Ox6DxId_P",
    "outputId": "5809b67a-cf58-4887-d6b8-722cf60c45ce"
   },
   "outputs": [
    {
     "name": "stdout",
     "output_type": "stream",
     "text": [
      "m = 4.13381 c = 0.0463302 Error = 0.00777196\n",
      "m = 4.13449 c = 0.0673855 Error = 0.0402677\n",
      "m = 4.14448 c = 0.0780139 Error = 0.00199579\n",
      "m = 4.1453 c = 0.075086 Error = 0.000224203\n",
      "m = 4.16524 c = 0.108587 Error = 0.00396309\n",
      "m = 4.13251 c = 0.0655543 Error = 0.00150654\n",
      "m = 4.14332 c = 0.0638327 Error = 0.00344666\n",
      "m = 4.15038 c = 0.0769433 Error = 0.0189534\n",
      "m = 4.13546 c = 0.0740613 Error = 0.0053315\n",
      "m = 4.14764 c = 0.0782655 Error = 0.0189302\n"
     ]
    },
    {
     "data": {
      "image/png": "[encoded data removed]",
      "text/plain": [
       "<Figure size 360x360 with 1 Axes>"
      ]
     },
     "metadata": {
      "tags": []
     },
     "output_type": "display_data"
    }
   ],
   "source": [
    "%matplotlib inline\n",
    "fig = plt.figure(figsize=(5, 5))\n",
    "ax = fig.add_subplot(111)\n",
    "plt.ion()\n",
    "fig.show()\n",
    "fig.canvas.draw()\n",
    "\n",
    "# Call the train_stochastic() method to update m and c and get error value with lr = 0.001.\n",
    "for num in range(10):\n",
    "    m, c, error = train_stochastic(l, tsq, m, c, lr, iterations=100) # We will plot the error values for every 100 iterations\n",
    "    print(\"m = {0:.6} c = {1:.6} Error = {2:.6}\".format(m, c, error))\n",
    "    y = m * l + c\n",
    "    ax.clear()\n",
    "    ax.plot(l, tsq, '.k')\n",
    "    ax.plot(l, y)\n",
    "    fig.canvas.draw()\n",
    "    time.sleep(1)"
   ]
  },
  {
   "cell_type": "markdown",
   "metadata": {
    "colab_type": "text",
    "id": "7GRP1Ge9TJXr"
   },
   "source": [
    "**Ungraded Exercise 2: plot Errors vs Iterations**"
   ]
  },
  {
   "cell_type": "code",
   "execution_count": 0,
   "metadata": {
    "colab": {},
    "colab_type": "code",
    "id": "SXceKp3zTJXs"
   },
   "outputs": [],
   "source": [
    "ms, cs,errs = [], [], []\n",
    "m, c = 0, 0\n",
    "lr = 0.001\n",
    "\n",
    "# Call the train_stochastic() method to update m and c and get error value with lr = 0.001.\n",
    "for times in range(100):\n",
    "    m, c, error = train_stochastic(l, tsq, m, c, lr, iterations=100) # We will plot the error values for every 100 iterations\n",
    "    ms.append(m)\n",
    "    cs.append(c)\n",
    "    errs.append(error)\n"
   ]
  },
  {
   "cell_type": "code",
   "execution_count": 0,
   "metadata": {
    "colab": {
     "base_uri": "https://localhost:8080/",
     "height": 592
    },
    "colab_type": "code",
    "id": "BDP56TXzywXx",
    "outputId": "fd323021-eedf-4bb6-a6bf-5f123b3c16de"
   },
   "outputs": [
    {
     "data": {
      "image/png": "[encoded data removed]",
      "text/plain": [
       "<Figure size 1152x720 with 1 Axes>"
      ]
     },
     "metadata": {
      "tags": []
     },
     "output_type": "display_data"
    }
   ],
   "source": [
    "epochs = range(len(errs))\n",
    "plt.figure(figsize=(16,10))\n",
    "plt.plot(epochs, errs, \"g\")\n",
    "plt.show()"
   ]
  },
  {
   "cell_type": "markdown",
   "metadata": {
    "colab_type": "text",
    "id": "y9rIMmaMTJXv"
   },
   "source": [
    "**Ungraded Exercise 3 : Is this better than sequential gradient descent and vanilla gradient descent?**\n",
    "\n",
    "Hint - check the error value at saturation, and time it takes to reach saturation."
   ]
  },
  {
   "cell_type": "code",
   "execution_count": 0,
   "metadata": {
    "colab": {},
    "colab_type": "code",
    "id": "_jhCKU75TJXv"
   },
   "outputs": [],
   "source": [
    "#### Last Error at saturation: 0.004"
   ]
  },
  {
   "cell_type": "markdown",
   "metadata": {
    "colab_type": "text",
    "id": "UwIZ7tuZTJXx"
   },
   "source": [
    "## PROBLEM\n",
    "\n",
    "Problem with Sequential/Stochastic Gradient Descent is it does not scale well - it makes the same calculation of gradient descent on each sample. So the time taken will increase linearly with the number of samples. Many datasets have samples in the range of millions. Hence, even though it gives good results, it is not ideal.\n",
    "\n",
    "We need a gradient descent formulation that gives the speed of vanilla gradient descent and the accuracy of sequential/stochastic gradient descent.\n",
    "\n",
    "Next we will see **Minibatch Gradient Descent!**"
   ]
  },
  {
   "cell_type": "markdown",
   "metadata": {
    "colab_type": "text",
    "id": "m3S-IvdHTJXx"
   },
   "source": [
    "### Minibatch Gradient Descent"
   ]
  },
  {
   "cell_type": "markdown",
   "metadata": {
    "colab_type": "text",
    "id": "ZT6lGuO8TJXy"
   },
   "source": [
    "In Mini-Batch Gradient Descent algorithm, rather than using  the complete data set, in every iteration we use a subset of training examples (called \"batch\") to compute the gradient of the cost function. \n",
    "\n",
    "Common mini-batch sizes range between 50 and 256, but can vary for different applications."
   ]
  },
  {
   "cell_type": "markdown",
   "metadata": {
    "colab_type": "text",
    "id": "8IWur68qTJXz"
   },
   "source": [
    "one_batch() : we will be calculating the essenial parts of the Gradient Descent method:  \n",
    "\n",
    "$y_i = mx_i + c$\n",
    "        \n",
    "$E$ =$\\frac{1}{n}$   $\\sum_{i=1}^n (y - y_i)^2$\n",
    "\n",
    "$\\frac{\\partial E }{\\partial m}$ = $\\frac{2}{n}$   $\\sum_{i=1}^n  -x_i(y - (mx_i + c))$\n",
    " \n",
    "$\\frac{\\partial E}{\\partial c}$ = $\\frac{2}{n}$   $\\sum_{i=1}^n  -(y - (mx_i + c))$"
   ]
  },
  {
   "cell_type": "markdown",
   "metadata": {
    "colab_type": "text",
    "id": "mJgPCef6TJXz"
   },
   "source": [
    "one_step() : We will be splitting our data into batches."
   ]
  },
  {
   "cell_type": "code",
   "execution_count": 0,
   "metadata": {
    "colab": {},
    "colab_type": "code",
    "id": "JkRMHxA2TJX0"
   },
   "outputs": [],
   "source": [
    "\"\"\"\n",
    "The function 'train_one_batch' updates the values of m and c and calculates error. \n",
    "The loss is minimized due to the changed values of m and c.\n",
    "The new values m, c and the minimized loss is returned.\n",
    "\"\"\"\n",
    "def train_one_batch(x, y, m, c, eta):\n",
    "    const = - 2.0/len(y)\n",
    "    ycalc = m * x + c\n",
    "    delta_m = const * sum(x * (y - ycalc))\n",
    "    delta_c = const * sum(y - ycalc)\n",
    "    m = m - delta_m * eta\n",
    "    c = c - delta_c * eta\n",
    "    error = sum((y - ycalc)**2)/len(y)\n",
    "    return m, c, error\n",
    "\n",
    "\"\"\"\n",
    "The function below takes a batch_size and loss is calculated w.r.t batches.\n",
    "The batches are created using random index.\n",
    "The m, c and error values are calculated for each batch of data.\n",
    "So, it calls the function 'train_one_batch' by passing batch_x, batch_y for each batch.\n",
    "\"\"\"\n",
    "def train_batches(x, y, m, c, eta, batch_size):\n",
    "    # Making the batches\n",
    "    random_idx = np.arange(len(y))\n",
    "    np.random.shuffle(random_idx)\n",
    "    \n",
    "    # Train each batch\n",
    "    for batch in range(len(y)//batch_size):\n",
    "        batch_idx = random_idx[batch*batch_size:(batch+1)*batch_size]\n",
    "        batch_x = x[batch_idx]\n",
    "        batch_y = y[batch_idx]\n",
    "        m, c, err = train_one_batch(batch_x, batch_y, m, c, eta)\n",
    "    \n",
    "    return m, c, err\n",
    "\n",
    "\"\"\"\n",
    "The function below trains the data for 1000 iterations. \n",
    "The data is traversed in batches, the batch size here is considered to be 10.\n",
    "In each iteration it calls the 'train_batches' function. \n",
    "The 'batch_size' is passed as a parameter to 'train_batches'.\n",
    "\"\"\"\n",
    "def train_minibatch(x, y, m, c, eta, batch_size=10, iterations=1000):\n",
    "    for iteration in range(iterations):\n",
    "        m, c, err = train_batches(x, y, m, c, eta, batch_size)\n",
    "    return m, c, err\n"
   ]
  },
  {
   "cell_type": "markdown",
   "metadata": {
    "colab_type": "text",
    "id": "-BLipYesTJX4"
   },
   "source": [
    "#### TRAIN"
   ]
  },
  {
   "cell_type": "code",
   "execution_count": 0,
   "metadata": {
    "colab": {},
    "colab_type": "code",
    "id": "oAsrGHdLTJX4"
   },
   "outputs": [],
   "source": [
    "# Init m, c\n",
    "m, c = 0, 0"
   ]
  },
  {
   "cell_type": "code",
   "execution_count": 0,
   "metadata": {
    "colab": {},
    "colab_type": "code",
    "id": "BXm2ZSEwTJX8"
   },
   "outputs": [],
   "source": [
    "# Learning rate\n",
    "lr = 0.001"
   ]
  },
  {
   "cell_type": "code",
   "execution_count": 0,
   "metadata": {
    "colab": {},
    "colab_type": "code",
    "id": "c0ejZ17GTJX_"
   },
   "outputs": [],
   "source": [
    "# Batch size\n",
    "batch_size = 10"
   ]
  },
  {
   "cell_type": "code",
   "execution_count": 0,
   "metadata": {
    "colab": {
     "base_uri": "https://localhost:8080/",
     "height": 490
    },
    "colab_type": "code",
    "id": "3Y-XhUFqTJYB",
    "outputId": "1706625c-0ee9-49bc-8b26-3ab33cd61f59"
   },
   "outputs": [
    {
     "name": "stdout",
     "output_type": "stream",
     "text": [
      "m = 0.276529 c = 0.408341 Error = 4.1726\n",
      "m = 0.49608 c = 0.718257 Error = 2.71618\n",
      "m = 0.671759 c = 0.952549 Error = 1.8504\n",
      "m = 0.813639 c = 1.12874 Error = 1.33379\n",
      "m = 0.929467 c = 1.26031 Error = 1.02365\n",
      "m = 1.0252 c = 1.35762 Error = 0.835624\n",
      "m = 1.10541 c = 1.42863 Error = 0.719865\n",
      "m = 1.17362 c = 1.47945 Error = 0.646911\n",
      "m = 1.23254 c = 1.51479 Error = 0.599347\n",
      "m = 1.28426 c = 1.53828 Error = 0.566879\n"
     ]
    },
    {
     "data": {
      "image/png": "[encoded data removed]",
      "text/plain": [
       "<Figure size 360x360 with 1 Axes>"
      ]
     },
     "metadata": {
      "tags": []
     },
     "output_type": "display_data"
    }
   ],
   "source": [
    "%matplotlib inline\n",
    "# Training for 1000 iterations, plotting after every 100 iterations:\n",
    "fig = plt.figure(figsize=(5, 5))\n",
    "ax = fig.add_subplot(111)\n",
    "plt.ion()\n",
    "fig.show()\n",
    "fig.canvas.draw()\n",
    "\n",
    "# Call the train_minibatch() method to update m and c and get error value with lr = 0.001 and batch_size=90.\n",
    "for num in range(10):\n",
    "    m, c, error = train_minibatch(l, tsq, m, c, lr, batch_size=90, iterations=100) # We will plot the error values for every 100 iterations\n",
    "    print(\"m = {0:.6} c = {1:.6} Error = {2:.6}\".format(m, c, error))\n",
    "    y = m * l + c\n",
    "    ax.clear()\n",
    "    ax.plot(l, tsq, '.k')\n",
    "    ax.plot(l, y)\n",
    "    fig.canvas.draw()\n",
    "    time.sleep(1)"
   ]
  },
  {
   "cell_type": "markdown",
   "metadata": {
    "colab_type": "text",
    "id": "bPrP3o7JTJYF"
   },
   "source": [
    "**Ungraded Exercise 4: Experiment with other lr values.**"
   ]
  },
  {
   "cell_type": "code",
   "execution_count": 0,
   "metadata": {
    "colab": {
     "base_uri": "https://localhost:8080/",
     "height": 490
    },
    "colab_type": "code",
    "id": "zmQ_eNyQTJYG",
    "outputId": "37f5f797-05c2-4bff-8a5c-375a955163e9"
   },
   "outputs": [
    {
     "name": "stdout",
     "output_type": "stream",
     "text": [
      "m = 3.16208 c = 0.636278 Error = 0.0740139\n",
      "m = 3.79297 c = 0.27381 Error = 0.0155445\n",
      "m = 4.01747 c = 0.14483 Error = 0.00814106\n",
      "m = 4.09736 c = 0.0989336 Error = 0.00720364\n",
      "m = 4.12578 c = 0.082602 Error = 0.00708494\n",
      "m = 4.1359 c = 0.0767906 Error = 0.00706991\n",
      "m = 4.1395 c = 0.0747227 Error = 0.00706801\n",
      "m = 4.14078 c = 0.0739869 Error = 0.00706776\n",
      "m = 4.14123 c = 0.0737251 Error = 0.00706773\n",
      "m = 4.14139 c = 0.0736319 Error = 0.00706773\n"
     ]
    },
    {
     "data": {
      "image/png": "[encoded data removed]",
      "text/plain": [
       "<Figure size 360x360 with 1 Axes>"
      ]
     },
     "metadata": {
      "tags": []
     },
     "output_type": "display_data"
    }
   ],
   "source": [
    "lr = 0.1\n",
    "%matplotlib inline\n",
    "# Training for 1000 iterations, plotting after every 100 iterations:\n",
    "fig = plt.figure(figsize=(5, 5))\n",
    "ax = fig.add_subplot(111)\n",
    "plt.ion()\n",
    "fig.show()\n",
    "fig.canvas.draw()\n",
    "\n",
    "# Call the train_minibatch() method to update m and c and get error value with lr = 0.001 and batch_size=90.\n",
    "for num in range(10):\n",
    "    m, c, error = train_minibatch(l, tsq, m, c, lr, batch_size=90, iterations=100) # We will plot the error values for every 100 iterations\n",
    "    print(\"m = {0:.6} c = {1:.6} Error = {2:.6}\".format(m, c, error))\n",
    "    y = m * l + c\n",
    "    ax.clear()\n",
    "    ax.plot(l, tsq, '.k')\n",
    "    ax.plot(l, y)\n",
    "    fig.canvas.draw()\n",
    "    time.sleep(1)"
   ]
  },
  {
   "cell_type": "markdown",
   "metadata": {
    "colab_type": "text",
    "id": "stwbu3wYTJYI"
   },
   "source": [
    "**Ungraded Exercise 5: Experiment with other batch_size values.**"
   ]
  },
  {
   "cell_type": "code",
   "execution_count": 0,
   "metadata": {
    "colab": {
     "base_uri": "https://localhost:8080/",
     "height": 490
    },
    "colab_type": "code",
    "id": "uBUcyH_QTJYJ",
    "outputId": "c5154fab-b62c-483e-d23d-76c8230e71ab"
   },
   "outputs": [
    {
     "name": "stdout",
     "output_type": "stream",
     "text": [
      "m = 4.14145 c = 0.0735987 Error = 0.00706773\n",
      "m = 4.14147 c = 0.0735869 Error = 0.00706773\n",
      "m = 4.14148 c = 0.0735827 Error = 0.00706773\n",
      "m = 4.14148 c = 0.0735812 Error = 0.00706773\n",
      "m = 4.14148 c = 0.0735807 Error = 0.00706773\n",
      "m = 4.14148 c = 0.0735805 Error = 0.00706773\n",
      "m = 4.14148 c = 0.0735805 Error = 0.00706773\n",
      "m = 4.14148 c = 0.0735804 Error = 0.00706773\n",
      "m = 4.14148 c = 0.0735804 Error = 0.00706773\n",
      "m = 4.14148 c = 0.0735804 Error = 0.00706773\n"
     ]
    },
    {
     "data": {
      "image/png": "[encoded data removed]",
      "text/plain": [
       "<Figure size 360x360 with 1 Axes>"
      ]
     },
     "metadata": {
      "tags": []
     },
     "output_type": "display_data"
    }
   ],
   "source": [
    "batch_size = 32\n",
    "lr = 0.1\n",
    "%matplotlib inline\n",
    "# Training for 1000 iterations, plotting after every 100 iterations:\n",
    "fig = plt.figure(figsize=(5, 5))\n",
    "ax = fig.add_subplot(111)\n",
    "plt.ion()\n",
    "fig.show()\n",
    "fig.canvas.draw()\n",
    "\n",
    "# Call the train_minibatch() method to update m and c and get error value with lr = 0.001 and batch_size=90.\n",
    "for num in range(10):\n",
    "    m, c, error = train_minibatch(l, tsq, m, c, lr, batch_size=90, iterations=100) # We will plot the error values for every 100 iterations\n",
    "    print(\"m = {0:.6} c = {1:.6} Error = {2:.6}\".format(m, c, error))\n",
    "    y = m * l + c\n",
    "    ax.clear()\n",
    "    ax.plot(l, tsq, '.k')\n",
    "    ax.plot(l, y)\n",
    "    fig.canvas.draw()\n",
    "    time.sleep(1)\n"
   ]
  },
  {
   "cell_type": "markdown",
   "metadata": {
    "colab_type": "text",
    "id": "vIFFYGKnTJYL"
   },
   "source": [
    "\n",
    "#### Plotting error vs iterations"
   ]
  },
  {
   "cell_type": "code",
   "execution_count": 0,
   "metadata": {
    "colab": {
     "base_uri": "https://localhost:8080/",
     "height": 350
    },
    "colab_type": "code",
    "id": "OhcEs6pVTJYL",
    "outputId": "c6b4cc67-ef9d-4847-a32d-34bb8fe610af"
   },
   "outputs": [
    {
     "data": {
      "image/png": "[encoded data removed]",
      "text/plain": [
       "<Figure size 576x360 with 1 Axes>"
      ]
     },
     "metadata": {
      "tags": []
     },
     "output_type": "display_data"
    }
   ],
   "source": [
    "%matplotlib inline\n",
    "\n",
    "ms, cs,errs = [], [], []\n",
    "m, c = 0, 0\n",
    "lr = 0.001\n",
    "batch_size = 10\n",
    "\n",
    "# Call the train_minibatch() method to update m and c and get error value with lr = 0.001 and batch_size = 10.\n",
    "for times in range(100):\n",
    "    m, c, error = train_minibatch(l, tsq, m, c, lr, batch_size, iterations=100) # We will plot the error values for every 100 iterations\n",
    "    ms.append(m)\n",
    "    cs.append(c)\n",
    "    \n",
    "    errs.append(error)\n",
    "    \n",
    "# plot Errors vs Iterations\n",
    "epoch = range(0, 10000, 100)\n",
    "plt.figure(figsize=(8, 5))\n",
    "plt.plot(epoch, errs)\n",
    "plt.xlabel(\"Iterations\")\n",
    "plt.ylabel(\"Error\")\n",
    "plt.title(\"Minibatch Gradient Descent\")\n",
    "plt.show()"
   ]
  },
  {
   "cell_type": "markdown",
   "metadata": {
    "colab_type": "text",
    "id": "rYuMICffTJYU"
   },
   "source": [
    "**Ungraded Exercise 6: Is this better than sequential gradient descent and vanilla gradient descent?**\n",
    "\n",
    "Hint - check the error value at saturation, and time it takes to reach saturation."
   ]
  },
  {
   "cell_type": "code",
   "execution_count": 0,
   "metadata": {
    "colab": {},
    "colab_type": "code",
    "id": "sYqSG6SJTJYV"
   },
   "outputs": [],
   "source": [
    "#### Last Error at saturation: 0.006"
   ]
  }
 ],
 "metadata": {
  "colab": {
   "collapsed_sections": [],
   "name": "005_Stochastic_Minibatch_GD_C.ipynb",
   "provenance": []
  },
  "kernelspec": {
   "display_name": "Python 3",
   "language": "python",
   "name": "python3"
  },
  "language_info": {
   "codemirror_mode": {
    "name": "ipython",
    "version": 3
   },
   "file_extension": ".py",
   "mimetype": "text/x-python",
   "name": "python",
   "nbconvert_exporter": "python",
   "pygments_lexer": "ipython3",
   "version": "3.6.5"
  }
 },
 "nbformat": 4,
 "nbformat_minor": 1
}
