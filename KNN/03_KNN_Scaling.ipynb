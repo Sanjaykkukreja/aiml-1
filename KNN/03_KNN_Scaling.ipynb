{
 "cells": [
  {
   "cell_type": "markdown",
   "metadata": {
    "colab_type": "text",
    "id": "9pfsihlQZzYp"
   },
   "source": [
    "# Advanced Certification in AIML\n",
    "## A Program by IIIT-H and TalentSprint"
   ]
  },
  {
   "cell_type": "markdown",
   "metadata": {
    "colab_type": "text",
    "id": "eAo1CaILZ4dh"
   },
   "source": [
    "## Learning Objective"
   ]
  },
  {
   "cell_type": "markdown",
   "metadata": {
    "colab_type": "text",
    "id": "_o7j8P4uaGwF"
   },
   "source": [
    "At the end of the experiment, you will be able to :\n",
    "\n",
    "* Classify fruits data using KNN"
   ]
  },
  {
   "cell_type": "markdown",
   "metadata": {
    "colab_type": "text",
    "id": "3GC89SznaPKx"
   },
   "source": [
    "## Setup Steps"
   ]
  },
  {
   "cell_type": "markdown",
   "metadata": {
    "colab_type": "text",
    "id": "yHmPVwT2agjw"
   },
   "source": [
    "#### Importing the required packages"
   ]
  },
  {
   "cell_type": "code",
   "execution_count": 0,
   "metadata": {
    "colab": {},
    "colab_type": "code",
    "id": "JsGDWqxJp5Ga"
   },
   "outputs": [],
   "source": [
    "import pandas as pd\n",
    "import matplotlib.pyplot as plt"
   ]
  },
  {
   "cell_type": "code",
   "execution_count": 0,
   "metadata": {
    "colab": {},
    "colab_type": "code",
    "id": "j6Rq_Scnp5GR"
   },
   "outputs": [],
   "source": [
    "def labels_converter(s):\n",
    "    s = s.lower()\n",
    "    if s == \"orange\":\n",
    "        return 0\n",
    "    if s == \"apple\":\n",
    "        return 1\n",
    "    return -1"
   ]
  },
  {
   "cell_type": "markdown",
   "metadata": {
    "colab_type": "text",
    "id": "2DflERrXalVt"
   },
   "source": [
    "#### Loading the data"
   ]
  },
  {
   "cell_type": "code",
   "execution_count": 0,
   "metadata": {
    "colab": {},
    "colab_type": "code",
    "id": "j7sqf1PPp5Gh"
   },
   "outputs": [],
   "source": [
    "data = pd.read_csv(\"fruits_weight_sphercity.csv\",converters={\"labels\":labels_converter})"
   ]
  },
  {
   "cell_type": "code",
   "execution_count": 0,
   "metadata": {
    "colab": {
     "base_uri": "https://localhost:8080/",
     "height": 204
    },
    "colab_type": "code",
    "id": "YpSJjyrXp5Gm",
    "outputId": "4eb0546e-c39d-4df2-ef8a-687bf55a7aa9"
   },
   "outputs": [
    {
     "data": {
      "text/html": [
       "<div>\n",
       "<style scoped>\n",
       "    .dataframe tbody tr th:only-of-type {\n",
       "        vertical-align: middle;\n",
       "    }\n",
       "\n",
       "    .dataframe tbody tr th {\n",
       "        vertical-align: top;\n",
       "    }\n",
       "\n",
       "    .dataframe thead th {\n",
       "        text-align: right;\n",
       "    }\n",
       "</style>\n",
       "<table border=\"1\" class=\"dataframe\">\n",
       "  <thead>\n",
       "    <tr style=\"text-align: right;\">\n",
       "      <th></th>\n",
       "      <th>Color</th>\n",
       "      <th>Weight</th>\n",
       "      <th>Sphericity</th>\n",
       "      <th>labels</th>\n",
       "    </tr>\n",
       "  </thead>\n",
       "  <tbody>\n",
       "    <tr>\n",
       "      <th>0</th>\n",
       "      <td>Red</td>\n",
       "      <td>200</td>\n",
       "      <td>0.40</td>\n",
       "      <td>1</td>\n",
       "    </tr>\n",
       "    <tr>\n",
       "      <th>1</th>\n",
       "      <td>Orange</td>\n",
       "      <td>320</td>\n",
       "      <td>1.00</td>\n",
       "      <td>0</td>\n",
       "    </tr>\n",
       "    <tr>\n",
       "      <th>2</th>\n",
       "      <td>Orange</td>\n",
       "      <td>310</td>\n",
       "      <td>0.95</td>\n",
       "      <td>0</td>\n",
       "    </tr>\n",
       "    <tr>\n",
       "      <th>3</th>\n",
       "      <td>Red</td>\n",
       "      <td>220</td>\n",
       "      <td>0.45</td>\n",
       "      <td>1</td>\n",
       "    </tr>\n",
       "    <tr>\n",
       "      <th>4</th>\n",
       "      <td>Red</td>\n",
       "      <td>230</td>\n",
       "      <td>0.50</td>\n",
       "      <td>1</td>\n",
       "    </tr>\n",
       "  </tbody>\n",
       "</table>\n",
       "</div>"
      ],
      "text/plain": [
       "    Color  Weight  Sphericity  labels\n",
       "0     Red     200        0.40       1\n",
       "1  Orange     320        1.00       0\n",
       "2  Orange     310        0.95       0\n",
       "3     Red     220        0.45       1\n",
       "4     Red     230        0.50       1"
      ]
     },
     "execution_count": 8,
     "metadata": {
      "tags": []
     },
     "output_type": "execute_result"
    }
   ],
   "source": [
    "data.head()"
   ]
  },
  {
   "cell_type": "code",
   "execution_count": 0,
   "metadata": {
    "colab": {
     "base_uri": "https://localhost:8080/",
     "height": 204
    },
    "colab_type": "code",
    "id": "T3ri3w-P-Zei",
    "outputId": "07126e0f-7405-4f91-c7a9-0571e2bec7b2"
   },
   "outputs": [
    {
     "data": {
      "text/html": [
       "<div>\n",
       "<style scoped>\n",
       "    .dataframe tbody tr th:only-of-type {\n",
       "        vertical-align: middle;\n",
       "    }\n",
       "\n",
       "    .dataframe tbody tr th {\n",
       "        vertical-align: top;\n",
       "    }\n",
       "\n",
       "    .dataframe thead th {\n",
       "        text-align: right;\n",
       "    }\n",
       "</style>\n",
       "<table border=\"1\" class=\"dataframe\">\n",
       "  <thead>\n",
       "    <tr style=\"text-align: right;\">\n",
       "      <th></th>\n",
       "      <th>Color</th>\n",
       "      <th>Weight</th>\n",
       "      <th>Sphericity</th>\n",
       "      <th>labels</th>\n",
       "    </tr>\n",
       "  </thead>\n",
       "  <tbody>\n",
       "    <tr>\n",
       "      <th>0</th>\n",
       "      <td>Red</td>\n",
       "      <td>200</td>\n",
       "      <td>0.40</td>\n",
       "      <td>1</td>\n",
       "    </tr>\n",
       "    <tr>\n",
       "      <th>3</th>\n",
       "      <td>Red</td>\n",
       "      <td>220</td>\n",
       "      <td>0.45</td>\n",
       "      <td>1</td>\n",
       "    </tr>\n",
       "    <tr>\n",
       "      <th>6</th>\n",
       "      <td>Red</td>\n",
       "      <td>240</td>\n",
       "      <td>0.35</td>\n",
       "      <td>1</td>\n",
       "    </tr>\n",
       "    <tr>\n",
       "      <th>9</th>\n",
       "      <td>Red</td>\n",
       "      <td>243</td>\n",
       "      <td>0.53</td>\n",
       "      <td>1</td>\n",
       "    </tr>\n",
       "    <tr>\n",
       "      <th>12</th>\n",
       "      <td>Green</td>\n",
       "      <td>259</td>\n",
       "      <td>0.42</td>\n",
       "      <td>1</td>\n",
       "    </tr>\n",
       "  </tbody>\n",
       "</table>\n",
       "</div>"
      ],
      "text/plain": [
       "    Color  Weight  Sphericity  labels\n",
       "0     Red     200        0.40       1\n",
       "3     Red     220        0.45       1\n",
       "6     Red     240        0.35       1\n",
       "9     Red     243        0.53       1\n",
       "12  Green     259        0.42       1"
      ]
     },
     "execution_count": 9,
     "metadata": {
      "tags": []
     },
     "output_type": "execute_result"
    }
   ],
   "source": [
    "data1 = data[0:60:3] # Considering only 20 samples\n",
    "#data1= data\n",
    "data1.head()"
   ]
  },
  {
   "cell_type": "markdown",
   "metadata": {
    "colab_type": "text",
    "id": "aPCwN68VbCe_"
   },
   "source": [
    "#### Checking for length of the dataset"
   ]
  },
  {
   "cell_type": "code",
   "execution_count": 0,
   "metadata": {
    "colab": {
     "base_uri": "https://localhost:8080/",
     "height": 51
    },
    "colab_type": "code",
    "id": "RAX-BtAVxdQ4",
    "outputId": "048a8d20-6fde-46e4-fdfd-56aeb6500330"
   },
   "outputs": [
    {
     "name": "stdout",
     "output_type": "stream",
     "text": [
      "69\n",
      "20\n"
     ]
    }
   ],
   "source": [
    "print(len(data))\n",
    "print(len(data1))"
   ]
  },
  {
   "cell_type": "code",
   "execution_count": 0,
   "metadata": {
    "colab": {
     "base_uri": "https://localhost:8080/",
     "height": 153
    },
    "colab_type": "code",
    "id": "AgpKiq0DKhwM",
    "outputId": "07c484d1-042e-496f-b6e1-2489d0a58f75"
   },
   "outputs": [
    {
     "name": "stdout",
     "output_type": "stream",
     "text": [
      "<class 'pandas.core.frame.DataFrame'>\n",
      "     Color  Weight  Sphericity  labels\n",
      "1   Orange     320        1.00       0\n",
      "11   Green     255        0.60       1\n",
      "21   Green     220        0.33       1\n",
      "31   Green     255        0.69       0\n",
      "41     Red     200        0.48       1\n",
      "5\n"
     ]
    }
   ],
   "source": [
    "train = data1 # Considering 20 samples as train set\n",
    "print(type(train))\n",
    "test = data[1:50:10] # Considering 5 samples for testing\n",
    "print(test) \n",
    "print(len(test))"
   ]
  },
  {
   "cell_type": "markdown",
   "metadata": {
    "colab_type": "text",
    "id": "M4ujaf0XcEkL"
   },
   "source": [
    "### Applying KNN Classifier on the data"
   ]
  },
  {
   "cell_type": "code",
   "execution_count": 0,
   "metadata": {
    "colab": {},
    "colab_type": "code",
    "id": "xxKqhCGwKwQC"
   },
   "outputs": [],
   "source": [
    "from sklearn.neighbors import KNeighborsClassifier\n",
    "k = 3\n",
    "neigh = KNeighborsClassifier(n_neighbors=k,metric=\"euclidean\", algorithm=\"brute\")"
   ]
  },
  {
   "cell_type": "code",
   "execution_count": 0,
   "metadata": {
    "colab": {},
    "colab_type": "code",
    "id": "ZjWt42NlKxL-"
   },
   "outputs": [],
   "source": [
    "traindata = train.values[:,1:3] # Converting dataframe to array"
   ]
  },
  {
   "cell_type": "code",
   "execution_count": 0,
   "metadata": {
    "colab": {
     "base_uri": "https://localhost:8080/",
     "height": 68
    },
    "colab_type": "code",
    "id": "1XK1bDD9Limo",
    "outputId": "e996d75a-9e84-4dec-9150-fae55d1b5d9f"
   },
   "outputs": [
    {
     "data": {
      "text/plain": [
       "KNeighborsClassifier(algorithm='brute', leaf_size=30, metric='euclidean',\n",
       "                     metric_params=None, n_jobs=None, n_neighbors=3, p=2,\n",
       "                     weights='uniform')"
      ]
     },
     "execution_count": 14,
     "metadata": {
      "tags": []
     },
     "output_type": "execute_result"
    }
   ],
   "source": [
    "# Training or fitting the model with the train data\n",
    "neigh.fit(traindata,train.labels)"
   ]
  },
  {
   "cell_type": "code",
   "execution_count": 0,
   "metadata": {
    "colab": {},
    "colab_type": "code",
    "id": "C25Fk2TCKxI8"
   },
   "outputs": [],
   "source": [
    "test1 = test.values[:,1:3] # Converting dataframe to array"
   ]
  },
  {
   "cell_type": "code",
   "execution_count": 0,
   "metadata": {
    "colab": {},
    "colab_type": "code",
    "id": "ZfJ5q6DzK_e8"
   },
   "outputs": [],
   "source": [
    "# Testing the trained model\n",
    "pred1 = neigh.predict(traindata)"
   ]
  },
  {
   "cell_type": "code",
   "execution_count": 0,
   "metadata": {
    "colab": {
     "base_uri": "https://localhost:8080/",
     "height": 51
    },
    "colab_type": "code",
    "id": "rCTiZxd8LFF1",
    "outputId": "961bb43f-7755-4d36-9db2-87b9feac84af"
   },
   "outputs": [
    {
     "name": "stdout",
     "output_type": "stream",
     "text": [
      "[1 1 1 1 1 1 0 1 1 1 1 1 1 1 1 0 1 1 0 1] predictions\n",
      "[1 1 1 1 1 0 0 1 1 1 0 1 1 1 1 0 1 1 0 1] labels\n"
     ]
    }
   ],
   "source": [
    "print(pred1,\"predictions\") #Predictions\n",
    "print(train.values[:,3],\"labels\") #labels"
   ]
  },
  {
   "cell_type": "code",
   "execution_count": 0,
   "metadata": {
    "colab": {},
    "colab_type": "code",
    "id": "mFZEBlPQiQbG"
   },
   "outputs": [],
   "source": [
    "pred_test = neigh.predict(test1)"
   ]
  },
  {
   "cell_type": "code",
   "execution_count": 0,
   "metadata": {
    "colab": {
     "base_uri": "https://localhost:8080/",
     "height": 51
    },
    "colab_type": "code",
    "id": "YLQIo8xIiQTH",
    "outputId": "c321097b-0092-469a-cc03-f5a7e75460fb"
   },
   "outputs": [
    {
     "name": "stdout",
     "output_type": "stream",
     "text": [
      "[0 1 1 1 1] predictions\n",
      "[0 1 1 0 1] labels\n"
     ]
    }
   ],
   "source": [
    "print(pred_test,\"predictions\") #Predictions\n",
    "print(test.values[:,3],\"labels\") #labels"
   ]
  },
  {
   "cell_type": "code",
   "execution_count": 0,
   "metadata": {
    "colab": {
     "base_uri": "https://localhost:8080/",
     "height": 669
    },
    "colab_type": "code",
    "id": "OHzwTTCpiqqO",
    "outputId": "583749e6-ebd9-40f3-ba63-8c1da642f53f"
   },
   "outputs": [
    {
     "data": {
      "text/html": [
       "<div>\n",
       "<style scoped>\n",
       "    .dataframe tbody tr th:only-of-type {\n",
       "        vertical-align: middle;\n",
       "    }\n",
       "\n",
       "    .dataframe tbody tr th {\n",
       "        vertical-align: top;\n",
       "    }\n",
       "\n",
       "    .dataframe thead th {\n",
       "        text-align: right;\n",
       "    }\n",
       "</style>\n",
       "<table border=\"1\" class=\"dataframe\">\n",
       "  <thead>\n",
       "    <tr style=\"text-align: right;\">\n",
       "      <th></th>\n",
       "      <th>Color</th>\n",
       "      <th>Weight</th>\n",
       "      <th>Sphericity</th>\n",
       "      <th>labels</th>\n",
       "    </tr>\n",
       "  </thead>\n",
       "  <tbody>\n",
       "    <tr>\n",
       "      <th>0</th>\n",
       "      <td>Red</td>\n",
       "      <td>200</td>\n",
       "      <td>0.400</td>\n",
       "      <td>1</td>\n",
       "    </tr>\n",
       "    <tr>\n",
       "      <th>3</th>\n",
       "      <td>Red</td>\n",
       "      <td>220</td>\n",
       "      <td>0.450</td>\n",
       "      <td>1</td>\n",
       "    </tr>\n",
       "    <tr>\n",
       "      <th>6</th>\n",
       "      <td>Red</td>\n",
       "      <td>240</td>\n",
       "      <td>0.350</td>\n",
       "      <td>1</td>\n",
       "    </tr>\n",
       "    <tr>\n",
       "      <th>9</th>\n",
       "      <td>Red</td>\n",
       "      <td>243</td>\n",
       "      <td>0.530</td>\n",
       "      <td>1</td>\n",
       "    </tr>\n",
       "    <tr>\n",
       "      <th>12</th>\n",
       "      <td>Green</td>\n",
       "      <td>259</td>\n",
       "      <td>0.420</td>\n",
       "      <td>1</td>\n",
       "    </tr>\n",
       "    <tr>\n",
       "      <th>15</th>\n",
       "      <td>Greenish yellow</td>\n",
       "      <td>260</td>\n",
       "      <td>0.750</td>\n",
       "      <td>0</td>\n",
       "    </tr>\n",
       "    <tr>\n",
       "      <th>18</th>\n",
       "      <td>Green</td>\n",
       "      <td>266</td>\n",
       "      <td>0.680</td>\n",
       "      <td>0</td>\n",
       "    </tr>\n",
       "    <tr>\n",
       "      <th>21</th>\n",
       "      <td>Green</td>\n",
       "      <td>220</td>\n",
       "      <td>0.330</td>\n",
       "      <td>1</td>\n",
       "    </tr>\n",
       "    <tr>\n",
       "      <th>24</th>\n",
       "      <td>Red</td>\n",
       "      <td>210</td>\n",
       "      <td>0.390</td>\n",
       "      <td>1</td>\n",
       "    </tr>\n",
       "    <tr>\n",
       "      <th>27</th>\n",
       "      <td>Reddish yellow</td>\n",
       "      <td>270</td>\n",
       "      <td>0.333</td>\n",
       "      <td>1</td>\n",
       "    </tr>\n",
       "    <tr>\n",
       "      <th>30</th>\n",
       "      <td>Green</td>\n",
       "      <td>269</td>\n",
       "      <td>0.670</td>\n",
       "      <td>0</td>\n",
       "    </tr>\n",
       "    <tr>\n",
       "      <th>33</th>\n",
       "      <td>Green</td>\n",
       "      <td>271</td>\n",
       "      <td>0.550</td>\n",
       "      <td>1</td>\n",
       "    </tr>\n",
       "    <tr>\n",
       "      <th>36</th>\n",
       "      <td>Green</td>\n",
       "      <td>270</td>\n",
       "      <td>0.370</td>\n",
       "      <td>1</td>\n",
       "    </tr>\n",
       "    <tr>\n",
       "      <th>39</th>\n",
       "      <td>Red</td>\n",
       "      <td>200</td>\n",
       "      <td>0.470</td>\n",
       "      <td>1</td>\n",
       "    </tr>\n",
       "    <tr>\n",
       "      <th>42</th>\n",
       "      <td>Red</td>\n",
       "      <td>210</td>\n",
       "      <td>0.420</td>\n",
       "      <td>1</td>\n",
       "    </tr>\n",
       "    <tr>\n",
       "      <th>45</th>\n",
       "      <td>Orange</td>\n",
       "      <td>348</td>\n",
       "      <td>0.950</td>\n",
       "      <td>0</td>\n",
       "    </tr>\n",
       "    <tr>\n",
       "      <th>48</th>\n",
       "      <td>Red</td>\n",
       "      <td>240</td>\n",
       "      <td>0.500</td>\n",
       "      <td>1</td>\n",
       "    </tr>\n",
       "    <tr>\n",
       "      <th>51</th>\n",
       "      <td>Red</td>\n",
       "      <td>260</td>\n",
       "      <td>0.500</td>\n",
       "      <td>1</td>\n",
       "    </tr>\n",
       "    <tr>\n",
       "      <th>54</th>\n",
       "      <td>Red</td>\n",
       "      <td>320</td>\n",
       "      <td>0.800</td>\n",
       "      <td>0</td>\n",
       "    </tr>\n",
       "    <tr>\n",
       "      <th>57</th>\n",
       "      <td>Reddish yellow</td>\n",
       "      <td>201</td>\n",
       "      <td>0.700</td>\n",
       "      <td>1</td>\n",
       "    </tr>\n",
       "  </tbody>\n",
       "</table>\n",
       "</div>"
      ],
      "text/plain": [
       "              Color  Weight  Sphericity  labels\n",
       "0               Red     200       0.400       1\n",
       "3               Red     220       0.450       1\n",
       "6               Red     240       0.350       1\n",
       "9               Red     243       0.530       1\n",
       "12            Green     259       0.420       1\n",
       "15  Greenish yellow     260       0.750       0\n",
       "18            Green     266       0.680       0\n",
       "21            Green     220       0.330       1\n",
       "24              Red     210       0.390       1\n",
       "27   Reddish yellow     270       0.333       1\n",
       "30            Green     269       0.670       0\n",
       "33            Green     271       0.550       1\n",
       "36            Green     270       0.370       1\n",
       "39              Red     200       0.470       1\n",
       "42              Red     210       0.420       1\n",
       "45           Orange     348       0.950       0\n",
       "48              Red     240       0.500       1\n",
       "51              Red     260       0.500       1\n",
       "54              Red     320       0.800       0\n",
       "57   Reddish yellow     201       0.700       1"
      ]
     },
     "execution_count": 20,
     "metadata": {
      "tags": []
     },
     "output_type": "execute_result"
    }
   ],
   "source": [
    "train"
   ]
  },
  {
   "cell_type": "code",
   "execution_count": 0,
   "metadata": {
    "colab": {
     "base_uri": "https://localhost:8080/",
     "height": 514
    },
    "colab_type": "code",
    "id": "Se8tQJiWiwcG",
    "outputId": "30440c75-bef7-476f-acd3-b993ac292ca0"
   },
   "outputs": [
    {
     "data": {
      "text/html": [
       "<div>\n",
       "<style scoped>\n",
       "    .dataframe tbody tr th:only-of-type {\n",
       "        vertical-align: middle;\n",
       "    }\n",
       "\n",
       "    .dataframe tbody tr th {\n",
       "        vertical-align: top;\n",
       "    }\n",
       "\n",
       "    .dataframe thead th {\n",
       "        text-align: right;\n",
       "    }\n",
       "</style>\n",
       "<table border=\"1\" class=\"dataframe\">\n",
       "  <thead>\n",
       "    <tr style=\"text-align: right;\">\n",
       "      <th></th>\n",
       "      <th>Color</th>\n",
       "      <th>Weight</th>\n",
       "      <th>Sphericity</th>\n",
       "      <th>labels</th>\n",
       "    </tr>\n",
       "  </thead>\n",
       "  <tbody>\n",
       "    <tr>\n",
       "      <th>0</th>\n",
       "      <td>Red</td>\n",
       "      <td>200</td>\n",
       "      <td>0.400</td>\n",
       "      <td>1</td>\n",
       "    </tr>\n",
       "    <tr>\n",
       "      <th>3</th>\n",
       "      <td>Red</td>\n",
       "      <td>220</td>\n",
       "      <td>0.450</td>\n",
       "      <td>1</td>\n",
       "    </tr>\n",
       "    <tr>\n",
       "      <th>6</th>\n",
       "      <td>Red</td>\n",
       "      <td>240</td>\n",
       "      <td>0.350</td>\n",
       "      <td>1</td>\n",
       "    </tr>\n",
       "    <tr>\n",
       "      <th>9</th>\n",
       "      <td>Red</td>\n",
       "      <td>243</td>\n",
       "      <td>0.530</td>\n",
       "      <td>1</td>\n",
       "    </tr>\n",
       "    <tr>\n",
       "      <th>12</th>\n",
       "      <td>Green</td>\n",
       "      <td>259</td>\n",
       "      <td>0.420</td>\n",
       "      <td>1</td>\n",
       "    </tr>\n",
       "    <tr>\n",
       "      <th>21</th>\n",
       "      <td>Green</td>\n",
       "      <td>220</td>\n",
       "      <td>0.330</td>\n",
       "      <td>1</td>\n",
       "    </tr>\n",
       "    <tr>\n",
       "      <th>24</th>\n",
       "      <td>Red</td>\n",
       "      <td>210</td>\n",
       "      <td>0.390</td>\n",
       "      <td>1</td>\n",
       "    </tr>\n",
       "    <tr>\n",
       "      <th>27</th>\n",
       "      <td>Reddish yellow</td>\n",
       "      <td>270</td>\n",
       "      <td>0.333</td>\n",
       "      <td>1</td>\n",
       "    </tr>\n",
       "    <tr>\n",
       "      <th>33</th>\n",
       "      <td>Green</td>\n",
       "      <td>271</td>\n",
       "      <td>0.550</td>\n",
       "      <td>1</td>\n",
       "    </tr>\n",
       "    <tr>\n",
       "      <th>36</th>\n",
       "      <td>Green</td>\n",
       "      <td>270</td>\n",
       "      <td>0.370</td>\n",
       "      <td>1</td>\n",
       "    </tr>\n",
       "    <tr>\n",
       "      <th>39</th>\n",
       "      <td>Red</td>\n",
       "      <td>200</td>\n",
       "      <td>0.470</td>\n",
       "      <td>1</td>\n",
       "    </tr>\n",
       "    <tr>\n",
       "      <th>42</th>\n",
       "      <td>Red</td>\n",
       "      <td>210</td>\n",
       "      <td>0.420</td>\n",
       "      <td>1</td>\n",
       "    </tr>\n",
       "    <tr>\n",
       "      <th>48</th>\n",
       "      <td>Red</td>\n",
       "      <td>240</td>\n",
       "      <td>0.500</td>\n",
       "      <td>1</td>\n",
       "    </tr>\n",
       "    <tr>\n",
       "      <th>51</th>\n",
       "      <td>Red</td>\n",
       "      <td>260</td>\n",
       "      <td>0.500</td>\n",
       "      <td>1</td>\n",
       "    </tr>\n",
       "    <tr>\n",
       "      <th>57</th>\n",
       "      <td>Reddish yellow</td>\n",
       "      <td>201</td>\n",
       "      <td>0.700</td>\n",
       "      <td>1</td>\n",
       "    </tr>\n",
       "  </tbody>\n",
       "</table>\n",
       "</div>"
      ],
      "text/plain": [
       "             Color  Weight  Sphericity  labels\n",
       "0              Red     200       0.400       1\n",
       "3              Red     220       0.450       1\n",
       "6              Red     240       0.350       1\n",
       "9              Red     243       0.530       1\n",
       "12           Green     259       0.420       1\n",
       "21           Green     220       0.330       1\n",
       "24             Red     210       0.390       1\n",
       "27  Reddish yellow     270       0.333       1\n",
       "33           Green     271       0.550       1\n",
       "36           Green     270       0.370       1\n",
       "39             Red     200       0.470       1\n",
       "42             Red     210       0.420       1\n",
       "48             Red     240       0.500       1\n",
       "51             Red     260       0.500       1\n",
       "57  Reddish yellow     201       0.700       1"
      ]
     },
     "execution_count": 21,
     "metadata": {
      "tags": []
     },
     "output_type": "execute_result"
    }
   ],
   "source": [
    "train[train.labels == 1]"
   ]
  },
  {
   "cell_type": "code",
   "execution_count": 0,
   "metadata": {
    "colab": {
     "base_uri": "https://localhost:8080/",
     "height": 472
    },
    "colab_type": "code",
    "id": "J7Virt1SMBUh",
    "outputId": "fe85824c-b31a-4f2f-bfad-b59a83736698"
   },
   "outputs": [
    {
     "data": {
      "image/png": "[encoded data removed]",
      "text/plain": [
       "<Figure size 640x480 with 1 Axes>"
      ]
     },
     "metadata": {
      "tags": []
     },
     "output_type": "display_data"
    }
   ],
   "source": [
    "plt.style.use('default')\n",
    "oranges = train[train.labels == 0]\n",
    "apples = train[train.labels == 1]\n",
    "plt.scatter(oranges.Sphericity, oranges.Weight,color=\"green\",marker=\"o\") # Training data\n",
    "plt.scatter(apples.Sphericity, apples.Weight,color=\"red\",marker=\"o\") # Training data\n",
    "oranges = test[test.labels == 0]  \n",
    "apples = test[test.labels == 1]\n",
    "plt.scatter(oranges.Sphericity, oranges.Weight,color=\"green\",marker=\"*\",s=200) # Testing data\n",
    "plt.scatter(apples.Sphericity, apples.Weight,color=\"red\",marker=\"*\",s=200) #Testing data\n",
    "plt.xlabel(\"Sperificity\")\n",
    "plt.ylabel(\"Weight\")\n",
    "plt.legend([\"Oranges\", \"Apples\"])\n",
    "plt.title(\"The train and test points before scaling\")\n",
    "plt.show()"
   ]
  },
  {
   "cell_type": "code",
   "execution_count": 0,
   "metadata": {
    "colab": {
     "base_uri": "https://localhost:8080/",
     "height": 34
    },
    "colab_type": "code",
    "id": "AIvJuBKlf6i8",
    "outputId": "905cc2b6-f6a3-4ed5-bab0-1136e07009a3"
   },
   "outputs": [
    {
     "data": {
      "text/plain": [
       "array([0, 1, 1, 1, 1])"
      ]
     },
     "execution_count": 23,
     "metadata": {
      "tags": []
     },
     "output_type": "execute_result"
    }
   ],
   "source": [
    "pred_test"
   ]
  },
  {
   "cell_type": "code",
   "execution_count": 0,
   "metadata": {
    "colab": {
     "base_uri": "https://localhost:8080/",
     "height": 34
    },
    "colab_type": "code",
    "id": "vLLIzanFf9Va",
    "outputId": "d6e3bc24-eac6-4ee6-e4e5-a8aa261f3f00"
   },
   "outputs": [
    {
     "data": {
      "text/plain": [
       "array([0, 1, 1, 1, 1])"
      ]
     },
     "execution_count": 24,
     "metadata": {
      "tags": []
     },
     "output_type": "execute_result"
    }
   ],
   "source": [
    "pred_test.T"
   ]
  },
  {
   "cell_type": "code",
   "execution_count": 0,
   "metadata": {
    "colab": {
     "base_uri": "https://localhost:8080/",
     "height": 102
    },
    "colab_type": "code",
    "id": "i1LfZU-CgPRS",
    "outputId": "1d868bce-1df9-4d65-f4af-a68db0d7f448"
   },
   "outputs": [
    {
     "data": {
      "text/plain": [
       "array([[320, 1.0],\n",
       "       [255, 0.6],\n",
       "       [220, 0.33],\n",
       "       [255, 0.69],\n",
       "       [200, 0.48]], dtype=object)"
      ]
     },
     "execution_count": 25,
     "metadata": {
      "tags": []
     },
     "output_type": "execute_result"
    }
   ],
   "source": [
    "test1"
   ]
  },
  {
   "cell_type": "code",
   "execution_count": 0,
   "metadata": {
    "colab": {
     "base_uri": "https://localhost:8080/",
     "height": 102
    },
    "colab_type": "code",
    "id": "HMNaQe9aMYhn",
    "outputId": "cc1ce462-6fc5-453e-cfcd-87afa67b61f3"
   },
   "outputs": [
    {
     "name": "stdout",
     "output_type": "stream",
     "text": [
      "[[320 1.0 0]\n",
      " [255 0.6 1]\n",
      " [220 0.33 1]\n",
      " [255 0.69 1]\n",
      " [200 0.48 1]]\n"
     ]
    }
   ],
   "source": [
    "import numpy as np\n",
    "pred2 = np.column_stack((test1,pred_test.T))\n",
    "print(pred2)"
   ]
  },
  {
   "cell_type": "code",
   "execution_count": 0,
   "metadata": {
    "colab": {
     "base_uri": "https://localhost:8080/",
     "height": 472
    },
    "colab_type": "code",
    "id": "RXhPA104MaZh",
    "outputId": "802ab312-b011-4721-ff3e-bdac98c96962"
   },
   "outputs": [
    {
     "data": {
      "image/png": "[encoded data removed]",
      "text/plain": [
       "<Figure size 640x480 with 1 Axes>"
      ]
     },
     "metadata": {
      "tags": []
     },
     "output_type": "display_data"
    }
   ],
   "source": [
    "plt.style.use('default')\n",
    "oranges = train[train.labels == 0]\n",
    "apples = train[train.labels == 1]\n",
    "\n",
    "oranges1 = pred2[pred2[:,2]==0]\n",
    "apples1 = pred2[pred2[:,2]==1]\n",
    "\n",
    "plt.scatter(oranges.Sphericity, oranges.Weight,color=\"green\",marker=\"o\")\n",
    "plt.scatter(apples.Sphericity, apples.Weight,color=\"red\",marker=\"o\")\n",
    "\n",
    "plt.scatter(oranges1[:,1], oranges1[:,0], color=\"green\",marker=\"*\",s=200)\n",
    "plt.scatter(apples1[:,1], apples1[:,0], color=\"red\",marker=\"*\",s=200)\n",
    "\n",
    "plt.xlabel(\"Sperificity\")\n",
    "plt.ylabel(\"Weight\")\n",
    "plt.legend([\"Oranges\",\"Apples\"])\n",
    "plt.title(\"Predictions before scaling\")\n",
    "plt.show()"
   ]
  },
  {
   "cell_type": "code",
   "execution_count": 0,
   "metadata": {
    "colab": {
     "base_uri": "https://localhost:8080/",
     "height": 34
    },
    "colab_type": "code",
    "id": "P8ILCD9Wkyxx",
    "outputId": "185ad28c-9fb5-4368-d522-ea2db05028ea"
   },
   "outputs": [
    {
     "data": {
      "text/plain": [
       "array([[320, 1.0, 0]], dtype=object)"
      ]
     },
     "execution_count": 28,
     "metadata": {
      "tags": []
     },
     "output_type": "execute_result"
    }
   ],
   "source": [
    "oranges1"
   ]
  },
  {
   "cell_type": "code",
   "execution_count": 0,
   "metadata": {
    "colab": {
     "base_uri": "https://localhost:8080/",
     "height": 34
    },
    "colab_type": "code",
    "id": "xAG4xr8Tl_pq",
    "outputId": "38918770-fd9a-4607-e106-c7acbf459aca"
   },
   "outputs": [
    {
     "data": {
      "text/plain": [
       "array([1.0], dtype=object)"
      ]
     },
     "execution_count": 29,
     "metadata": {
      "tags": []
     },
     "output_type": "execute_result"
    }
   ],
   "source": [
    "oranges1[:,1]"
   ]
  },
  {
   "cell_type": "code",
   "execution_count": 0,
   "metadata": {
    "colab": {
     "base_uri": "https://localhost:8080/",
     "height": 34
    },
    "colab_type": "code",
    "id": "xeaIHlikmHoY",
    "outputId": "d37fe692-3463-43a0-dc4d-0da2a1066565"
   },
   "outputs": [
    {
     "data": {
      "text/plain": [
       "array([255, 220, 255, 200], dtype=object)"
      ]
     },
     "execution_count": 30,
     "metadata": {
      "tags": []
     },
     "output_type": "execute_result"
    }
   ],
   "source": [
    "apples1[:,0]"
   ]
  },
  {
   "cell_type": "code",
   "execution_count": 0,
   "metadata": {
    "colab": {
     "base_uri": "https://localhost:8080/",
     "height": 34
    },
    "colab_type": "code",
    "id": "laMgSQgsmMqg",
    "outputId": "ffc9ac0a-d531-404d-c10e-943a17507bf4"
   },
   "outputs": [
    {
     "data": {
      "text/plain": [
       "array([0.6, 0.33, 0.69, 0.48], dtype=object)"
      ]
     },
     "execution_count": 31,
     "metadata": {
      "tags": []
     },
     "output_type": "execute_result"
    }
   ],
   "source": [
    "apples1[:,1]"
   ]
  },
  {
   "cell_type": "markdown",
   "metadata": {
    "colab_type": "text",
    "id": "1388cKOqMgAY"
   },
   "source": [
    "## After Scaling the data"
   ]
  },
  {
   "cell_type": "code",
   "execution_count": 0,
   "metadata": {
    "colab": {},
    "colab_type": "code",
    "id": "PmsKSruAMj7W"
   },
   "outputs": [],
   "source": [
    "from sklearn.preprocessing import MinMaxScaler\n",
    "scaler = MinMaxScaler()"
   ]
  },
  {
   "cell_type": "code",
   "execution_count": 0,
   "metadata": {
    "colab": {
     "base_uri": "https://localhost:8080/",
     "height": 34
    },
    "colab_type": "code",
    "id": "wfIH3Hcxsz9G",
    "outputId": "63f42bad-3330-4d9a-e4bc-6f89fe868318"
   },
   "outputs": [
    {
     "data": {
      "text/plain": [
       "MinMaxScaler(copy=True, feature_range=(0, 1))"
      ]
     },
     "execution_count": 54,
     "metadata": {
      "tags": []
     },
     "output_type": "execute_result"
    }
   ],
   "source": [
    "scaler"
   ]
  },
  {
   "cell_type": "code",
   "execution_count": 0,
   "metadata": {
    "colab": {
     "base_uri": "https://localhost:8080/",
     "height": 204
    },
    "colab_type": "code",
    "id": "PSUpcm4_M4Ow",
    "outputId": "30f2528a-c7d2-4689-c71c-38d8aff683bd"
   },
   "outputs": [
    {
     "data": {
      "text/html": [
       "<div>\n",
       "<style scoped>\n",
       "    .dataframe tbody tr th:only-of-type {\n",
       "        vertical-align: middle;\n",
       "    }\n",
       "\n",
       "    .dataframe tbody tr th {\n",
       "        vertical-align: top;\n",
       "    }\n",
       "\n",
       "    .dataframe thead th {\n",
       "        text-align: right;\n",
       "    }\n",
       "</style>\n",
       "<table border=\"1\" class=\"dataframe\">\n",
       "  <thead>\n",
       "    <tr style=\"text-align: right;\">\n",
       "      <th></th>\n",
       "      <th>Color</th>\n",
       "      <th>Weight</th>\n",
       "      <th>Sphericity</th>\n",
       "      <th>labels</th>\n",
       "    </tr>\n",
       "  </thead>\n",
       "  <tbody>\n",
       "    <tr>\n",
       "      <th>0</th>\n",
       "      <td>Red</td>\n",
       "      <td>200</td>\n",
       "      <td>0.40</td>\n",
       "      <td>1</td>\n",
       "    </tr>\n",
       "    <tr>\n",
       "      <th>1</th>\n",
       "      <td>Orange</td>\n",
       "      <td>320</td>\n",
       "      <td>1.00</td>\n",
       "      <td>0</td>\n",
       "    </tr>\n",
       "    <tr>\n",
       "      <th>2</th>\n",
       "      <td>Orange</td>\n",
       "      <td>310</td>\n",
       "      <td>0.95</td>\n",
       "      <td>0</td>\n",
       "    </tr>\n",
       "    <tr>\n",
       "      <th>3</th>\n",
       "      <td>Red</td>\n",
       "      <td>220</td>\n",
       "      <td>0.45</td>\n",
       "      <td>1</td>\n",
       "    </tr>\n",
       "    <tr>\n",
       "      <th>4</th>\n",
       "      <td>Red</td>\n",
       "      <td>230</td>\n",
       "      <td>0.50</td>\n",
       "      <td>1</td>\n",
       "    </tr>\n",
       "  </tbody>\n",
       "</table>\n",
       "</div>"
      ],
      "text/plain": [
       "    Color  Weight  Sphericity  labels\n",
       "0     Red     200        0.40       1\n",
       "1  Orange     320        1.00       0\n",
       "2  Orange     310        0.95       0\n",
       "3     Red     220        0.45       1\n",
       "4     Red     230        0.50       1"
      ]
     },
     "execution_count": 33,
     "metadata": {
      "tags": []
     },
     "output_type": "execute_result"
    }
   ],
   "source": [
    "data.head()"
   ]
  },
  {
   "cell_type": "code",
   "execution_count": 0,
   "metadata": {
    "colab": {},
    "colab_type": "code",
    "id": "1Z-DQzldMkAF"
   },
   "outputs": [],
   "source": [
    "data[['Sphericity', 'Weight']] = scaler.fit_transform(data[['Sphericity', 'Weight']])"
   ]
  },
  {
   "cell_type": "code",
   "execution_count": 0,
   "metadata": {
    "colab": {
     "base_uri": "https://localhost:8080/",
     "height": 204
    },
    "colab_type": "code",
    "id": "PrF6-wc1MkEx",
    "outputId": "75c0c14e-9449-4c1d-fd48-e14d346e0a4e"
   },
   "outputs": [
    {
     "data": {
      "text/html": [
       "<div>\n",
       "<style scoped>\n",
       "    .dataframe tbody tr th:only-of-type {\n",
       "        vertical-align: middle;\n",
       "    }\n",
       "\n",
       "    .dataframe tbody tr th {\n",
       "        vertical-align: top;\n",
       "    }\n",
       "\n",
       "    .dataframe thead th {\n",
       "        text-align: right;\n",
       "    }\n",
       "</style>\n",
       "<table border=\"1\" class=\"dataframe\">\n",
       "  <thead>\n",
       "    <tr style=\"text-align: right;\">\n",
       "      <th></th>\n",
       "      <th>Color</th>\n",
       "      <th>Weight</th>\n",
       "      <th>Sphericity</th>\n",
       "      <th>labels</th>\n",
       "    </tr>\n",
       "  </thead>\n",
       "  <tbody>\n",
       "    <tr>\n",
       "      <th>0</th>\n",
       "      <td>Red</td>\n",
       "      <td>0.000000</td>\n",
       "      <td>0.333333</td>\n",
       "      <td>1</td>\n",
       "    </tr>\n",
       "    <tr>\n",
       "      <th>1</th>\n",
       "      <td>Orange</td>\n",
       "      <td>0.774194</td>\n",
       "      <td>1.000000</td>\n",
       "      <td>0</td>\n",
       "    </tr>\n",
       "    <tr>\n",
       "      <th>2</th>\n",
       "      <td>Orange</td>\n",
       "      <td>0.709677</td>\n",
       "      <td>0.944444</td>\n",
       "      <td>0</td>\n",
       "    </tr>\n",
       "    <tr>\n",
       "      <th>3</th>\n",
       "      <td>Red</td>\n",
       "      <td>0.129032</td>\n",
       "      <td>0.388889</td>\n",
       "      <td>1</td>\n",
       "    </tr>\n",
       "    <tr>\n",
       "      <th>4</th>\n",
       "      <td>Red</td>\n",
       "      <td>0.193548</td>\n",
       "      <td>0.444444</td>\n",
       "      <td>1</td>\n",
       "    </tr>\n",
       "  </tbody>\n",
       "</table>\n",
       "</div>"
      ],
      "text/plain": [
       "    Color    Weight  Sphericity  labels\n",
       "0     Red  0.000000    0.333333       1\n",
       "1  Orange  0.774194    1.000000       0\n",
       "2  Orange  0.709677    0.944444       0\n",
       "3     Red  0.129032    0.388889       1\n",
       "4     Red  0.193548    0.444444       1"
      ]
     },
     "execution_count": 35,
     "metadata": {
      "tags": []
     },
     "output_type": "execute_result"
    }
   ],
   "source": [
    "data.head()"
   ]
  },
  {
   "cell_type": "markdown",
   "metadata": {
    "colab_type": "text",
    "id": "5_9PtiXGjxaJ"
   },
   "source": [
    "### Taking the data samples for training after the interval of  3"
   ]
  },
  {
   "cell_type": "code",
   "execution_count": 0,
   "metadata": {
    "colab": {
     "base_uri": "https://localhost:8080/",
     "height": 374
    },
    "colab_type": "code",
    "id": "io_zmoo0NKja",
    "outputId": "93a7f3c6-5045-4724-a9de-f8469e6f79c4"
   },
   "outputs": [
    {
     "name": "stdout",
     "output_type": "stream",
     "text": [
      "              Color    Weight  Sphericity  labels\n",
      "0               Red  0.000000    0.333333       1\n",
      "3               Red  0.129032    0.388889       1\n",
      "6               Red  0.258065    0.277778       1\n",
      "9               Red  0.277419    0.477778       1\n",
      "12            Green  0.380645    0.355556       1\n",
      "15  Greenish yellow  0.387097    0.722222       0\n",
      "18            Green  0.425806    0.644444       0\n",
      "21            Green  0.129032    0.255556       1\n",
      "24              Red  0.064516    0.322222       1\n",
      "27   Reddish yellow  0.451613    0.258889       1\n",
      "30            Green  0.445161    0.633333       0\n",
      "33            Green  0.458065    0.500000       1\n",
      "36            Green  0.451613    0.300000       1\n",
      "39              Red  0.000000    0.411111       1\n",
      "42              Red  0.064516    0.355556       1\n",
      "45           Orange  0.954839    0.944444       0\n",
      "48              Red  0.258065    0.444444       1\n",
      "51              Red  0.387097    0.444444       1\n",
      "54              Red  0.774194    0.777778       0\n",
      "57   Reddish yellow  0.006452    0.666667       1\n"
     ]
    }
   ],
   "source": [
    "train = data[0:60:3]\n",
    "print(train)"
   ]
  },
  {
   "cell_type": "code",
   "execution_count": 0,
   "metadata": {
    "colab": {
     "base_uri": "https://localhost:8080/",
     "height": 136
    },
    "colab_type": "code",
    "id": "yrpDVtTPNKoV",
    "outputId": "962e83a7-65c5-4a52-dc0e-c4d4f285fbdb"
   },
   "outputs": [
    {
     "name": "stdout",
     "output_type": "stream",
     "text": [
      "     Color    Weight  Sphericity  labels\n",
      "1   Orange  0.774194    1.000000       0\n",
      "11   Green  0.354839    0.555556       1\n",
      "21   Green  0.129032    0.255556       1\n",
      "31   Green  0.354839    0.655556       0\n",
      "41     Red  0.000000    0.422222       1\n",
      "5\n"
     ]
    }
   ],
   "source": [
    "#test = data.iloc[[5,15,31,49,57]]\n",
    "test = data[1:50:10]\n",
    "print(test)\n",
    "#print(train)\n",
    "print(len(test))"
   ]
  },
  {
   "cell_type": "markdown",
   "metadata": {
    "colab_type": "text",
    "id": "Pf3dyoEpcodM"
   },
   "source": [
    "#### Apply KNN Classifier on the data"
   ]
  },
  {
   "cell_type": "code",
   "execution_count": 0,
   "metadata": {
    "colab": {},
    "colab_type": "code",
    "id": "yW-rVBrcNKtg"
   },
   "outputs": [],
   "source": [
    "from sklearn.neighbors import KNeighborsClassifier\n",
    "k = 3\n",
    "neigh = KNeighborsClassifier(n_neighbors=k,metric=\"euclidean\", algorithm=\"brute\")"
   ]
  },
  {
   "cell_type": "code",
   "execution_count": 0,
   "metadata": {
    "colab": {},
    "colab_type": "code",
    "id": "o-RgMjIrNKx5"
   },
   "outputs": [],
   "source": [
    "neigh.predict(test1) = train.values[:,1:3]# Converting dataframe into array"
   ]
  },
  {
   "cell_type": "code",
   "execution_count": 0,
   "metadata": {
    "colab": {
     "base_uri": "https://localhost:8080/",
     "height": 68
    },
    "colab_type": "code",
    "id": "0YIr3MfkNK3H",
    "outputId": "b530a8f1-07bb-4084-c170-324c7dc9e1c7"
   },
   "outputs": [
    {
     "data": {
      "text/plain": [
       "KNeighborsClassifier(algorithm='brute', leaf_size=30, metric='euclidean',\n",
       "                     metric_params=None, n_jobs=None, n_neighbors=3, p=2,\n",
       "                     weights='uniform')"
      ]
     },
     "execution_count": 40,
     "metadata": {
      "tags": []
     },
     "output_type": "execute_result"
    }
   ],
   "source": [
    "# Training or fitting the model with the train data\n",
    "neigh.fit(traindata,train.labels)"
   ]
  },
  {
   "cell_type": "code",
   "execution_count": 0,
   "metadata": {
    "colab": {},
    "colab_type": "code",
    "id": "HgrtX3Zutlf8"
   },
   "outputs": [],
   "source": [
    "pred_train = neigh.predict(traindata)"
   ]
  },
  {
   "cell_type": "code",
   "execution_count": 0,
   "metadata": {
    "colab": {
     "base_uri": "https://localhost:8080/",
     "height": 34
    },
    "colab_type": "code",
    "id": "klgmUxJftlPy",
    "outputId": "b6bb8c67-32d8-4939-91ad-345c4d81e75d"
   },
   "outputs": [
    {
     "data": {
      "text/plain": [
       "array([1, 1, 1, 1, 1, 0, 0, 1, 1, 1, 0, 1, 1, 1, 1, 0, 1, 1, 0, 1])"
      ]
     },
     "execution_count": 60,
     "metadata": {
      "tags": []
     },
     "output_type": "execute_result"
    }
   ],
   "source": [
    "pred_train"
   ]
  },
  {
   "cell_type": "code",
   "execution_count": 0,
   "metadata": {
    "colab": {
     "base_uri": "https://localhost:8080/",
     "height": 51
    },
    "colab_type": "code",
    "id": "AF1IQ5D2t170",
    "outputId": "51598f16-d3d3-42d2-87cd-ff34d5d215ad"
   },
   "outputs": [
    {
     "data": {
      "text/plain": [
       "array([1, 1, 1, 1, 1, 0, 0, 1, 1, 1, 0, 1, 1, 1, 1, 0, 1, 1, 0, 1],\n",
       "      dtype=object)"
      ]
     },
     "execution_count": 63,
     "metadata": {
      "tags": []
     },
     "output_type": "execute_result"
    }
   ],
   "source": [
    "train.values[:,3]"
   ]
  },
  {
   "cell_type": "code",
   "execution_count": 0,
   "metadata": {
    "colab": {},
    "colab_type": "code",
    "id": "o-ziCHO2OEiM"
   },
   "outputs": [],
   "source": [
    "test1 = test.values[:,1:3] # Converting dataframe into array"
   ]
  },
  {
   "cell_type": "code",
   "execution_count": 0,
   "metadata": {
    "colab": {
     "base_uri": "https://localhost:8080/",
     "height": 102
    },
    "colab_type": "code",
    "id": "DSWsvmoquDRM",
    "outputId": "77a438db-04ab-4d31-cf16-15b0e0b83af6"
   },
   "outputs": [
    {
     "data": {
      "text/plain": [
       "array([[0.7741935483870968, 1.0],\n",
       "       [0.3548387096774195, 0.5555555555555555],\n",
       "       [0.12903225806451624, 0.2555555555555556],\n",
       "       [0.3548387096774195, 0.6555555555555554],\n",
       "       [0.0, 0.4222222222222222]], dtype=object)"
      ]
     },
     "execution_count": 61,
     "metadata": {
      "tags": []
     },
     "output_type": "execute_result"
    }
   ],
   "source": [
    "test1"
   ]
  },
  {
   "cell_type": "code",
   "execution_count": 0,
   "metadata": {
    "colab": {},
    "colab_type": "code",
    "id": "OwLqbHY3OEmM"
   },
   "outputs": [],
   "source": [
    "# Testing the trained model\n",
    "pred1 = neigh.predict(test1)"
   ]
  },
  {
   "cell_type": "code",
   "execution_count": 0,
   "metadata": {
    "colab": {
     "base_uri": "https://localhost:8080/",
     "height": 51
    },
    "colab_type": "code",
    "id": "bUgvF3lGOEqj",
    "outputId": "2fe1999a-b9ae-43f5-8278-8ce758f3a5aa"
   },
   "outputs": [
    {
     "name": "stdout",
     "output_type": "stream",
     "text": [
      "[0 1 1 0 1] predictions\n",
      "[0 1 1 0 1] labels\n"
     ]
    }
   ],
   "source": [
    "print(pred1,\"predictions\") #Predictions\n",
    "print(test.values[:,3],\"labels\") #labels"
   ]
  },
  {
   "cell_type": "code",
   "execution_count": 0,
   "metadata": {
    "colab": {
     "base_uri": "https://localhost:8080/",
     "height": 472
    },
    "colab_type": "code",
    "id": "dRYB9_WTNK8Z",
    "outputId": "ac279ebe-fc84-4c66-dec3-bf841bcb74ee"
   },
   "outputs": [
    {
     "data": {
      "image/png": "[encoded data removed]",
      "text/plain": [
       "<Figure size 640x480 with 1 Axes>"
      ]
     },
     "metadata": {
      "tags": []
     },
     "output_type": "display_data"
    }
   ],
   "source": [
    "plt.style.use('default')\n",
    "oranges = train[train.labels == 0]\n",
    "apples = train[train.labels == 1]\n",
    "# Plotting Training data\n",
    "plt.scatter(oranges.Sphericity, oranges.Weight,color=\"green\",marker=\"o\") \n",
    "plt.scatter(apples.Sphericity, apples.Weight,color=\"red\",marker=\"o\")\n",
    "oranges = test[test.labels == 0]\n",
    "apples = test[test.labels == 1]\n",
    "\n",
    "# Plotting Testing data\n",
    "plt.scatter(oranges.Sphericity, oranges.Weight,color=\"green\",marker=\"*\",s=200)\n",
    "plt.scatter(apples.Sphericity, apples.Weight,color=\"red\",marker=\"*\",s=200)\n",
    "plt.xlabel(\"Sperificity\")\n",
    "plt.ylabel(\"Weight\")\n",
    "plt.legend([\"Oranges\", \"Apples\"])\n",
    "plt.title(\"The train and test points after scaling\")\n",
    "plt.show()"
   ]
  },
  {
   "cell_type": "code",
   "execution_count": 0,
   "metadata": {
    "colab": {
     "base_uri": "https://localhost:8080/",
     "height": 102
    },
    "colab_type": "code",
    "id": "2QAGcnQCOi55",
    "outputId": "2796d783-2ee2-41b9-ce41-ca62a541a82c"
   },
   "outputs": [
    {
     "name": "stdout",
     "output_type": "stream",
     "text": [
      "[[0.7741935483870968 1.0 0]\n",
      " [0.3548387096774195 0.5555555555555555 1]\n",
      " [0.12903225806451624 0.2555555555555556 1]\n",
      " [0.3548387096774195 0.6555555555555554 0]\n",
      " [0.0 0.4222222222222222 1]]\n"
     ]
    }
   ],
   "source": [
    "pred2 = np.column_stack((test1,pred1.T))\n",
    "print(pred2)"
   ]
  },
  {
   "cell_type": "code",
   "execution_count": 0,
   "metadata": {
    "colab": {
     "base_uri": "https://localhost:8080/",
     "height": 34
    },
    "colab_type": "code",
    "id": "BBBTYKAQwC7n",
    "outputId": "24a75f81-4db2-4fff-aa73-16eae48996c6"
   },
   "outputs": [
    {
     "data": {
      "text/plain": [
       "array([0.7741935483870968, 0.3548387096774195], dtype=object)"
      ]
     },
     "execution_count": 66,
     "metadata": {
      "tags": []
     },
     "output_type": "execute_result"
    }
   ],
   "source": [
    "oranges1[:,0]"
   ]
  },
  {
   "cell_type": "code",
   "execution_count": 0,
   "metadata": {
    "colab": {
     "base_uri": "https://localhost:8080/",
     "height": 34
    },
    "colab_type": "code",
    "id": "uQoSnCEyxB39",
    "outputId": "8e46eb44-d07c-4ad0-da53-8f990dccbb8e"
   },
   "outputs": [
    {
     "data": {
      "text/plain": [
       "array([1.0, 0.6555555555555554], dtype=object)"
      ]
     },
     "execution_count": 70,
     "metadata": {
      "tags": []
     },
     "output_type": "execute_result"
    }
   ],
   "source": [
    "oranges1[:,1]"
   ]
  },
  {
   "cell_type": "code",
   "execution_count": 0,
   "metadata": {
    "colab": {
     "base_uri": "https://localhost:8080/",
     "height": 472
    },
    "colab_type": "code",
    "id": "DiXU0fD6Oi2T",
    "outputId": "89f30ab2-69e6-4476-fa59-3903adf02b1a"
   },
   "outputs": [
    {
     "data": {
      "image/png": "[encoded data removed]",
      "text/plain": [
       "<Figure size 640x480 with 1 Axes>"
      ]
     },
     "metadata": {
      "tags": []
     },
     "output_type": "display_data"
    }
   ],
   "source": [
    "plt.style.use('default')\n",
    "oranges = train[train.labels == 0]\n",
    "apples = train[train.labels == 1]\n",
    "\n",
    "oranges1 = pred2[pred2[:,2]==0]\n",
    "apples1 = pred2[pred2[:,2]==1]\n",
    "\n",
    "plt.scatter(oranges.Sphericity, oranges.Weight,color=\"green\",marker=\"o\")\n",
    "plt.scatter(apples.Sphericity, apples.Weight,color=\"red\",marker=\"o\")\n",
    "\n",
    "plt.scatter(oranges1[:,1], oranges1[:,0], color=\"green\",marker=\"*\",s=200)\n",
    "plt.scatter(apples1[:,1], apples1[:,0], color=\"red\",marker=\"*\",s=200)\n",
    "\n",
    "plt.xlabel(\"Sperificity\")\n",
    "plt.ylabel(\"Weight\")\n",
    "plt.legend([\"Oranges\",\"Apples\"])\n",
    "plt.title(\"Predictions after scaling\")\n",
    "plt.show()"
   ]
  }
 ],
 "metadata": {
  "colab": {
   "collapsed_sections": [],
   "name": "03_KNN_Scaling.ipynb",
   "provenance": []
  },
  "kernelspec": {
   "display_name": "Python 3",
   "language": "python",
   "name": "python3"
  },
  "language_info": {
   "codemirror_mode": {
    "name": "ipython",
    "version": 3
   },
   "file_extension": ".py",
   "mimetype": "text/x-python",
   "name": "python",
   "nbconvert_exporter": "python",
   "pygments_lexer": "ipython3",
   "version": "3.6.5"
  }
 },
 "nbformat": 4,
 "nbformat_minor": 1
}
