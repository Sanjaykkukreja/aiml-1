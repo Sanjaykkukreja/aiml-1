{
 "cells": [
  {
   "cell_type": "markdown",
   "metadata": {
    "colab_type": "text",
    "id": "8WHMLNMNe6pw"
   },
   "source": [
    "# Advanced Certification in AIML\n",
    "## A Program by IIIT-H and TalentSprint"
   ]
  },
  {
   "cell_type": "markdown",
   "metadata": {
    "colab_type": "text",
    "id": "nZr4x8IBgUDQ"
   },
   "source": [
    "## Learning Objectives"
   ]
  },
  {
   "cell_type": "markdown",
   "metadata": {
    "colab_type": "text",
    "id": "LBCh8QQPe6py"
   },
   "source": [
    "\n",
    "At the end of the experiment, you will be able to:\n",
    "- Understand CIFAR-10 dataset\n",
    "- Experiment using the MLP algorithm\n",
    "\n"
   ]
  },
  {
   "cell_type": "markdown",
   "metadata": {
    "colab_type": "text",
    "id": "2NiLPMhPgYFa"
   },
   "source": [
    "## Dataset"
   ]
  },
  {
   "cell_type": "markdown",
   "metadata": {
    "colab_type": "text",
    "id": "e9CxCComgihL"
   },
   "source": [
    "#### Description"
   ]
  },
  {
   "cell_type": "markdown",
   "metadata": {
    "colab_type": "text",
    "id": "S0k4a9Qbe6p1"
   },
   "source": [
    "In this experiment, we will use the CIFAR-10 dataset. It consists of 60,000 32x32 colour images in 10 classes, with 6000 images per class. There are 50,000 training images and 10,000 test images.\n",
    "\n",
    "\n",
    "The dataset is divided into five training batches and one test batch, each with 10000 images. The test batch contains exactly 1000 randomly-selected images from each class. The training batches contain the remaining images in random order, but some training batches may contain more images from one class than another. Between them, the training batches contain exactly 5000 images from each class. \n",
    "\n",
    "**The code returns the contents of each data file as a dictionary**."
   ]
  },
  {
   "cell_type": "markdown",
   "metadata": {
    "colab_type": "text",
    "id": "DL8erXHHe6p2"
   },
   "source": [
    "There are 8 pickled (To know more about pickle refer **Python_Pickle_Introduction** notebook )files in the CIFAR-10 directory.\n",
    "\n",
    "    1. batches.meta\n",
    "\n",
    "    2. data_batch_1\n",
    "\n",
    "    3. data_batch_2\t\n",
    "\n",
    "    4. data_batch_3\n",
    "\n",
    "    5. data_batch_4\t\n",
    "\n",
    "    6. data_batch_5\n",
    "\n",
    "    7. readme.html\n",
    "\n",
    "    8. test_batch\n",
    "\n",
    "Getting into details of this dataset:\n",
    "\n",
    "\n",
    "**data** : A 50,000x3072 numpy array of unsigned integers. Each row of the array stores a 32x32 colour image. The first 1024 entries contain the red channel values, the next 1024 the green, and the final 1024 the blue. The image is stored in row-major order, so that the first 32 entries of the array are the red channel values of the first row of the image.\n",
    "\n",
    "**labels** : A list of 50,000 numbers in the range 0-9. The number at index i indicates the label of the ith image in the array data.\n",
    "\n"
   ]
  },
  {
   "cell_type": "markdown",
   "metadata": {
    "colab_type": "text",
    "id": "ecPwLon_e6p4"
   },
   "source": [
    "### DataSource\n",
    "\n",
    "https://www.cs.toronto.edu/~kriz/cifar.html"
   ]
  },
  {
   "cell_type": "markdown",
   "metadata": {
    "colab_type": "text",
    "id": "P2TBUL_gg4dC"
   },
   "source": [
    "## Keywords\n",
    "\n"
   ]
  },
  {
   "cell_type": "markdown",
   "metadata": {
    "colab_type": "text",
    "id": "nzykwcRXg6L-"
   },
   "source": [
    "*   Perceptron\n",
    "*   Linear Classifier\n",
    "*   CIFAR-10\n",
    "*   Multi-class Classification"
   ]
  },
  {
   "cell_type": "markdown",
   "metadata": {
    "colab_type": "text",
    "id": "jYSSCRSwfOBb"
   },
   "source": [
    "### Setup Steps"
   ]
  },
  {
   "cell_type": "markdown",
   "metadata": {
    "colab_type": "text",
    "id": "-60ux8L8gPYb"
   },
   "source": [
    "### Expected time to complete experiment is 60 min"
   ]
  },
  {
   "cell_type": "code",
   "execution_count": 0,
   "metadata": {
    "colab": {},
    "colab_type": "code",
    "id": "9cmlHxf-e6p7"
   },
   "outputs": [],
   "source": [
    "# Importing required packages\n",
    "import numpy as np\n",
    "import matplotlib.pyplot as plt\n",
    "import os\n",
    "import scipy.io as sio\n",
    "from sklearn.decomposition import PCA\n",
    "import itertools\n",
    "import operator\n",
    "import random\n",
    "import collections\n",
    "from scipy import stats\n",
    "from sklearn.metrics import accuracy_score"
   ]
  },
  {
   "cell_type": "markdown",
   "metadata": {
    "colab_type": "text",
    "id": "w_RfJjpFG0kp"
   },
   "source": [
    "#### Function to unpickle the data"
   ]
  },
  {
   "cell_type": "code",
   "execution_count": 0,
   "metadata": {
    "colab": {},
    "colab_type": "code",
    "id": "Q4qKDf-ee6qA"
   },
   "outputs": [],
   "source": [
    "import pickle\n",
    "def unpickle(file):\n",
    "    with open(file, 'rb') as fo:\n",
    "        dict_1 = pickle.load(fo, encoding='Latin1')\n",
    "    return dict_1"
   ]
  },
  {
   "cell_type": "markdown",
   "metadata": {
    "colab_type": "text",
    "id": "706Q4tnBe6qE"
   },
   "source": [
    "### Visualizing the images in CIFAR-10 Dataset\n"
   ]
  },
  {
   "cell_type": "markdown",
   "metadata": {
    "colab_type": "text",
    "id": "-6119xCxOAbF"
   },
   "source": [
    "When you pass a pickled file to the get_data function it returns features, labels, file names, list of classes of the corresponding file."
   ]
  },
  {
   "cell_type": "code",
   "execution_count": 0,
   "metadata": {
    "colab": {},
    "colab_type": "code",
    "id": "h1_yJnrxJEcr"
   },
   "outputs": [],
   "source": [
    "def get_data(file):\n",
    "  dict_1 = unpickle(file)\n",
    "  X = np.asarray(dict_1['data']).astype(\"uint8\")\n",
    "  Y = np.asarray(dict_1['labels'])\n",
    "  names = np.asarray(dict_1['filenames'])\n",
    "  list_class=(unpickle(\"AIML_DS_CIFAR-10_STD/batches.meta\")['label_names'])\n",
    "  return X,Y,names,list_class"
   ]
  },
  {
   "cell_type": "code",
   "execution_count": 0,
   "metadata": {
    "colab": {},
    "colab_type": "code",
    "id": "ONBuR6rLe6qG"
   },
   "outputs": [],
   "source": [
    "# Function to visualize the data\n",
    "def visualize_image(X, Y, names, image_id,size=(5,5)):\n",
    "    rgb = X[image_id,:]\n",
    "    plt.figure(figsize = size)\n",
    "    img = rgb.reshape(3, 32, 32).transpose([1, 2, 0])\n",
    "    print(img.shape)\n",
    "    plt.grid(False)\n",
    "    plt.imshow(img)\n",
    "    plt.title(names[image_id])\n",
    "    plt.show()"
   ]
  },
  {
   "cell_type": "code",
   "execution_count": 0,
   "metadata": {
    "colab": {
     "base_uri": "https://localhost:8080/",
     "height": 341
    },
    "colab_type": "code",
    "id": "omWvcXvae6qL",
    "outputId": "34ab883a-e646-4cf3-cb16-81ad34e72c89"
   },
   "outputs": [
    {
     "name": "stdout",
     "output_type": "stream",
     "text": [
      "Class = horse\n",
      "(32, 32, 3)\n"
     ]
    },
    {
     "data": {
      "image/png": "[encoded data removed]",
      "text/plain": [
       "<Figure size 21.6x21.6 with 1 Axes>"
      ]
     },
     "metadata": {
      "tags": []
     },
     "output_type": "display_data"
    },
    {
     "name": "stdout",
     "output_type": "stream",
     "text": [
      "(32, 32, 3)\n"
     ]
    },
    {
     "data": {
      "image/png": "[encoded data removed]",
      "text/plain": [
       "<Figure size 216x216 with 1 Axes>"
      ]
     },
     "metadata": {
      "tags": []
     },
     "output_type": "display_data"
    }
   ],
   "source": [
    "# Read 10000 images -- from batch 3\n",
    "X, Y, names, classes = get_data(\"AIML_DS_CIFAR-10_STD/data_batch_3\")\n",
    "# Display the 10th image\n",
    "pick = 10\n",
    "print(\"Class =\",classes[Y[pick]])\n",
    "visualize_image(X, Y, names, pick,size=(0.3,0.3)) # output image would be a blured image\n",
    "visualize_image(X, Y, names, pick,size=(3,3)) "
   ]
  },
  {
   "cell_type": "markdown",
   "metadata": {
    "colab_type": "text",
    "id": "WCjvhMpyIgyf"
   },
   "source": [
    "**NOTE: **\n",
    "\n",
    "**The images you see above are pixelated and hence they are  blur.** (Pixelation happens when you display a low resolution of an image on a larger canvas (such a large screen), where each pixel ends up being displayed as an image. You could read more about it on https://whatis.techtarget.com/definition/pixelation ).  This however does not affect the prediction of your machine learning algorithm, for the same reason."
   ]
  },
  {
   "cell_type": "markdown",
   "metadata": {
    "colab_type": "text",
    "id": "MFpkHmA76z46"
   },
   "source": [
    "**Now let us unpickle the data and labels from CIFAR-10 dataset and divide them into training and testing sets..**"
   ]
  },
  {
   "cell_type": "code",
   "execution_count": 0,
   "metadata": {
    "colab": {},
    "colab_type": "code",
    "id": "AsRkIdoCe6qq"
   },
   "outputs": [],
   "source": [
    "## Unpickling the data and labels from CIFAR-10 Dataset,\n",
    "## and Preparing the raw features for training and test data.\n",
    "\n",
    "X_train = []\n",
    "Y_train = []\n",
    "# Read all training features and labels\n",
    "for j in \"12345\": \n",
    "    batch_file = 'AIML_DS_CIFAR-10_STD/data_batch_'+ j\n",
    "    x_train, y_train, names_train, classes_train = get_data(batch_file)\n",
    "    X_train.extend(x_train)\n",
    "    Y_train.extend(y_train)\n",
    "\n",
    "X_train = np.asarray(X_train)\n",
    "Y_train = np.asarray(Y_train)\n",
    "\n",
    "# Read all test features and labels\n",
    "X_test, Y_test, names_test, classes_test = get_data(\"AIML_DS_CIFAR-10_STD/test_batch\")"
   ]
  },
  {
   "cell_type": "code",
   "execution_count": 0,
   "metadata": {
    "colab": {
     "base_uri": "https://localhost:8080/",
     "height": 34
    },
    "colab_type": "code",
    "id": "FTS853um7cOl",
    "outputId": "2a8deaca-704c-4143-b7c7-842b6b327d58"
   },
   "outputs": [
    {
     "data": {
      "text/plain": [
       "((10000,), (50000,), (10000, 3072), (50000, 3072))"
      ]
     },
     "execution_count": 14,
     "metadata": {
      "tags": []
     },
     "output_type": "execute_result"
    }
   ],
   "source": [
    "Y_test.shape, Y_train.shape, X_test.shape, X_train.shape"
   ]
  },
  {
   "cell_type": "markdown",
   "metadata": {
    "colab_type": "text",
    "id": "BpwS6wNv_mpB"
   },
   "source": [
    "Now, select only classes **5** , **7** and **9**, and make a linear classifier for these three classes. "
   ]
  },
  {
   "cell_type": "code",
   "execution_count": 0,
   "metadata": {
    "colab": {},
    "colab_type": "code",
    "id": "iqCzqziL_ZVu"
   },
   "outputs": [],
   "source": [
    "# Function to extract the classes\n",
    "def extract_3classes(class0, class1,class2, X, Y):\n",
    "    # Select class #0\n",
    "    X_0 = X[Y == class0]\n",
    "    Y_0 = Y[Y == class0]\n",
    "    # Select class #1\n",
    "    X_1 = X[Y == class1]\n",
    "    Y_1 = Y[Y == class1]\n",
    "    # Select class #2\n",
    "    X_2 = X[Y == class2]\n",
    "    Y_2 = Y[Y == class2]\n",
    "    # Join the two classes to make the set\n",
    "    X_3classes = np.vstack((X_0, X_1,X_2))\n",
    "    Y_3classes = np.concatenate((Y_0, Y_1,Y_2))\n",
    "    return X_3classes, Y_3classes"
   ]
  },
  {
   "cell_type": "code",
   "execution_count": 0,
   "metadata": {
    "colab": {},
    "colab_type": "code",
    "id": "lq05lCxD_aW9"
   },
   "outputs": [],
   "source": [
    "# Select classes #5 and #7\n",
    "X_train_3classes, Y_train_3classes = extract_3classes(5, 7,9, X_train, Y_train)\n",
    "X_test_3classes, Y_test_3classes = extract_3classes(5, 7,9, X_test, Y_test)"
   ]
  },
  {
   "cell_type": "code",
   "execution_count": 0,
   "metadata": {
    "colab": {
     "base_uri": "https://localhost:8080/",
     "height": 34
    },
    "colab_type": "code",
    "id": "GXG87bUFImR-",
    "outputId": "f67429a2-eb53-4437-a8e4-2e9c08605284"
   },
   "outputs": [
    {
     "data": {
      "text/plain": [
       "array([5, 5, 5, ..., 9, 9, 9])"
      ]
     },
     "execution_count": 18,
     "metadata": {
      "tags": []
     },
     "output_type": "execute_result"
    }
   ],
   "source": [
    "Y_train_3classes"
   ]
  },
  {
   "cell_type": "markdown",
   "metadata": {
    "colab_type": "text",
    "id": "8Fhim_70Jrbl"
   },
   "source": [
    "### Training the classifier on raw features above"
   ]
  },
  {
   "cell_type": "code",
   "execution_count": 0,
   "metadata": {
    "colab": {
     "base_uri": "https://localhost:8080/",
     "height": 153
    },
    "colab_type": "code",
    "id": "2JjSqB_AJnM5",
    "outputId": "64317ef6-a2f8-41f9-8738-6fea1ff1e646"
   },
   "outputs": [
    {
     "data": {
      "text/plain": [
       "MLPClassifier(activation='relu', alpha=0.0001, batch_size='auto', beta_1=0.9,\n",
       "              beta_2=0.999, early_stopping=False, epsilon=1e-08,\n",
       "              hidden_layer_sizes=(15, 10), learning_rate='constant',\n",
       "              learning_rate_init=0.01, max_fun=15000, max_iter=200,\n",
       "              momentum=0.9, n_iter_no_change=10, nesterovs_momentum=True,\n",
       "              power_t=0.5, random_state=None, shuffle=True, solver='lbfgs',\n",
       "              tol=0.0001, validation_fraction=0.1, verbose=False,\n",
       "              warm_start=False)"
      ]
     },
     "execution_count": 19,
     "metadata": {
      "tags": []
     },
     "output_type": "execute_result"
    }
   ],
   "source": [
    "from sklearn.neural_network import MLPClassifier\n",
    "\n",
    "clf = MLPClassifier(activation= \"relu\",solver= \"lbfgs\" ,hidden_layer_sizes = (15,10) ,learning_rate = 'constant',learning_rate_init=0.01)\n",
    "# Fitting the data into the model\n",
    "clf.fit(X_train_3classes, Y_train_3classes)"
   ]
  },
  {
   "cell_type": "markdown",
   "metadata": {
    "colab_type": "text",
    "id": "CdIJxAquKIEq"
   },
   "source": [
    "### Calculating the accuracy"
   ]
  },
  {
   "cell_type": "code",
   "execution_count": 0,
   "metadata": {
    "colab": {
     "base_uri": "https://localhost:8080/",
     "height": 34
    },
    "colab_type": "code",
    "id": "l2rbaIgmJ4Me",
    "outputId": "363fd552-bc7a-41fb-ad0d-a57d2cd5d6ec"
   },
   "outputs": [
    {
     "data": {
      "text/plain": [
       "0.314"
      ]
     },
     "execution_count": 20,
     "metadata": {
      "tags": []
     },
     "output_type": "execute_result"
    }
   ],
   "source": [
    "pred = clf.predict(X_test_3classes)\n",
    "accuracy_score(pred, Y_test_3classes)"
   ]
  },
  {
   "cell_type": "markdown",
   "metadata": {
    "colab_type": "text",
    "id": "_8-zr2Ei4Fsz"
   },
   "source": [
    "### It is expected for the accuracy above to be low, given that we are using the 'raw features of the image'"
   ]
  },
  {
   "cell_type": "markdown",
   "metadata": {
    "colab_type": "text",
    "id": "tZ2y6XI4ATa9"
   },
   "source": [
    "### Let us perform PCA on the data above to see if things get better"
   ]
  },
  {
   "cell_type": "code",
   "execution_count": 0,
   "metadata": {
    "colab": {},
    "colab_type": "code",
    "id": "KFM0KIJXhn35"
   },
   "outputs": [],
   "source": [
    "#You can try various values of principal components and arrive at the least number that doesn't change accuracy.\n",
    "#Note: the fit_transform below, projects your data onto the 800 components and gets the projected value in each of the...\n",
    "#...components. The projections are now considered as the feature representation of each image (as opposed to the image itself)\n",
    "pca = PCA(n_components=800) \n",
    "#Fit on the entire data first\n",
    "all_train_Features,_ = extract_3classes(5, 7,9, X_train, Y_train)\n",
    "pca.fit(all_train_Features)\n",
    "#Now transform the train and test\n",
    "pca_train_features = pca.fit_transform(X_train_3classes)\n",
    "pca_test_features = pca.fit_transform(X_test_3classes)"
   ]
  },
  {
   "cell_type": "markdown",
   "metadata": {
    "colab_type": "text",
    "id": "JbrgAylS-aWh"
   },
   "source": [
    "### Training the classifier with PCA features above"
   ]
  },
  {
   "cell_type": "code",
   "execution_count": 0,
   "metadata": {
    "colab": {
     "base_uri": "https://localhost:8080/",
     "height": 153
    },
    "colab_type": "code",
    "id": "YBCYhhfP-LGW",
    "outputId": "5ceba66e-ba66-441f-c62b-bbd42204ea0f"
   },
   "outputs": [
    {
     "data": {
      "text/plain": [
       "MLPClassifier(activation='relu', alpha=0.0001, batch_size='auto', beta_1=0.9,\n",
       "              beta_2=0.999, early_stopping=False, epsilon=1e-08,\n",
       "              hidden_layer_sizes=(15, 10), learning_rate='constant',\n",
       "              learning_rate_init=0.01, max_fun=15000, max_iter=200,\n",
       "              momentum=0.9, n_iter_no_change=10, nesterovs_momentum=True,\n",
       "              power_t=0.5, random_state=None, shuffle=True, solver='lbfgs',\n",
       "              tol=0.0001, validation_fraction=0.1, verbose=False,\n",
       "              warm_start=False)"
      ]
     },
     "execution_count": 22,
     "metadata": {
      "tags": []
     },
     "output_type": "execute_result"
    }
   ],
   "source": [
    "clf.fit(pca_train_features, Y_train_3classes)\n"
   ]
  },
  {
   "cell_type": "markdown",
   "metadata": {
    "colab_type": "text",
    "id": "PGUjugup-dSG"
   },
   "source": [
    "### Calculating the accuracy with the PCA Features above"
   ]
  },
  {
   "cell_type": "code",
   "execution_count": 0,
   "metadata": {
    "colab": {
     "base_uri": "https://localhost:8080/",
     "height": 34
    },
    "colab_type": "code",
    "id": "DPhcxq8D-p26",
    "outputId": "57f9cfcc-7659-4c85-fa2e-99af668cf640"
   },
   "outputs": [
    {
     "data": {
      "text/plain": [
       "0.36433333333333334"
      ]
     },
     "execution_count": 23,
     "metadata": {
      "tags": []
     },
     "output_type": "execute_result"
    }
   ],
   "source": [
    "pred = clf.predict(pca_test_features)\n",
    "\n",
    "accuracy_score(pred, Y_test_3classes)\n",
    "\n"
   ]
  },
  {
   "cell_type": "markdown",
   "metadata": {
    "colab_type": "text",
    "id": "8Hmr8HgUe6rn"
   },
   "source": [
    "### Feature type-3: Deep Features"
   ]
  },
  {
   "cell_type": "code",
   "execution_count": 0,
   "metadata": {
    "colab": {},
    "colab_type": "code",
    "id": "nNWLqM_De6ro"
   },
   "outputs": [],
   "source": [
    "### Loading the features\n",
    "features = sio.loadmat('AIML_DS_CIFAR-10_STD/cifar10_deep_features.mat')"
   ]
  },
  {
   "cell_type": "code",
   "execution_count": 0,
   "metadata": {
    "colab": {
     "base_uri": "https://localhost:8080/",
     "height": 34
    },
    "colab_type": "code",
    "id": "hQBph-N--PvM",
    "outputId": "a04d401d-55c9-4a62-de43-e9aff54e11ee"
   },
   "outputs": [
    {
     "data": {
      "text/plain": [
       "dict_keys(['__header__', '__version__', '__globals__', 'x_test', 'x_train', 'y_train', 'y_test'])"
      ]
     },
     "execution_count": 31,
     "metadata": {
      "tags": []
     },
     "output_type": "execute_result"
    }
   ],
   "source": [
    "features.keys()"
   ]
  },
  {
   "cell_type": "code",
   "execution_count": 0,
   "metadata": {
    "colab": {
     "base_uri": "https://localhost:8080/",
     "height": 34
    },
    "colab_type": "code",
    "id": "AQo_2EdWe6rt",
    "outputId": "dd2625d0-2353-4ba4-e05d-aa7a5a53aef2"
   },
   "outputs": [
    {
     "name": "stdout",
     "output_type": "stream",
     "text": [
      "(50000, 512) (50000,) (10000, 512) (10000,)\n"
     ]
    }
   ],
   "source": [
    "# Extracting the deep features into training and testing\n",
    "deep_features_train = features['x_train']\n",
    "deep_labels_train = np.squeeze(np.transpose(features['y_train']))\n",
    "deep_features_test = features['x_test']\n",
    "deep_labels_test = np.squeeze(np.transpose(features['y_test']))\n",
    "print(deep_features_train.shape, deep_labels_train.shape, deep_features_test.shape, deep_labels_test.shape)"
   ]
  },
  {
   "cell_type": "code",
   "execution_count": 0,
   "metadata": {
    "colab": {
     "base_uri": "https://localhost:8080/",
     "height": 34
    },
    "colab_type": "code",
    "id": "6iQS1mJD-e_S",
    "outputId": "8cd3b7c4-ad62-419c-83c9-0a48003f4636"
   },
   "outputs": [
    {
     "data": {
      "text/plain": [
       "array([6, 9, 9, ..., 9, 1, 1])"
      ]
     },
     "execution_count": 32,
     "metadata": {
      "tags": []
     },
     "output_type": "execute_result"
    }
   ],
   "source": [
    "np.squeeze(deep_labels_train)"
   ]
  },
  {
   "cell_type": "code",
   "execution_count": 0,
   "metadata": {
    "colab": {},
    "colab_type": "code",
    "id": "keqjhNvze6ry"
   },
   "outputs": [],
   "source": [
    "# Extract features of class0 and class1\n",
    "deep_features_train_3classes, deep_labels_train_3classes = extract_3classes(5, 7,9, deep_features_train, np.squeeze(deep_labels_train))\n",
    "deep_features_test_3classes, deep_labels_test_3classes = extract_3classes(5, 7,9, deep_features_test, np.squeeze(deep_labels_test))"
   ]
  },
  {
   "cell_type": "markdown",
   "metadata": {
    "colab_type": "text",
    "id": "IuZypRxfOGBx"
   },
   "source": [
    "### Training the classifier with Deep Features above"
   ]
  },
  {
   "cell_type": "code",
   "execution_count": 0,
   "metadata": {
    "colab": {
     "base_uri": "https://localhost:8080/",
     "height": 153
    },
    "colab_type": "code",
    "id": "vcmnElm4OKlL",
    "outputId": "80fd98d8-94c7-4e9c-940e-b0cc574ba8b3"
   },
   "outputs": [
    {
     "data": {
      "text/plain": [
       "MLPClassifier(activation='relu', alpha=0.0001, batch_size='auto', beta_1=0.9,\n",
       "              beta_2=0.999, early_stopping=False, epsilon=1e-08,\n",
       "              hidden_layer_sizes=(15, 10), learning_rate='constant',\n",
       "              learning_rate_init=0.01, max_fun=15000, max_iter=200,\n",
       "              momentum=0.9, n_iter_no_change=10, nesterovs_momentum=True,\n",
       "              power_t=0.5, random_state=None, shuffle=True, solver='lbfgs',\n",
       "              tol=0.0001, validation_fraction=0.1, verbose=False,\n",
       "              warm_start=False)"
      ]
     },
     "execution_count": 27,
     "metadata": {
      "tags": []
     },
     "output_type": "execute_result"
    }
   ],
   "source": [
    "clf.fit(deep_features_train_3classes, deep_labels_train_3classes)"
   ]
  },
  {
   "cell_type": "markdown",
   "metadata": {
    "colab_type": "text",
    "id": "_xL-CjTTOZsr"
   },
   "source": [
    "### Calculating the accuracy with the Deep Features above"
   ]
  },
  {
   "cell_type": "code",
   "execution_count": 0,
   "metadata": {
    "colab": {
     "base_uri": "https://localhost:8080/",
     "height": 34
    },
    "colab_type": "code",
    "id": "OlrvPpK9OVtj",
    "outputId": "64e9dbd3-322e-4567-e9e2-a9c3c410a4f0"
   },
   "outputs": [
    {
     "data": {
      "text/plain": [
       "0.976"
      ]
     },
     "execution_count": 28,
     "metadata": {
      "tags": []
     },
     "output_type": "execute_result"
    }
   ],
   "source": [
    "pred = clf.predict(deep_features_test_3classes)\n",
    "\n",
    "accuracy_score(pred, deep_labels_test_3classes)"
   ]
  }
 ],
 "metadata": {
  "colab": {
   "collapsed_sections": [],
   "name": "015_MLP_CIFAR10_C.ipynb",
   "provenance": []
  },
  "kernelspec": {
   "display_name": "Python 3",
   "language": "python",
   "name": "python3"
  },
  "language_info": {
   "codemirror_mode": {
    "name": "ipython",
    "version": 3
   },
   "file_extension": ".py",
   "mimetype": "text/x-python",
   "name": "python",
   "nbconvert_exporter": "python",
   "pygments_lexer": "ipython3",
   "version": "3.6.5"
  }
 },
 "nbformat": 4,
 "nbformat_minor": 1
}
