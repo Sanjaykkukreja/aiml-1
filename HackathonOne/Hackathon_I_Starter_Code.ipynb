{
 "cells": [
  {
   "cell_type": "markdown",
   "metadata": {
    "colab_type": "text",
    "id": "SZIubkln0AI2"
   },
   "source": [
    "# Advanced Certification in AIML\n",
    "## A Program by IIIT-H and TalentSprint"
   ]
  },
  {
   "cell_type": "markdown",
   "metadata": {
    "colab_type": "text",
    "id": "4LNbxek40AI4"
   },
   "source": [
    "# Hackathon : Voice commands based food ordering system\n",
    "The goal of the hacakthon is to train your model on different types of voice data (such as\n",
    "clean studio data, noisy data and finally your own data)"
   ]
  },
  {
   "cell_type": "markdown",
   "metadata": {
    "colab_type": "text",
    "id": "3e0e3sFh0JZJ"
   },
   "source": [
    "### Setup Steps"
   ]
  },
  {
   "cell_type": "code",
   "execution_count": 0,
   "metadata": {
    "colab": {},
    "colab_type": "code",
    "id": "DqNBNvC25WNV"
   },
   "outputs": [],
   "source": [
    "import torch\n",
    "from torch.autograd import Variable\n",
    "import numpy as np\n",
    "import librosa\n",
    "import os\n",
    "import warnings\n",
    "from time import sleep\n",
    "import sys\n",
    "warnings.filterwarnings('ignore')"
   ]
  },
  {
   "cell_type": "markdown",
   "metadata": {
    "colab_type": "text",
    "id": "wqMmxLR38vJ3"
   },
   "source": [
    "## Pretrained Network for deep features\n",
    "\n",
    "\n",
    "The following function contains code to load a pre-trained network to produces deep features for the audio sample. This network is trained with delta MFCC features of mono channel 8000 bit rate audio sample."
   ]
  },
  {
   "cell_type": "code",
   "execution_count": 0,
   "metadata": {
    "colab": {},
    "colab_type": "code",
    "id": "NDbuxUiL2zYL"
   },
   "outputs": [],
   "source": [
    "def get_network():\n",
    "\n",
    "    net = torch.nn.Sequential()\n",
    "\n",
    "    saved_net = torch.load(\"net_speech_89.pt\").cpu()\n",
    "\n",
    "    for index, module in enumerate(saved_net):\n",
    "        net.add_module(\"layer\"+str(index),module)\n",
    "        if (index+1)%17 == 0 :\n",
    "            break\n",
    "    return net"
   ]
  },
  {
   "cell_type": "code",
   "execution_count": 0,
   "metadata": {
    "colab": {
     "base_uri": "https://localhost:8080/",
     "height": 336
    },
    "colab_type": "code",
    "id": "dmoIgxTG5ZnF",
    "outputId": "063ed3b8-dc99-4c48-a9f0-072e9c2d857f"
   },
   "outputs": [
    {
     "data": {
      "text/plain": [
       "Sequential(\n",
       "  (layer0): Linear(in_features=900, out_features=800, bias=True)\n",
       "  (layer1): ReLU()\n",
       "  (layer2): Linear(in_features=800, out_features=700, bias=True)\n",
       "  (layer3): ReLU()\n",
       "  (layer4): Linear(in_features=700, out_features=600, bias=True)\n",
       "  (layer5): ReLU()\n",
       "  (layer6): Linear(in_features=600, out_features=500, bias=True)\n",
       "  (layer7): ReLU()\n",
       "  (layer8): Linear(in_features=500, out_features=400, bias=True)\n",
       "  (layer9): ReLU()\n",
       "  (layer10): Linear(in_features=400, out_features=300, bias=True)\n",
       "  (layer11): ReLU()\n",
       "  (layer12): Linear(in_features=300, out_features=200, bias=True)\n",
       "  (layer13): ReLU()\n",
       "  (layer14): Linear(in_features=200, out_features=100, bias=True)\n",
       "  (layer15): ReLU()\n",
       "  (layer16): Linear(in_features=100, out_features=50, bias=True)\n",
       ")"
      ]
     },
     "execution_count": 15,
     "metadata": {
      "tags": []
     },
     "output_type": "execute_result"
    }
   ],
   "source": [
    "get_network()"
   ]
  },
  {
   "cell_type": "markdown",
   "metadata": {
    "colab_type": "text",
    "id": "sZS1NA1sATEf"
   },
   "source": [
    "##Obtaining Features from Audio samples\n",
    "Generate features from a audio sample of '.wav' format\n",
    "* Generate Delta MFCC features of order 1 and 2 \n",
    "* Passes them through the above mentioned deep neural net\n",
    "* the obtained deep features are returned\n",
    "\n",
    "Parameters: Filepath (path of audio sample),\n",
    "                       sr (sampling rate, all the samples provided are of 8000 bitrate)\n",
    "         \n",
    "  Caution: Do not change the default parameters"
   ]
  },
  {
   "cell_type": "code",
   "execution_count": 0,
   "metadata": {
    "colab": {},
    "colab_type": "code",
    "id": "eTtb2zAj5k0-"
   },
   "outputs": [],
   "source": [
    "def get_features(filepath, sr=8000, n_mfcc=30, n_mels=128, frames = 15):\n",
    "    \n",
    "    \n",
    "    y, sr = librosa.load(filepath, sr=sr)\n",
    "    D = np.abs(librosa.stft(y))**2\n",
    "    S = librosa.feature.melspectrogram(S=D)\n",
    "    S = librosa.feature.melspectrogram(y=y, sr=sr, n_mels=n_mels)\n",
    "    log_S = librosa.power_to_db(S,ref=np.max)\n",
    "    features = librosa.feature.mfcc(S=log_S, n_mfcc=n_mfcc)\n",
    "    if features.shape[1] < frames :\n",
    "        features = np.hstack((features, np.zeros((n_mfcc, frames - features.shape[1]))))\n",
    "    elif features.shape[1] > frames:\n",
    "        features = features[:, :frames]\n",
    "    # Find 1st order delta_mfcc\n",
    "    delta1_mfcc = librosa.feature.delta(features, order=1)\n",
    "\n",
    "    # Find 2nd order delta_mfcc\n",
    "    delta2_mfcc = librosa.feature.delta(features, order=2)\n",
    "    features = np.hstack((delta1_mfcc.flatten(), delta2_mfcc.flatten()))\n",
    "    features = features.flatten()[np.newaxis, :]\n",
    "    features = Variable(torch.from_numpy(features)).float()\n",
    "    deep_net = get_network()\n",
    "    deep_features = deep_net(features)\n",
    "    #print(features.shape)\n",
    "    #print(audio_file)\n",
    "    #features.flatten()[np.newaxis, :]\n",
    "    return deep_features.data.numpy().flatten()"
   ]
  },
  {
   "cell_type": "markdown",
   "metadata": {
    "colab_type": "text",
    "id": "NhLFY4n6BwIj"
   },
   "source": [
    "## All the voice sample needed for training are present across the folders \"Noisy_data\" and \"studio_data\""
   ]
  },
  {
   "cell_type": "code",
   "execution_count": 0,
   "metadata": {
    "colab": {
     "base_uri": "https://localhost:8080/",
     "height": 101
    },
    "colab_type": "code",
    "id": "lMF1AqHZhl1h",
    "outputId": "c92fde2d-3caa-494e-c6b5-723a6af8aa8a"
   },
   "outputs": [
    {
     "name": "stdout",
     "output_type": "stream",
     "text": [
      "BLR_M2_Hackathon.ipynb        \u001b[0m\u001b[01;34mNoisy_data\u001b[0m/              \u001b[01;34msample_data\u001b[0m/\n",
      "\u001b[01;34m__MACOSX\u001b[0m/                     noisy_data_features.sav  \u001b[01;34mstudio_data\u001b[0m/\n",
      "mlp_trained_model_noise.clf   noisy_data_labels.sav    studio_data_features.sav\n",
      "mlp_trained_model_studio.clf  Noisy_data.zip           studio_data_labels.sav\n",
      "net_speech_89.pt              Record_audio.py          studio_data.zip\n"
     ]
    }
   ],
   "source": [
    "%ls"
   ]
  },
  {
   "cell_type": "markdown",
   "metadata": {
    "colab_type": "text",
    "id": "SB-LowDuCMUL"
   },
   "source": [
    "##Stage 1: Loading data (5 Marks)\n",
    "\n",
    "* Load 'Studio data' and extract features from the data\n",
    "\n",
    "### Evaluation Criteria: \n",
    "* Complete the code in the load_data function\n",
    "* The function should take path of the folder containing audio samples as input\n",
    "* It should return features of all the audio samples present in the specified folder into single array (list of lists or 2-d numpy array) and their respective labels should be returned too"
   ]
  },
  {
   "cell_type": "code",
   "execution_count": 0,
   "metadata": {
    "colab": {},
    "colab_type": "code",
    "id": "qDzCa-532EUj"
   },
   "outputs": [],
   "source": [
    "import glob\n",
    "def load_files(folder_path):\n",
    "  labels = []\n",
    "  wav_files = []\n",
    "  features = []\n",
    "  # This loop is to store the labels and filenames into list\n",
    "  for filename in glob.iglob(folder_path + '/*.wav'):\n",
    "    # Store the labels of each wav file in a list\n",
    "    labels.append(int((filename.split('/')[-1]).split('_')[0]))\n",
    "    # Store the wav files in a list\n",
    "    wav_files.append(filename)\n",
    "  # This Loop is to get features and store into features list\n",
    "  for filename in wav_files:\n",
    "    features.append(get_features(filename))\n",
    "  return np.asarray(features), np.asarray(labels)"
   ]
  },
  {
   "cell_type": "code",
   "execution_count": 0,
   "metadata": {
    "colab": {
     "base_uri": "https://localhost:8080/",
     "height": 34
    },
    "colab_type": "code",
    "id": "z5CG-d_yhpHX",
    "outputId": "616c1d50-ce5e-4e1a-b775-9822d4a81a55"
   },
   "outputs": [
    {
     "name": "stdout",
     "output_type": "stream",
     "text": [
      "/content\n"
     ]
    }
   ],
   "source": [
    "!pwd"
   ]
  },
  {
   "cell_type": "markdown",
   "metadata": {
    "colab_type": "text",
    "id": "tnpuucBwbpl1"
   },
   "source": []
  },
  {
   "cell_type": "markdown",
   "metadata": {
    "colab_type": "text",
    "id": "7673ezpxFEfM"
   },
   "source": [
    "####load data and labels from studio_data folder"
   ]
  },
  {
   "cell_type": "code",
   "execution_count": 0,
   "metadata": {
    "colab": {
     "base_uri": "https://localhost:8080/",
     "height": 34
    },
    "colab_type": "code",
    "id": "u5CjrlPVPjNs",
    "outputId": "b4437e51-54ee-44d8-b964-9e0ed378683a"
   },
   "outputs": [
    {
     "name": "stdout",
     "output_type": "stream",
     "text": [
      "(8423, 50) (8423,)\n"
     ]
    }
   ],
   "source": [
    "studio_recorded_features, studio_recorded_labels = load_files('studio_data')\n",
    "print(studio_recorded_features.shape, studio_recorded_labels.shape)"
   ]
  },
  {
   "cell_type": "code",
   "execution_count": 0,
   "metadata": {
    "colab": {},
    "colab_type": "code",
    "id": "sRsizBC6_aIf"
   },
   "outputs": [],
   "source": [
    "import joblib\n",
    "studio_recorded_features, studio_recorded_labels = np.asarray(joblib.load('studio_data_features.sav')),np.asarray(joblib.load('studio_data_labels.sav'))"
   ]
  },
  {
   "cell_type": "code",
   "execution_count": 0,
   "metadata": {
    "colab": {},
    "colab_type": "code",
    "id": "7QNqBhLE3LkE"
   },
   "outputs": [],
   "source": [
    "from google.colab import files\n",
    "\n",
    "joblib.dump(studio_recorded_features, 'studio_data_features.sav')               # Command to save the model file\n",
    "joblib.dump(studio_recorded_labels, 'studio_data_labels.sav')\n",
    "\n",
    "files.download(\"studio_data_features.sav\")                                      # Download the model file to local PC\n",
    "files.download(\"studio_data_labels.sav\")                                        # Download the model file to local PC"
   ]
  },
  {
   "cell_type": "code",
   "execution_count": 0,
   "metadata": {
    "colab": {
     "base_uri": "https://localhost:8080/",
     "height": 34
    },
    "colab_type": "code",
    "id": "mP-4epdLzaC-",
    "outputId": "4c1718c4-e520-4dae-a1fb-f56870e31900"
   },
   "outputs": [
    {
     "data": {
      "text/plain": [
       "((8423, 50), (8423,))"
      ]
     },
     "execution_count": 21,
     "metadata": {
      "tags": []
     },
     "output_type": "execute_result"
    }
   ],
   "source": [
    "studio_recorded_features.shape, studio_recorded_labels.shape"
   ]
  },
  {
   "cell_type": "markdown",
   "metadata": {
    "colab_type": "text",
    "id": "BGq6XpvhFynP"
   },
   "source": [
    "## Stage 2: Training classifier on the studio_data (16 Marks)\n",
    "* The goal here is to train your model on voice samples collected in a noiseless studio\n",
    "setup above\n",
    "\n",
    "### Evaluation Criteria: \n",
    "* Train the classifier, save the model\n",
    "* The score you get: Validation accuracy percentage of 15 (Validation data should be at\n",
    "least 20% of the total data)\n",
    "* Example: If a team gets, 80 % accuracy on the validation set, then the marks will be\n",
    "80% of 15 marks i.e. 12 marks (will round of the score, in case of non - integer scores) and deploy the (refer colab notebook)\n",
    "\n",
    "#### Train a classifier on the features obtained from studio_data"
   ]
  },
  {
   "cell_type": "code",
   "execution_count": 0,
   "metadata": {
    "colab": {
     "base_uri": "https://localhost:8080/",
     "height": 34
    },
    "colab_type": "code",
    "id": "VU5hdERsFw5o",
    "outputId": "6f59e6fa-552d-4c70-a1af-a195f11791bf"
   },
   "outputs": [
    {
     "data": {
      "text/plain": [
       "((6738, 50), (6738,))"
      ]
     },
     "execution_count": 70,
     "metadata": {
      "tags": []
     },
     "output_type": "execute_result"
    }
   ],
   "source": [
    "# Import train_test_split header\n",
    "from sklearn.model_selection import train_test_split\n",
    "\n",
    "# Split files for training and testing (80:20)\n",
    "X_train, X_test, y_train, y_test = train_test_split(studio_recorded_features, studio_recorded_labels, test_size=0.2, random_state=43)\n",
    "\n",
    "# Train the Data as a numpy array\n",
    "X_train = np.array(X_train) \n",
    "y_train = np.array(y_train)\n",
    "X_train.shape, y_train.shape"
   ]
  },
  {
   "cell_type": "markdown",
   "metadata": {
    "colab_type": "text",
    "id": "1Gyhg3hiecu5"
   },
   "source": [
    "### Use the above data and train using MLPClassifier:"
   ]
  },
  {
   "cell_type": "code",
   "execution_count": 0,
   "metadata": {
    "colab": {
     "base_uri": "https://localhost:8080/",
     "height": 151
    },
    "colab_type": "code",
    "id": "l4LpU0b3eWer",
    "outputId": "038dddd4-dcdd-48d6-e786-78a02815b15f"
   },
   "outputs": [
    {
     "data": {
      "text/plain": [
       "MLPClassifier(activation='relu', alpha=0.0001, batch_size='auto', beta_1=0.9,\n",
       "              beta_2=0.999, early_stopping=False, epsilon=1e-08,\n",
       "              hidden_layer_sizes=(100,), learning_rate='constant',\n",
       "              learning_rate_init=0.001, max_fun=15000, max_iter=200,\n",
       "              momentum=0.9, n_iter_no_change=10, nesterovs_momentum=True,\n",
       "              power_t=0.5, random_state=12, shuffle=True, solver='adam',\n",
       "              tol=0.0001, validation_fraction=0.1, verbose=False,\n",
       "              warm_start=False)"
      ]
     },
     "execution_count": 75,
     "metadata": {
      "tags": []
     },
     "output_type": "execute_result"
    }
   ],
   "source": [
    "# Import Necessary Headers\n",
    "from sklearn.neural_network import MLPClassifier\n",
    "\n",
    "# Train the data\n",
    "clf = MLPClassifier(random_state = 12)\n",
    "clf.fit(X_train, y_train)"
   ]
  },
  {
   "cell_type": "code",
   "execution_count": 0,
   "metadata": {
    "colab": {
     "base_uri": "https://localhost:8080/",
     "height": 151
    },
    "colab_type": "code",
    "id": "DKVXqe4l51kE",
    "outputId": "15033206-7a0d-46de-f658-9030ab36d0fc"
   },
   "outputs": [
    {
     "data": {
      "text/plain": [
       "MLPClassifier(activation='relu', alpha=0.0001, batch_size='auto', beta_1=0.9,\n",
       "              beta_2=0.999, early_stopping=False, epsilon=1e-08,\n",
       "              hidden_layer_sizes=(100,), learning_rate='constant',\n",
       "              learning_rate_init=0.001, max_fun=15000, max_iter=200,\n",
       "              momentum=0.9, n_iter_no_change=10, nesterovs_momentum=True,\n",
       "              power_t=0.5, random_state=41, shuffle=True, solver='adam',\n",
       "              tol=0.0001, validation_fraction=0.1, verbose=False,\n",
       "              warm_start=False)"
      ]
     },
     "execution_count": 73,
     "metadata": {
      "tags": []
     },
     "output_type": "execute_result"
    }
   ],
   "source": [
    "\n",
    "# Import Necessary Headers\n",
    "from sklearn.neural_network import MLPClassifier\n",
    "\n",
    "# Train the data\n",
    "clf = joblib.load('mlp_trained_model_studio.clf')\n",
    "clf.fit(X_train, y_train)"
   ]
  },
  {
   "cell_type": "markdown",
   "metadata": {
    "colab_type": "text",
    "id": "5NxlvFcOiu9f"
   },
   "source": [
    "### Use this to predict accuracy for the trained model:"
   ]
  },
  {
   "cell_type": "code",
   "execution_count": 0,
   "metadata": {
    "colab": {
     "base_uri": "https://localhost:8080/",
     "height": 34
    },
    "colab_type": "code",
    "id": "dkOPxjEgilhV",
    "outputId": "c972ab91-9855-4c7e-f844-9a141493063b"
   },
   "outputs": [
    {
     "data": {
      "text/plain": [
       "88.24925816023739"
      ]
     },
     "execution_count": 76,
     "metadata": {
      "tags": []
     },
     "output_type": "execute_result"
    }
   ],
   "source": [
    "# Import necessary headers\n",
    "from sklearn.metrics import accuracy_score\n",
    "\n",
    "# Save the predicted values in a variable\n",
    "predicted_values = clf.predict(np.array(X_test))\n",
    "\n",
    "# Predict Accuracy score (in %)\n",
    "accuracy_score(np.array(y_test),predicted_values)*100"
   ]
  },
  {
   "cell_type": "markdown",
   "metadata": {
    "colab_type": "text",
    "id": "OGixO_z6Gf-Y"
   },
   "source": [
    "####Save your model\n",
    "\n",
    "Hint:\n",
    "* Incase if you are using scikit learn model for training, you can use joblib package to save the model.\n",
    "* Manually implemented models as a function or class can be saved using pickle "
   ]
  },
  {
   "cell_type": "code",
   "execution_count": 0,
   "metadata": {
    "colab": {
     "base_uri": "https://localhost:8080/",
     "height": 34
    },
    "colab_type": "code",
    "id": "ut8aQN5_G7bx",
    "outputId": "1d54075d-3639-4d3c-f798-e5c6c769f04a"
   },
   "outputs": [
    {
     "data": {
      "text/plain": [
       "['mlp_trained_model_studio.clf']"
      ]
     },
     "execution_count": 35,
     "metadata": {
      "tags": []
     },
     "output_type": "execute_result"
    }
   ],
   "source": [
    "import joblib                         # Import Necessary Headers\n",
    "\n",
    "file = 'mlp_trained_model_studio.clf' # Specify filename of model file\n",
    "joblib.dump(clf, file)                # Command to save the model file"
   ]
  },
  {
   "cell_type": "code",
   "execution_count": 0,
   "metadata": {
    "colab": {
     "base_uri": "https://localhost:8080/",
     "height": 34
    },
    "colab_type": "code",
    "id": "QWUSGj8bj-iQ",
    "outputId": "0ef57e28-b2db-4820-d4d2-3bc98b58bf42"
   },
   "outputs": [
    {
     "name": "stdout",
     "output_type": "stream",
     "text": [
      "MLP_trained_model_studio.clf\n"
     ]
    }
   ],
   "source": [
    "%ls -F $file                          # Check if the created model file exists!"
   ]
  },
  {
   "cell_type": "markdown",
   "metadata": {
    "colab_type": "text",
    "id": "jsCHKXubHAJB"
   },
   "source": [
    "#### Download your trained model using the code below\n",
    "* given the path of model file the following code downloads it through the browser"
   ]
  },
  {
   "cell_type": "code",
   "execution_count": 0,
   "metadata": {
    "colab": {},
    "colab_type": "code",
    "id": "BDmWXfPaHJZG"
   },
   "outputs": [],
   "source": [
    "from google.colab import files\n",
    "files.download(file)                  # Download the model file to local PC"
   ]
  },
  {
   "cell_type": "markdown",
   "metadata": {
    "colab_type": "text",
    "id": "R7ccsM_ZISWj"
   },
   "source": [
    "## Stage 3: Deploy your classifier on the server (3 Marks)\n",
    "\n",
    "* Deploy your model on the server, check the deployment instructions in the hackathon documentation for details\n",
    "\n",
    "### Evaluation Criteria: \n",
    "\n",
    "* There are two stages in the food ordering application\n",
    "        \n",
    "    *   Ordering Item\n",
    "    *   Providing the number of servings\n",
    "    \n",
    "* If both the stages are cleared with correct predictions you will get\n",
    "complete marks\n",
    "* Otherwise, no marks will be awarded\n",
    "\n",
    "\n",
    "\n",
    "#### Now deploy the model trained on studio_data in the sever to order food correctly. \n",
    "#### Deployment instruction are given in the Hackathon documentation\n",
    "#### After deploying and checking the application come back here to train on Noisy_data to generalise better in real situations"
   ]
  },
  {
   "cell_type": "markdown",
   "metadata": {
    "colab_type": "text",
    "id": "WZhvgJQZpAxk"
   },
   "source": [
    "## Stage 4: Load 'Noisy_data', train a Classifier on the same and deploy (3 Marks)\n",
    "\n",
    "* The goal here is to train your model on voice samples collected in a noisy environment and save the model\n",
    "\n",
    "### Evaluation Criteria:\n",
    "\n",
    "* Load 'Noisy_data'\n",
    "* Train the classifier, save the model\n",
    "\n"
   ]
  },
  {
   "cell_type": "markdown",
   "metadata": {
    "colab_type": "text",
    "id": "VFOudw7XGDeQ"
   },
   "source": [
    "#### load data and labels from Noisy_data folder"
   ]
  },
  {
   "cell_type": "code",
   "execution_count": 0,
   "metadata": {
    "colab": {},
    "colab_type": "code",
    "id": "5LLejdkbCat2"
   },
   "outputs": [],
   "source": [
    "noisy_data, noisy_data_labels = load_files('Noisy_data')"
   ]
  },
  {
   "cell_type": "code",
   "execution_count": 0,
   "metadata": {
    "colab": {},
    "colab_type": "code",
    "id": "z-J-1NvlhwZD"
   },
   "outputs": [],
   "source": [
    "noisy_data, noisy_data_labels = np.asarray(joblib.load('noisy_data_features.sav')),np.asarray(joblib.load('noisy_data_labels.sav'))"
   ]
  },
  {
   "cell_type": "code",
   "execution_count": 0,
   "metadata": {
    "colab": {
     "base_uri": "https://localhost:8080/",
     "height": 34
    },
    "colab_type": "code",
    "id": "_m24s9eFLVCX",
    "outputId": "a4d819f8-394c-4410-c4ae-89334204501f"
   },
   "outputs": [
    {
     "data": {
      "text/plain": [
       "((11839, 50), (11839, 1))"
      ]
     },
     "execution_count": 78,
     "metadata": {
      "tags": []
     },
     "output_type": "execute_result"
    }
   ],
   "source": [
    "noisy_data.shape, noisy_data_labels.shape"
   ]
  },
  {
   "cell_type": "code",
   "execution_count": 0,
   "metadata": {
    "colab": {
     "base_uri": "https://localhost:8080/",
     "height": 34
    },
    "colab_type": "code",
    "id": "pYAcLvBDkgnL",
    "outputId": "aaea4149-740d-4ad8-87f2-17ea8bdab640"
   },
   "outputs": [
    {
     "data": {
      "text/plain": [
       "numpy.ndarray"
      ]
     },
     "execution_count": 79,
     "metadata": {
      "tags": []
     },
     "output_type": "execute_result"
    }
   ],
   "source": [
    "type(noisy_data_labels)"
   ]
  },
  {
   "cell_type": "markdown",
   "metadata": {
    "colab_type": "text",
    "id": "HYK88qmLgzwc"
   },
   "source": [
    "#### Train a classifier on the features obtained from noisy_data"
   ]
  },
  {
   "cell_type": "code",
   "execution_count": 0,
   "metadata": {
    "colab": {
     "base_uri": "https://localhost:8080/",
     "height": 34
    },
    "colab_type": "code",
    "id": "0Kb2vC8orK8_",
    "outputId": "029db25a-3775-4164-a17c-9c0603e1eeb7"
   },
   "outputs": [
    {
     "data": {
      "text/plain": [
       "29.43412162162162"
      ]
     },
     "execution_count": 84,
     "metadata": {
      "tags": []
     },
     "output_type": "execute_result"
    }
   ],
   "source": [
    "# Split noise files for training and testing (80:20)\n",
    "X_noise_train, X_noise_test, y_noise_train, y_noise_test = train_test_split(noisy_data, noisy_data_labels, test_size=0.2)\n",
    "\n",
    "# Transform the Data as a numpy array and check shape\n",
    "X_noise_train = np.array(X_noise_train) \n",
    "y_noise_train = np.array(y_noise_train)\n",
    "X_noise_train.shape, y_noise_train.shape\n",
    "\n",
    "# Train the data\n",
    "clf_noise = MLPClassifier(random_state = 60)\n",
    "clf_noise.fit(X_noise_train, y_noise_train)\n",
    "\n",
    "# Save the predicted values in a variable\n",
    "predicted_noise_values = clf_noise.predict(np.array(X_noise_test))\n",
    "\n",
    "# Predict Accuracy score (in %)\n",
    "accuracy_score(np.array(y_noise_test),predicted_noise_values)*100"
   ]
  },
  {
   "cell_type": "markdown",
   "metadata": {
    "colab_type": "text",
    "id": "E2jfdJigrTkr"
   },
   "source": [
    "####Save your model\n",
    "\n",
    "Hint:\n",
    "* Incase if you are using scikit learn model for training, you can use joblib package to save the model.\n",
    "* Manually implemented models as a function or class can be saved using pickle "
   ]
  },
  {
   "cell_type": "code",
   "execution_count": 0,
   "metadata": {
    "colab": {
     "base_uri": "https://localhost:8080/",
     "height": 34
    },
    "colab_type": "code",
    "id": "GJBkPlNUrhbz",
    "outputId": "f4cf4575-f567-41a2-b469-ffc9d2e4be72"
   },
   "outputs": [
    {
     "data": {
      "text/plain": [
       "['mlp_trained_model_noise.clf']"
      ]
     },
     "execution_count": 100,
     "metadata": {
      "tags": []
     },
     "output_type": "execute_result"
    }
   ],
   "source": [
    "noise_model_file = 'mlp_trained_model_noise.clf'        # Specify filename of model file\n",
    "joblib.dump(clf_noise, noise_model_file)                # Command to save the model file"
   ]
  },
  {
   "cell_type": "code",
   "execution_count": 0,
   "metadata": {
    "colab": {
     "base_uri": "https://localhost:8080/",
     "height": 34
    },
    "colab_type": "code",
    "id": "Q9nlF00Q7iff",
    "outputId": "35afd66e-6f47-4a4e-acb1-168db14b1272"
   },
   "outputs": [
    {
     "name": "stdout",
     "output_type": "stream",
     "text": [
      "mlp_trained_model_noise.clf\n"
     ]
    }
   ],
   "source": [
    "%ls -F $noise_model_file                                # Check if the created model file exists!"
   ]
  },
  {
   "cell_type": "markdown",
   "metadata": {
    "colab_type": "text",
    "id": "7T3v5XQbron7"
   },
   "source": [
    "#### Download your trained model using the code below\n",
    "* given the path of model file the following code downloads it through the browser"
   ]
  },
  {
   "cell_type": "code",
   "execution_count": 0,
   "metadata": {
    "colab": {},
    "colab_type": "code",
    "id": "sNhSG65BrqAm"
   },
   "outputs": [],
   "source": [
    "from google.colab import files\n",
    "files.download(noise_model_file)"
   ]
  },
  {
   "cell_type": "markdown",
   "metadata": {
    "colab_type": "text",
    "id": "TwXw75OlrzJ8"
   },
   "source": [
    "#### Now deploy the model trained on noisy_data in the sever to order food correctly."
   ]
  },
  {
   "cell_type": "markdown",
   "metadata": {
    "colab_type": "text",
    "id": "kA6G5tzShN5s"
   },
   "source": [
    "## Stage 5: Use 'Noisy_data' and 'Studio-data' together, train a Classifier on the same and deploy (3 Marks)\n",
    "\n",
    "* The goal here is to train your model on voice samples collected in a noisy environment 'and' studio-data save the model\n",
    "\n",
    "### Evaluation Criteria:\n",
    "\n",
    "* Use the 'Noisy_data' and 'studio-data' loaded above and train the classifier, save the model\n",
    "\n"
   ]
  },
  {
   "cell_type": "markdown",
   "metadata": {
    "colab_type": "text",
    "id": "wPmAbksHGK0a"
   },
   "source": [
    "\n",
    "\n",
    "\n",
    "#### Train a classifier on the features obtained from both the Noisy_data and Studio_data"
   ]
  },
  {
   "cell_type": "code",
   "execution_count": 0,
   "metadata": {
    "colab": {
     "base_uri": "https://localhost:8080/",
     "height": 34
    },
    "colab_type": "code",
    "id": "yFclsavsngre",
    "outputId": "459f375b-c752-4cae-f22b-6eb73c17678a"
   },
   "outputs": [
    {
     "data": {
      "text/plain": [
       "((8423,), (11839, 1))"
      ]
     },
     "execution_count": 89,
     "metadata": {
      "tags": []
     },
     "output_type": "execute_result"
    }
   ],
   "source": [
    "studio_recorded_labels.shape, noisy_data_labels.shape"
   ]
  },
  {
   "cell_type": "code",
   "execution_count": 0,
   "metadata": {
    "colab": {
     "base_uri": "https://localhost:8080/",
     "height": 34
    },
    "colab_type": "code",
    "id": "XyZ16AUKGeoN",
    "outputId": "db871f55-6f8c-4ce5-ec10-1bff5f9eb8af"
   },
   "outputs": [
    {
     "data": {
      "text/plain": [
       "55.662472242783124"
      ]
     },
     "execution_count": 97,
     "metadata": {
      "tags": []
     },
     "output_type": "execute_result"
    }
   ],
   "source": [
    "# Concatinate both Studio and Noisy data to all data\n",
    "all_features = np.vstack((studio_recorded_features, noisy_data))\n",
    "all_labels = np.vstack((studio_recorded_labels.reshape(8423,1), noisy_data_labels))\n",
    "\n",
    "# Split noise files for training and testing (80:20)\n",
    "X_all_train, X_all_test, y_all_train, y_all_test = train_test_split(all_features, all_labels, test_size=0.2)\n",
    "\n",
    "# Transform the Data as a numpy array and check shape\n",
    "X_all_train = np.array(X_noise_train) \n",
    "y_all_train = np.array(y_noise_train)\n",
    "X_all_train.shape, y_all_train.shape\n",
    "\n",
    "# Train the data\n",
    "clf_all = MLPClassifier()\n",
    "clf_all.fit(X_all_train, y_all_train)\n",
    "\n",
    "# Save the predicted values in a variable\n",
    "predicted_all_values = clf_all.predict(np.array(X_all_test))\n",
    "accuracy_score(np.array(y_all_test),predicted_all_values)*100"
   ]
  },
  {
   "cell_type": "markdown",
   "metadata": {
    "colab_type": "text",
    "id": "Y4IbSzHAsqWT"
   },
   "source": [
    "####Save your model\n",
    "\n",
    "Hint:\n",
    "* Incase if you are using scikit learn model for training, you can use joblib package to save the model.\n",
    "* Manually implemented models as a function or class can be saved using pickle "
   ]
  },
  {
   "cell_type": "code",
   "execution_count": 0,
   "metadata": {
    "colab": {
     "base_uri": "https://localhost:8080/",
     "height": 34
    },
    "colab_type": "code",
    "id": "4PZQ-jrPsreD",
    "outputId": "d7f06af1-9e79-45ce-e1c7-2be9abed7467"
   },
   "outputs": [
    {
     "data": {
      "text/plain": [
       "['mlp_trained_model_all.clf']"
      ]
     },
     "execution_count": 99,
     "metadata": {
      "tags": []
     },
     "output_type": "execute_result"
    }
   ],
   "source": [
    "all_model_file = 'mlp_trained_model_all.clf'        # Specify filename of model file\n",
    "joblib.dump(clf_all, all_model_file)                # Command to save the model file"
   ]
  },
  {
   "cell_type": "markdown",
   "metadata": {
    "colab_type": "text",
    "id": "wJlS0qjmIEYz"
   },
   "source": [
    "#### Download your trained model using the code below\n",
    "* given the path of model file the following code downloads it through the browser"
   ]
  },
  {
   "cell_type": "code",
   "execution_count": 0,
   "metadata": {
    "colab": {},
    "colab_type": "code",
    "id": "mUM_6cP-IJy5"
   },
   "outputs": [],
   "source": [
    "from google.colab import files\n",
    "files.download(all_model_file)"
   ]
  },
  {
   "cell_type": "markdown",
   "metadata": {
    "colab_type": "text",
    "id": "jA829HXjIe5Z"
   },
   "source": [
    "#### Now deploy the model trained on above in the sever to order food correctly. \n",
    "#### Deployment instruction are given the Hackathon documentation\n",
    "#### After deploying and checking the application, record your teams data from the web application provided in the Hackathon document"
   ]
  },
  {
   "cell_type": "code",
   "execution_count": 0,
   "metadata": {
    "colab": {},
    "colab_type": "code",
    "id": "nv3I24flWlLq"
   },
   "outputs": [],
   "source": [
    "!mkdir teamdata"
   ]
  },
  {
   "cell_type": "markdown",
   "metadata": {
    "colab_type": "text",
    "id": "TWrJSY-OGyG9"
   },
   "source": [
    "#### Replace <YOUR_GROUP_ID> with your group id given in the lab"
   ]
  },
  {
   "cell_type": "code",
   "execution_count": 0,
   "metadata": {
    "colab": {},
    "colab_type": "code",
    "id": "gB_bSllKWJ5U"
   },
   "outputs": [],
   "source": [
    "!wget -r -A .wav https://aiml-sandbox1.talentsprint.com/audio_recorder/<YOUR_GROUP_ID>/team_data/ -nH --cut-dirs=100  -P ./team_data"
   ]
  },
  {
   "cell_type": "code",
   "execution_count": 0,
   "metadata": {
    "colab": {},
    "colab_type": "code",
    "id": "3XUPRHG50rxW"
   },
   "outputs": [],
   "source": [
    "%ls"
   ]
  },
  {
   "cell_type": "code",
   "execution_count": 0,
   "metadata": {
    "colab": {},
    "colab_type": "code",
    "id": "zU556OeCL0x9"
   },
   "outputs": [],
   "source": [
    "!unzip <zip_file_name>"
   ]
  },
  {
   "cell_type": "markdown",
   "metadata": {
    "colab_type": "text",
    "id": "wH17k1RciuM_"
   },
   "source": [
    "## Stage 6: Collect the voice samples and refine the classifier trained on noisy_data, by now using your team’s data (10 Marks)\n",
    "\n",
    "\n",
    "* The goal here is to refine the model that you trained on voice samples collected\n",
    "in a noisy environment\n",
    "* You will refine your model trained on noisy_data, save and download it.\n",
    "* Deploy your model on the server, check deployment section in the same\n",
    "document for details\n",
    "\n",
    "### Evaluation Criteria:\n",
    "* There are two stages in the food ordering application\n",
    "\n",
    "    *   Ordering Item\n",
    "    *   Providing the number of servings\n",
    "\n",
    "* If both the stages are cleared with correct predictions you will get complete marks\n",
    "* Otherwise, no marks will be awarded\n",
    "\n",
    "#### Enhance the model trained with both the noisy data and studio_data to your team's voice samples"
   ]
  },
  {
   "cell_type": "code",
   "execution_count": 0,
   "metadata": {
    "colab": {},
    "colab_type": "code",
    "id": "cwKko3-yL-0a"
   },
   "outputs": [],
   "source": [
    "##YOUR CODE HERE"
   ]
  },
  {
   "cell_type": "markdown",
   "metadata": {
    "colab_type": "text",
    "id": "zQhiuXMaMRp2"
   },
   "source": [
    "####  Now deploy the model trained above in the sever to order food correctly. \n",
    "#### Deployment instruction are given the Hackathon documentation"
   ]
  }
 ],
 "metadata": {
  "colab": {
   "collapsed_sections": [],
   "name": "Hackathon_I_Starter_Code.ipynb",
   "provenance": []
  },
  "kernelspec": {
   "display_name": "Python 3",
   "language": "python",
   "name": "python3"
  },
  "language_info": {
   "codemirror_mode": {
    "name": "ipython",
    "version": 3
   },
   "file_extension": ".py",
   "mimetype": "text/x-python",
   "name": "python",
   "nbconvert_exporter": "python",
   "pygments_lexer": "ipython3",
   "version": "3.6.5"
  }
 },
 "nbformat": 4,
 "nbformat_minor": 1
}
