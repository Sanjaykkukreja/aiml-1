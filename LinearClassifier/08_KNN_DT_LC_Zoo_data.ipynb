{
 "cells": [
  {
   "cell_type": "markdown",
   "metadata": {
    "colab_type": "text",
    "id": "RkCHsOp1XkvK"
   },
   "source": [
    "# Advanced Certification in AIML\n",
    "## A Program by IIIT-H and TalentSprint"
   ]
  },
  {
   "cell_type": "markdown",
   "metadata": {
    "colab_type": "text",
    "id": "uRmPBEJjHpgg"
   },
   "source": [
    "## Learning Objectives"
   ]
  },
  {
   "cell_type": "markdown",
   "metadata": {
    "colab_type": "text",
    "id": "UvoALsCmXkvN"
   },
   "source": [
    "At the end of the experiment, you will be able to :\n",
    "\n",
    "*  Apply Decision Tree , KNN and Linear Classifier on Zoo dataset\n"
   ]
  },
  {
   "cell_type": "markdown",
   "metadata": {
    "colab_type": "text",
    "id": "RZpVYYrIHj1A"
   },
   "source": [
    "## Dataset"
   ]
  },
  {
   "cell_type": "markdown",
   "metadata": {
    "colab_type": "text",
    "id": "OkgO-5YyHlfn"
   },
   "source": [
    "### Description\n",
    "\n",
    "\n",
    "In this experiment we will be using a Zoo dataset. The \"type\" attribute appears to be the class attribute. Here is a breakdown of which animals are in which type:\n",
    "\n",
    "\n",
    "1 -- Mammals (41) aardvark, antelope, bear, boar, buffalo, calf, cavy, cheetah, deer, dolphin, elephant, fruitbat, giraffe, girl, goat, gorilla, hamster, hare, leopard, lion, lynx, mink, mole, mongoose, opossum, oryx, platypus, polecat, pony, porpoise, puma, pussycat, raccoon, reindeer, seal, sealion, squirrel, vampire, vole, wallaby,wolf \n",
    "\n",
    "2 -- Birds (20) chicken, crow, dove, duck, flamingo, gull, hawk, kiwi, lark, ostrich, parakeet, penguin, pheasant, rhea, skimmer, skua, sparrow, swan, vulture, wren \n",
    "\n",
    "3 -- Reptiles (5) pitviper, seasnake, slowworm, tortoise, tuatara \n",
    "\n",
    "4 -- Aquatic (13) bass, carp, catfish, chub, dogfish, haddock, herring, pike, piranha, seahorse, sole, stingray, tuna \n",
    "\n",
    "5 -- Amphibians (4) frog, frog, newt, toad \n",
    "\n",
    "6 -- Insects (8) flea, gnat, honeybee, housefly, ladybird, moth, termite, wasp \n",
    "\n",
    "7 -- Arthropods (10) clam, crab, crayfish, lobster, octopus, scorpion, seawasp, slug, starfish, worm\n",
    "\n"
   ]
  },
  {
   "cell_type": "markdown",
   "metadata": {
    "colab_type": "text",
    "id": "ZcljNVM6XkvT"
   },
   "source": [
    "### Keywords\n",
    "\n",
    "* Numpy\n",
    "* Pandas\n",
    "* ID3 Algorithm\n",
    "* Train, Test Split"
   ]
  },
  {
   "cell_type": "markdown",
   "metadata": {
    "colab_type": "text",
    "id": "lb-lC3mFYV0O"
   },
   "source": [
    "### Setup Steps"
   ]
  },
  {
   "cell_type": "markdown",
   "metadata": {
    "colab_type": "text",
    "id": "0XHuORe3XkvX"
   },
   "source": [
    "#### Importing Required Packages"
   ]
  },
  {
   "cell_type": "code",
   "execution_count": 0,
   "metadata": {
    "colab": {},
    "colab_type": "code",
    "id": "Svq6M_C5XkvY"
   },
   "outputs": [],
   "source": [
    "import pandas as pd\n",
    "import numpy as np\n",
    "import graphviz\n",
    "from sklearn.tree import export_graphviz\n",
    "from sklearn.model_selection import train_test_split\n",
    "from sklearn.neighbors import KNeighborsClassifier\n",
    "from sklearn import linear_model"
   ]
  },
  {
   "cell_type": "markdown",
   "metadata": {
    "colab_type": "text",
    "id": "CKwkj-L1Xkvf"
   },
   "source": [
    "#### Loading Dataset"
   ]
  },
  {
   "cell_type": "code",
   "execution_count": 0,
   "metadata": {
    "colab": {},
    "colab_type": "code",
    "id": "ea9aOI8aXkvh"
   },
   "outputs": [],
   "source": [
    "#Import all columns omitting the fist which consists the names of the animals\n",
    "dataset = pd.read_csv('Zoo_New.csv',\n",
    "                      names=['animal_name','hair','feathers','eggs','milk',\n",
    "                                                   'airbone','aquatic','predator','toothed','backbone',\n",
    "                                                  'breathes','venomous','fins','legs','tail','domestic','catsize','class',])\n",
    "#We don't use animal name for classification because it is just a string stating the \n",
    "#name and it won't provide any extra information for classification in this context\n",
    "dataset=dataset.drop('animal_name',axis=1)"
   ]
  },
  {
   "cell_type": "code",
   "execution_count": 126,
   "metadata": {
    "colab": {
     "base_uri": "https://localhost:8080/",
     "height": 204
    },
    "colab_type": "code",
    "executionInfo": {
     "elapsed": 896,
     "status": "ok",
     "timestamp": 1580879948093,
     "user": {
      "displayName": "Mohammed Rizwan",
      "photoUrl": "https://lh3.googleusercontent.com/a-/AAuE7mB71PsBYLhuVqmFbtN-6NzmoyqKEkdtw1RZyZYeLw=s64",
      "userId": "08508186513102229355"
     },
     "user_tz": -330
    },
    "id": "0fnA51aR7rVV",
    "outputId": "80bee145-ffb0-4b8a-9807-0e21997f518c"
   },
   "outputs": [
    {
     "data": {
      "text/html": [
       "<div>\n",
       "<style scoped>\n",
       "    .dataframe tbody tr th:only-of-type {\n",
       "        vertical-align: middle;\n",
       "    }\n",
       "\n",
       "    .dataframe tbody tr th {\n",
       "        vertical-align: top;\n",
       "    }\n",
       "\n",
       "    .dataframe thead th {\n",
       "        text-align: right;\n",
       "    }\n",
       "</style>\n",
       "<table border=\"1\" class=\"dataframe\">\n",
       "  <thead>\n",
       "    <tr style=\"text-align: right;\">\n",
       "      <th></th>\n",
       "      <th>hair</th>\n",
       "      <th>feathers</th>\n",
       "      <th>eggs</th>\n",
       "      <th>milk</th>\n",
       "      <th>airbone</th>\n",
       "      <th>aquatic</th>\n",
       "      <th>predator</th>\n",
       "      <th>toothed</th>\n",
       "      <th>backbone</th>\n",
       "      <th>breathes</th>\n",
       "      <th>venomous</th>\n",
       "      <th>fins</th>\n",
       "      <th>legs</th>\n",
       "      <th>tail</th>\n",
       "      <th>domestic</th>\n",
       "      <th>catsize</th>\n",
       "      <th>class</th>\n",
       "    </tr>\n",
       "  </thead>\n",
       "  <tbody>\n",
       "    <tr>\n",
       "      <th>0</th>\n",
       "      <td>1</td>\n",
       "      <td>0</td>\n",
       "      <td>0</td>\n",
       "      <td>1</td>\n",
       "      <td>0</td>\n",
       "      <td>0</td>\n",
       "      <td>1</td>\n",
       "      <td>1</td>\n",
       "      <td>1</td>\n",
       "      <td>1</td>\n",
       "      <td>0</td>\n",
       "      <td>0</td>\n",
       "      <td>4</td>\n",
       "      <td>0</td>\n",
       "      <td>0</td>\n",
       "      <td>1</td>\n",
       "      <td>1</td>\n",
       "    </tr>\n",
       "    <tr>\n",
       "      <th>1</th>\n",
       "      <td>1</td>\n",
       "      <td>0</td>\n",
       "      <td>0</td>\n",
       "      <td>1</td>\n",
       "      <td>0</td>\n",
       "      <td>0</td>\n",
       "      <td>0</td>\n",
       "      <td>1</td>\n",
       "      <td>1</td>\n",
       "      <td>1</td>\n",
       "      <td>0</td>\n",
       "      <td>0</td>\n",
       "      <td>4</td>\n",
       "      <td>1</td>\n",
       "      <td>0</td>\n",
       "      <td>1</td>\n",
       "      <td>1</td>\n",
       "    </tr>\n",
       "    <tr>\n",
       "      <th>2</th>\n",
       "      <td>0</td>\n",
       "      <td>0</td>\n",
       "      <td>1</td>\n",
       "      <td>0</td>\n",
       "      <td>0</td>\n",
       "      <td>1</td>\n",
       "      <td>1</td>\n",
       "      <td>1</td>\n",
       "      <td>1</td>\n",
       "      <td>0</td>\n",
       "      <td>0</td>\n",
       "      <td>1</td>\n",
       "      <td>0</td>\n",
       "      <td>1</td>\n",
       "      <td>0</td>\n",
       "      <td>0</td>\n",
       "      <td>4</td>\n",
       "    </tr>\n",
       "    <tr>\n",
       "      <th>3</th>\n",
       "      <td>1</td>\n",
       "      <td>0</td>\n",
       "      <td>0</td>\n",
       "      <td>1</td>\n",
       "      <td>0</td>\n",
       "      <td>0</td>\n",
       "      <td>1</td>\n",
       "      <td>1</td>\n",
       "      <td>1</td>\n",
       "      <td>1</td>\n",
       "      <td>0</td>\n",
       "      <td>0</td>\n",
       "      <td>4</td>\n",
       "      <td>0</td>\n",
       "      <td>0</td>\n",
       "      <td>1</td>\n",
       "      <td>1</td>\n",
       "    </tr>\n",
       "    <tr>\n",
       "      <th>4</th>\n",
       "      <td>1</td>\n",
       "      <td>0</td>\n",
       "      <td>0</td>\n",
       "      <td>1</td>\n",
       "      <td>0</td>\n",
       "      <td>0</td>\n",
       "      <td>1</td>\n",
       "      <td>1</td>\n",
       "      <td>1</td>\n",
       "      <td>1</td>\n",
       "      <td>0</td>\n",
       "      <td>0</td>\n",
       "      <td>4</td>\n",
       "      <td>1</td>\n",
       "      <td>0</td>\n",
       "      <td>1</td>\n",
       "      <td>1</td>\n",
       "    </tr>\n",
       "  </tbody>\n",
       "</table>\n",
       "</div>"
      ],
      "text/plain": [
       "   hair  feathers  eggs  milk  airbone  ...  legs  tail  domestic  catsize  class\n",
       "0     1         0     0     1        0  ...     4     0         0        1      1\n",
       "1     1         0     0     1        0  ...     4     1         0        1      1\n",
       "2     0         0     1     0        0  ...     0     1         0        0      4\n",
       "3     1         0     0     1        0  ...     4     0         0        1      1\n",
       "4     1         0     0     1        0  ...     4     1         0        1      1\n",
       "\n",
       "[5 rows x 17 columns]"
      ]
     },
     "execution_count": 126,
     "metadata": {
      "tags": []
     },
     "output_type": "execute_result"
    }
   ],
   "source": [
    "dataset.head()"
   ]
  },
  {
   "cell_type": "markdown",
   "metadata": {
    "colab_type": "text",
    "id": "lptrDd2hIOFN"
   },
   "source": [
    "Let us check for the unique classes ( labels ) present in the dataset"
   ]
  },
  {
   "cell_type": "code",
   "execution_count": 127,
   "metadata": {
    "colab": {
     "base_uri": "https://localhost:8080/",
     "height": 34
    },
    "colab_type": "code",
    "executionInfo": {
     "elapsed": 893,
     "status": "ok",
     "timestamp": 1580879949758,
     "user": {
      "displayName": "Mohammed Rizwan",
      "photoUrl": "https://lh3.googleusercontent.com/a-/AAuE7mB71PsBYLhuVqmFbtN-6NzmoyqKEkdtw1RZyZYeLw=s64",
      "userId": "08508186513102229355"
     },
     "user_tz": -330
    },
    "id": "EY7dWSckupNG",
    "outputId": "a8eea674-a127-4211-9190-34da705753bd"
   },
   "outputs": [
    {
     "data": {
      "text/plain": [
       "array([1, 2, 3, 4, 5, 6, 7])"
      ]
     },
     "execution_count": 127,
     "metadata": {
      "tags": []
     },
     "output_type": "execute_result"
    }
   ],
   "source": [
    "np.unique(dataset['class'].values)"
   ]
  },
  {
   "cell_type": "markdown",
   "metadata": {
    "colab_type": "text",
    "id": "ORDrj4FbIV-W"
   },
   "source": [
    "Checking for the shape of the dataset"
   ]
  },
  {
   "cell_type": "code",
   "execution_count": 128,
   "metadata": {
    "colab": {
     "base_uri": "https://localhost:8080/",
     "height": 34
    },
    "colab_type": "code",
    "executionInfo": {
     "elapsed": 1145,
     "status": "ok",
     "timestamp": 1580879951014,
     "user": {
      "displayName": "Mohammed Rizwan",
      "photoUrl": "https://lh3.googleusercontent.com/a-/AAuE7mB71PsBYLhuVqmFbtN-6NzmoyqKEkdtw1RZyZYeLw=s64",
      "userId": "08508186513102229355"
     },
     "user_tz": -330
    },
    "id": "WZi0wd4FXkvy",
    "outputId": "008d96be-33e1-4486-b253-0a4bb99c0c85"
   },
   "outputs": [
    {
     "data": {
      "text/plain": [
       "(101, 17)"
      ]
     },
     "execution_count": 128,
     "metadata": {
      "tags": []
     },
     "output_type": "execute_result"
    }
   ],
   "source": [
    "dataset.shape"
   ]
  },
  {
   "cell_type": "markdown",
   "metadata": {
    "colab_type": "text",
    "id": "GTNxkkvzXkv4"
   },
   "source": [
    "#### Splitting the datasets into train and test"
   ]
  },
  {
   "cell_type": "code",
   "execution_count": 0,
   "metadata": {
    "colab": {},
    "colab_type": "code",
    "id": "xn9kYLEpXkv5"
   },
   "outputs": [],
   "source": [
    "training_data, testing_data = train_test_split(dataset,test_size=0.2)"
   ]
  },
  {
   "cell_type": "code",
   "execution_count": 130,
   "metadata": {
    "colab": {
     "base_uri": "https://localhost:8080/",
     "height": 34
    },
    "colab_type": "code",
    "executionInfo": {
     "elapsed": 1044,
     "status": "ok",
     "timestamp": 1580879952333,
     "user": {
      "displayName": "Mohammed Rizwan",
      "photoUrl": "https://lh3.googleusercontent.com/a-/AAuE7mB71PsBYLhuVqmFbtN-6NzmoyqKEkdtw1RZyZYeLw=s64",
      "userId": "08508186513102229355"
     },
     "user_tz": -330
    },
    "id": "Fe-o-hD_L3PG",
    "outputId": "f98a6ad2-ce69-462c-ebe6-f1ba671544a9"
   },
   "outputs": [
    {
     "name": "stdout",
     "output_type": "stream",
     "text": [
      "80\n"
     ]
    }
   ],
   "source": [
    "training_data = training_data.values\n",
    "print(len(training_data))"
   ]
  },
  {
   "cell_type": "code",
   "execution_count": 131,
   "metadata": {
    "colab": {
     "base_uri": "https://localhost:8080/",
     "height": 34
    },
    "colab_type": "code",
    "executionInfo": {
     "elapsed": 984,
     "status": "ok",
     "timestamp": 1580879953303,
     "user": {
      "displayName": "Mohammed Rizwan",
      "photoUrl": "https://lh3.googleusercontent.com/a-/AAuE7mB71PsBYLhuVqmFbtN-6NzmoyqKEkdtw1RZyZYeLw=s64",
      "userId": "08508186513102229355"
     },
     "user_tz": -330
    },
    "id": "x7Nme5mHM3hf",
    "outputId": "9cae42de-f64c-4f5e-f2eb-218bea563890"
   },
   "outputs": [
    {
     "name": "stdout",
     "output_type": "stream",
     "text": [
      "21\n"
     ]
    }
   ],
   "source": [
    "testing_data = testing_data.values\n",
    "print(len(testing_data ))"
   ]
  },
  {
   "cell_type": "markdown",
   "metadata": {
    "colab_type": "text",
    "id": "P3U8So3OXkv-"
   },
   "source": [
    "#### Predict the class of test data"
   ]
  },
  {
   "cell_type": "code",
   "execution_count": 0,
   "metadata": {
    "colab": {},
    "colab_type": "code",
    "id": "-iGxFIDlLi5y"
   },
   "outputs": [],
   "source": [
    "## Importing the package\n",
    "from sklearn import tree"
   ]
  },
  {
   "cell_type": "code",
   "execution_count": 0,
   "metadata": {
    "colab": {},
    "colab_type": "code",
    "id": "YoRwrg95Lr-O"
   },
   "outputs": [],
   "source": [
    "clf = tree.DecisionTreeClassifier(criterion='entropy')"
   ]
  },
  {
   "cell_type": "code",
   "execution_count": 134,
   "metadata": {
    "colab": {
     "base_uri": "https://localhost:8080/",
     "height": 119
    },
    "colab_type": "code",
    "executionInfo": {
     "elapsed": 1109,
     "status": "ok",
     "timestamp": 1580879958095,
     "user": {
      "displayName": "Mohammed Rizwan",
      "photoUrl": "https://lh3.googleusercontent.com/a-/AAuE7mB71PsBYLhuVqmFbtN-6NzmoyqKEkdtw1RZyZYeLw=s64",
      "userId": "08508186513102229355"
     },
     "user_tz": -330
    },
    "id": "Dz1kUKYZ19Ek",
    "outputId": "2f9638cc-f09a-42a6-a490-143f4d9da7a6"
   },
   "outputs": [
    {
     "data": {
      "text/plain": [
       "DecisionTreeClassifier(ccp_alpha=0.0, class_weight=None, criterion='entropy',\n",
       "                       max_depth=None, max_features=None, max_leaf_nodes=None,\n",
       "                       min_impurity_decrease=0.0, min_impurity_split=None,\n",
       "                       min_samples_leaf=1, min_samples_split=2,\n",
       "                       min_weight_fraction_leaf=0.0, presort='deprecated',\n",
       "                       random_state=None, splitter='best')"
      ]
     },
     "execution_count": 134,
     "metadata": {
      "tags": []
     },
     "output_type": "execute_result"
    }
   ],
   "source": [
    "clf"
   ]
  },
  {
   "cell_type": "code",
   "execution_count": 0,
   "metadata": {
    "colab": {},
    "colab_type": "code",
    "id": "GU12mErjLuVH"
   },
   "outputs": [],
   "source": [
    "# Fitting the data\n",
    "clf = clf.fit(training_data[:,:16],training_data[:,16])"
   ]
  },
  {
   "cell_type": "code",
   "execution_count": 0,
   "metadata": {
    "colab": {},
    "colab_type": "code",
    "id": "eQFJG4fzMqjc"
   },
   "outputs": [],
   "source": [
    "# Calculating the labels for test data\n",
    "pred = clf.predict(testing_data[:,:16])"
   ]
  },
  {
   "cell_type": "code",
   "execution_count": 0,
   "metadata": {
    "colab": {},
    "colab_type": "code",
    "id": "N-YLa2gKNGdw"
   },
   "outputs": [],
   "source": [
    "# Importing library to calculate accuracy score\n",
    "from sklearn.metrics import accuracy_score"
   ]
  },
  {
   "cell_type": "code",
   "execution_count": 138,
   "metadata": {
    "colab": {
     "base_uri": "https://localhost:8080/",
     "height": 34
    },
    "colab_type": "code",
    "executionInfo": {
     "elapsed": 870,
     "status": "ok",
     "timestamp": 1580879961492,
     "user": {
      "displayName": "Mohammed Rizwan",
      "photoUrl": "https://lh3.googleusercontent.com/a-/AAuE7mB71PsBYLhuVqmFbtN-6NzmoyqKEkdtw1RZyZYeLw=s64",
      "userId": "08508186513102229355"
     },
     "user_tz": -330
    },
    "id": "DBGjNoZYNOE-",
    "outputId": "a714d3fd-9edf-42e7-95f8-adc0d80fe12e"
   },
   "outputs": [
    {
     "data": {
      "text/plain": [
       "0.9523809523809523"
      ]
     },
     "execution_count": 138,
     "metadata": {
      "tags": []
     },
     "output_type": "execute_result"
    }
   ],
   "source": [
    "# Calculating accuracy\n",
    "accuracy_score(testing_data[:,16], pred)"
   ]
  },
  {
   "cell_type": "markdown",
   "metadata": {
    "colab_type": "text",
    "id": "PIzzc1LPJhVg"
   },
   "source": [
    "saving the trained model (tree) in a png format using graphviz and os packages"
   ]
  },
  {
   "cell_type": "code",
   "execution_count": 139,
   "metadata": {
    "colab": {
     "base_uri": "https://localhost:8080/",
     "height": 34
    },
    "colab_type": "code",
    "executionInfo": {
     "elapsed": 885,
     "status": "ok",
     "timestamp": 1580879965723,
     "user": {
      "displayName": "Mohammed Rizwan",
      "photoUrl": "https://lh3.googleusercontent.com/a-/AAuE7mB71PsBYLhuVqmFbtN-6NzmoyqKEkdtw1RZyZYeLw=s64",
      "userId": "08508186513102229355"
     },
     "user_tz": -330
    },
    "id": "hHXPQM8U399j",
    "outputId": "88919d16-e01c-4be7-8794-83f08d2672b7"
   },
   "outputs": [
    {
     "data": {
      "text/plain": [
       "0"
      ]
     },
     "execution_count": 139,
     "metadata": {
      "tags": []
     },
     "output_type": "execute_result"
    }
   ],
   "source": [
    "import os\n",
    "save_dot = \"output\" + \".dot\"\n",
    "save_png = \"output\"+ \".png\"\n",
    "graph = graphviz.Source(export_graphviz(clf, out_file=save_dot, filled = True,feature_names=(list(dataset.columns))[:-1]))\n",
    "os.system(\"dot -T png -o \" + save_png + \" \" + save_dot)"
   ]
  },
  {
   "cell_type": "markdown",
   "metadata": {
    "colab_type": "text",
    "id": "ojuPB6OQJqHB"
   },
   "source": [
    "Plotting the tree"
   ]
  },
  {
   "cell_type": "code",
   "execution_count": 140,
   "metadata": {
    "colab": {
     "base_uri": "https://localhost:8080/",
     "height": 820
    },
    "colab_type": "code",
    "executionInfo": {
     "elapsed": 2691,
     "status": "ok",
     "timestamp": 1580879969440,
     "user": {
      "displayName": "Mohammed Rizwan",
      "photoUrl": "https://lh3.googleusercontent.com/a-/AAuE7mB71PsBYLhuVqmFbtN-6NzmoyqKEkdtw1RZyZYeLw=s64",
      "userId": "08508186513102229355"
     },
     "user_tz": -330
    },
    "id": "Rz5cQhfCFXz9",
    "outputId": "b60f37c2-0775-4ed9-f174-bb98ae059e3c"
   },
   "outputs": [
    {
     "data": {
      "image/png": "[encoded data removed]",
      "text/plain": [
       "<Figure size 1440x1440 with 1 Axes>"
      ]
     },
     "metadata": {
      "tags": []
     },
     "output_type": "display_data"
    }
   ],
   "source": [
    "import matplotlib.pyplot as plt\n",
    "plt.figure(figsize=(20,20))\n",
    "plt.grid(False)\n",
    "plt.imshow(plt.imread(save_png))\n",
    "plt.show()"
   ]
  },
  {
   "cell_type": "markdown",
   "metadata": {
    "colab_type": "text",
    "id": "n6w0-4CQXkwK"
   },
   "source": [
    "#### Exercise 1\n",
    "\n",
    "Change the train and test split ratio and observe the change in accuracy "
   ]
  },
  {
   "cell_type": "code",
   "execution_count": 0,
   "metadata": {
    "colab": {},
    "colab_type": "code",
    "id": "6ldggl6o4AYF"
   },
   "outputs": [],
   "source": [
    "train_data, test_data = train_test_split(dataset,test_size=0.3)"
   ]
  },
  {
   "cell_type": "code",
   "execution_count": 142,
   "metadata": {
    "colab": {
     "base_uri": "https://localhost:8080/",
     "height": 51
    },
    "colab_type": "code",
    "executionInfo": {
     "elapsed": 811,
     "status": "ok",
     "timestamp": 1580879973301,
     "user": {
      "displayName": "Mohammed Rizwan",
      "photoUrl": "https://lh3.googleusercontent.com/a-/AAuE7mB71PsBYLhuVqmFbtN-6NzmoyqKEkdtw1RZyZYeLw=s64",
      "userId": "08508186513102229355"
     },
     "user_tz": -330
    },
    "id": "mihvLcyXrKad",
    "outputId": "24a62254-0d34-4d17-9026-38f81082cfb6"
   },
   "outputs": [
    {
     "name": "stdout",
     "output_type": "stream",
     "text": [
      "70\n",
      "31\n"
     ]
    }
   ],
   "source": [
    "train_data = train_data.values\n",
    "print(len(train_data))\n",
    "\n",
    "test_data = test_data.values\n",
    "print(len(test_data ))"
   ]
  },
  {
   "cell_type": "code",
   "execution_count": 143,
   "metadata": {
    "colab": {
     "base_uri": "https://localhost:8080/",
     "height": 136
    },
    "colab_type": "code",
    "executionInfo": {
     "elapsed": 816,
     "status": "ok",
     "timestamp": 1580879974933,
     "user": {
      "displayName": "Mohammed Rizwan",
      "photoUrl": "https://lh3.googleusercontent.com/a-/AAuE7mB71PsBYLhuVqmFbtN-6NzmoyqKEkdtw1RZyZYeLw=s64",
      "userId": "08508186513102229355"
     },
     "user_tz": -330
    },
    "id": "sPD-vF8OrvMe",
    "outputId": "5b09ba4c-9747-494c-cb50-b62d48a63257"
   },
   "outputs": [
    {
     "data": {
      "text/plain": [
       "array([[1, 0, 0, ..., 0, 1, 1],\n",
       "       [0, 0, 1, ..., 0, 0, 7],\n",
       "       [0, 1, 1, ..., 0, 0, 2],\n",
       "       ...,\n",
       "       [0, 0, 1, ..., 0, 0, 5],\n",
       "       [0, 0, 1, ..., 0, 0, 6],\n",
       "       [0, 1, 1, ..., 1, 0, 2]])"
      ]
     },
     "execution_count": 143,
     "metadata": {
      "tags": []
     },
     "output_type": "execute_result"
    }
   ],
   "source": [
    "train_data"
   ]
  },
  {
   "cell_type": "code",
   "execution_count": 144,
   "metadata": {
    "colab": {
     "base_uri": "https://localhost:8080/",
     "height": 544
    },
    "colab_type": "code",
    "executionInfo": {
     "elapsed": 1100,
     "status": "ok",
     "timestamp": 1580879976265,
     "user": {
      "displayName": "Mohammed Rizwan",
      "photoUrl": "https://lh3.googleusercontent.com/a-/AAuE7mB71PsBYLhuVqmFbtN-6NzmoyqKEkdtw1RZyZYeLw=s64",
      "userId": "08508186513102229355"
     },
     "user_tz": -330
    },
    "id": "Y-3brQf1r0CN",
    "outputId": "d8974bb8-37b3-447d-db0a-bc76b7304b92"
   },
   "outputs": [
    {
     "data": {
      "text/plain": [
       "array([[1, 0, 1, 0, 1, 0, 0, 0, 0, 1, 1, 0, 6, 0, 0, 0, 6],\n",
       "       [0, 0, 1, 0, 0, 0, 0, 0, 0, 1, 0, 0, 0, 0, 0, 0, 7],\n",
       "       [0, 0, 1, 0, 0, 1, 1, 1, 1, 0, 1, 1, 0, 1, 0, 1, 4],\n",
       "       [1, 0, 0, 1, 0, 0, 1, 1, 1, 1, 0, 0, 4, 1, 0, 1, 1],\n",
       "       [1, 0, 0, 1, 0, 0, 0, 1, 1, 1, 0, 0, 4, 1, 1, 1, 1],\n",
       "       [0, 1, 1, 0, 1, 1, 1, 0, 1, 1, 0, 0, 2, 1, 0, 0, 2],\n",
       "       [1, 0, 0, 1, 0, 0, 0, 1, 1, 1, 0, 0, 4, 1, 0, 1, 1],\n",
       "       [1, 0, 0, 1, 0, 0, 0, 1, 1, 1, 0, 0, 4, 1, 1, 1, 1],\n",
       "       [1, 0, 0, 1, 0, 0, 1, 1, 1, 1, 0, 0, 4, 1, 0, 1, 1],\n",
       "       [0, 1, 1, 0, 1, 1, 1, 0, 1, 1, 0, 0, 2, 1, 0, 0, 2],\n",
       "       [0, 1, 1, 0, 1, 0, 0, 0, 1, 1, 0, 0, 2, 1, 0, 1, 2],\n",
       "       [1, 0, 0, 1, 0, 0, 0, 1, 1, 1, 0, 0, 4, 1, 0, 1, 1],\n",
       "       [0, 0, 1, 0, 0, 0, 0, 0, 0, 1, 0, 0, 6, 0, 0, 0, 6],\n",
       "       [1, 0, 0, 1, 0, 0, 1, 1, 1, 1, 0, 0, 4, 1, 0, 1, 1],\n",
       "       [0, 0, 0, 0, 0, 1, 1, 1, 1, 0, 1, 0, 0, 1, 0, 0, 3],\n",
       "       [0, 0, 1, 0, 0, 1, 0, 1, 1, 0, 0, 1, 0, 1, 0, 0, 4],\n",
       "       [0, 1, 1, 0, 1, 0, 1, 0, 1, 1, 0, 0, 2, 1, 0, 0, 2],\n",
       "       [0, 0, 1, 0, 0, 1, 0, 1, 1, 0, 0, 1, 0, 1, 1, 0, 4],\n",
       "       [1, 0, 0, 1, 0, 0, 0, 1, 1, 1, 0, 0, 4, 1, 0, 1, 1],\n",
       "       [0, 0, 1, 0, 0, 1, 1, 0, 0, 0, 0, 0, 6, 0, 0, 0, 7],\n",
       "       [1, 0, 0, 1, 0, 0, 1, 1, 1, 1, 0, 0, 4, 1, 0, 1, 1],\n",
       "       [1, 0, 0, 1, 0, 0, 0, 1, 1, 1, 0, 0, 2, 1, 0, 1, 1],\n",
       "       [0, 0, 1, 0, 0, 1, 1, 1, 1, 0, 0, 1, 0, 1, 0, 0, 4],\n",
       "       [0, 0, 1, 0, 0, 1, 1, 1, 1, 0, 0, 1, 0, 1, 0, 1, 4],\n",
       "       [1, 0, 0, 1, 0, 0, 1, 1, 1, 1, 0, 0, 4, 1, 0, 1, 1],\n",
       "       [0, 0, 1, 0, 0, 0, 1, 1, 1, 1, 1, 0, 0, 1, 0, 0, 3],\n",
       "       [0, 0, 1, 0, 0, 1, 1, 1, 1, 0, 0, 1, 0, 1, 0, 0, 4],\n",
       "       [0, 1, 1, 0, 1, 0, 0, 0, 1, 1, 0, 0, 2, 1, 1, 0, 2],\n",
       "       [1, 0, 0, 1, 0, 0, 0, 1, 1, 1, 0, 0, 4, 1, 0, 0, 1],\n",
       "       [0, 0, 1, 0, 0, 1, 0, 1, 1, 0, 0, 1, 0, 1, 0, 0, 4],\n",
       "       [0, 1, 1, 0, 0, 1, 1, 0, 1, 1, 0, 0, 2, 1, 0, 1, 2]])"
      ]
     },
     "execution_count": 144,
     "metadata": {
      "tags": []
     },
     "output_type": "execute_result"
    }
   ],
   "source": [
    "test_data"
   ]
  },
  {
   "cell_type": "code",
   "execution_count": 0,
   "metadata": {
    "colab": {},
    "colab_type": "code",
    "id": "LC76XVuHsi3e"
   },
   "outputs": [],
   "source": [
    "y_train = train_data[:,-1]\n",
    "x_train = train_data[:,:-1]"
   ]
  },
  {
   "cell_type": "markdown",
   "metadata": {
    "colab_type": "text",
    "id": "STkPQRRL8J66"
   },
   "source": [
    "### Exercise 2\n",
    "\n",
    "Classify the data using KNN"
   ]
  },
  {
   "cell_type": "code",
   "execution_count": 0,
   "metadata": {
    "colab": {},
    "colab_type": "code",
    "id": "e6Mh1pD28TwK"
   },
   "outputs": [],
   "source": [
    "from sklearn.neighbors import KNeighborsClassifier\n",
    "from sklearn.preprocessing import MinMaxScaler\n",
    "scaler = MinMaxScaler()\n",
    "k = 3\n",
    "neigh = KNeighborsClassifier(n_neighbors=k,metric=\"euclidean\", algorithm=\"brute\")"
   ]
  },
  {
   "cell_type": "code",
   "execution_count": 148,
   "metadata": {
    "colab": {
     "base_uri": "https://localhost:8080/",
     "height": 68
    },
    "colab_type": "code",
    "executionInfo": {
     "elapsed": 779,
     "status": "ok",
     "timestamp": 1580880125829,
     "user": {
      "displayName": "Mohammed Rizwan",
      "photoUrl": "https://lh3.googleusercontent.com/a-/AAuE7mB71PsBYLhuVqmFbtN-6NzmoyqKEkdtw1RZyZYeLw=s64",
      "userId": "08508186513102229355"
     },
     "user_tz": -330
    },
    "id": "xc7S4okStQ23",
    "outputId": "a25310ea-d1fb-4dea-83f0-201b10d5ad99"
   },
   "outputs": [
    {
     "data": {
      "text/plain": [
       "KNeighborsClassifier(algorithm='brute', leaf_size=30, metric='euclidean',\n",
       "                     metric_params=None, n_jobs=None, n_neighbors=3, p=2,\n",
       "                     weights='uniform')"
      ]
     },
     "execution_count": 148,
     "metadata": {
      "tags": []
     },
     "output_type": "execute_result"
    }
   ],
   "source": [
    "x_train = scaler.fit_transform(x_train[:,:])\n",
    "neigh.fit(x_train,y_train)"
   ]
  },
  {
   "cell_type": "code",
   "execution_count": 149,
   "metadata": {
    "colab": {
     "base_uri": "https://localhost:8080/",
     "height": 136
    },
    "colab_type": "code",
    "executionInfo": {
     "elapsed": 938,
     "status": "ok",
     "timestamp": 1580880136971,
     "user": {
      "displayName": "Mohammed Rizwan",
      "photoUrl": "https://lh3.googleusercontent.com/a-/AAuE7mB71PsBYLhuVqmFbtN-6NzmoyqKEkdtw1RZyZYeLw=s64",
      "userId": "08508186513102229355"
     },
     "user_tz": -330
    },
    "id": "2wIhIRnozHYa",
    "outputId": "b3ae8669-0ec9-4007-9e87-016a690d938c"
   },
   "outputs": [
    {
     "data": {
      "text/plain": [
       "array([[1., 0., 0., ..., 0., 0., 1.],\n",
       "       [0., 0., 1., ..., 0., 0., 0.],\n",
       "       [0., 1., 1., ..., 1., 0., 0.],\n",
       "       ...,\n",
       "       [0., 0., 1., ..., 0., 0., 0.],\n",
       "       [0., 0., 1., ..., 0., 0., 0.],\n",
       "       [0., 1., 1., ..., 1., 1., 0.]])"
      ]
     },
     "execution_count": 149,
     "metadata": {
      "tags": []
     },
     "output_type": "execute_result"
    }
   ],
   "source": [
    "x_train"
   ]
  },
  {
   "cell_type": "code",
   "execution_count": 150,
   "metadata": {
    "colab": {
     "base_uri": "https://localhost:8080/",
     "height": 85
    },
    "colab_type": "code",
    "executionInfo": {
     "elapsed": 922,
     "status": "ok",
     "timestamp": 1580880143272,
     "user": {
      "displayName": "Mohammed Rizwan",
      "photoUrl": "https://lh3.googleusercontent.com/a-/AAuE7mB71PsBYLhuVqmFbtN-6NzmoyqKEkdtw1RZyZYeLw=s64",
      "userId": "08508186513102229355"
     },
     "user_tz": -330
    },
    "id": "GdAw-i1FujXg",
    "outputId": "2f1b852c-5090-487f-85be-623dc5801c6d"
   },
   "outputs": [
    {
     "data": {
      "text/plain": [
       "array([1, 7, 2, 1, 7, 2, 1, 2, 2, 7, 6, 1, 1, 2, 5, 2, 1, 1, 1, 1, 2, 1,\n",
       "       1, 4, 2, 2, 1, 1, 4, 4, 1, 2, 5, 5, 1, 4, 6, 7, 1, 1, 1, 6, 1, 7,\n",
       "       6, 1, 6, 3, 2, 1, 4, 6, 1, 3, 7, 1, 1, 1, 1, 6, 2, 1, 2, 1, 1, 4,\n",
       "       2, 5, 6, 2])"
      ]
     },
     "execution_count": 150,
     "metadata": {
      "tags": []
     },
     "output_type": "execute_result"
    }
   ],
   "source": [
    "test_data = test_data.values"
   ]
  },
  {
   "cell_type": "code",
   "execution_count": 151,
   "metadata": {
    "colab": {
     "base_uri": "https://localhost:8080/",
     "height": 34
    },
    "colab_type": "code",
    "executionInfo": {
     "elapsed": 924,
     "status": "ok",
     "timestamp": 1580880146249,
     "user": {
      "displayName": "Mohammed Rizwan",
      "photoUrl": "https://lh3.googleusercontent.com/a-/AAuE7mB71PsBYLhuVqmFbtN-6NzmoyqKEkdtw1RZyZYeLw=s64",
      "userId": "08508186513102229355"
     },
     "user_tz": -330
    },
    "id": "8U1rQAVBu6yB",
    "outputId": "0bc6ca18-d733-4e0c-e40d-d67ebd5349fe"
   },
   "outputs": [
    {
     "data": {
      "text/plain": [
       "0.9571428571428572"
      ]
     },
     "execution_count": 151,
     "metadata": {
      "tags": []
     },
     "output_type": "execute_result"
    }
   ],
   "source": [
    "neigh.score(x_train,y_train)"
   ]
  },
  {
   "cell_type": "code",
   "execution_count": 0,
   "metadata": {
    "colab": {},
    "colab_type": "code",
    "id": "6a2ioyOmvhax"
   },
   "outputs": [],
   "source": [
    "y_test = test_data[:,-1]\n",
    "x_test = test_data[:,:-1]\n",
    "x_test = scaler.fit_transform(x_test[:,:])"
   ]
  },
  {
   "cell_type": "code",
   "execution_count": 154,
   "metadata": {
    "colab": {
     "base_uri": "https://localhost:8080/",
     "height": 51
    },
    "colab_type": "code",
    "executionInfo": {
     "elapsed": 907,
     "status": "ok",
     "timestamp": 1580880186368,
     "user": {
      "displayName": "Mohammed Rizwan",
      "photoUrl": "https://lh3.googleusercontent.com/a-/AAuE7mB71PsBYLhuVqmFbtN-6NzmoyqKEkdtw1RZyZYeLw=s64",
      "userId": "08508186513102229355"
     },
     "user_tz": -330
    },
    "id": "O99mjv_MvveY",
    "outputId": "dd731d2b-ea0b-4dda-efc8-c6f34e19e79b"
   },
   "outputs": [
    {
     "data": {
      "text/plain": [
       "array([6, 6, 4, 1, 1, 2, 1, 1, 1, 2, 2, 1, 6, 1, 4, 4, 2, 4, 1, 7, 1, 1,\n",
       "       4, 4, 1, 3, 4, 2, 1, 4, 2])"
      ]
     },
     "execution_count": 154,
     "metadata": {
      "tags": []
     },
     "output_type": "execute_result"
    }
   ],
   "source": [
    "neigh.predict(x_test)"
   ]
  },
  {
   "cell_type": "code",
   "execution_count": 155,
   "metadata": {
    "colab": {
     "base_uri": "https://localhost:8080/",
     "height": 34
    },
    "colab_type": "code",
    "executionInfo": {
     "elapsed": 907,
     "status": "ok",
     "timestamp": 1580880188792,
     "user": {
      "displayName": "Mohammed Rizwan",
      "photoUrl": "https://lh3.googleusercontent.com/a-/AAuE7mB71PsBYLhuVqmFbtN-6NzmoyqKEkdtw1RZyZYeLw=s64",
      "userId": "08508186513102229355"
     },
     "user_tz": -330
    },
    "id": "OdCen31jv30P",
    "outputId": "8300b0c7-630e-4ad5-f405-2d03179aa722"
   },
   "outputs": [
    {
     "data": {
      "text/plain": [
       "0.9354838709677419"
      ]
     },
     "execution_count": 155,
     "metadata": {
      "tags": []
     },
     "output_type": "execute_result"
    }
   ],
   "source": [
    "neigh.score(x_test,y_test)"
   ]
  },
  {
   "cell_type": "markdown",
   "metadata": {
    "colab_type": "text",
    "id": "B1kHHPNr8j4x"
   },
   "source": [
    "### Exercise 3\n",
    "\n",
    "Classify the data using Linear Classifier"
   ]
  },
  {
   "cell_type": "code",
   "execution_count": 0,
   "metadata": {
    "colab": {},
    "colab_type": "code",
    "id": "4P-yN7XC8orv"
   },
   "outputs": [],
   "source": [
    "from sklearn import linear_model"
   ]
  },
  {
   "cell_type": "code",
   "execution_count": 0,
   "metadata": {
    "colab": {},
    "colab_type": "code",
    "id": "GKPqC2Wywn5x"
   },
   "outputs": [],
   "source": [
    "linear_classifier = linear_model.SGDClassifier()"
   ]
  },
  {
   "cell_type": "code",
   "execution_count": 158,
   "metadata": {
    "colab": {
     "base_uri": "https://localhost:8080/",
     "height": 119
    },
    "colab_type": "code",
    "executionInfo": {
     "elapsed": 911,
     "status": "ok",
     "timestamp": 1580880205733,
     "user": {
      "displayName": "Mohammed Rizwan",
      "photoUrl": "https://lh3.googleusercontent.com/a-/AAuE7mB71PsBYLhuVqmFbtN-6NzmoyqKEkdtw1RZyZYeLw=s64",
      "userId": "08508186513102229355"
     },
     "user_tz": -330
    },
    "id": "jDJAfgThwrzo",
    "outputId": "82c8984b-6647-48be-96c9-4cf163e3a1a9"
   },
   "outputs": [
    {
     "data": {
      "text/plain": [
       "SGDClassifier(alpha=0.0001, average=False, class_weight=None,\n",
       "              early_stopping=False, epsilon=0.1, eta0=0.0, fit_intercept=True,\n",
       "              l1_ratio=0.15, learning_rate='optimal', loss='hinge',\n",
       "              max_iter=1000, n_iter_no_change=5, n_jobs=None, penalty='l2',\n",
       "              power_t=0.5, random_state=None, shuffle=True, tol=0.001,\n",
       "              validation_fraction=0.1, verbose=0, warm_start=False)"
      ]
     },
     "execution_count": 158,
     "metadata": {
      "tags": []
     },
     "output_type": "execute_result"
    }
   ],
   "source": [
    "linear_classifier.fit(x_train,y_train)"
   ]
  },
  {
   "cell_type": "code",
   "execution_count": 159,
   "metadata": {
    "colab": {
     "base_uri": "https://localhost:8080/",
     "height": 85
    },
    "colab_type": "code",
    "executionInfo": {
     "elapsed": 928,
     "status": "ok",
     "timestamp": 1580880209870,
     "user": {
      "displayName": "Mohammed Rizwan",
      "photoUrl": "https://lh3.googleusercontent.com/a-/AAuE7mB71PsBYLhuVqmFbtN-6NzmoyqKEkdtw1RZyZYeLw=s64",
      "userId": "08508186513102229355"
     },
     "user_tz": -330
    },
    "id": "IalJ4lA3wuvo",
    "outputId": "a8f9d350-5b12-488d-ad1e-a6e6707a8483"
   },
   "outputs": [
    {
     "data": {
      "text/plain": [
       "array([1, 7, 2, 1, 7, 2, 1, 2, 2, 7, 6, 1, 1, 2, 5, 2, 1, 1, 1, 1, 2, 1,\n",
       "       1, 4, 2, 2, 1, 1, 4, 4, 1, 2, 5, 5, 1, 4, 7, 7, 1, 1, 1, 6, 1, 7,\n",
       "       7, 1, 6, 3, 2, 1, 4, 6, 1, 3, 7, 1, 1, 1, 1, 6, 2, 1, 3, 1, 1, 4,\n",
       "       2, 5, 6, 2])"
      ]
     },
     "execution_count": 159,
     "metadata": {
      "tags": []
     },
     "output_type": "execute_result"
    }
   ],
   "source": [
    "linear_classifier.predict(x_train)"
   ]
  },
  {
   "cell_type": "code",
   "execution_count": 160,
   "metadata": {
    "colab": {
     "base_uri": "https://localhost:8080/",
     "height": 34
    },
    "colab_type": "code",
    "executionInfo": {
     "elapsed": 940,
     "status": "ok",
     "timestamp": 1580880212339,
     "user": {
      "displayName": "Mohammed Rizwan",
      "photoUrl": "https://lh3.googleusercontent.com/a-/AAuE7mB71PsBYLhuVqmFbtN-6NzmoyqKEkdtw1RZyZYeLw=s64",
      "userId": "08508186513102229355"
     },
     "user_tz": -330
    },
    "id": "s6VFD5Dyw-An",
    "outputId": "9511697a-7558-43e7-8d74-f3fd268741bb"
   },
   "outputs": [
    {
     "data": {
      "text/plain": [
       "1.0"
      ]
     },
     "execution_count": 160,
     "metadata": {
      "tags": []
     },
     "output_type": "execute_result"
    }
   ],
   "source": [
    "linear_classifier.score(x_train,y_train)"
   ]
  },
  {
   "cell_type": "code",
   "execution_count": 161,
   "metadata": {
    "colab": {
     "base_uri": "https://localhost:8080/",
     "height": 51
    },
    "colab_type": "code",
    "executionInfo": {
     "elapsed": 907,
     "status": "ok",
     "timestamp": 1580880215163,
     "user": {
      "displayName": "Mohammed Rizwan",
      "photoUrl": "https://lh3.googleusercontent.com/a-/AAuE7mB71PsBYLhuVqmFbtN-6NzmoyqKEkdtw1RZyZYeLw=s64",
      "userId": "08508186513102229355"
     },
     "user_tz": -330
    },
    "id": "HuhEaaFjxGMS",
    "outputId": "c42fc4d4-f7ac-4c28-c089-96693374c691"
   },
   "outputs": [
    {
     "data": {
      "text/plain": [
       "array([6, 7, 4, 1, 1, 2, 1, 1, 1, 2, 2, 1, 6, 1, 4, 4, 2, 4, 1, 7, 1, 1,\n",
       "       4, 4, 1, 3, 4, 2, 1, 4, 2])"
      ]
     },
     "execution_count": 161,
     "metadata": {
      "tags": []
     },
     "output_type": "execute_result"
    }
   ],
   "source": [
    "linear_classifier.predict(x_test)"
   ]
  },
  {
   "cell_type": "code",
   "execution_count": 162,
   "metadata": {
    "colab": {
     "base_uri": "https://localhost:8080/",
     "height": 34
    },
    "colab_type": "code",
    "executionInfo": {
     "elapsed": 1127,
     "status": "ok",
     "timestamp": 1580880217341,
     "user": {
      "displayName": "Mohammed Rizwan",
      "photoUrl": "https://lh3.googleusercontent.com/a-/AAuE7mB71PsBYLhuVqmFbtN-6NzmoyqKEkdtw1RZyZYeLw=s64",
      "userId": "08508186513102229355"
     },
     "user_tz": -330
    },
    "id": "dD6U2FB_xMFb",
    "outputId": "4de54d41-49a7-48c9-f61c-803480c1fee7"
   },
   "outputs": [
    {
     "data": {
      "text/plain": [
       "0.967741935483871"
      ]
     },
     "execution_count": 162,
     "metadata": {
      "tags": []
     },
     "output_type": "execute_result"
    }
   ],
   "source": [
    "linear_classifier.score(x_test,y_test)"
   ]
  }
 ],
 "metadata": {
  "colab": {
   "collapsed_sections": [],
   "name": "08_KNN_DT_LC_Zoo_data.ipynb",
   "provenance": []
  },
  "kernelspec": {
   "display_name": "Python 3",
   "language": "python",
   "name": "python3"
  },
  "language_info": {
   "codemirror_mode": {
    "name": "ipython",
    "version": 3
   },
   "file_extension": ".py",
   "mimetype": "text/x-python",
   "name": "python",
   "nbconvert_exporter": "python",
   "pygments_lexer": "ipython3",
   "version": "3.6.5"
  }
 },
 "nbformat": 4,
 "nbformat_minor": 1
}
