{
 "cells": [
  {
   "cell_type": "markdown",
   "metadata": {
    "colab_type": "text",
    "id": "HjrYIpy2yYbI"
   },
   "source": [
    "# Advanced Certification in AIML\n",
    "## A Program by IIIT-H and TalentSprint\n",
    "\n"
   ]
  },
  {
   "cell_type": "markdown",
   "metadata": {
    "colab_type": "text",
    "id": "x77SzRGJcY3o"
   },
   "source": [
    "## Learning Objectives"
   ]
  },
  {
   "cell_type": "markdown",
   "metadata": {
    "colab_type": "text",
    "id": "UKB4OmrMccgl"
   },
   "source": [
    "At the end of the experiment,  you will be able to :\n",
    "\n",
    "* Understand how to derive Eigen faces using PCA\n",
    "* Use the PCA features for classification purpose."
   ]
  },
  {
   "cell_type": "markdown",
   "metadata": {
    "colab_type": "text",
    "id": "nFEZUAvJdXcW"
   },
   "source": [
    "\n",
    "\n",
    "## Dataset"
   ]
  },
  {
   "cell_type": "markdown",
   "metadata": {
    "colab_type": "text",
    "id": "_reikMZBdZ0o"
   },
   "source": [
    "### Description \n",
    "\n",
    "The dataset choosen for this experiment is a preprocessed excerpt of the “Labeled Faces in the Wild”, aka LFW. \n",
    "\n",
    "Labeled Faces in the Wild, a database of face photographs designed for studying the problem of unconstrained face recognition. The data set contains more than 13,000 images of faces collected from the web. Each face has been labeled with the name of the person pictured. 1680 of the people pictured have two or more distinct photos in the data set. The only constraint on these faces is that they were detected by the Viola-Jones face detector. "
   ]
  },
  {
   "cell_type": "markdown",
   "metadata": {
    "colab_type": "text",
    "id": "RlGNyzR5fsxQ"
   },
   "source": [
    "## AI / ML Technique"
   ]
  },
  {
   "cell_type": "markdown",
   "metadata": {
    "colab_type": "text",
    "id": "Vy4vk5Fdfwg3"
   },
   "source": [
    "### Eigen Faces\n",
    "\n",
    "Eigenfaces is the name given to a set of eigenvectors when they are used in the computer vision problem of human face recognition. The approach of using eigenfaces for recognition was developed by Sirovich and Kirby (1987) and used by Matthew Turk and Alex Pentland in face classification. The eigenvectors are derived from the covariance matrix of the probability distribution over the high-dimensional vector space of face images. The eigenfaces themselves form a basis set of all images used to construct the covariance matrix. This produces dimension reduction by allowing the smaller set of basis images to represent the original training images. Classification can be achieved by comparing how faces are represented by the basis set."
   ]
  },
  {
   "cell_type": "markdown",
   "metadata": {
    "colab_type": "text",
    "id": "B8qYnsBoyYbJ"
   },
   "source": [
    "### Setup Steps"
   ]
  },
  {
   "cell_type": "markdown",
   "metadata": {
    "colab_type": "text",
    "id": "_R_HrXRcyYbL"
   },
   "source": [
    "#### Importing Required Packages"
   ]
  },
  {
   "cell_type": "code",
   "execution_count": 0,
   "metadata": {
    "colab": {},
    "colab_type": "code",
    "id": "BBg8NqofzFy3"
   },
   "outputs": [],
   "source": [
    "from __future__ import print_function\n",
    "\n",
    "from time import time\n",
    "import logging\n",
    "import matplotlib.pyplot as plt\n",
    "# Importing Sklearn Packages\n",
    "from sklearn.model_selection import train_test_split\n",
    "from sklearn.datasets import fetch_lfw_people\n",
    "from sklearn.metrics import classification_report\n",
    "from sklearn.metrics import confusion_matrix\n",
    "from sklearn.decomposition import PCA\n"
   ]
  },
  {
   "cell_type": "code",
   "execution_count": 0,
   "metadata": {
    "colab": {
     "base_uri": "https://localhost:8080/",
     "height": 34
    },
    "colab_type": "code",
    "id": "q9CVBhsLzMB5",
    "outputId": "77a317c0-dafe-46e1-8a2d-2b48c1d76185"
   },
   "outputs": [
    {
     "name": "stdout",
     "output_type": "stream",
     "text": [
      "Automatically created module for IPython interactive environment\n"
     ]
    }
   ],
   "source": [
    "print(__doc__)\n",
    "\n",
    "# Display progress logs on stdout\n",
    "logging.basicConfig(level=logging.INFO, format='%(asctime)s %(message)s')\n",
    "\n"
   ]
  },
  {
   "cell_type": "markdown",
   "metadata": {
    "colab_type": "text",
    "id": "Gmjym9DFJwF_"
   },
   "source": [
    "## Download the data"
   ]
  },
  {
   "cell_type": "code",
   "execution_count": 0,
   "metadata": {
    "colab": {
     "base_uri": "https://localhost:8080/",
     "height": 153
    },
    "colab_type": "code",
    "id": "t3BSxmnXJvgJ",
    "outputId": "b0dc858c-773e-4a0f-c0fc-d431081b7d5a"
   },
   "outputs": [
    {
     "name": "stderr",
     "output_type": "stream",
     "text": [
      "Downloading LFW metadata: https://ndownloader.figshare.com/files/5976012\n",
      "2020-02-23 06:49:33,107 Downloading LFW metadata: https://ndownloader.figshare.com/files/5976012\n",
      "Downloading LFW metadata: https://ndownloader.figshare.com/files/5976009\n",
      "2020-02-23 06:49:34,087 Downloading LFW metadata: https://ndownloader.figshare.com/files/5976009\n",
      "Downloading LFW metadata: https://ndownloader.figshare.com/files/5976006\n",
      "2020-02-23 06:49:35,043 Downloading LFW metadata: https://ndownloader.figshare.com/files/5976006\n",
      "Downloading LFW data (~200MB): https://ndownloader.figshare.com/files/5976015\n",
      "2020-02-23 06:49:36,214 Downloading LFW data (~200MB): https://ndownloader.figshare.com/files/5976015\n"
     ]
    }
   ],
   "source": [
    "# Loading and Downloading data from sklearn \n",
    "lfw_people = fetch_lfw_people(min_faces_per_person=70, resize=0.4)\n",
    "\n",
    "# Storing images arrays shapes (for plotting)\n",
    "n_samples, h, w = lfw_people.images.shape"
   ]
  },
  {
   "cell_type": "code",
   "execution_count": 0,
   "metadata": {
    "colab": {
     "base_uri": "https://localhost:8080/",
     "height": 34
    },
    "colab_type": "code",
    "id": "-o95CnN6zxIh",
    "outputId": "d0ace4d5-b545-4b08-89fe-ef4b2fe885d5"
   },
   "outputs": [
    {
     "data": {
      "text/plain": [
       "sklearn.utils.Bunch"
      ]
     },
     "execution_count": 13,
     "metadata": {
      "tags": []
     },
     "output_type": "execute_result"
    }
   ],
   "source": [
    "type(lfw_people)"
   ]
  },
  {
   "cell_type": "code",
   "execution_count": 0,
   "metadata": {
    "colab": {
     "base_uri": "https://localhost:8080/",
     "height": 34
    },
    "colab_type": "code",
    "id": "yZBRGhQ00Bqo",
    "outputId": "d231b6b9-2252-4ffe-85fb-b9ee71a100ff"
   },
   "outputs": [
    {
     "data": {
      "text/plain": [
       "((1288, 1850), (1288, 50, 37))"
      ]
     },
     "execution_count": 23,
     "metadata": {
      "tags": []
     },
     "output_type": "execute_result"
    }
   ],
   "source": [
    "lfw_people.data.shape, lfw_people.images.shape"
   ]
  },
  {
   "cell_type": "markdown",
   "metadata": {
    "colab_type": "text",
    "id": "I9-dYGItJ_ex"
   },
   "source": [
    "### Assigning to the X i.e. data variable, by using the 'data' attribute present within lfw_people"
   ]
  },
  {
   "cell_type": "code",
   "execution_count": 0,
   "metadata": {
    "colab": {},
    "colab_type": "code",
    "id": "hrC0ewCmzMx4"
   },
   "outputs": [],
   "source": [
    "X = lfw_people.data\n",
    "n_features = X.shape[1]"
   ]
  },
  {
   "cell_type": "code",
   "execution_count": 0,
   "metadata": {
    "colab": {
     "base_uri": "https://localhost:8080/",
     "height": 34
    },
    "colab_type": "code",
    "id": "72J3QT_y0nuv",
    "outputId": "566e188e-688f-4d9e-e08d-6a6d43fa86c8"
   },
   "outputs": [
    {
     "data": {
      "text/plain": [
       "(1288, 7)"
      ]
     },
     "execution_count": 25,
     "metadata": {
      "tags": []
     },
     "output_type": "execute_result"
    }
   ],
   "source": [
    "len(lfw_people.target), len(lfw_people.target_names)"
   ]
  },
  {
   "cell_type": "code",
   "execution_count": 0,
   "metadata": {
    "colab": {
     "base_uri": "https://localhost:8080/",
     "height": 68
    },
    "colab_type": "code",
    "id": "Ds2gPEMA00_A",
    "outputId": "2a5b28fa-a4c9-4873-8e80-d0db91e2a228"
   },
   "outputs": [
    {
     "data": {
      "text/plain": [
       "(array([5]),\n",
       " array(['Ariel Sharon', 'Colin Powell', 'Donald Rumsfeld', 'George W Bush',\n",
       "        'Gerhard Schroeder', 'Hugo Chavez', 'Tony Blair'], dtype='<U17'))"
      ]
     },
     "execution_count": 27,
     "metadata": {
      "tags": []
     },
     "output_type": "execute_result"
    }
   ],
   "source": [
    "lfw_people.target[:1], lfw_people.target_names"
   ]
  },
  {
   "cell_type": "code",
   "execution_count": 0,
   "metadata": {
    "colab": {
     "base_uri": "https://localhost:8080/",
     "height": 85
    },
    "colab_type": "code",
    "id": "Aq5O4SJjzXpi",
    "outputId": "4fdec28f-8d6c-480f-aaae-4f0d38383f5f"
   },
   "outputs": [
    {
     "name": "stdout",
     "output_type": "stream",
     "text": [
      "Total dataset size:\n",
      "n_samples: 1288\n",
      "n_features: 1850\n",
      "n_classes: 7\n"
     ]
    }
   ],
   "source": [
    "\n",
    "# the label to predict is the id of the person\n",
    "y = lfw_people.target\n",
    "# Loading the target names (Label names)\n",
    "target_names = lfw_people.target_names\n",
    "# Checkinq How many classes are present\n",
    "n_classes = target_names.shape[0]\n",
    "\n",
    "print(\"Total dataset size:\")\n",
    "print(\"n_samples: %d\" % n_samples)\n",
    "print(\"n_features: %d\" % n_features)\n",
    "print(\"n_classes: %d\" % n_classes)\n",
    "\n",
    "\n"
   ]
  },
  {
   "cell_type": "markdown",
   "metadata": {
    "colab_type": "text",
    "id": "fxkbeTCsKRm0"
   },
   "source": [
    "### Split into a training and testing set using train_test_split sklearn function\n"
   ]
  },
  {
   "cell_type": "code",
   "execution_count": 0,
   "metadata": {
    "colab": {},
    "colab_type": "code",
    "id": "TU7bRT6WKQ8m"
   },
   "outputs": [],
   "source": [
    "X_train, X_test, y_train, y_test = train_test_split(X, y, test_size=0.25)"
   ]
  },
  {
   "cell_type": "markdown",
   "metadata": {
    "colab_type": "text",
    "id": "1-fb1HraKiHU"
   },
   "source": [
    "## Performing PCA on the face images, otherwise known as Eigenfaces"
   ]
  },
  {
   "cell_type": "markdown",
   "metadata": {
    "colab_type": "text",
    "id": "bauwkVrNK4yU"
   },
   "source": [
    "### Compute the PCA"
   ]
  },
  {
   "cell_type": "code",
   "execution_count": 0,
   "metadata": {
    "colab": {
     "base_uri": "https://localhost:8080/",
     "height": 51
    },
    "colab_type": "code",
    "id": "ZIbummkGzYH6",
    "outputId": "daadf600-ca63-4b97-c910-e8f1621d14b5"
   },
   "outputs": [
    {
     "name": "stdout",
     "output_type": "stream",
     "text": [
      "Extracting the top 150 eigenfaces from 966 faces\n",
      "done in 0.267s\n"
     ]
    }
   ],
   "source": [
    "###############################################################################\n",
    "# Compute a PCA (eigenfaces) on the face dataset (treated as unlabeled\n",
    "# dataset): unsupervised feature extraction / dimensionality reduction\n",
    "n_components = 150\n",
    "\n",
    "print(\"Extracting the top %d eigenfaces from %d faces\"\n",
    "      % (n_components, X_train.shape[0]))\n",
    "# Starting the timer\n",
    "t0 = time()\n",
    "\n",
    "# Trying to extarct PCA features using PCA function from sklearn\n",
    "pca = PCA(n_components=n_components, whiten=True).fit(X_train)\n",
    "# Printing the time taken to extract the features\n",
    "print(\"done in %0.3fs\" % (time() - t0))\n",
    "\n",
    "# Storing the eigen faces\n",
    "eigenfaces = pca.components_.reshape((n_components, h, w))\n"
   ]
  },
  {
   "cell_type": "code",
   "execution_count": 0,
   "metadata": {
    "colab": {
     "base_uri": "https://localhost:8080/",
     "height": 238
    },
    "colab_type": "code",
    "id": "9p8528CN2Wgh",
    "outputId": "dea49988-d987-464b-d4bf-44eb957863af"
   },
   "outputs": [
    {
     "name": "stdout",
     "output_type": "stream",
     "text": [
      "[[-0.00766048 -0.00811348 -0.00905381 ... -0.01304767 -0.0115261\n",
      "  -0.0111744 ]\n",
      " [-0.00750966 -0.0084609  -0.00987256 ... -0.01376386 -0.01210641\n",
      "  -0.01182548]\n",
      " [-0.00819996 -0.00925795 -0.0108986  ... -0.01483773 -0.01294636\n",
      "  -0.01258943]\n",
      " ...\n",
      " [-0.00043414 -0.00141411 -0.00475521 ... -0.01848291 -0.01537495\n",
      "  -0.0133372 ]\n",
      " [-0.00093703 -0.00165704 -0.00459709 ... -0.01819319 -0.01488758\n",
      "  -0.01247771]\n",
      " [-0.00190906 -0.00252776 -0.00430977 ... -0.01638328 -0.01435877\n",
      "  -0.01204144]]\n"
     ]
    }
   ],
   "source": [
    "print (eigenfaces[0])"
   ]
  },
  {
   "cell_type": "code",
   "execution_count": 0,
   "metadata": {
    "colab": {
     "base_uri": "https://localhost:8080/",
     "height": 34
    },
    "colab_type": "code",
    "id": "D12tNOkE2dps",
    "outputId": "33e0d619-4ab8-4d34-fc54-9c736d404174"
   },
   "outputs": [
    {
     "data": {
      "text/plain": [
       "50"
      ]
     },
     "execution_count": 35,
     "metadata": {
      "tags": []
     },
     "output_type": "execute_result"
    }
   ],
   "source": [
    "len (eigenfaces[0])"
   ]
  },
  {
   "cell_type": "markdown",
   "metadata": {
    "colab_type": "text",
    "id": "qi0IQ1-nIIOk"
   },
   "source": [
    "### Projecting the input data on the eigenfaces orthonormal basis\n"
   ]
  },
  {
   "cell_type": "code",
   "execution_count": 0,
   "metadata": {
    "colab": {
     "base_uri": "https://localhost:8080/",
     "height": 34
    },
    "colab_type": "code",
    "id": "hRHdK40Fzcg6",
    "outputId": "fb19b6cf-2c9a-4f82-c60d-5ff75df127d1"
   },
   "outputs": [
    {
     "name": "stdout",
     "output_type": "stream",
     "text": [
      "done in 0.034s\n"
     ]
    }
   ],
   "source": [
    "t0 = time()\n",
    "# Transforming the data\n",
    "X_train_pca = pca.transform(X_train)\n",
    "X_test_pca = pca.transform(X_test)\n",
    "print(\"done in %0.3fs\" % (time() - t0))"
   ]
  },
  {
   "cell_type": "code",
   "execution_count": 0,
   "metadata": {
    "colab": {
     "base_uri": "https://localhost:8080/",
     "height": 34
    },
    "colab_type": "code",
    "id": "4OKjxIaLzfZP",
    "outputId": "2f231433-4c85-49d1-ccdf-ee1e5e5e8f9e"
   },
   "outputs": [
    {
     "data": {
      "text/plain": [
       "((966, 1850), (966, 150), (322, 1850), (322, 150))"
      ]
     },
     "execution_count": 32,
     "metadata": {
      "tags": []
     },
     "output_type": "execute_result"
    }
   ],
   "source": [
    "# Checking for the shape of the original data \n",
    "X_train.shape, X_train_pca.shape, X_test.shape, X_test_pca.shape"
   ]
  },
  {
   "cell_type": "markdown",
   "metadata": {
    "colab_type": "text",
    "id": "kzp9u2jdISz7"
   },
   "source": [
    "## Train a MLP classification model\n"
   ]
  },
  {
   "cell_type": "markdown",
   "metadata": {
    "colab_type": "text",
    "id": "kBD2USvfIapC"
   },
   "source": [
    "### Fitting the classifier to the training set"
   ]
  },
  {
   "cell_type": "code",
   "execution_count": 0,
   "metadata": {
    "colab": {},
    "colab_type": "code",
    "id": "wCvUHd9_zjCo"
   },
   "outputs": [],
   "source": [
    "t0 = time()\n",
    "from sklearn.neural_network import MLPClassifier\n",
    "clf = MLPClassifier(hidden_layer_sizes=(30,30,30))\n"
   ]
  },
  {
   "cell_type": "code",
   "execution_count": 0,
   "metadata": {
    "colab": {
     "base_uri": "https://localhost:8080/",
     "height": 34
    },
    "colab_type": "code",
    "id": "JEDKuiy9zmz6",
    "outputId": "8b7e13ca-c1fd-49ea-fbfb-b86ac9baa857"
   },
   "outputs": [
    {
     "name": "stdout",
     "output_type": "stream",
     "text": [
      "done in 3.648s\n"
     ]
    }
   ],
   "source": [
    "clf = clf.fit(X_train_pca, y_train)\n",
    "print(\"done in %0.3fs\" % (time() - t0))"
   ]
  },
  {
   "cell_type": "markdown",
   "metadata": {
    "colab_type": "text",
    "id": "i486kOGEImdO"
   },
   "source": [
    "###  Quantitative evaluation of the model quality on the test set"
   ]
  },
  {
   "cell_type": "code",
   "execution_count": 0,
   "metadata": {
    "colab": {
     "base_uri": "https://localhost:8080/",
     "height": 459
    },
    "colab_type": "code",
    "id": "bUfrCIQazr5_",
    "outputId": "4d70ea37-4dc3-4817-b07d-2afeb6b7b9c7"
   },
   "outputs": [
    {
     "name": "stdout",
     "output_type": "stream",
     "text": [
      "Predicting people's names on the test set\n",
      "done in 0.010s\n",
      "accuracy is 0.7484472049689441\n",
      "classification report\n",
      "                   precision    recall  f1-score   support\n",
      "\n",
      "     Ariel Sharon       0.69      0.55      0.61        20\n",
      "     Colin Powell       0.77      0.81      0.79        58\n",
      "  Donald Rumsfeld       0.65      0.48      0.56        31\n",
      "    George W Bush       0.78      0.88      0.83       141\n",
      "Gerhard Schroeder       0.64      0.52      0.57        27\n",
      "      Hugo Chavez       0.69      0.73      0.71        15\n",
      "       Tony Blair       0.76      0.63      0.69        30\n",
      "\n",
      "         accuracy                           0.75       322\n",
      "        macro avg       0.71      0.66      0.68       322\n",
      "     weighted avg       0.74      0.75      0.74       322\n",
      "\n",
      "confusion matrix\n",
      "[[ 11   2   2   5   0   0   0]\n",
      " [  2  47   0   7   0   0   2]\n",
      " [  1   2  15  11   0   0   2]\n",
      " [  0   7   3 124   3   2   2]\n",
      " [  2   2   2   5  14   2   0]\n",
      " [  0   0   1   3   0  11   0]\n",
      " [  0   1   0   4   5   1  19]]\n"
     ]
    }
   ],
   "source": [
    "print(\"Predicting people's names on the test set\")\n",
    "t0 = time()\n",
    "y_pred = clf.predict(X_test_pca)\n",
    "\n",
    "from sklearn.metrics import accuracy_score\n",
    "\n",
    "print(\"done in %0.3fs\" % (time() - t0))\n",
    "\n",
    "print(\"accuracy is\", accuracy_score(y_test,y_pred,normalize=True))\n",
    "print(\"classification report\")\n",
    "print(classification_report(y_test, y_pred, target_names=target_names))\n",
    "print(\"confusion matrix\")\n",
    "print(confusion_matrix(y_test, y_pred, labels=range(n_classes)))\n"
   ]
  },
  {
   "cell_type": "markdown",
   "metadata": {
    "colab_type": "text",
    "id": "wSBKVU6eIyZX"
   },
   "source": [
    "### Qualitative evaluation of the predictions using matplotlib\n"
   ]
  },
  {
   "cell_type": "code",
   "execution_count": 0,
   "metadata": {
    "colab": {
     "base_uri": "https://localhost:8080/",
     "height": 1000
    },
    "colab_type": "code",
    "id": "ya44ZmAEzsX5",
    "outputId": "fa7ec349-8888-47d2-ebf0-6dbb8621cd57"
   },
   "outputs": [
    {
     "data": {
      "image/png": "[encoded data removed]",
      "text/plain": [
       "<Figure size 518.4x518.4 with 12 Axes>"
      ]
     },
     "metadata": {
      "tags": []
     },
     "output_type": "display_data"
    },
    {
     "data": {
      "image/png": "[encoded data removed]",
      "text/plain": [
       "<Figure size 518.4x518.4 with 12 Axes>"
      ]
     },
     "metadata": {
      "tags": []
     },
     "output_type": "display_data"
    }
   ],
   "source": [
    "def plot_gallery(images, titles, h, w, n_row=3, n_col=4):\n",
    "    \"\"\"Helper function to plot a gallery of portraits\"\"\"\n",
    "    plt.figure(figsize=(1.8 * n_col, 2.4 * n_row))\n",
    "    plt.subplots_adjust(bottom=0, left=.01, right=.99, top=.90, hspace=.35)\n",
    "    for i in range(n_row * n_col):\n",
    "        plt.subplot(n_row, n_col, i + 1)\n",
    "        plt.imshow(images[i].reshape((h, w)), cmap=plt.cm.gray)\n",
    "        plt.title(titles[i], size=12)\n",
    "        plt.xticks(())\n",
    "        plt.yticks(())\n",
    "\n",
    "\n",
    "# plot the result of the prediction on a portion of the test set\n",
    "\n",
    "def title(y_pred, y_test, target_names, i):\n",
    "    pred_name = target_names[y_pred[i]].rsplit(' ', 1)[-1]\n",
    "    true_name = target_names[y_test[i]].rsplit(' ', 1)[-1]\n",
    "    return 'predicted: %s\\ntrue:      %s' % (pred_name, true_name)\n",
    "\n",
    "prediction_titles = [title(y_pred, y_test, target_names, i)\n",
    "                     for i in range(y_pred.shape[0])]\n",
    "\n",
    "plot_gallery(X_test, prediction_titles, h, w)\n",
    "\n",
    "# plot the gallery of the most significative eigenfaces\n",
    "\n",
    "eigenface_titles = [\"eigenface %d\" % i for i in range(eigenfaces.shape[0])]\n",
    "plot_gallery(eigenfaces, eigenface_titles, h, w)"
   ]
  }
 ],
 "metadata": {
  "colab": {
   "collapsed_sections": [],
   "name": "008_PCAwithEigenFaces_C.ipynb",
   "provenance": []
  },
  "kernelspec": {
   "display_name": "Python 3",
   "language": "python",
   "name": "python3"
  },
  "language_info": {
   "codemirror_mode": {
    "name": "ipython",
    "version": 3
   },
   "file_extension": ".py",
   "mimetype": "text/x-python",
   "name": "python",
   "nbconvert_exporter": "python",
   "pygments_lexer": "ipython3",
   "version": "3.6.5"
  }
 },
 "nbformat": 4,
 "nbformat_minor": 1
}
