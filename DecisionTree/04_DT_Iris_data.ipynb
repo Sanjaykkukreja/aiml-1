{
 "cells": [
  {
   "cell_type": "markdown",
   "metadata": {
    "colab_type": "text",
    "id": "YFu_oj3E0jYc"
   },
   "source": [
    "# Advanced Certification in AIML\n",
    "## A Program by IIIT-H and TalentSprint\n",
    "## Not for grades"
   ]
  },
  {
   "cell_type": "markdown",
   "metadata": {
    "colab_type": "text",
    "id": "0BFwTfYgrI-1"
   },
   "source": [
    "## Learning Objective"
   ]
  },
  {
   "cell_type": "markdown",
   "metadata": {
    "colab_type": "text",
    "id": "dC4JnILabiF3"
   },
   "source": [
    "The objective of this experiment is to understand Decision Tree classifier."
   ]
  },
  {
   "cell_type": "markdown",
   "metadata": {
    "colab_type": "text",
    "id": "VTMfvxuSrLUR"
   },
   "source": [
    "## Dataset"
   ]
  },
  {
   "cell_type": "markdown",
   "metadata": {
    "colab_type": "text",
    "id": "Kz2T6C2MrPp6"
   },
   "source": [
    "#### History\n",
    "\n",
    "This is a multivariate dataset introduced by R.A.Fisher (Father of Modern Statistics) for showcasing linear discriminant analysis. This is arguably the best known dataset in Feature Selection literature.\n",
    "\n",
    "\n",
    "The data set contains 3 classes of 50 instances each, where each class refers to a type of iris plant. One class is linearly separable from the other 2; the latter are NOT linearly separable from each other. "
   ]
  },
  {
   "cell_type": "markdown",
   "metadata": {
    "colab_type": "text",
    "id": "62AAQoRKrQIK"
   },
   "source": [
    "#### Description\n",
    "The Iris dataset consists of 150 data instances. There are 3 classes (Iris Versicolor, Iris Setosa and Iris Virginica) each have 50 instances. \n",
    "\n",
    "\n",
    "For each flower we have the below data attributes \n",
    "\n",
    "- sepal length in cm\n",
    "- sepal width in cm\n",
    "- petal length in cm\n",
    "- petal width in cm\n",
    "\n",
    "To make our experiment easy we rename the classes  with numbers : \n",
    "\n",
    "    \"0\": setosa\n",
    "    \"1\": versicolor\n",
    "    \"2\": virginica"
   ]
  },
  {
   "cell_type": "markdown",
   "metadata": {
    "colab_type": "text",
    "id": "J-KMXJrArUFg"
   },
   "source": [
    "### Challenges\n",
    "\n",
    "When we use the data with large number of features or dimensionality, models usually choke because\n",
    "\n",
    "    1. Training time increases exponentially with number of features.\n",
    "    2. Models have increasing risk of overfitting with increasing number of features.\n",
    "    \n",
    "To avoid the above mentioned problems while learning about data analysis, we use simple, well behaved, data that reduces the cognitive load, and makes it easier to debug as we are able to better comprehend the data we are working with.  \n",
    "\n",
    "Hence, this is a good dataset to work on."
   ]
  },
  {
   "cell_type": "markdown",
   "metadata": {
    "colab_type": "text",
    "id": "06lEbv7grYmm"
   },
   "source": [
    "## Domain Information"
   ]
  },
  {
   "cell_type": "markdown",
   "metadata": {
    "colab_type": "text",
    "id": "QIB3dtlNrWy6"
   },
   "source": [
    "\n",
    "\n",
    "Iris Plants are flowering plants with showy flowers. They are very popular among movie directors as it gives excellent background. \n",
    "\n",
    "They are predominantly found in dry, semi-desert, or colder rocky mountainous areas in Europe and Asia. They have long, erect flowering stems and can produce white, yellow, orange, pink, purple, lavender, blue or brown colored flowers. There are 260 to 300 types of iris.\n",
    "\n",
    "![alt text](https://cdn-images-1.medium.com/max/1275/1*7bnLKsChXq94QjtAiRn40w.png)\n",
    "\n",
    "As you could see, flowers have 3 sepals and 3 petals.  The sepals are usually spreading or drop downwards and the petals stand upright, partly behind the sepal bases. However, the length and width of the sepals and petals vary for each type.\n"
   ]
  },
  {
   "cell_type": "markdown",
   "metadata": {
    "colab_type": "text",
    "id": "s3y2Exi10krJ"
   },
   "source": [
    "### Setup Steps"
   ]
  },
  {
   "cell_type": "markdown",
   "metadata": {
    "colab_type": "text",
    "id": "Y9pFXqtfbcxG"
   },
   "source": [
    "#### Importing Required Packages"
   ]
  },
  {
   "cell_type": "code",
   "execution_count": 0,
   "metadata": {
    "colab": {},
    "colab_type": "code",
    "id": "hOiKa2ma0iXG"
   },
   "outputs": [],
   "source": [
    "import numpy as np\n",
    "import matplotlib.pyplot as plt\n",
    "from sklearn.datasets import load_iris\n",
    "from sklearn.tree import DecisionTreeClassifier"
   ]
  },
  {
   "cell_type": "markdown",
   "metadata": {
    "colab_type": "text",
    "id": "WW2MIcyYbp3R"
   },
   "source": [
    "#### Loading the data"
   ]
  },
  {
   "cell_type": "code",
   "execution_count": 0,
   "metadata": {
    "colab": {},
    "colab_type": "code",
    "id": "ahaXITNN0iXM"
   },
   "outputs": [],
   "source": [
    "# Load data\n",
    "iris = load_iris()"
   ]
  },
  {
   "cell_type": "code",
   "execution_count": 6,
   "metadata": {
    "colab": {
     "base_uri": "https://localhost:8080/",
     "height": 34
    },
    "colab_type": "code",
    "executionInfo": {
     "elapsed": 824,
     "status": "ok",
     "timestamp": 1580617607666,
     "user": {
      "displayName": "Mohammed Rizwan",
      "photoUrl": "https://lh3.googleusercontent.com/a-/AAuE7mB71PsBYLhuVqmFbtN-6NzmoyqKEkdtw1RZyZYeLw=s64",
      "userId": "08508186513102229355"
     },
     "user_tz": -330
    },
    "id": "xVmjqSLl7BVE",
    "outputId": "56a92c7e-34a2-4e5a-d8f7-c29ab87d96d9"
   },
   "outputs": [
    {
     "name": "stdout",
     "output_type": "stream",
     "text": [
      "<class 'sklearn.utils.Bunch'>\n"
     ]
    }
   ],
   "source": [
    "# Checking for the type of iris\n",
    "print(type(iris))"
   ]
  },
  {
   "cell_type": "code",
   "execution_count": 7,
   "metadata": {
    "colab": {
     "base_uri": "https://localhost:8080/",
     "height": 34
    },
    "colab_type": "code",
    "executionInfo": {
     "elapsed": 924,
     "status": "ok",
     "timestamp": 1580617609694,
     "user": {
      "displayName": "Mohammed Rizwan",
      "photoUrl": "https://lh3.googleusercontent.com/a-/AAuE7mB71PsBYLhuVqmFbtN-6NzmoyqKEkdtw1RZyZYeLw=s64",
      "userId": "08508186513102229355"
     },
     "user_tz": -330
    },
    "id": "IBTq2Nq77FXX",
    "outputId": "dabeb6b0-913b-4a64-ef8e-d75b0a4c7996"
   },
   "outputs": [
    {
     "name": "stdout",
     "output_type": "stream",
     "text": [
      "dict_keys(['data', 'target', 'target_names', 'DESCR', 'feature_names', 'filename'])\n"
     ]
    }
   ],
   "source": [
    "# Checking the keys\n",
    "print(iris.keys())"
   ]
  },
  {
   "cell_type": "code",
   "execution_count": 8,
   "metadata": {
    "colab": {
     "base_uri": "https://localhost:8080/",
     "height": 34
    },
    "colab_type": "code",
    "executionInfo": {
     "elapsed": 782,
     "status": "ok",
     "timestamp": 1580617612173,
     "user": {
      "displayName": "Mohammed Rizwan",
      "photoUrl": "https://lh3.googleusercontent.com/a-/AAuE7mB71PsBYLhuVqmFbtN-6NzmoyqKEkdtw1RZyZYeLw=s64",
      "userId": "08508186513102229355"
     },
     "user_tz": -330
    },
    "id": "ToZ3tlUF7K55",
    "outputId": "261bd5f4-96ed-46b7-93e9-591f87fb0a28"
   },
   "outputs": [
    {
     "name": "stdout",
     "output_type": "stream",
     "text": [
      "<class 'numpy.ndarray'>\n"
     ]
    }
   ],
   "source": [
    "# Checking for the type of data\n",
    "print(type(iris.data))"
   ]
  },
  {
   "cell_type": "code",
   "execution_count": 9,
   "metadata": {
    "colab": {
     "base_uri": "https://localhost:8080/",
     "height": 34
    },
    "colab_type": "code",
    "executionInfo": {
     "elapsed": 798,
     "status": "ok",
     "timestamp": 1580617614808,
     "user": {
      "displayName": "Mohammed Rizwan",
      "photoUrl": "https://lh3.googleusercontent.com/a-/AAuE7mB71PsBYLhuVqmFbtN-6NzmoyqKEkdtw1RZyZYeLw=s64",
      "userId": "08508186513102229355"
     },
     "user_tz": -330
    },
    "id": "7uoeDccj7O2r",
    "outputId": "8f04c3d7-72d9-452b-885c-efa246b6b210"
   },
   "outputs": [
    {
     "name": "stdout",
     "output_type": "stream",
     "text": [
      "{0, 1, 2}\n"
     ]
    }
   ],
   "source": [
    "# Checking for unique target or class values\n",
    "print(set(iris.target))"
   ]
  },
  {
   "cell_type": "code",
   "execution_count": 10,
   "metadata": {
    "colab": {
     "base_uri": "https://localhost:8080/",
     "height": 187
    },
    "colab_type": "code",
    "executionInfo": {
     "elapsed": 858,
     "status": "ok",
     "timestamp": 1580617618092,
     "user": {
      "displayName": "Mohammed Rizwan",
      "photoUrl": "https://lh3.googleusercontent.com/a-/AAuE7mB71PsBYLhuVqmFbtN-6NzmoyqKEkdtw1RZyZYeLw=s64",
      "userId": "08508186513102229355"
     },
     "user_tz": -330
    },
    "id": "2HKXHXoi0iXT",
    "outputId": "d5b8b7d1-38dc-435e-c6e8-de272b44b2d1"
   },
   "outputs": [
    {
     "name": "stdout",
     "output_type": "stream",
     "text": [
      "[[5.1 3.5 1.4 0.2]\n",
      " [5.7 4.4 1.5 0.4]\n",
      " [4.8 3.1 1.6 0.2]\n",
      " [4.8 3.  1.4 0.3]\n",
      " [5.  2.  3.5 1. ]\n",
      " [6.6 3.  4.4 1.4]\n",
      " [5.5 2.6 4.4 1.2]\n",
      " [7.6 3.  6.6 2.1]\n",
      " [6.9 3.2 5.7 2.3]\n",
      " [7.7 3.  6.1 2.3]]\n"
     ]
    }
   ],
   "source": [
    "# Let us see how the iris data looks\n",
    "print(iris.data[::15])"
   ]
  },
  {
   "cell_type": "code",
   "execution_count": 11,
   "metadata": {
    "colab": {
     "base_uri": "https://localhost:8080/",
     "height": 34
    },
    "colab_type": "code",
    "executionInfo": {
     "elapsed": 756,
     "status": "ok",
     "timestamp": 1580617621142,
     "user": {
      "displayName": "Mohammed Rizwan",
      "photoUrl": "https://lh3.googleusercontent.com/a-/AAuE7mB71PsBYLhuVqmFbtN-6NzmoyqKEkdtw1RZyZYeLw=s64",
      "userId": "08508186513102229355"
     },
     "user_tz": -330
    },
    "id": "lVws1ElL7ZVD",
    "outputId": "5391fc62-dec0-4e2c-85ef-a3ce9d3fd178"
   },
   "outputs": [
    {
     "name": "stdout",
     "output_type": "stream",
     "text": [
      "[0 0 0 0 1 1 1 2 2 2]\n"
     ]
    }
   ],
   "source": [
    "# Let us see how the labels \n",
    "print(iris.target[::15])"
   ]
  },
  {
   "cell_type": "code",
   "execution_count": 0,
   "metadata": {
    "colab": {},
    "colab_type": "code",
    "id": "huEVABwD76Lh"
   },
   "outputs": [],
   "source": [
    "# Storing the data and labels into \"X\" and \"y\" varaibles\n",
    "X = iris.data\n",
    "y = iris.target"
   ]
  },
  {
   "cell_type": "markdown",
   "metadata": {
    "colab_type": "text",
    "id": "I7U-Twt17lbo"
   },
   "source": [
    "### Splitting the data into train and test sets "
   ]
  },
  {
   "cell_type": "code",
   "execution_count": 0,
   "metadata": {
    "colab": {},
    "colab_type": "code",
    "id": "jjP5s4zX7vyL"
   },
   "outputs": [],
   "source": [
    "from sklearn.model_selection import train_test_split"
   ]
  },
  {
   "cell_type": "code",
   "execution_count": 0,
   "metadata": {
    "colab": {},
    "colab_type": "code",
    "id": "LK8VJHlv71Bd"
   },
   "outputs": [],
   "source": [
    " # Training and testing set ratio is 70 : 30\n",
    "X_train, X_test, y_train, y_test = train_test_split(X, y, test_size=0.33, random_state=42)"
   ]
  },
  {
   "cell_type": "code",
   "execution_count": 15,
   "metadata": {
    "colab": {
     "base_uri": "https://localhost:8080/",
     "height": 34
    },
    "colab_type": "code",
    "executionInfo": {
     "elapsed": 811,
     "status": "ok",
     "timestamp": 1580617631271,
     "user": {
      "displayName": "Mohammed Rizwan",
      "photoUrl": "https://lh3.googleusercontent.com/a-/AAuE7mB71PsBYLhuVqmFbtN-6NzmoyqKEkdtw1RZyZYeLw=s64",
      "userId": "08508186513102229355"
     },
     "user_tz": -330
    },
    "id": "-t0sCcrA8Mhq",
    "outputId": "dd588468-b8be-4f4d-f404-e23def33e821"
   },
   "outputs": [
    {
     "data": {
      "text/plain": [
       "((100, 4), (50, 4))"
      ]
     },
     "execution_count": 15,
     "metadata": {
      "tags": []
     },
     "output_type": "execute_result"
    }
   ],
   "source": [
    "# Let us see the size of train and  test sets\n",
    "X_train.shape, X_test.shape"
   ]
  },
  {
   "cell_type": "code",
   "execution_count": 16,
   "metadata": {
    "colab": {
     "base_uri": "https://localhost:8080/",
     "height": 102
    },
    "colab_type": "code",
    "executionInfo": {
     "elapsed": 791,
     "status": "ok",
     "timestamp": 1580617633201,
     "user": {
      "displayName": "Mohammed Rizwan",
      "photoUrl": "https://lh3.googleusercontent.com/a-/AAuE7mB71PsBYLhuVqmFbtN-6NzmoyqKEkdtw1RZyZYeLw=s64",
      "userId": "08508186513102229355"
     },
     "user_tz": -330
    },
    "id": "v92X7J-68Vdc",
    "outputId": "de8c5c21-3617-43bb-91f2-e5a744091ba0"
   },
   "outputs": [
    {
     "data": {
      "text/plain": [
       "array([[5.7, 2.9, 4.2, 1.3],\n",
       "       [7.6, 3. , 6.6, 2.1],\n",
       "       [5.6, 3. , 4.5, 1.5],\n",
       "       [5.1, 3.5, 1.4, 0.2],\n",
       "       [7.7, 2.8, 6.7, 2. ]])"
      ]
     },
     "execution_count": 16,
     "metadata": {
      "tags": []
     },
     "output_type": "execute_result"
    }
   ],
   "source": [
    "# Let us see first five rows of the training data\n",
    "X_train[:5]"
   ]
  },
  {
   "cell_type": "markdown",
   "metadata": {
    "colab_type": "text",
    "id": "EFpCi8-jbyOO"
   },
   "source": [
    "### Training a Decision Tree Classifier "
   ]
  },
  {
   "cell_type": "code",
   "execution_count": 0,
   "metadata": {
    "colab": {},
    "colab_type": "code",
    "id": "5sNJ0RcK8neX"
   },
   "outputs": [],
   "source": [
    "decision_tree = DecisionTreeClassifier(max_depth=2)"
   ]
  },
  {
   "cell_type": "code",
   "execution_count": 44,
   "metadata": {
    "colab": {
     "base_uri": "https://localhost:8080/",
     "height": 119
    },
    "colab_type": "code",
    "executionInfo": {
     "elapsed": 544,
     "status": "ok",
     "timestamp": 1580618474263,
     "user": {
      "displayName": "Mohammed Rizwan",
      "photoUrl": "https://lh3.googleusercontent.com/a-/AAuE7mB71PsBYLhuVqmFbtN-6NzmoyqKEkdtw1RZyZYeLw=s64",
      "userId": "08508186513102229355"
     },
     "user_tz": -330
    },
    "id": "7FAEVCEL8qV2",
    "outputId": "425638ab-12d1-4956-9b34-b55c423c4f1b"
   },
   "outputs": [
    {
     "data": {
      "text/plain": [
       "DecisionTreeClassifier(ccp_alpha=0.0, class_weight=None, criterion='gini',\n",
       "                       max_depth=2, max_features=None, max_leaf_nodes=None,\n",
       "                       min_impurity_decrease=0.0, min_impurity_split=None,\n",
       "                       min_samples_leaf=1, min_samples_split=2,\n",
       "                       min_weight_fraction_leaf=0.0, presort='deprecated',\n",
       "                       random_state=None, splitter='best')"
      ]
     },
     "execution_count": 44,
     "metadata": {
      "tags": []
     },
     "output_type": "execute_result"
    }
   ],
   "source": [
    "# Training or fitting the model with the train data\n",
    "decision_tree.fit(X_train,y_train)"
   ]
  },
  {
   "cell_type": "code",
   "execution_count": 45,
   "metadata": {
    "colab": {
     "base_uri": "https://localhost:8080/",
     "height": 68
    },
    "colab_type": "code",
    "executionInfo": {
     "elapsed": 499,
     "status": "ok",
     "timestamp": 1580618475459,
     "user": {
      "displayName": "Mohammed Rizwan",
      "photoUrl": "https://lh3.googleusercontent.com/a-/AAuE7mB71PsBYLhuVqmFbtN-6NzmoyqKEkdtw1RZyZYeLw=s64",
      "userId": "08508186513102229355"
     },
     "user_tz": -330
    },
    "id": "KD2RjPld8tWu",
    "outputId": "6c47e5e9-1bd0-431e-9152-c747c47b6906"
   },
   "outputs": [
    {
     "data": {
      "text/plain": [
       "array([1, 0, 2, 1, 1, 0, 1, 2, 1, 1, 2, 0, 0, 0, 0, 1, 2, 1, 1, 2, 0, 2,\n",
       "       0, 2, 2, 2, 2, 2, 0, 0, 0, 0, 1, 0, 0, 2, 1, 0, 0, 0, 2, 1, 1, 0,\n",
       "       0, 1, 1, 2, 1, 2])"
      ]
     },
     "execution_count": 45,
     "metadata": {
      "tags": []
     },
     "output_type": "execute_result"
    }
   ],
   "source": [
    "# Testing the trained model\n",
    "decision_tree.predict(X_test)"
   ]
  },
  {
   "cell_type": "code",
   "execution_count": 46,
   "metadata": {
    "colab": {
     "base_uri": "https://localhost:8080/",
     "height": 34
    },
    "colab_type": "code",
    "executionInfo": {
     "elapsed": 937,
     "status": "ok",
     "timestamp": 1580618476973,
     "user": {
      "displayName": "Mohammed Rizwan",
      "photoUrl": "https://lh3.googleusercontent.com/a-/AAuE7mB71PsBYLhuVqmFbtN-6NzmoyqKEkdtw1RZyZYeLw=s64",
      "userId": "08508186513102229355"
     },
     "user_tz": -330
    },
    "id": "-wOGGUu287be",
    "outputId": "3c0e9cae-558e-487c-ec8a-a0d91aecea75"
   },
   "outputs": [
    {
     "data": {
      "text/plain": [
       "0.98"
      ]
     },
     "execution_count": 46,
     "metadata": {
      "tags": []
     },
     "output_type": "execute_result"
    }
   ],
   "source": [
    "# Calculating the score\n",
    "decision_tree.score(X_test,y_test)"
   ]
  }
 ],
 "metadata": {
  "accelerator": "GPU",
  "colab": {
   "collapsed_sections": [],
   "name": "04_DT_Iris_data.ipynb",
   "provenance": []
  },
  "kernelspec": {
   "display_name": "Python 3",
   "language": "python",
   "name": "python3"
  },
  "language_info": {
   "codemirror_mode": {
    "name": "ipython",
    "version": 3
   },
   "file_extension": ".py",
   "mimetype": "text/x-python",
   "name": "python",
   "nbconvert_exporter": "python",
   "pygments_lexer": "ipython3",
   "version": "3.6.5"
  }
 },
 "nbformat": 4,
 "nbformat_minor": 1
}
